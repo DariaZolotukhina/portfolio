{
 "cells": [
  {
   "cell_type": "markdown",
   "metadata": {},
   "source": [
    "# Исследование успешности игр\n",
    "\n",
    "Интернет-магазине \"Стримчик\" продает по всему миру компьютерные игры. Из открытых источников доступны исторические данные о продажах игр, оценки пользователей и экспертов, жанры и платформы (например, Xbox или PlayStation). Нужно выявить определяющие успешность игры закономерности. Это позволит сделать ставку на потенциально популярный продукт и спланировать рекламные кампании."
   ]
  },
  {
   "cell_type": "markdown",
   "metadata": {},
   "source": [
    "## Изучение данных из файла"
   ]
  },
  {
   "cell_type": "code",
   "execution_count": 1,
   "metadata": {},
   "outputs": [],
   "source": [
    "import pandas as pd\n",
    "import matplotlib.pyplot as plt \n",
    "from scipy import stats as st\n",
    "pd.set_option('display.float_format', '{:,.2f}'.format) "
   ]
  },
  {
   "cell_type": "code",
   "execution_count": 2,
   "metadata": {},
   "outputs": [
    {
     "data": {
      "text/html": [
       "<div>\n",
       "<style scoped>\n",
       "    .dataframe tbody tr th:only-of-type {\n",
       "        vertical-align: middle;\n",
       "    }\n",
       "\n",
       "    .dataframe tbody tr th {\n",
       "        vertical-align: top;\n",
       "    }\n",
       "\n",
       "    .dataframe thead th {\n",
       "        text-align: right;\n",
       "    }\n",
       "</style>\n",
       "<table border=\"1\" class=\"dataframe\">\n",
       "  <thead>\n",
       "    <tr style=\"text-align: right;\">\n",
       "      <th></th>\n",
       "      <th>Name</th>\n",
       "      <th>Platform</th>\n",
       "      <th>Year_of_Release</th>\n",
       "      <th>Genre</th>\n",
       "      <th>NA_sales</th>\n",
       "      <th>EU_sales</th>\n",
       "      <th>JP_sales</th>\n",
       "      <th>Other_sales</th>\n",
       "      <th>Critic_Score</th>\n",
       "      <th>User_Score</th>\n",
       "      <th>Rating</th>\n",
       "    </tr>\n",
       "  </thead>\n",
       "  <tbody>\n",
       "    <tr>\n",
       "      <td>0</td>\n",
       "      <td>Wii Sports</td>\n",
       "      <td>Wii</td>\n",
       "      <td>2,006.00</td>\n",
       "      <td>Sports</td>\n",
       "      <td>41.36</td>\n",
       "      <td>28.96</td>\n",
       "      <td>3.77</td>\n",
       "      <td>8.45</td>\n",
       "      <td>76.00</td>\n",
       "      <td>8</td>\n",
       "      <td>E</td>\n",
       "    </tr>\n",
       "    <tr>\n",
       "      <td>1</td>\n",
       "      <td>Super Mario Bros.</td>\n",
       "      <td>NES</td>\n",
       "      <td>1,985.00</td>\n",
       "      <td>Platform</td>\n",
       "      <td>29.08</td>\n",
       "      <td>3.58</td>\n",
       "      <td>6.81</td>\n",
       "      <td>0.77</td>\n",
       "      <td>nan</td>\n",
       "      <td>NaN</td>\n",
       "      <td>NaN</td>\n",
       "    </tr>\n",
       "    <tr>\n",
       "      <td>2</td>\n",
       "      <td>Mario Kart Wii</td>\n",
       "      <td>Wii</td>\n",
       "      <td>2,008.00</td>\n",
       "      <td>Racing</td>\n",
       "      <td>15.68</td>\n",
       "      <td>12.76</td>\n",
       "      <td>3.79</td>\n",
       "      <td>3.29</td>\n",
       "      <td>82.00</td>\n",
       "      <td>8.3</td>\n",
       "      <td>E</td>\n",
       "    </tr>\n",
       "    <tr>\n",
       "      <td>3</td>\n",
       "      <td>Wii Sports Resort</td>\n",
       "      <td>Wii</td>\n",
       "      <td>2,009.00</td>\n",
       "      <td>Sports</td>\n",
       "      <td>15.61</td>\n",
       "      <td>10.93</td>\n",
       "      <td>3.28</td>\n",
       "      <td>2.95</td>\n",
       "      <td>80.00</td>\n",
       "      <td>8</td>\n",
       "      <td>E</td>\n",
       "    </tr>\n",
       "    <tr>\n",
       "      <td>4</td>\n",
       "      <td>Pokemon Red/Pokemon Blue</td>\n",
       "      <td>GB</td>\n",
       "      <td>1,996.00</td>\n",
       "      <td>Role-Playing</td>\n",
       "      <td>11.27</td>\n",
       "      <td>8.89</td>\n",
       "      <td>10.22</td>\n",
       "      <td>1.00</td>\n",
       "      <td>nan</td>\n",
       "      <td>NaN</td>\n",
       "      <td>NaN</td>\n",
       "    </tr>\n",
       "    <tr>\n",
       "      <td>5</td>\n",
       "      <td>Tetris</td>\n",
       "      <td>GB</td>\n",
       "      <td>1,989.00</td>\n",
       "      <td>Puzzle</td>\n",
       "      <td>23.20</td>\n",
       "      <td>2.26</td>\n",
       "      <td>4.22</td>\n",
       "      <td>0.58</td>\n",
       "      <td>nan</td>\n",
       "      <td>NaN</td>\n",
       "      <td>NaN</td>\n",
       "    </tr>\n",
       "    <tr>\n",
       "      <td>6</td>\n",
       "      <td>New Super Mario Bros.</td>\n",
       "      <td>DS</td>\n",
       "      <td>2,006.00</td>\n",
       "      <td>Platform</td>\n",
       "      <td>11.28</td>\n",
       "      <td>9.14</td>\n",
       "      <td>6.50</td>\n",
       "      <td>2.88</td>\n",
       "      <td>89.00</td>\n",
       "      <td>8.5</td>\n",
       "      <td>E</td>\n",
       "    </tr>\n",
       "    <tr>\n",
       "      <td>7</td>\n",
       "      <td>Wii Play</td>\n",
       "      <td>Wii</td>\n",
       "      <td>2,006.00</td>\n",
       "      <td>Misc</td>\n",
       "      <td>13.96</td>\n",
       "      <td>9.18</td>\n",
       "      <td>2.93</td>\n",
       "      <td>2.84</td>\n",
       "      <td>58.00</td>\n",
       "      <td>6.6</td>\n",
       "      <td>E</td>\n",
       "    </tr>\n",
       "    <tr>\n",
       "      <td>8</td>\n",
       "      <td>New Super Mario Bros. Wii</td>\n",
       "      <td>Wii</td>\n",
       "      <td>2,009.00</td>\n",
       "      <td>Platform</td>\n",
       "      <td>14.44</td>\n",
       "      <td>6.94</td>\n",
       "      <td>4.70</td>\n",
       "      <td>2.24</td>\n",
       "      <td>87.00</td>\n",
       "      <td>8.4</td>\n",
       "      <td>E</td>\n",
       "    </tr>\n",
       "    <tr>\n",
       "      <td>9</td>\n",
       "      <td>Duck Hunt</td>\n",
       "      <td>NES</td>\n",
       "      <td>1,984.00</td>\n",
       "      <td>Shooter</td>\n",
       "      <td>26.93</td>\n",
       "      <td>0.63</td>\n",
       "      <td>0.28</td>\n",
       "      <td>0.47</td>\n",
       "      <td>nan</td>\n",
       "      <td>NaN</td>\n",
       "      <td>NaN</td>\n",
       "    </tr>\n",
       "  </tbody>\n",
       "</table>\n",
       "</div>"
      ],
      "text/plain": [
       "                        Name Platform  Year_of_Release         Genre  \\\n",
       "0                 Wii Sports      Wii         2,006.00        Sports   \n",
       "1          Super Mario Bros.      NES         1,985.00      Platform   \n",
       "2             Mario Kart Wii      Wii         2,008.00        Racing   \n",
       "3          Wii Sports Resort      Wii         2,009.00        Sports   \n",
       "4   Pokemon Red/Pokemon Blue       GB         1,996.00  Role-Playing   \n",
       "5                     Tetris       GB         1,989.00        Puzzle   \n",
       "6      New Super Mario Bros.       DS         2,006.00      Platform   \n",
       "7                   Wii Play      Wii         2,006.00          Misc   \n",
       "8  New Super Mario Bros. Wii      Wii         2,009.00      Platform   \n",
       "9                  Duck Hunt      NES         1,984.00       Shooter   \n",
       "\n",
       "   NA_sales  EU_sales  JP_sales  Other_sales  Critic_Score User_Score Rating  \n",
       "0     41.36     28.96      3.77         8.45         76.00          8      E  \n",
       "1     29.08      3.58      6.81         0.77           nan        NaN    NaN  \n",
       "2     15.68     12.76      3.79         3.29         82.00        8.3      E  \n",
       "3     15.61     10.93      3.28         2.95         80.00          8      E  \n",
       "4     11.27      8.89     10.22         1.00           nan        NaN    NaN  \n",
       "5     23.20      2.26      4.22         0.58           nan        NaN    NaN  \n",
       "6     11.28      9.14      6.50         2.88         89.00        8.5      E  \n",
       "7     13.96      9.18      2.93         2.84         58.00        6.6      E  \n",
       "8     14.44      6.94      4.70         2.24         87.00        8.4      E  \n",
       "9     26.93      0.63      0.28         0.47           nan        NaN    NaN  "
      ]
     },
     "metadata": {},
     "output_type": "display_data"
    }
   ],
   "source": [
    "data = pd.read_csv('/datasets/games.csv', sep=',')\n",
    "display(data.head(10))"
   ]
  },
  {
   "cell_type": "code",
   "execution_count": 3,
   "metadata": {},
   "outputs": [
    {
     "name": "stdout",
     "output_type": "stream",
     "text": [
      "<class 'pandas.core.frame.DataFrame'>\n",
      "RangeIndex: 16715 entries, 0 to 16714\n",
      "Data columns (total 11 columns):\n",
      "Name               16713 non-null object\n",
      "Platform           16715 non-null object\n",
      "Year_of_Release    16446 non-null float64\n",
      "Genre              16713 non-null object\n",
      "NA_sales           16715 non-null float64\n",
      "EU_sales           16715 non-null float64\n",
      "JP_sales           16715 non-null float64\n",
      "Other_sales        16715 non-null float64\n",
      "Critic_Score       8137 non-null float64\n",
      "User_Score         10014 non-null object\n",
      "Rating             9949 non-null object\n",
      "dtypes: float64(6), object(5)\n",
      "memory usage: 1.4+ MB\n"
     ]
    }
   ],
   "source": [
    "data.info()"
   ]
  },
  {
   "cell_type": "code",
   "execution_count": 4,
   "metadata": {},
   "outputs": [
    {
     "data": {
      "text/html": [
       "<div>\n",
       "<style scoped>\n",
       "    .dataframe tbody tr th:only-of-type {\n",
       "        vertical-align: middle;\n",
       "    }\n",
       "\n",
       "    .dataframe tbody tr th {\n",
       "        vertical-align: top;\n",
       "    }\n",
       "\n",
       "    .dataframe thead th {\n",
       "        text-align: right;\n",
       "    }\n",
       "</style>\n",
       "<table border=\"1\" class=\"dataframe\">\n",
       "  <thead>\n",
       "    <tr style=\"text-align: right;\">\n",
       "      <th></th>\n",
       "      <th>Year_of_Release</th>\n",
       "      <th>NA_sales</th>\n",
       "      <th>EU_sales</th>\n",
       "      <th>JP_sales</th>\n",
       "      <th>Other_sales</th>\n",
       "      <th>Critic_Score</th>\n",
       "    </tr>\n",
       "  </thead>\n",
       "  <tbody>\n",
       "    <tr>\n",
       "      <td>count</td>\n",
       "      <td>16,446.00</td>\n",
       "      <td>16,715.00</td>\n",
       "      <td>16,715.00</td>\n",
       "      <td>16,715.00</td>\n",
       "      <td>16,715.00</td>\n",
       "      <td>8,137.00</td>\n",
       "    </tr>\n",
       "    <tr>\n",
       "      <td>mean</td>\n",
       "      <td>2,006.48</td>\n",
       "      <td>0.26</td>\n",
       "      <td>0.15</td>\n",
       "      <td>0.08</td>\n",
       "      <td>0.05</td>\n",
       "      <td>68.97</td>\n",
       "    </tr>\n",
       "    <tr>\n",
       "      <td>std</td>\n",
       "      <td>5.88</td>\n",
       "      <td>0.81</td>\n",
       "      <td>0.50</td>\n",
       "      <td>0.31</td>\n",
       "      <td>0.19</td>\n",
       "      <td>13.94</td>\n",
       "    </tr>\n",
       "    <tr>\n",
       "      <td>min</td>\n",
       "      <td>1,980.00</td>\n",
       "      <td>0.00</td>\n",
       "      <td>0.00</td>\n",
       "      <td>0.00</td>\n",
       "      <td>0.00</td>\n",
       "      <td>13.00</td>\n",
       "    </tr>\n",
       "    <tr>\n",
       "      <td>25%</td>\n",
       "      <td>2,003.00</td>\n",
       "      <td>0.00</td>\n",
       "      <td>0.00</td>\n",
       "      <td>0.00</td>\n",
       "      <td>0.00</td>\n",
       "      <td>60.00</td>\n",
       "    </tr>\n",
       "    <tr>\n",
       "      <td>50%</td>\n",
       "      <td>2,007.00</td>\n",
       "      <td>0.08</td>\n",
       "      <td>0.02</td>\n",
       "      <td>0.00</td>\n",
       "      <td>0.01</td>\n",
       "      <td>71.00</td>\n",
       "    </tr>\n",
       "    <tr>\n",
       "      <td>75%</td>\n",
       "      <td>2,010.00</td>\n",
       "      <td>0.24</td>\n",
       "      <td>0.11</td>\n",
       "      <td>0.04</td>\n",
       "      <td>0.03</td>\n",
       "      <td>79.00</td>\n",
       "    </tr>\n",
       "    <tr>\n",
       "      <td>max</td>\n",
       "      <td>2,016.00</td>\n",
       "      <td>41.36</td>\n",
       "      <td>28.96</td>\n",
       "      <td>10.22</td>\n",
       "      <td>10.57</td>\n",
       "      <td>98.00</td>\n",
       "    </tr>\n",
       "  </tbody>\n",
       "</table>\n",
       "</div>"
      ],
      "text/plain": [
       "       Year_of_Release  NA_sales  EU_sales  JP_sales  Other_sales  \\\n",
       "count        16,446.00 16,715.00 16,715.00 16,715.00    16,715.00   \n",
       "mean          2,006.48      0.26      0.15      0.08         0.05   \n",
       "std               5.88      0.81      0.50      0.31         0.19   \n",
       "min           1,980.00      0.00      0.00      0.00         0.00   \n",
       "25%           2,003.00      0.00      0.00      0.00         0.00   \n",
       "50%           2,007.00      0.08      0.02      0.00         0.01   \n",
       "75%           2,010.00      0.24      0.11      0.04         0.03   \n",
       "max           2,016.00     41.36     28.96     10.22        10.57   \n",
       "\n",
       "       Critic_Score  \n",
       "count      8,137.00  \n",
       "mean          68.97  \n",
       "std           13.94  \n",
       "min           13.00  \n",
       "25%           60.00  \n",
       "50%           71.00  \n",
       "75%           79.00  \n",
       "max           98.00  "
      ]
     },
     "execution_count": 4,
     "metadata": {},
     "output_type": "execute_result"
    }
   ],
   "source": [
    "data.describe()"
   ]
  },
  {
   "cell_type": "markdown",
   "metadata": {},
   "source": [
    "**Вывод**\n",
    "1. У нас есть таблица с данными о компьютерных играх, в ней 11 колонок: \n",
    "\n",
    "- Name — название игры\n",
    "- Platform — платформа\n",
    "- Year_of_Release — год выпуска\n",
    "- Genre — жанр игры\n",
    "- NA_sales — продажи в Северной Америке (миллионы проданных копий)\n",
    "- EU_sales — продажи в Европе (миллионы проданных копий)\n",
    "- JP_sales — продажи в Японии (миллионы проданных копий)\n",
    "- Other_sales — продажи в других странах (миллионы проданных копий)\n",
    "- Critic_Score — оценка критиков (максимум 100)\n",
    "- User_Score — оценка пользователей (максимум 10)\n",
    "- Rating — рейтинг от организации ESRB (англ. Entertainment Software Rating Board). Эта ассоциация определяет рейтинг компьютерных игр и присваивает им подходящую возрастную категорию.\n",
    "\n",
    "2. В 4 колонках данных меньше, чем в остальных 7. Вероятно, в колонках Year_of_Release, Critic_Score, User_Score и Rating есть пропуски данных\n",
    "\n",
    "3. Названия колонок, а также строки в столбцах Name, Platform и Genre содержат строчные и прописные буквы. Их нужно будет привести к нижнему регистру.\n",
    "\n",
    "4. В Year_of_Release - год выпуска - странные цифры типа 2,006.00 - надо разобраться, что они означают\n",
    "5. На первый взгляд, тип данных нужно менять только у столбца Year_of_Release - год выпуска - сейчас это float64"
   ]
  },
  {
   "cell_type": "markdown",
   "metadata": {},
   "source": [
    "## Предобработка данных"
   ]
  },
  {
   "cell_type": "markdown",
   "metadata": {},
   "source": [
    "### Замена названий столбцов"
   ]
  },
  {
   "cell_type": "code",
   "execution_count": 5,
   "metadata": {},
   "outputs": [
    {
     "data": {
      "text/html": [
       "<div>\n",
       "<style scoped>\n",
       "    .dataframe tbody tr th:only-of-type {\n",
       "        vertical-align: middle;\n",
       "    }\n",
       "\n",
       "    .dataframe tbody tr th {\n",
       "        vertical-align: top;\n",
       "    }\n",
       "\n",
       "    .dataframe thead th {\n",
       "        text-align: right;\n",
       "    }\n",
       "</style>\n",
       "<table border=\"1\" class=\"dataframe\">\n",
       "  <thead>\n",
       "    <tr style=\"text-align: right;\">\n",
       "      <th></th>\n",
       "      <th>name</th>\n",
       "      <th>platform</th>\n",
       "      <th>year_of_release</th>\n",
       "      <th>genre</th>\n",
       "      <th>na_sales</th>\n",
       "      <th>eu_sales</th>\n",
       "      <th>jp_sales</th>\n",
       "      <th>other_sales</th>\n",
       "      <th>critic_score</th>\n",
       "      <th>user_score</th>\n",
       "      <th>rating</th>\n",
       "    </tr>\n",
       "  </thead>\n",
       "  <tbody>\n",
       "    <tr>\n",
       "      <td>0</td>\n",
       "      <td>Wii Sports</td>\n",
       "      <td>Wii</td>\n",
       "      <td>2,006.00</td>\n",
       "      <td>Sports</td>\n",
       "      <td>41.36</td>\n",
       "      <td>28.96</td>\n",
       "      <td>3.77</td>\n",
       "      <td>8.45</td>\n",
       "      <td>76.00</td>\n",
       "      <td>8</td>\n",
       "      <td>E</td>\n",
       "    </tr>\n",
       "    <tr>\n",
       "      <td>1</td>\n",
       "      <td>Super Mario Bros.</td>\n",
       "      <td>NES</td>\n",
       "      <td>1,985.00</td>\n",
       "      <td>Platform</td>\n",
       "      <td>29.08</td>\n",
       "      <td>3.58</td>\n",
       "      <td>6.81</td>\n",
       "      <td>0.77</td>\n",
       "      <td>nan</td>\n",
       "      <td>NaN</td>\n",
       "      <td>NaN</td>\n",
       "    </tr>\n",
       "    <tr>\n",
       "      <td>2</td>\n",
       "      <td>Mario Kart Wii</td>\n",
       "      <td>Wii</td>\n",
       "      <td>2,008.00</td>\n",
       "      <td>Racing</td>\n",
       "      <td>15.68</td>\n",
       "      <td>12.76</td>\n",
       "      <td>3.79</td>\n",
       "      <td>3.29</td>\n",
       "      <td>82.00</td>\n",
       "      <td>8.3</td>\n",
       "      <td>E</td>\n",
       "    </tr>\n",
       "    <tr>\n",
       "      <td>3</td>\n",
       "      <td>Wii Sports Resort</td>\n",
       "      <td>Wii</td>\n",
       "      <td>2,009.00</td>\n",
       "      <td>Sports</td>\n",
       "      <td>15.61</td>\n",
       "      <td>10.93</td>\n",
       "      <td>3.28</td>\n",
       "      <td>2.95</td>\n",
       "      <td>80.00</td>\n",
       "      <td>8</td>\n",
       "      <td>E</td>\n",
       "    </tr>\n",
       "    <tr>\n",
       "      <td>4</td>\n",
       "      <td>Pokemon Red/Pokemon Blue</td>\n",
       "      <td>GB</td>\n",
       "      <td>1,996.00</td>\n",
       "      <td>Role-Playing</td>\n",
       "      <td>11.27</td>\n",
       "      <td>8.89</td>\n",
       "      <td>10.22</td>\n",
       "      <td>1.00</td>\n",
       "      <td>nan</td>\n",
       "      <td>NaN</td>\n",
       "      <td>NaN</td>\n",
       "    </tr>\n",
       "  </tbody>\n",
       "</table>\n",
       "</div>"
      ],
      "text/plain": [
       "                       name platform  year_of_release         genre  na_sales  \\\n",
       "0                Wii Sports      Wii         2,006.00        Sports     41.36   \n",
       "1         Super Mario Bros.      NES         1,985.00      Platform     29.08   \n",
       "2            Mario Kart Wii      Wii         2,008.00        Racing     15.68   \n",
       "3         Wii Sports Resort      Wii         2,009.00        Sports     15.61   \n",
       "4  Pokemon Red/Pokemon Blue       GB         1,996.00  Role-Playing     11.27   \n",
       "\n",
       "   eu_sales  jp_sales  other_sales  critic_score user_score rating  \n",
       "0     28.96      3.77         8.45         76.00          8      E  \n",
       "1      3.58      6.81         0.77           nan        NaN    NaN  \n",
       "2     12.76      3.79         3.29         82.00        8.3      E  \n",
       "3     10.93      3.28         2.95         80.00          8      E  \n",
       "4      8.89     10.22         1.00           nan        NaN    NaN  "
      ]
     },
     "execution_count": 5,
     "metadata": {},
     "output_type": "execute_result"
    }
   ],
   "source": [
    "#переименуем столбцы и проверим результат\n",
    "data = data.rename(columns=\n",
    "                   {'Name':'name', \n",
    "                    'Platform':'platform', \n",
    "                    'Year_of_Release':'year_of_release',\n",
    "                    'Genre':'genre', \n",
    "                    'NA_sales':'na_sales', \n",
    "                    'EU_sales':'eu_sales',\n",
    "                    'JP_sales':'jp_sales', \n",
    "                    'Other_sales':'other_sales',\n",
    "                    'Critic_Score':'critic_score', \n",
    "                    'User_Score':'user_score', \n",
    "                    'Rating':'rating'})\n",
    "data.head()"
   ]
  },
  {
   "cell_type": "code",
   "execution_count": 6,
   "metadata": {},
   "outputs": [
    {
     "data": {
      "text/html": [
       "<div>\n",
       "<style scoped>\n",
       "    .dataframe tbody tr th:only-of-type {\n",
       "        vertical-align: middle;\n",
       "    }\n",
       "\n",
       "    .dataframe tbody tr th {\n",
       "        vertical-align: top;\n",
       "    }\n",
       "\n",
       "    .dataframe thead th {\n",
       "        text-align: right;\n",
       "    }\n",
       "</style>\n",
       "<table border=\"1\" class=\"dataframe\">\n",
       "  <thead>\n",
       "    <tr style=\"text-align: right;\">\n",
       "      <th></th>\n",
       "      <th>name</th>\n",
       "      <th>platform</th>\n",
       "      <th>year_of_release</th>\n",
       "      <th>genre</th>\n",
       "      <th>na_sales</th>\n",
       "      <th>eu_sales</th>\n",
       "      <th>jp_sales</th>\n",
       "      <th>other_sales</th>\n",
       "      <th>critic_score</th>\n",
       "      <th>user_score</th>\n",
       "      <th>rating</th>\n",
       "    </tr>\n",
       "  </thead>\n",
       "  <tbody>\n",
       "    <tr>\n",
       "      <td>0</td>\n",
       "      <td>wii sports</td>\n",
       "      <td>wii</td>\n",
       "      <td>2,006.00</td>\n",
       "      <td>sports</td>\n",
       "      <td>41.36</td>\n",
       "      <td>28.96</td>\n",
       "      <td>3.77</td>\n",
       "      <td>8.45</td>\n",
       "      <td>76.00</td>\n",
       "      <td>8</td>\n",
       "      <td>E</td>\n",
       "    </tr>\n",
       "    <tr>\n",
       "      <td>1</td>\n",
       "      <td>super mario bros.</td>\n",
       "      <td>nes</td>\n",
       "      <td>1,985.00</td>\n",
       "      <td>platform</td>\n",
       "      <td>29.08</td>\n",
       "      <td>3.58</td>\n",
       "      <td>6.81</td>\n",
       "      <td>0.77</td>\n",
       "      <td>nan</td>\n",
       "      <td>NaN</td>\n",
       "      <td>NaN</td>\n",
       "    </tr>\n",
       "    <tr>\n",
       "      <td>2</td>\n",
       "      <td>mario kart wii</td>\n",
       "      <td>wii</td>\n",
       "      <td>2,008.00</td>\n",
       "      <td>racing</td>\n",
       "      <td>15.68</td>\n",
       "      <td>12.76</td>\n",
       "      <td>3.79</td>\n",
       "      <td>3.29</td>\n",
       "      <td>82.00</td>\n",
       "      <td>8.3</td>\n",
       "      <td>E</td>\n",
       "    </tr>\n",
       "    <tr>\n",
       "      <td>3</td>\n",
       "      <td>wii sports resort</td>\n",
       "      <td>wii</td>\n",
       "      <td>2,009.00</td>\n",
       "      <td>sports</td>\n",
       "      <td>15.61</td>\n",
       "      <td>10.93</td>\n",
       "      <td>3.28</td>\n",
       "      <td>2.95</td>\n",
       "      <td>80.00</td>\n",
       "      <td>8</td>\n",
       "      <td>E</td>\n",
       "    </tr>\n",
       "    <tr>\n",
       "      <td>4</td>\n",
       "      <td>pokemon red/pokemon blue</td>\n",
       "      <td>gb</td>\n",
       "      <td>1,996.00</td>\n",
       "      <td>role-playing</td>\n",
       "      <td>11.27</td>\n",
       "      <td>8.89</td>\n",
       "      <td>10.22</td>\n",
       "      <td>1.00</td>\n",
       "      <td>nan</td>\n",
       "      <td>NaN</td>\n",
       "      <td>NaN</td>\n",
       "    </tr>\n",
       "  </tbody>\n",
       "</table>\n",
       "</div>"
      ],
      "text/plain": [
       "                       name platform  year_of_release         genre  na_sales  \\\n",
       "0                wii sports      wii         2,006.00        sports     41.36   \n",
       "1         super mario bros.      nes         1,985.00      platform     29.08   \n",
       "2            mario kart wii      wii         2,008.00        racing     15.68   \n",
       "3         wii sports resort      wii         2,009.00        sports     15.61   \n",
       "4  pokemon red/pokemon blue       gb         1,996.00  role-playing     11.27   \n",
       "\n",
       "   eu_sales  jp_sales  other_sales  critic_score user_score rating  \n",
       "0     28.96      3.77         8.45         76.00          8      E  \n",
       "1      3.58      6.81         0.77           nan        NaN    NaN  \n",
       "2     12.76      3.79         3.29         82.00        8.3      E  \n",
       "3     10.93      3.28         2.95         80.00          8      E  \n",
       "4      8.89     10.22         1.00           nan        NaN    NaN  "
      ]
     },
     "execution_count": 6,
     "metadata": {},
     "output_type": "execute_result"
    }
   ],
   "source": [
    "#удаляем верхний регистр в столбе с названием, названием платформы и жанром\n",
    "data['name'] = data['name'].str.lower() \n",
    "data['platform'] = data['platform'].str.lower() \n",
    "data['genre'] = data['genre'].str.lower() \n",
    "data.head()"
   ]
  },
  {
   "cell_type": "code",
   "execution_count": 7,
   "metadata": {},
   "outputs": [
    {
     "data": {
      "text/plain": [
       "0"
      ]
     },
     "execution_count": 7,
     "metadata": {},
     "output_type": "execute_result"
    }
   ],
   "source": [
    "#проверяем на дубликаты \n",
    "data.duplicated().sum()"
   ]
  },
  {
   "cell_type": "markdown",
   "metadata": {},
   "source": [
    "### Замена типов данных"
   ]
  },
  {
   "cell_type": "code",
   "execution_count": 8,
   "metadata": {},
   "outputs": [
    {
     "data": {
      "text/html": [
       "<div>\n",
       "<style scoped>\n",
       "    .dataframe tbody tr th:only-of-type {\n",
       "        vertical-align: middle;\n",
       "    }\n",
       "\n",
       "    .dataframe tbody tr th {\n",
       "        vertical-align: top;\n",
       "    }\n",
       "\n",
       "    .dataframe thead th {\n",
       "        text-align: right;\n",
       "    }\n",
       "</style>\n",
       "<table border=\"1\" class=\"dataframe\">\n",
       "  <thead>\n",
       "    <tr style=\"text-align: right;\">\n",
       "      <th></th>\n",
       "      <th>name</th>\n",
       "      <th>platform</th>\n",
       "      <th>year_of_release</th>\n",
       "      <th>genre</th>\n",
       "      <th>na_sales</th>\n",
       "      <th>eu_sales</th>\n",
       "      <th>jp_sales</th>\n",
       "      <th>other_sales</th>\n",
       "      <th>critic_score</th>\n",
       "      <th>user_score</th>\n",
       "      <th>rating</th>\n",
       "      <th>year</th>\n",
       "    </tr>\n",
       "  </thead>\n",
       "  <tbody>\n",
       "    <tr>\n",
       "      <td>0</td>\n",
       "      <td>wii sports</td>\n",
       "      <td>wii</td>\n",
       "      <td>2006-01-01</td>\n",
       "      <td>sports</td>\n",
       "      <td>41.36</td>\n",
       "      <td>28.96</td>\n",
       "      <td>3.77</td>\n",
       "      <td>8.45</td>\n",
       "      <td>76.00</td>\n",
       "      <td>8</td>\n",
       "      <td>E</td>\n",
       "      <td>2,006.00</td>\n",
       "    </tr>\n",
       "    <tr>\n",
       "      <td>1</td>\n",
       "      <td>super mario bros.</td>\n",
       "      <td>nes</td>\n",
       "      <td>1985-01-01</td>\n",
       "      <td>platform</td>\n",
       "      <td>29.08</td>\n",
       "      <td>3.58</td>\n",
       "      <td>6.81</td>\n",
       "      <td>0.77</td>\n",
       "      <td>nan</td>\n",
       "      <td>NaN</td>\n",
       "      <td>NaN</td>\n",
       "      <td>1,985.00</td>\n",
       "    </tr>\n",
       "    <tr>\n",
       "      <td>2</td>\n",
       "      <td>mario kart wii</td>\n",
       "      <td>wii</td>\n",
       "      <td>2008-01-01</td>\n",
       "      <td>racing</td>\n",
       "      <td>15.68</td>\n",
       "      <td>12.76</td>\n",
       "      <td>3.79</td>\n",
       "      <td>3.29</td>\n",
       "      <td>82.00</td>\n",
       "      <td>8.3</td>\n",
       "      <td>E</td>\n",
       "      <td>2,008.00</td>\n",
       "    </tr>\n",
       "    <tr>\n",
       "      <td>3</td>\n",
       "      <td>wii sports resort</td>\n",
       "      <td>wii</td>\n",
       "      <td>2009-01-01</td>\n",
       "      <td>sports</td>\n",
       "      <td>15.61</td>\n",
       "      <td>10.93</td>\n",
       "      <td>3.28</td>\n",
       "      <td>2.95</td>\n",
       "      <td>80.00</td>\n",
       "      <td>8</td>\n",
       "      <td>E</td>\n",
       "      <td>2,009.00</td>\n",
       "    </tr>\n",
       "    <tr>\n",
       "      <td>4</td>\n",
       "      <td>pokemon red/pokemon blue</td>\n",
       "      <td>gb</td>\n",
       "      <td>1996-01-01</td>\n",
       "      <td>role-playing</td>\n",
       "      <td>11.27</td>\n",
       "      <td>8.89</td>\n",
       "      <td>10.22</td>\n",
       "      <td>1.00</td>\n",
       "      <td>nan</td>\n",
       "      <td>NaN</td>\n",
       "      <td>NaN</td>\n",
       "      <td>1,996.00</td>\n",
       "    </tr>\n",
       "  </tbody>\n",
       "</table>\n",
       "</div>"
      ],
      "text/plain": [
       "                       name platform year_of_release         genre  na_sales  \\\n",
       "0                wii sports      wii      2006-01-01        sports     41.36   \n",
       "1         super mario bros.      nes      1985-01-01      platform     29.08   \n",
       "2            mario kart wii      wii      2008-01-01        racing     15.68   \n",
       "3         wii sports resort      wii      2009-01-01        sports     15.61   \n",
       "4  pokemon red/pokemon blue       gb      1996-01-01  role-playing     11.27   \n",
       "\n",
       "   eu_sales  jp_sales  other_sales  critic_score user_score rating     year  \n",
       "0     28.96      3.77         8.45         76.00          8      E 2,006.00  \n",
       "1      3.58      6.81         0.77           nan        NaN    NaN 1,985.00  \n",
       "2     12.76      3.79         3.29         82.00        8.3      E 2,008.00  \n",
       "3     10.93      3.28         2.95         80.00          8      E 2,009.00  \n",
       "4      8.89     10.22         1.00           nan        NaN    NaN 1,996.00  "
      ]
     },
     "execution_count": 8,
     "metadata": {},
     "output_type": "execute_result"
    }
   ],
   "source": [
    "# заменим тип данных в дате выхода игр \n",
    "data['year_of_release'] = pd.to_datetime(data['year_of_release'], format='%Y')\n",
    "data['year'] = data['year_of_release'].dt.year\n",
    "data.head()"
   ]
  },
  {
   "cell_type": "code",
   "execution_count": 9,
   "metadata": {},
   "outputs": [
    {
     "name": "stdout",
     "output_type": "stream",
     "text": [
      "<class 'pandas.core.frame.DataFrame'>\n",
      "RangeIndex: 16715 entries, 0 to 16714\n",
      "Data columns (total 12 columns):\n",
      "name               16713 non-null object\n",
      "platform           16715 non-null object\n",
      "year_of_release    16446 non-null datetime64[ns]\n",
      "genre              16713 non-null object\n",
      "na_sales           16715 non-null float64\n",
      "eu_sales           16715 non-null float64\n",
      "jp_sales           16715 non-null float64\n",
      "other_sales        16715 non-null float64\n",
      "critic_score       8137 non-null float64\n",
      "user_score         10014 non-null object\n",
      "rating             9949 non-null object\n",
      "year               16446 non-null float64\n",
      "dtypes: datetime64[ns](1), float64(6), object(5)\n",
      "memory usage: 1.5+ MB\n"
     ]
    }
   ],
   "source": [
    "data.info()"
   ]
  },
  {
   "cell_type": "markdown",
   "metadata": {},
   "source": [
    "### Обработка пропусков "
   ]
  },
  {
   "cell_type": "code",
   "execution_count": 10,
   "metadata": {},
   "outputs": [
    {
     "data": {
      "text/plain": [
       "name                  2\n",
       "platform              0\n",
       "year_of_release     269\n",
       "genre                 2\n",
       "na_sales              0\n",
       "eu_sales              0\n",
       "jp_sales              0\n",
       "other_sales           0\n",
       "critic_score       8578\n",
       "user_score         6701\n",
       "rating             6766\n",
       "year                269\n",
       "dtype: int64"
      ]
     },
     "execution_count": 10,
     "metadata": {},
     "output_type": "execute_result"
    }
   ],
   "source": [
    "#посчитаем пропуски\n",
    "data.isna().sum() "
   ]
  },
  {
   "cell_type": "code",
   "execution_count": 11,
   "metadata": {},
   "outputs": [
    {
     "data": {
      "text/plain": [
       "name                  0\n",
       "platform              0\n",
       "year_of_release       0\n",
       "genre                 0\n",
       "na_sales              0\n",
       "eu_sales              0\n",
       "jp_sales              0\n",
       "other_sales           0\n",
       "critic_score       8461\n",
       "user_score         6605\n",
       "rating             6676\n",
       "year                  0\n",
       "dtype: int64"
      ]
     },
     "execution_count": 11,
     "metadata": {},
     "output_type": "execute_result"
    }
   ],
   "source": [
    "# пропуски названия игры, жанра и даты выхода мы не можем заполнить какими-либо значениями, поэтому удалим их\n",
    "\n",
    "data.dropna(subset=['name'], inplace=True)\n",
    "data.dropna(subset=['genre'], inplace=True)\n",
    "data.dropna(subset=['year_of_release'], inplace=True)\n",
    "\n",
    "data.isna().sum() #проверим удаление строк"
   ]
  },
  {
   "cell_type": "code",
   "execution_count": 12,
   "metadata": {},
   "outputs": [
    {
     "data": {
      "text/plain": [
       "array([76., nan, 82., 80., 89., 58., 87., 91., 61., 97., 95., 77., 88.,\n",
       "       83., 94., 93., 85., 86., 98., 96., 90., 84., 73., 74., 78., 92.,\n",
       "       71., 72., 68., 62., 49., 67., 81., 66., 56., 79., 70., 59., 64.,\n",
       "       75., 60., 63., 69., 50., 25., 42., 44., 55., 48., 57., 29., 47.,\n",
       "       65., 54., 20., 53., 37., 38., 33., 52., 30., 32., 43., 45., 51.,\n",
       "       40., 46., 39., 34., 41., 36., 31., 27., 35., 26., 19., 28., 23.,\n",
       "       24., 21., 17., 13.])"
      ]
     },
     "execution_count": 12,
     "metadata": {},
     "output_type": "execute_result"
    }
   ],
   "source": [
    "# посмотрим на значения столбца critic_score - оценка критиков (максимум 100)\n",
    "data['critic_score'].unique()\n",
    "#уникальных значений достаточно много, оставим пропуски без заполнения,\n",
    "# так как любое заполнение исказит результаты корреляционного анализа и стат-тестов."
   ]
  },
  {
   "cell_type": "code",
   "execution_count": 13,
   "metadata": {},
   "outputs": [
    {
     "data": {
      "text/plain": [
       "array(['8', nan, '8.3', '8.5', '6.6', '8.4', '8.6', '7.7', '6.3', '7.4',\n",
       "       '8.2', '9', '7.9', '8.1', '8.7', '7.1', '3.4', '5.3', '4.8', '3.2',\n",
       "       '8.9', '6.4', '7.8', '7.5', '2.6', '7.2', '9.2', '7', '7.3', '4.3',\n",
       "       '7.6', '5.7', '5', '9.1', '6.5', 'tbd', '8.8', '6.9', '9.4', '6.8',\n",
       "       '6.1', '6.7', '5.4', '4', '4.9', '4.5', '9.3', '6.2', '4.2', '6',\n",
       "       '3.7', '4.1', '5.8', '5.6', '5.5', '4.4', '4.6', '5.9', '3.9',\n",
       "       '3.1', '2.9', '5.2', '3.3', '4.7', '5.1', '3.5', '2.5', '1.9', '3',\n",
       "       '2.7', '2.2', '2', '9.5', '2.1', '3.6', '2.8', '1.8', '3.8', '0',\n",
       "       '1.6', '9.6', '2.4', '1.7', '1.1', '0.3', '1.5', '0.7', '1.2',\n",
       "       '2.3', '0.5', '1.3', '0.2', '0.6', '1.4', '0.9', '1', '9.7'],\n",
       "      dtype=object)"
      ]
     },
     "execution_count": 13,
     "metadata": {},
     "output_type": "execute_result"
    }
   ],
   "source": [
    "# посмотрим на значения столбца user_score - оценка пользователей (максимум 10)\n",
    "data['user_score'].unique()"
   ]
  },
  {
   "cell_type": "code",
   "execution_count": 14,
   "metadata": {},
   "outputs": [
    {
     "data": {
      "text/plain": [
       "tbd    2376\n",
       "7.8     322\n",
       "8       285\n",
       "8.2     276\n",
       "8.3     252\n",
       "       ... \n",
       "0.9       2\n",
       "0.5       2\n",
       "0.3       2\n",
       "9.7       1\n",
       "0         1\n",
       "Name: user_score, Length: 96, dtype: int64"
      ]
     },
     "execution_count": 14,
     "metadata": {},
     "output_type": "execute_result"
    }
   ],
   "source": [
    "data['user_score'].value_counts()"
   ]
  },
  {
   "cell_type": "code",
   "execution_count": 15,
   "metadata": {},
   "outputs": [],
   "source": [
    "# заменим неопределенное значение tbd\n",
    "data.loc[data['user_score'] == 'tbd', 'user_score'] = float('nan')"
   ]
  },
  {
   "cell_type": "code",
   "execution_count": 16,
   "metadata": {},
   "outputs": [
    {
     "name": "stdout",
     "output_type": "stream",
     "text": [
      "<class 'pandas.core.frame.DataFrame'>\n",
      "Int64Index: 16444 entries, 0 to 16714\n",
      "Data columns (total 12 columns):\n",
      "name               16444 non-null object\n",
      "platform           16444 non-null object\n",
      "year_of_release    16444 non-null datetime64[ns]\n",
      "genre              16444 non-null object\n",
      "na_sales           16444 non-null float64\n",
      "eu_sales           16444 non-null float64\n",
      "jp_sales           16444 non-null float64\n",
      "other_sales        16444 non-null float64\n",
      "critic_score       7983 non-null float64\n",
      "user_score         7463 non-null float64\n",
      "rating             9768 non-null object\n",
      "year               16444 non-null float64\n",
      "dtypes: datetime64[ns](1), float64(7), object(4)\n",
      "memory usage: 1.6+ MB\n"
     ]
    }
   ],
   "source": [
    "#заменим тип данных столбца с оценкой пользователей\n",
    "data['user_score'] = data['user_score'].astype('float')\n",
    " \n",
    "data.info()"
   ]
  },
  {
   "cell_type": "code",
   "execution_count": 17,
   "metadata": {},
   "outputs": [
    {
     "data": {
      "text/plain": [
       "array(['E', nan, 'M', 'T', 'E10+', 'K-A', 'AO', 'EC', 'RP'], dtype=object)"
      ]
     },
     "execution_count": 17,
     "metadata": {},
     "output_type": "execute_result"
    }
   ],
   "source": [
    "# посмотрим на значения столбца rating - возрастная категория\n",
    "data['rating'].unique()"
   ]
  },
  {
   "cell_type": "code",
   "execution_count": 18,
   "metadata": {},
   "outputs": [],
   "source": [
    "#так как тип данных у столбца - объект - заменим пропущенные значения на unknown \n",
    "data['rating'] = data['rating'].fillna('unknown') "
   ]
  },
  {
   "cell_type": "code",
   "execution_count": 19,
   "metadata": {},
   "outputs": [
    {
     "data": {
      "text/plain": [
       "name                  0\n",
       "platform              0\n",
       "year_of_release       0\n",
       "genre                 0\n",
       "na_sales              0\n",
       "eu_sales              0\n",
       "jp_sales              0\n",
       "other_sales           0\n",
       "critic_score       8461\n",
       "user_score         8981\n",
       "rating                0\n",
       "year                  0\n",
       "dtype: int64"
      ]
     },
     "execution_count": 19,
     "metadata": {},
     "output_type": "execute_result"
    }
   ],
   "source": [
    "#пропуски отсаются в двух столбцах, которые важно оставить без изменений для расчета статистических данных\n",
    "data.isna().sum()"
   ]
  },
  {
   "cell_type": "markdown",
   "metadata": {},
   "source": [
    "### Cуммарные продажи во всех регионах "
   ]
  },
  {
   "cell_type": "code",
   "execution_count": 20,
   "metadata": {},
   "outputs": [
    {
     "data": {
      "text/html": [
       "<div>\n",
       "<style scoped>\n",
       "    .dataframe tbody tr th:only-of-type {\n",
       "        vertical-align: middle;\n",
       "    }\n",
       "\n",
       "    .dataframe tbody tr th {\n",
       "        vertical-align: top;\n",
       "    }\n",
       "\n",
       "    .dataframe thead th {\n",
       "        text-align: right;\n",
       "    }\n",
       "</style>\n",
       "<table border=\"1\" class=\"dataframe\">\n",
       "  <thead>\n",
       "    <tr style=\"text-align: right;\">\n",
       "      <th></th>\n",
       "      <th>name</th>\n",
       "      <th>platform</th>\n",
       "      <th>year_of_release</th>\n",
       "      <th>genre</th>\n",
       "      <th>na_sales</th>\n",
       "      <th>eu_sales</th>\n",
       "      <th>jp_sales</th>\n",
       "      <th>other_sales</th>\n",
       "      <th>critic_score</th>\n",
       "      <th>user_score</th>\n",
       "      <th>rating</th>\n",
       "      <th>year</th>\n",
       "      <th>union_sales</th>\n",
       "    </tr>\n",
       "  </thead>\n",
       "  <tbody>\n",
       "    <tr>\n",
       "      <td>0</td>\n",
       "      <td>wii sports</td>\n",
       "      <td>wii</td>\n",
       "      <td>2006-01-01</td>\n",
       "      <td>sports</td>\n",
       "      <td>41.36</td>\n",
       "      <td>28.96</td>\n",
       "      <td>3.77</td>\n",
       "      <td>8.45</td>\n",
       "      <td>76.00</td>\n",
       "      <td>8.00</td>\n",
       "      <td>E</td>\n",
       "      <td>2,006.00</td>\n",
       "      <td>82.54</td>\n",
       "    </tr>\n",
       "    <tr>\n",
       "      <td>1</td>\n",
       "      <td>super mario bros.</td>\n",
       "      <td>nes</td>\n",
       "      <td>1985-01-01</td>\n",
       "      <td>platform</td>\n",
       "      <td>29.08</td>\n",
       "      <td>3.58</td>\n",
       "      <td>6.81</td>\n",
       "      <td>0.77</td>\n",
       "      <td>nan</td>\n",
       "      <td>nan</td>\n",
       "      <td>unknown</td>\n",
       "      <td>1,985.00</td>\n",
       "      <td>40.24</td>\n",
       "    </tr>\n",
       "    <tr>\n",
       "      <td>2</td>\n",
       "      <td>mario kart wii</td>\n",
       "      <td>wii</td>\n",
       "      <td>2008-01-01</td>\n",
       "      <td>racing</td>\n",
       "      <td>15.68</td>\n",
       "      <td>12.76</td>\n",
       "      <td>3.79</td>\n",
       "      <td>3.29</td>\n",
       "      <td>82.00</td>\n",
       "      <td>8.30</td>\n",
       "      <td>E</td>\n",
       "      <td>2,008.00</td>\n",
       "      <td>35.52</td>\n",
       "    </tr>\n",
       "    <tr>\n",
       "      <td>3</td>\n",
       "      <td>wii sports resort</td>\n",
       "      <td>wii</td>\n",
       "      <td>2009-01-01</td>\n",
       "      <td>sports</td>\n",
       "      <td>15.61</td>\n",
       "      <td>10.93</td>\n",
       "      <td>3.28</td>\n",
       "      <td>2.95</td>\n",
       "      <td>80.00</td>\n",
       "      <td>8.00</td>\n",
       "      <td>E</td>\n",
       "      <td>2,009.00</td>\n",
       "      <td>32.77</td>\n",
       "    </tr>\n",
       "    <tr>\n",
       "      <td>4</td>\n",
       "      <td>pokemon red/pokemon blue</td>\n",
       "      <td>gb</td>\n",
       "      <td>1996-01-01</td>\n",
       "      <td>role-playing</td>\n",
       "      <td>11.27</td>\n",
       "      <td>8.89</td>\n",
       "      <td>10.22</td>\n",
       "      <td>1.00</td>\n",
       "      <td>nan</td>\n",
       "      <td>nan</td>\n",
       "      <td>unknown</td>\n",
       "      <td>1,996.00</td>\n",
       "      <td>31.38</td>\n",
       "    </tr>\n",
       "  </tbody>\n",
       "</table>\n",
       "</div>"
      ],
      "text/plain": [
       "                       name platform year_of_release         genre  na_sales  \\\n",
       "0                wii sports      wii      2006-01-01        sports     41.36   \n",
       "1         super mario bros.      nes      1985-01-01      platform     29.08   \n",
       "2            mario kart wii      wii      2008-01-01        racing     15.68   \n",
       "3         wii sports resort      wii      2009-01-01        sports     15.61   \n",
       "4  pokemon red/pokemon blue       gb      1996-01-01  role-playing     11.27   \n",
       "\n",
       "   eu_sales  jp_sales  other_sales  critic_score  user_score   rating  \\\n",
       "0     28.96      3.77         8.45         76.00        8.00        E   \n",
       "1      3.58      6.81         0.77           nan         nan  unknown   \n",
       "2     12.76      3.79         3.29         82.00        8.30        E   \n",
       "3     10.93      3.28         2.95         80.00        8.00        E   \n",
       "4      8.89     10.22         1.00           nan         nan  unknown   \n",
       "\n",
       "      year  union_sales  \n",
       "0 2,006.00        82.54  \n",
       "1 1,985.00        40.24  \n",
       "2 2,008.00        35.52  \n",
       "3 2,009.00        32.77  \n",
       "4 1,996.00        31.38  "
      ]
     },
     "execution_count": 20,
     "metadata": {},
     "output_type": "execute_result"
    }
   ],
   "source": [
    "#посчитаем общие продажи во всех регионах мира для каждой игры \n",
    "data['union_sales'] = data['na_sales'] + data['eu_sales'] + data['jp_sales'] + data['other_sales']\n",
    "data.head()"
   ]
  },
  {
   "cell_type": "markdown",
   "metadata": {},
   "source": [
    "## Анализ данных"
   ]
  },
  {
   "cell_type": "markdown",
   "metadata": {},
   "source": [
    "### Сколько игр выпускалось в разные годы"
   ]
  },
  {
   "cell_type": "code",
   "execution_count": 21,
   "metadata": {},
   "outputs": [
    {
     "data": {
      "text/html": [
       "<div>\n",
       "<style scoped>\n",
       "    .dataframe tbody tr th:only-of-type {\n",
       "        vertical-align: middle;\n",
       "    }\n",
       "\n",
       "    .dataframe tbody tr th {\n",
       "        vertical-align: top;\n",
       "    }\n",
       "\n",
       "    .dataframe thead th {\n",
       "        text-align: right;\n",
       "    }\n",
       "</style>\n",
       "<table border=\"1\" class=\"dataframe\">\n",
       "  <thead>\n",
       "    <tr style=\"text-align: right;\">\n",
       "      <th></th>\n",
       "      <th>year_game</th>\n",
       "      <th>count_game</th>\n",
       "    </tr>\n",
       "  </thead>\n",
       "  <tbody>\n",
       "    <tr>\n",
       "      <td>0</td>\n",
       "      <td>1,980.00</td>\n",
       "      <td>9</td>\n",
       "    </tr>\n",
       "    <tr>\n",
       "      <td>1</td>\n",
       "      <td>1,981.00</td>\n",
       "      <td>46</td>\n",
       "    </tr>\n",
       "    <tr>\n",
       "      <td>2</td>\n",
       "      <td>1,982.00</td>\n",
       "      <td>36</td>\n",
       "    </tr>\n",
       "    <tr>\n",
       "      <td>3</td>\n",
       "      <td>1,983.00</td>\n",
       "      <td>17</td>\n",
       "    </tr>\n",
       "    <tr>\n",
       "      <td>4</td>\n",
       "      <td>1,984.00</td>\n",
       "      <td>14</td>\n",
       "    </tr>\n",
       "    <tr>\n",
       "      <td>5</td>\n",
       "      <td>1,985.00</td>\n",
       "      <td>14</td>\n",
       "    </tr>\n",
       "    <tr>\n",
       "      <td>6</td>\n",
       "      <td>1,986.00</td>\n",
       "      <td>21</td>\n",
       "    </tr>\n",
       "    <tr>\n",
       "      <td>7</td>\n",
       "      <td>1,987.00</td>\n",
       "      <td>16</td>\n",
       "    </tr>\n",
       "    <tr>\n",
       "      <td>8</td>\n",
       "      <td>1,988.00</td>\n",
       "      <td>15</td>\n",
       "    </tr>\n",
       "    <tr>\n",
       "      <td>9</td>\n",
       "      <td>1,989.00</td>\n",
       "      <td>17</td>\n",
       "    </tr>\n",
       "  </tbody>\n",
       "</table>\n",
       "</div>"
      ],
      "text/plain": [
       "   year_game  count_game\n",
       "0   1,980.00           9\n",
       "1   1,981.00          46\n",
       "2   1,982.00          36\n",
       "3   1,983.00          17\n",
       "4   1,984.00          14\n",
       "5   1,985.00          14\n",
       "6   1,986.00          21\n",
       "7   1,987.00          16\n",
       "8   1,988.00          15\n",
       "9   1,989.00          17"
      ]
     },
     "metadata": {},
     "output_type": "display_data"
    }
   ],
   "source": [
    "# посчитаем, сколько игр выпускалось ежегодно\n",
    "data_year_game = data.groupby('year').agg({'name':'count'}).reset_index()\n",
    "data_year_game = data_year_game.rename(columns={'year':'year_game', 'name':'count_game'})\n",
    "display(data_year_game.head(10))"
   ]
  },
  {
   "cell_type": "code",
   "execution_count": 22,
   "metadata": {},
   "outputs": [
    {
     "name": "stdout",
     "output_type": "stream",
     "text": [
      "<class 'pandas.core.frame.DataFrame'>\n",
      "RangeIndex: 37 entries, 0 to 36\n",
      "Data columns (total 2 columns):\n",
      "year_game     37 non-null float64\n",
      "count_game    37 non-null int64\n",
      "dtypes: float64(1), int64(1)\n",
      "memory usage: 720.0 bytes\n"
     ]
    }
   ],
   "source": [
    "# мы имеем статистику за последние 37 лет\n",
    "data_year_game.info()"
   ]
  },
  {
   "cell_type": "code",
   "execution_count": 23,
   "metadata": {},
   "outputs": [
    {
     "data": {
      "image/png": "[encoded data removed]",
      "text/plain": [
       "<Figure size 720x360 with 1 Axes>"
      ]
     },
     "metadata": {
      "needs_background": "light"
     },
     "output_type": "display_data"
    }
   ],
   "source": [
    "# построим график числа релизов платформ по годам\n",
    "data_year_game.plot(x='year_game', y='count_game', kind='line', figsize = (10,5), title='Распределения числа релизов платформ по годам')\n",
    "plt.grid(True)"
   ]
  },
  {
   "cell_type": "markdown",
   "metadata": {},
   "source": [
    "**Вывод**\n",
    "\n",
    "Резкий рост числа выпущенных игр начался в 1990-м году и достиг максимума в 2008-2009 годах. Затем наблюдается резкое падение числа игр - примерно за пять лет (до 2013 года) их количество сократилось более чем в 2 раза. "
   ]
  },
  {
   "cell_type": "markdown",
   "metadata": {},
   "source": [
    "### Анализ игровых платформ"
   ]
  },
  {
   "cell_type": "code",
   "execution_count": 24,
   "metadata": {},
   "outputs": [
    {
     "data": {
      "text/html": [
       "<div>\n",
       "<style scoped>\n",
       "    .dataframe tbody tr th:only-of-type {\n",
       "        vertical-align: middle;\n",
       "    }\n",
       "\n",
       "    .dataframe tbody tr th {\n",
       "        vertical-align: top;\n",
       "    }\n",
       "\n",
       "    .dataframe thead th {\n",
       "        text-align: right;\n",
       "    }\n",
       "</style>\n",
       "<table border=\"1\" class=\"dataframe\">\n",
       "  <thead>\n",
       "    <tr style=\"text-align: right;\">\n",
       "      <th></th>\n",
       "      <th>platform</th>\n",
       "      <th>year</th>\n",
       "      <th>union_sales</th>\n",
       "    </tr>\n",
       "  </thead>\n",
       "  <tbody>\n",
       "    <tr>\n",
       "      <td>0</td>\n",
       "      <td>2600</td>\n",
       "      <td>1,980.00</td>\n",
       "      <td>11.38</td>\n",
       "    </tr>\n",
       "    <tr>\n",
       "      <td>1</td>\n",
       "      <td>2600</td>\n",
       "      <td>1,981.00</td>\n",
       "      <td>35.68</td>\n",
       "    </tr>\n",
       "    <tr>\n",
       "      <td>2</td>\n",
       "      <td>2600</td>\n",
       "      <td>1,982.00</td>\n",
       "      <td>28.88</td>\n",
       "    </tr>\n",
       "    <tr>\n",
       "      <td>3</td>\n",
       "      <td>2600</td>\n",
       "      <td>1,983.00</td>\n",
       "      <td>5.84</td>\n",
       "    </tr>\n",
       "    <tr>\n",
       "      <td>4</td>\n",
       "      <td>2600</td>\n",
       "      <td>1,984.00</td>\n",
       "      <td>0.27</td>\n",
       "    </tr>\n",
       "    <tr>\n",
       "      <td>5</td>\n",
       "      <td>2600</td>\n",
       "      <td>1,985.00</td>\n",
       "      <td>0.45</td>\n",
       "    </tr>\n",
       "    <tr>\n",
       "      <td>6</td>\n",
       "      <td>2600</td>\n",
       "      <td>1,986.00</td>\n",
       "      <td>0.67</td>\n",
       "    </tr>\n",
       "    <tr>\n",
       "      <td>7</td>\n",
       "      <td>2600</td>\n",
       "      <td>1,987.00</td>\n",
       "      <td>1.94</td>\n",
       "    </tr>\n",
       "    <tr>\n",
       "      <td>8</td>\n",
       "      <td>2600</td>\n",
       "      <td>1,988.00</td>\n",
       "      <td>0.74</td>\n",
       "    </tr>\n",
       "    <tr>\n",
       "      <td>9</td>\n",
       "      <td>2600</td>\n",
       "      <td>1,989.00</td>\n",
       "      <td>0.63</td>\n",
       "    </tr>\n",
       "  </tbody>\n",
       "</table>\n",
       "</div>"
      ],
      "text/plain": [
       "  platform     year  union_sales\n",
       "0     2600 1,980.00        11.38\n",
       "1     2600 1,981.00        35.68\n",
       "2     2600 1,982.00        28.88\n",
       "3     2600 1,983.00         5.84\n",
       "4     2600 1,984.00         0.27\n",
       "5     2600 1,985.00         0.45\n",
       "6     2600 1,986.00         0.67\n",
       "7     2600 1,987.00         1.94\n",
       "8     2600 1,988.00         0.74\n",
       "9     2600 1,989.00         0.63"
      ]
     },
     "metadata": {},
     "output_type": "display_data"
    }
   ],
   "source": [
    "# посмотрим, как менялись продажи по платформам \n",
    "data_platform = data.groupby(['platform', 'year']).agg({'union_sales':'sum'}).reset_index()\n",
    "display(data_platform.head(10))"
   ]
  },
  {
   "cell_type": "code",
   "execution_count": 25,
   "metadata": {},
   "outputs": [],
   "source": [
    "#получим top_10 платформ с наибольшим числом продаж\n",
    "top_10 = data.groupby('platform').agg({'union_sales': 'sum'}).sort_values(by='union_sales').tail(10).index"
   ]
  },
  {
   "cell_type": "code",
   "execution_count": 26,
   "metadata": {},
   "outputs": [
    {
     "data": {
      "text/plain": [
       "<matplotlib.axes._subplots.AxesSubplot at 0x7fb1cceb3810>"
      ]
     },
     "execution_count": 26,
     "metadata": {},
     "output_type": "execute_result"
    },
    {
     "data": {
      "image/png": "[encoded data removed]",
      "text/plain": [
       "<Figure size 1440x360 with 1 Axes>"
      ]
     },
     "metadata": {
      "needs_background": "light"
     },
     "output_type": "display_data"
    }
   ],
   "source": [
    "#построим график распределение продаж платформ по годам\n",
    "data.query('platform in @top_10').pivot_table(index = 'year_of_release', columns = 'platform', values = 'union_sales', aggfunc = 'sum' ).plot(title='Топ-10 платформ', figsize = (20,5))"
   ]
  },
  {
   "cell_type": "code",
   "execution_count": 27,
   "metadata": {},
   "outputs": [
    {
     "data": {
      "text/plain": [
       "<matplotlib.axes._subplots.AxesSubplot at 0x7fb1cc4f9590>"
      ]
     },
     "execution_count": 27,
     "metadata": {},
     "output_type": "execute_result"
    },
    {
     "data": {
      "image/png": "[encoded data removed]",
      "text/plain": [
       "<Figure size 432x288 with 1 Axes>"
      ]
     },
     "metadata": {
      "needs_background": "light"
     },
     "output_type": "display_data"
    }
   ],
   "source": [
    "# построим график распределения суммарных продаж по годам\n",
    "data_platform.plot(x='year', y='union_sales', kind='scatter', title='Распределения суммарных продаж по годам')"
   ]
  },
  {
   "cell_type": "code",
   "execution_count": 28,
   "metadata": {},
   "outputs": [
    {
     "data": {
      "text/plain": [
       "year_of_release   9.10\n",
       "dtype: float64"
      ]
     },
     "execution_count": 28,
     "metadata": {},
     "output_type": "execute_result"
    }
   ],
   "source": [
    "#расчитаем период жизни платформ\n",
    "actual_period = data.groupby(['platform','year_of_release']).agg({'union_sales': 'sum'}).query('platform in @ top_10 and union_sales > 1')\n",
    "# расчитает жизненный период каждой платформы\n",
    "actual_period = actual_period.reset_index().groupby('platform').agg({'year_of_release': 'count'}) \n",
    "# расчитает сколько в среднем живет платформа\n",
    "actual_period.mean() "
   ]
  },
  {
   "cell_type": "markdown",
   "metadata": {},
   "source": [
    "**Вывод**\n",
    "\n",
    "Пик суммарных продаж приходится на 2001-2010 годы - тогда же, как мы выяснили ранее, было и наибольшее число выпускаемых компьютерных игр. У самых популярных платформ (как показано на графике) есть один или два пика суммарных продаж, после чего идет спад и закрытие платформы. Выяснилось, что весь этот жизненный цикл платформы проходят примерно за 9 лет. \n",
    "\n",
    "Также мы выяснили по графикам, что тенденция по выпуску игр, а также по сумме продаж меняется примерно в 2011-2012-х годах: выпускаемых игр становится меньше, ряд ведущих платформ в это время закончили свое существование, соответственно, и объем выручки в это время падает. Так как нам нужно спрогнозировать данные на 2017-й год логично выбрать требуемый \"актуальный период\" в 5 лет, с 2012 года."
   ]
  },
  {
   "cell_type": "markdown",
   "metadata": {},
   "source": [
    "### Актуальный период"
   ]
  },
  {
   "cell_type": "code",
   "execution_count": 29,
   "metadata": {},
   "outputs": [
    {
     "data": {
      "text/html": [
       "<div>\n",
       "<style scoped>\n",
       "    .dataframe tbody tr th:only-of-type {\n",
       "        vertical-align: middle;\n",
       "    }\n",
       "\n",
       "    .dataframe tbody tr th {\n",
       "        vertical-align: top;\n",
       "    }\n",
       "\n",
       "    .dataframe thead th {\n",
       "        text-align: right;\n",
       "    }\n",
       "</style>\n",
       "<table border=\"1\" class=\"dataframe\">\n",
       "  <thead>\n",
       "    <tr style=\"text-align: right;\">\n",
       "      <th></th>\n",
       "      <th>name</th>\n",
       "      <th>platform</th>\n",
       "      <th>year_of_release</th>\n",
       "      <th>genre</th>\n",
       "      <th>na_sales</th>\n",
       "      <th>eu_sales</th>\n",
       "      <th>jp_sales</th>\n",
       "      <th>other_sales</th>\n",
       "      <th>critic_score</th>\n",
       "      <th>user_score</th>\n",
       "      <th>rating</th>\n",
       "      <th>year</th>\n",
       "      <th>union_sales</th>\n",
       "    </tr>\n",
       "  </thead>\n",
       "  <tbody>\n",
       "    <tr>\n",
       "      <td>0</td>\n",
       "      <td>grand theft auto v</td>\n",
       "      <td>ps3</td>\n",
       "      <td>2013-01-01</td>\n",
       "      <td>action</td>\n",
       "      <td>7.02</td>\n",
       "      <td>9.09</td>\n",
       "      <td>0.98</td>\n",
       "      <td>3.96</td>\n",
       "      <td>97.00</td>\n",
       "      <td>8.20</td>\n",
       "      <td>M</td>\n",
       "      <td>2,013.00</td>\n",
       "      <td>21.05</td>\n",
       "    </tr>\n",
       "    <tr>\n",
       "      <td>1</td>\n",
       "      <td>grand theft auto v</td>\n",
       "      <td>x360</td>\n",
       "      <td>2013-01-01</td>\n",
       "      <td>action</td>\n",
       "      <td>9.66</td>\n",
       "      <td>5.14</td>\n",
       "      <td>0.06</td>\n",
       "      <td>1.41</td>\n",
       "      <td>97.00</td>\n",
       "      <td>8.10</td>\n",
       "      <td>M</td>\n",
       "      <td>2,013.00</td>\n",
       "      <td>16.27</td>\n",
       "    </tr>\n",
       "    <tr>\n",
       "      <td>2</td>\n",
       "      <td>call of duty: black ops 3</td>\n",
       "      <td>ps4</td>\n",
       "      <td>2015-01-01</td>\n",
       "      <td>shooter</td>\n",
       "      <td>6.03</td>\n",
       "      <td>5.86</td>\n",
       "      <td>0.36</td>\n",
       "      <td>2.38</td>\n",
       "      <td>nan</td>\n",
       "      <td>nan</td>\n",
       "      <td>unknown</td>\n",
       "      <td>2,015.00</td>\n",
       "      <td>14.63</td>\n",
       "    </tr>\n",
       "    <tr>\n",
       "      <td>3</td>\n",
       "      <td>pokemon x/pokemon y</td>\n",
       "      <td>3ds</td>\n",
       "      <td>2013-01-01</td>\n",
       "      <td>role-playing</td>\n",
       "      <td>5.28</td>\n",
       "      <td>4.19</td>\n",
       "      <td>4.35</td>\n",
       "      <td>0.78</td>\n",
       "      <td>nan</td>\n",
       "      <td>nan</td>\n",
       "      <td>unknown</td>\n",
       "      <td>2,013.00</td>\n",
       "      <td>14.60</td>\n",
       "    </tr>\n",
       "    <tr>\n",
       "      <td>4</td>\n",
       "      <td>call of duty: black ops ii</td>\n",
       "      <td>ps3</td>\n",
       "      <td>2012-01-01</td>\n",
       "      <td>shooter</td>\n",
       "      <td>4.99</td>\n",
       "      <td>5.73</td>\n",
       "      <td>0.65</td>\n",
       "      <td>2.42</td>\n",
       "      <td>83.00</td>\n",
       "      <td>5.30</td>\n",
       "      <td>M</td>\n",
       "      <td>2,012.00</td>\n",
       "      <td>13.79</td>\n",
       "    </tr>\n",
       "  </tbody>\n",
       "</table>\n",
       "</div>"
      ],
      "text/plain": [
       "                         name platform year_of_release         genre  \\\n",
       "0          grand theft auto v      ps3      2013-01-01        action   \n",
       "1          grand theft auto v     x360      2013-01-01        action   \n",
       "2   call of duty: black ops 3      ps4      2015-01-01       shooter   \n",
       "3         pokemon x/pokemon y      3ds      2013-01-01  role-playing   \n",
       "4  call of duty: black ops ii      ps3      2012-01-01       shooter   \n",
       "\n",
       "   na_sales  eu_sales  jp_sales  other_sales  critic_score  user_score  \\\n",
       "0      7.02      9.09      0.98         3.96         97.00        8.20   \n",
       "1      9.66      5.14      0.06         1.41         97.00        8.10   \n",
       "2      6.03      5.86      0.36         2.38           nan         nan   \n",
       "3      5.28      4.19      4.35         0.78           nan         nan   \n",
       "4      4.99      5.73      0.65         2.42         83.00        5.30   \n",
       "\n",
       "    rating     year  union_sales  \n",
       "0        M 2,013.00        21.05  \n",
       "1        M 2,013.00        16.27  \n",
       "2  unknown 2,015.00        14.63  \n",
       "3  unknown 2,013.00        14.60  \n",
       "4        M 2,012.00        13.79  "
      ]
     },
     "execution_count": 29,
     "metadata": {},
     "output_type": "execute_result"
    }
   ],
   "source": [
    "#здадим актуальный период в пять лет, с 2012 года\n",
    "data_actual = data[data['year'] > 2011].reset_index(drop=True)\n",
    "data_actual.head()"
   ]
  },
  {
   "cell_type": "code",
   "execution_count": 30,
   "metadata": {},
   "outputs": [
    {
     "name": "stdout",
     "output_type": "stream",
     "text": [
      "<class 'pandas.core.frame.DataFrame'>\n",
      "RangeIndex: 2886 entries, 0 to 2885\n",
      "Data columns (total 13 columns):\n",
      "name               2886 non-null object\n",
      "platform           2886 non-null object\n",
      "year_of_release    2886 non-null datetime64[ns]\n",
      "genre              2886 non-null object\n",
      "na_sales           2886 non-null float64\n",
      "eu_sales           2886 non-null float64\n",
      "jp_sales           2886 non-null float64\n",
      "other_sales        2886 non-null float64\n",
      "critic_score       1312 non-null float64\n",
      "user_score         1531 non-null float64\n",
      "rating             2886 non-null object\n",
      "year               2886 non-null float64\n",
      "union_sales        2886 non-null float64\n",
      "dtypes: datetime64[ns](1), float64(8), object(4)\n",
      "memory usage: 293.2+ KB\n"
     ]
    }
   ],
   "source": [
    "data_actual.info()"
   ]
  },
  {
   "cell_type": "markdown",
   "metadata": {},
   "source": [
    "### Продажи игровых платформ"
   ]
  },
  {
   "cell_type": "code",
   "execution_count": 31,
   "metadata": {},
   "outputs": [
    {
     "data": {
      "text/html": [
       "<div>\n",
       "<style scoped>\n",
       "    .dataframe tbody tr th:only-of-type {\n",
       "        vertical-align: middle;\n",
       "    }\n",
       "\n",
       "    .dataframe tbody tr th {\n",
       "        vertical-align: top;\n",
       "    }\n",
       "\n",
       "    .dataframe thead th {\n",
       "        text-align: right;\n",
       "    }\n",
       "</style>\n",
       "<table border=\"1\" class=\"dataframe\">\n",
       "  <thead>\n",
       "    <tr style=\"text-align: right;\">\n",
       "      <th></th>\n",
       "      <th>na_sales</th>\n",
       "      <th>eu_sales</th>\n",
       "      <th>jp_sales</th>\n",
       "      <th>other_sales</th>\n",
       "      <th>critic_score</th>\n",
       "      <th>user_score</th>\n",
       "      <th>year</th>\n",
       "      <th>union_sales</th>\n",
       "    </tr>\n",
       "  </thead>\n",
       "  <tbody>\n",
       "    <tr>\n",
       "      <td>count</td>\n",
       "      <td>2,886.00</td>\n",
       "      <td>2,886.00</td>\n",
       "      <td>2,886.00</td>\n",
       "      <td>2,886.00</td>\n",
       "      <td>1,312.00</td>\n",
       "      <td>1,531.00</td>\n",
       "      <td>2,886.00</td>\n",
       "      <td>2,886.00</td>\n",
       "    </tr>\n",
       "    <tr>\n",
       "      <td>mean</td>\n",
       "      <td>0.20</td>\n",
       "      <td>0.18</td>\n",
       "      <td>0.07</td>\n",
       "      <td>0.05</td>\n",
       "      <td>72.26</td>\n",
       "      <td>6.64</td>\n",
       "      <td>2,013.92</td>\n",
       "      <td>0.50</td>\n",
       "    </tr>\n",
       "    <tr>\n",
       "      <td>std</td>\n",
       "      <td>0.57</td>\n",
       "      <td>0.51</td>\n",
       "      <td>0.24</td>\n",
       "      <td>0.16</td>\n",
       "      <td>12.69</td>\n",
       "      <td>1.57</td>\n",
       "      <td>1.41</td>\n",
       "      <td>1.25</td>\n",
       "    </tr>\n",
       "    <tr>\n",
       "      <td>min</td>\n",
       "      <td>0.00</td>\n",
       "      <td>0.00</td>\n",
       "      <td>0.00</td>\n",
       "      <td>0.00</td>\n",
       "      <td>13.00</td>\n",
       "      <td>0.20</td>\n",
       "      <td>2,012.00</td>\n",
       "      <td>0.01</td>\n",
       "    </tr>\n",
       "    <tr>\n",
       "      <td>25%</td>\n",
       "      <td>0.00</td>\n",
       "      <td>0.00</td>\n",
       "      <td>0.00</td>\n",
       "      <td>0.00</td>\n",
       "      <td>66.00</td>\n",
       "      <td>5.80</td>\n",
       "      <td>2,013.00</td>\n",
       "      <td>0.04</td>\n",
       "    </tr>\n",
       "    <tr>\n",
       "      <td>50%</td>\n",
       "      <td>0.03</td>\n",
       "      <td>0.03</td>\n",
       "      <td>0.01</td>\n",
       "      <td>0.01</td>\n",
       "      <td>74.00</td>\n",
       "      <td>7.00</td>\n",
       "      <td>2,014.00</td>\n",
       "      <td>0.12</td>\n",
       "    </tr>\n",
       "    <tr>\n",
       "      <td>75%</td>\n",
       "      <td>0.17</td>\n",
       "      <td>0.14</td>\n",
       "      <td>0.05</td>\n",
       "      <td>0.04</td>\n",
       "      <td>81.00</td>\n",
       "      <td>7.80</td>\n",
       "      <td>2,015.00</td>\n",
       "      <td>0.43</td>\n",
       "    </tr>\n",
       "    <tr>\n",
       "      <td>max</td>\n",
       "      <td>9.66</td>\n",
       "      <td>9.09</td>\n",
       "      <td>4.39</td>\n",
       "      <td>3.96</td>\n",
       "      <td>97.00</td>\n",
       "      <td>9.30</td>\n",
       "      <td>2,016.00</td>\n",
       "      <td>21.05</td>\n",
       "    </tr>\n",
       "  </tbody>\n",
       "</table>\n",
       "</div>"
      ],
      "text/plain": [
       "       na_sales  eu_sales  jp_sales  other_sales  critic_score  user_score  \\\n",
       "count  2,886.00  2,886.00  2,886.00     2,886.00      1,312.00    1,531.00   \n",
       "mean       0.20      0.18      0.07         0.05         72.26        6.64   \n",
       "std        0.57      0.51      0.24         0.16         12.69        1.57   \n",
       "min        0.00      0.00      0.00         0.00         13.00        0.20   \n",
       "25%        0.00      0.00      0.00         0.00         66.00        5.80   \n",
       "50%        0.03      0.03      0.01         0.01         74.00        7.00   \n",
       "75%        0.17      0.14      0.05         0.04         81.00        7.80   \n",
       "max        9.66      9.09      4.39         3.96         97.00        9.30   \n",
       "\n",
       "          year  union_sales  \n",
       "count 2,886.00     2,886.00  \n",
       "mean  2,013.92         0.50  \n",
       "std       1.41         1.25  \n",
       "min   2,012.00         0.01  \n",
       "25%   2,013.00         0.04  \n",
       "50%   2,014.00         0.12  \n",
       "75%   2,015.00         0.43  \n",
       "max   2,016.00        21.05  "
      ]
     },
     "execution_count": 31,
     "metadata": {},
     "output_type": "execute_result"
    }
   ],
   "source": [
    "#Нужно выберать несколько потенциально прибыльных платформ\n",
    "data_actual.describe()"
   ]
  },
  {
   "cell_type": "code",
   "execution_count": 32,
   "metadata": {},
   "outputs": [],
   "source": [
    "#получим top_10 платформ из актуальных данных с наибольшим числом продаж\n",
    "top_pl = data_actual.groupby('platform').agg({'union_sales': 'sum'}).sort_values(by='union_sales').tail(10).index"
   ]
  },
  {
   "cell_type": "code",
   "execution_count": 33,
   "metadata": {},
   "outputs": [
    {
     "data": {
      "image/png": "[encoded data removed]",
      "text/plain": [
       "<Figure size 1080x360 with 1 Axes>"
      ]
     },
     "metadata": {
      "needs_background": "light"
     },
     "output_type": "display_data"
    }
   ],
   "source": [
    "#построим график распределение продаж платформ по годам\n",
    "data_actual.query('platform in @top_pl').pivot_table(index = 'year_of_release', columns = 'platform', values = 'union_sales', aggfunc = 'sum' ).plot(figsize = (15,5))\n",
    "plt.grid(True)"
   ]
  },
  {
   "cell_type": "markdown",
   "metadata": {},
   "source": [
    "**Вывод**\n",
    "\n",
    "Потенциально лидируют три платформы: ps4, xone и 3ds. Однако, выпуски игр первых двух начали падать с 2015 года, у 3ds - это снижение с 2013 года. Платформа ds перестала выпускать новые релизы с 2013 года."
   ]
  },
  {
   "cell_type": "markdown",
   "metadata": {},
   "source": [
    "### График «ящик с усами» по глобальным продажам игр в разбивке по платформам"
   ]
  },
  {
   "cell_type": "code",
   "execution_count": 34,
   "metadata": {},
   "outputs": [
    {
     "data": {
      "image/png": "[encoded data removed]",
      "text/plain": [
       "<Figure size 432x288 with 1 Axes>"
      ]
     },
     "metadata": {
      "needs_background": "light"
     },
     "output_type": "display_data"
    }
   ],
   "source": [
    "#Посмотрим на вбросы значений \n",
    "import warnings\n",
    "warnings.filterwarnings('ignore')\n",
    "\n",
    "data_actual.boxplot(column = 'union_sales', by = 'platform')\n",
    "plt.ylim(0,5)\n",
    "plt.show()"
   ]
  },
  {
   "cell_type": "markdown",
   "metadata": {},
   "source": [
    "**Вывод**\n",
    "\n",
    "\n",
    "Чем шире ящик, тем больше дисперсия и разброс данных - самые неоднородные продажи можно наблюдать у платформ ps4 и x360. Также у этих платформ много выбросов или нетипичных продаж. Можно предположить, что это игры-бестселлеры, которые принесли платформе максимальную прибль в расчете на одну игру. Например, 3DS имеет много таких игр, а у платформы xone, напротив, вся линейка игр стабильно хорошо продается. \n",
    "\n",
    "Напротив, у платформ ds и psp  - наименьшие ящики, что говорит о большом единообразии их продаж, а также - почти об отсутствии вбросов значений. Вероятно, и прогнозировать объем продаж по ним будет проще.\n",
    "\n",
    "Медианы (зеленые линии внутри ящиков), которые показывают разницу между наиболее типичными продажами по платформам, также выше у ps4 и x360, то есть и продают эти платформы больше других. Далее за ними следуют ps3, xone и wiiu. \n"
   ]
  },
  {
   "cell_type": "markdown",
   "metadata": {},
   "source": [
    "### Как влияют на продажи отзывы пользователей и критиков"
   ]
  },
  {
   "cell_type": "code",
   "execution_count": 35,
   "metadata": {},
   "outputs": [
    {
     "data": {
      "text/html": [
       "<div>\n",
       "<style scoped>\n",
       "    .dataframe tbody tr th:only-of-type {\n",
       "        vertical-align: middle;\n",
       "    }\n",
       "\n",
       "    .dataframe tbody tr th {\n",
       "        vertical-align: top;\n",
       "    }\n",
       "\n",
       "    .dataframe thead th {\n",
       "        text-align: right;\n",
       "    }\n",
       "</style>\n",
       "<table border=\"1\" class=\"dataframe\">\n",
       "  <thead>\n",
       "    <tr style=\"text-align: right;\">\n",
       "      <th></th>\n",
       "      <th>name</th>\n",
       "      <th>platform</th>\n",
       "      <th>year_of_release</th>\n",
       "      <th>genre</th>\n",
       "      <th>na_sales</th>\n",
       "      <th>eu_sales</th>\n",
       "      <th>jp_sales</th>\n",
       "      <th>other_sales</th>\n",
       "      <th>critic_score</th>\n",
       "      <th>user_score</th>\n",
       "      <th>rating</th>\n",
       "      <th>year</th>\n",
       "      <th>union_sales</th>\n",
       "    </tr>\n",
       "  </thead>\n",
       "  <tbody>\n",
       "    <tr>\n",
       "      <td>0</td>\n",
       "      <td>grand theft auto v</td>\n",
       "      <td>x360</td>\n",
       "      <td>2013-01-01</td>\n",
       "      <td>action</td>\n",
       "      <td>9.66</td>\n",
       "      <td>5.14</td>\n",
       "      <td>0.06</td>\n",
       "      <td>1.41</td>\n",
       "      <td>97.00</td>\n",
       "      <td>8.10</td>\n",
       "      <td>M</td>\n",
       "      <td>2,013.00</td>\n",
       "      <td>16.27</td>\n",
       "    </tr>\n",
       "    <tr>\n",
       "      <td>1</td>\n",
       "      <td>call of duty: black ops ii</td>\n",
       "      <td>x360</td>\n",
       "      <td>2012-01-01</td>\n",
       "      <td>shooter</td>\n",
       "      <td>8.25</td>\n",
       "      <td>4.24</td>\n",
       "      <td>0.07</td>\n",
       "      <td>1.12</td>\n",
       "      <td>83.00</td>\n",
       "      <td>4.80</td>\n",
       "      <td>M</td>\n",
       "      <td>2,012.00</td>\n",
       "      <td>13.68</td>\n",
       "    </tr>\n",
       "    <tr>\n",
       "      <td>2</td>\n",
       "      <td>call of duty: ghosts</td>\n",
       "      <td>x360</td>\n",
       "      <td>2013-01-01</td>\n",
       "      <td>shooter</td>\n",
       "      <td>6.73</td>\n",
       "      <td>2.56</td>\n",
       "      <td>0.04</td>\n",
       "      <td>0.91</td>\n",
       "      <td>73.00</td>\n",
       "      <td>2.60</td>\n",
       "      <td>M</td>\n",
       "      <td>2,013.00</td>\n",
       "      <td>10.24</td>\n",
       "    </tr>\n",
       "    <tr>\n",
       "      <td>3</td>\n",
       "      <td>halo 4</td>\n",
       "      <td>x360</td>\n",
       "      <td>2012-01-01</td>\n",
       "      <td>shooter</td>\n",
       "      <td>6.65</td>\n",
       "      <td>2.28</td>\n",
       "      <td>0.04</td>\n",
       "      <td>0.74</td>\n",
       "      <td>87.00</td>\n",
       "      <td>7.00</td>\n",
       "      <td>M</td>\n",
       "      <td>2,012.00</td>\n",
       "      <td>9.71</td>\n",
       "    </tr>\n",
       "    <tr>\n",
       "      <td>4</td>\n",
       "      <td>minecraft</td>\n",
       "      <td>x360</td>\n",
       "      <td>2013-01-01</td>\n",
       "      <td>misc</td>\n",
       "      <td>5.70</td>\n",
       "      <td>2.65</td>\n",
       "      <td>0.02</td>\n",
       "      <td>0.81</td>\n",
       "      <td>nan</td>\n",
       "      <td>nan</td>\n",
       "      <td>unknown</td>\n",
       "      <td>2,013.00</td>\n",
       "      <td>9.18</td>\n",
       "    </tr>\n",
       "  </tbody>\n",
       "</table>\n",
       "</div>"
      ],
      "text/plain": [
       "                         name platform year_of_release    genre  na_sales  \\\n",
       "0          grand theft auto v     x360      2013-01-01   action      9.66   \n",
       "1  call of duty: black ops ii     x360      2012-01-01  shooter      8.25   \n",
       "2        call of duty: ghosts     x360      2013-01-01  shooter      6.73   \n",
       "3                      halo 4     x360      2012-01-01  shooter      6.65   \n",
       "4                   minecraft     x360      2013-01-01     misc      5.70   \n",
       "\n",
       "   eu_sales  jp_sales  other_sales  critic_score  user_score   rating  \\\n",
       "0      5.14      0.06         1.41         97.00        8.10        M   \n",
       "1      4.24      0.07         1.12         83.00        4.80        M   \n",
       "2      2.56      0.04         0.91         73.00        2.60        M   \n",
       "3      2.28      0.04         0.74         87.00        7.00        M   \n",
       "4      2.65      0.02         0.81           nan         nan  unknown   \n",
       "\n",
       "      year  union_sales  \n",
       "0 2,013.00        16.27  \n",
       "1 2,012.00        13.68  \n",
       "2 2,013.00        10.24  \n",
       "3 2,012.00         9.71  \n",
       "4 2,013.00         9.18  "
      ]
     },
     "execution_count": 35,
     "metadata": {},
     "output_type": "execute_result"
    }
   ],
   "source": [
    "# для оценки возьмем одну из популярных платформ: x360\n",
    "plt_x360 = data_actual[data_actual['platform'] == 'x360'].reset_index(drop=True)\n",
    "\n",
    "plt_x360.head()\n"
   ]
  },
  {
   "cell_type": "code",
   "execution_count": 36,
   "metadata": {},
   "outputs": [
    {
     "data": {
      "text/plain": [
       "<matplotlib.axes._subplots.AxesSubplot at 0x7fb1cc610d90>"
      ]
     },
     "execution_count": 36,
     "metadata": {},
     "output_type": "execute_result"
    },
    {
     "data": {
      "image/png": "[encoded data removed]",
      "text/plain": [
       "<Figure size 432x288 with 1 Axes>"
      ]
     },
     "metadata": {
      "needs_background": "light"
     },
     "output_type": "display_data"
    }
   ],
   "source": [
    "#построим диаграмму рассеяния для определения связи между отзывами критиков и продажами\n",
    "plt_x360.plot(x='union_sales', y='critic_score', kind='scatter', title='Зависимость продаж от оценки критиков')"
   ]
  },
  {
   "cell_type": "code",
   "execution_count": 37,
   "metadata": {},
   "outputs": [
    {
     "data": {
      "text/plain": [
       "0.36057348885073365"
      ]
     },
     "execution_count": 37,
     "metadata": {},
     "output_type": "execute_result"
    }
   ],
   "source": [
    "# посчитаем корреляцию зависимости продаж от отзывов критиков\n",
    "plt_x360['union_sales'].corr(plt_x360['critic_score'])"
   ]
  },
  {
   "cell_type": "code",
   "execution_count": 38,
   "metadata": {},
   "outputs": [
    {
     "data": {
      "text/plain": [
       "<matplotlib.axes._subplots.AxesSubplot at 0x7fb1caa33450>"
      ]
     },
     "execution_count": 38,
     "metadata": {},
     "output_type": "execute_result"
    },
    {
     "data": {
      "image/png": "[encoded data removed]",
      "text/plain": [
       "<Figure size 432x288 with 1 Axes>"
      ]
     },
     "metadata": {
      "needs_background": "light"
     },
     "output_type": "display_data"
    }
   ],
   "source": [
    "#построим диаграмму между отзывами пользователей и продажами\n",
    "\n",
    "plt_x360.plot(x='union_sales', y='user_score', kind='scatter', title='Зависимость продаж от оценки пользователей')"
   ]
  },
  {
   "cell_type": "code",
   "execution_count": 39,
   "metadata": {},
   "outputs": [
    {
     "data": {
      "text/plain": [
       "0.0061639786462133256"
      ]
     },
     "execution_count": 39,
     "metadata": {},
     "output_type": "execute_result"
    }
   ],
   "source": [
    "# посчитаем корреляцию зависимости продаж от отзывов пользователей\n",
    "plt_x360['union_sales'].corr(plt_x360['user_score'])"
   ]
  },
  {
   "cell_type": "code",
   "execution_count": 40,
   "metadata": {},
   "outputs": [
    {
     "data": {
      "text/plain": [
       "<matplotlib.axes._subplots.AxesSubplot at 0x7fb1ca9a21d0>"
      ]
     },
     "execution_count": 40,
     "metadata": {},
     "output_type": "execute_result"
    },
    {
     "data": {
      "image/png": "[encoded data removed]",
      "text/plain": [
       "<Figure size 432x288 with 1 Axes>"
      ]
     },
     "metadata": {
      "needs_background": "light"
     },
     "output_type": "display_data"
    }
   ],
   "source": [
    "#построим диаграмму между отзывами критиков и продажами в целом по платформама\n",
    "data_actual.plot(x='union_sales', y='critic_score', kind='scatter', title='Зависимость продаж всех платформ от оценки критиков')"
   ]
  },
  {
   "cell_type": "code",
   "execution_count": 41,
   "metadata": {},
   "outputs": [
    {
     "data": {
      "text/plain": [
       "0.308196745920778"
      ]
     },
     "execution_count": 41,
     "metadata": {},
     "output_type": "execute_result"
    }
   ],
   "source": [
    "# посчитаем корреляцию зависимости продаж от отзывов критиков\n",
    "data_actual['union_sales'].corr(data_actual['critic_score'])"
   ]
  },
  {
   "cell_type": "code",
   "execution_count": 42,
   "metadata": {},
   "outputs": [
    {
     "data": {
      "text/plain": [
       "<matplotlib.axes._subplots.AxesSubplot at 0x7fb1ca969b90>"
      ]
     },
     "execution_count": 42,
     "metadata": {},
     "output_type": "execute_result"
    },
    {
     "data": {
      "image/png": "[encoded data removed]",
      "text/plain": [
       "<Figure size 432x288 with 1 Axes>"
      ]
     },
     "metadata": {
      "needs_background": "light"
     },
     "output_type": "display_data"
    }
   ],
   "source": [
    "#построим диаграмму между отзывами пользователей и продажами\n",
    "\n",
    "data_actual.plot(x='union_sales', y='user_score', kind='scatter', title='Зависимость продаж всех платформ от оценки пользователей')"
   ]
  },
  {
   "cell_type": "code",
   "execution_count": 43,
   "metadata": {},
   "outputs": [
    {
     "data": {
      "text/plain": [
       "0.004428817675493266"
      ]
     },
     "execution_count": 43,
     "metadata": {},
     "output_type": "execute_result"
    }
   ],
   "source": [
    "# посчитаем корреляцию зависимости продаж от отзывов пользователей в целом по платформам\n",
    "data_actual['union_sales'].corr(data_actual['user_score'])"
   ]
  },
  {
   "cell_type": "markdown",
   "metadata": {},
   "source": [
    "**Вывод**\n",
    "\n",
    "\n",
    "И зависимость продаж от оценки критиков, и зависимость продаж от оценки пользователей имеют положительную корреляцию. Однако, эта зависимость сильнее в случае оценок критиков, их отзывы больше влияют на продажи, чем отзывы самих игроков.\n",
    "\n",
    "В целом по платформам ситуация похожая - оценки критиков сильнее влияют на продажи, чем оценки пользователей. Однако, это влияние нельзя считать определяющим, так как зависимость достаточно слабая."
   ]
  },
  {
   "cell_type": "markdown",
   "metadata": {},
   "source": [
    "###  Распределение игр по жанрам"
   ]
  },
  {
   "cell_type": "code",
   "execution_count": 44,
   "metadata": {},
   "outputs": [
    {
     "name": "stdout",
     "output_type": "stream",
     "text": [
      "action          1031\n",
      "role-playing     370\n",
      "adventure        302\n",
      "sports           268\n",
      "shooter          235\n",
      "misc             192\n",
      "racing           115\n",
      "fighting         109\n",
      "platform          85\n",
      "simulation        80\n",
      "strategy          71\n",
      "puzzle            28\n",
      "Name: genre, dtype: int64\n"
     ]
    }
   ],
   "source": [
    "# общее распределение игр по жанрам\n",
    "print(data_actual['genre'].value_counts())\n"
   ]
  },
  {
   "cell_type": "code",
   "execution_count": 45,
   "metadata": {},
   "outputs": [
    {
     "data": {
      "text/html": [
       "<div>\n",
       "<style scoped>\n",
       "    .dataframe tbody tr th:only-of-type {\n",
       "        vertical-align: middle;\n",
       "    }\n",
       "\n",
       "    .dataframe tbody tr th {\n",
       "        vertical-align: top;\n",
       "    }\n",
       "\n",
       "    .dataframe thead th {\n",
       "        text-align: right;\n",
       "    }\n",
       "</style>\n",
       "<table border=\"1\" class=\"dataframe\">\n",
       "  <thead>\n",
       "    <tr style=\"text-align: right;\">\n",
       "      <th></th>\n",
       "      <th>union_sales</th>\n",
       "    </tr>\n",
       "    <tr>\n",
       "      <th>genre</th>\n",
       "      <th></th>\n",
       "    </tr>\n",
       "  </thead>\n",
       "  <tbody>\n",
       "    <tr>\n",
       "      <td>puzzle</td>\n",
       "      <td>4.89</td>\n",
       "    </tr>\n",
       "    <tr>\n",
       "      <td>strategy</td>\n",
       "      <td>13.34</td>\n",
       "    </tr>\n",
       "    <tr>\n",
       "      <td>adventure</td>\n",
       "      <td>29.43</td>\n",
       "    </tr>\n",
       "    <tr>\n",
       "      <td>simulation</td>\n",
       "      <td>35.12</td>\n",
       "    </tr>\n",
       "    <tr>\n",
       "      <td>fighting</td>\n",
       "      <td>44.49</td>\n",
       "    </tr>\n",
       "    <tr>\n",
       "      <td>racing</td>\n",
       "      <td>53.50</td>\n",
       "    </tr>\n",
       "    <tr>\n",
       "      <td>platform</td>\n",
       "      <td>61.00</td>\n",
       "    </tr>\n",
       "    <tr>\n",
       "      <td>misc</td>\n",
       "      <td>85.04</td>\n",
       "    </tr>\n",
       "    <tr>\n",
       "      <td>sports</td>\n",
       "      <td>181.07</td>\n",
       "    </tr>\n",
       "    <tr>\n",
       "      <td>role-playing</td>\n",
       "      <td>192.80</td>\n",
       "    </tr>\n",
       "    <tr>\n",
       "      <td>shooter</td>\n",
       "      <td>304.73</td>\n",
       "    </tr>\n",
       "    <tr>\n",
       "      <td>action</td>\n",
       "      <td>441.12</td>\n",
       "    </tr>\n",
       "  </tbody>\n",
       "</table>\n",
       "</div>"
      ],
      "text/plain": [
       "              union_sales\n",
       "genre                    \n",
       "puzzle               4.89\n",
       "strategy            13.34\n",
       "adventure           29.43\n",
       "simulation          35.12\n",
       "fighting            44.49\n",
       "racing              53.50\n",
       "platform            61.00\n",
       "misc                85.04\n",
       "sports             181.07\n",
       "role-playing       192.80\n",
       "shooter            304.73\n",
       "action             441.12"
      ]
     },
     "metadata": {},
     "output_type": "display_data"
    }
   ],
   "source": [
    "# посчитаем, какие жанры приносят максимальную прибыль\n",
    "data_genre = data_actual.groupby('genre').agg({'union_sales': 'sum'}).sort_values(by='union_sales')\n",
    "display(data_genre)"
   ]
  },
  {
   "cell_type": "code",
   "execution_count": 46,
   "metadata": {},
   "outputs": [
    {
     "data": {
      "text/plain": [
       "<matplotlib.axes._subplots.AxesSubplot at 0x7fb1cc636f50>"
      ]
     },
     "execution_count": 46,
     "metadata": {},
     "output_type": "execute_result"
    },
    {
     "data": {
      "image/png": "[encoded data removed]",
      "text/plain": [
       "<Figure size 648x648 with 1 Axes>"
      ]
     },
     "metadata": {
      "needs_background": "light"
     },
     "output_type": "display_data"
    }
   ],
   "source": [
    "#Построим график с показателями общей суммы продаж для каждого жанра\n",
    "data_actual.groupby('genre')['union_sales'].sum().sort_values(ascending=False).plot(kind='bar',\n",
    "    title='Зависимость продаж от жанра игр', figsize=(9, 9))"
   ]
  },
  {
   "cell_type": "code",
   "execution_count": 76,
   "metadata": {},
   "outputs": [
    {
     "data": {
      "text/plain": [
       "<matplotlib.axes._subplots.AxesSubplot at 0x7fb1ccf29050>"
      ]
     },
     "execution_count": 76,
     "metadata": {},
     "output_type": "execute_result"
    },
    {
     "data": {
      "image/png": "[encoded data removed]",
      "text/plain": [
       "<Figure size 648x648 with 1 Axes>"
      ]
     },
     "metadata": {
      "needs_background": "light"
     },
     "output_type": "display_data"
    }
   ],
   "source": [
    "#Построим график с показателями средней суммы продаж для каждого жанра\n",
    "data_actual.groupby('genre')['union_sales'].mean().sort_values(ascending=False).plot(kind='bar',\n",
    "    title='Средняя сумма продаж для каждого жанра игр', figsize=(9, 9))"
   ]
  },
  {
   "cell_type": "code",
   "execution_count": 77,
   "metadata": {},
   "outputs": [
    {
     "data": {
      "text/plain": [
       "<matplotlib.axes._subplots.AxesSubplot at 0x7fb1ca77d610>"
      ]
     },
     "execution_count": 77,
     "metadata": {},
     "output_type": "execute_result"
    },
    {
     "data": {
      "image/png": "[encoded data removed]",
      "text/plain": [
       "<Figure size 648x648 with 1 Axes>"
      ]
     },
     "metadata": {
      "needs_background": "light"
     },
     "output_type": "display_data"
    }
   ],
   "source": [
    "#Построим график с показателями медианы  продаж для каждого жанра\n",
    "data_actual.groupby('genre')['union_sales'].median().sort_values(ascending=False).plot(kind='bar',\n",
    "    title='Медиана продаж для каждого жанра игр', figsize=(9, 9))"
   ]
  },
  {
   "cell_type": "code",
   "execution_count": 95,
   "metadata": {},
   "outputs": [
    {
     "data": {
      "text/html": [
       "<div>\n",
       "<style scoped>\n",
       "    .dataframe tbody tr th:only-of-type {\n",
       "        vertical-align: middle;\n",
       "    }\n",
       "\n",
       "    .dataframe tbody tr th {\n",
       "        vertical-align: top;\n",
       "    }\n",
       "\n",
       "    .dataframe thead th {\n",
       "        text-align: right;\n",
       "    }\n",
       "</style>\n",
       "<table border=\"1\" class=\"dataframe\">\n",
       "  <thead>\n",
       "    <tr style=\"text-align: right;\">\n",
       "      <th></th>\n",
       "      <th>union_sales</th>\n",
       "      <th>name_count</th>\n",
       "      <th>sales_one_game</th>\n",
       "    </tr>\n",
       "    <tr>\n",
       "      <th>genre</th>\n",
       "      <th></th>\n",
       "      <th></th>\n",
       "      <th></th>\n",
       "    </tr>\n",
       "  </thead>\n",
       "  <tbody>\n",
       "    <tr>\n",
       "      <td>adventure</td>\n",
       "      <td>29.43</td>\n",
       "      <td>302</td>\n",
       "      <td>0.10</td>\n",
       "    </tr>\n",
       "    <tr>\n",
       "      <td>puzzle</td>\n",
       "      <td>4.89</td>\n",
       "      <td>28</td>\n",
       "      <td>0.17</td>\n",
       "    </tr>\n",
       "    <tr>\n",
       "      <td>strategy</td>\n",
       "      <td>13.34</td>\n",
       "      <td>71</td>\n",
       "      <td>0.19</td>\n",
       "    </tr>\n",
       "    <tr>\n",
       "      <td>fighting</td>\n",
       "      <td>44.49</td>\n",
       "      <td>109</td>\n",
       "      <td>0.41</td>\n",
       "    </tr>\n",
       "    <tr>\n",
       "      <td>action</td>\n",
       "      <td>441.12</td>\n",
       "      <td>1031</td>\n",
       "      <td>0.43</td>\n",
       "    </tr>\n",
       "    <tr>\n",
       "      <td>simulation</td>\n",
       "      <td>35.12</td>\n",
       "      <td>80</td>\n",
       "      <td>0.44</td>\n",
       "    </tr>\n",
       "    <tr>\n",
       "      <td>misc</td>\n",
       "      <td>85.04</td>\n",
       "      <td>192</td>\n",
       "      <td>0.44</td>\n",
       "    </tr>\n",
       "    <tr>\n",
       "      <td>racing</td>\n",
       "      <td>53.50</td>\n",
       "      <td>115</td>\n",
       "      <td>0.47</td>\n",
       "    </tr>\n",
       "    <tr>\n",
       "      <td>role-playing</td>\n",
       "      <td>192.80</td>\n",
       "      <td>370</td>\n",
       "      <td>0.52</td>\n",
       "    </tr>\n",
       "    <tr>\n",
       "      <td>sports</td>\n",
       "      <td>181.07</td>\n",
       "      <td>268</td>\n",
       "      <td>0.68</td>\n",
       "    </tr>\n",
       "    <tr>\n",
       "      <td>platform</td>\n",
       "      <td>61.00</td>\n",
       "      <td>85</td>\n",
       "      <td>0.72</td>\n",
       "    </tr>\n",
       "    <tr>\n",
       "      <td>shooter</td>\n",
       "      <td>304.73</td>\n",
       "      <td>235</td>\n",
       "      <td>1.30</td>\n",
       "    </tr>\n",
       "  </tbody>\n",
       "</table>\n",
       "</div>"
      ],
      "text/plain": [
       "              union_sales  name_count  sales_one_game\n",
       "genre                                                \n",
       "adventure           29.43         302            0.10\n",
       "puzzle               4.89          28            0.17\n",
       "strategy            13.34          71            0.19\n",
       "fighting            44.49         109            0.41\n",
       "action             441.12        1031            0.43\n",
       "simulation          35.12          80            0.44\n",
       "misc                85.04         192            0.44\n",
       "racing              53.50         115            0.47\n",
       "role-playing       192.80         370            0.52\n",
       "sports             181.07         268            0.68\n",
       "platform            61.00          85            0.72\n",
       "shooter            304.73         235            1.30"
      ]
     },
     "metadata": {},
     "output_type": "display_data"
    }
   ],
   "source": [
    "#составим таблицу продаж по жанрам с учетом количества игры\n",
    "data_genre_game = data_actual.groupby('genre').agg({'union_sales': 'sum', 'name': 'count'}).sort_values(by='union_sales')\n",
    "#переименуем столбец\n",
    "data_genre_game = data_genre_game.rename(columns={'name':'name_count'})\n",
    "#добавим столбец со средним показателем дохода на одну игру\n",
    "data_genre_game['sales_one_game'] =  data_genre_game['union_sales'] / data_genre_game['name_count']\n",
    "\n",
    "display(data_genre_game.sort_values(by='sales_one_game'))"
   ]
  },
  {
   "cell_type": "markdown",
   "metadata": {},
   "source": [
    "**Вывод**\n",
    "\n",
    "Выделяются жанры с высокими и низкими продажами. У нас есть лидер по общему объему продаж - игры жанра \"экшен\" (action в переводе с англ. — «действие»), в котором делается упор на эксплуатацию физических возможностей игрока. Далее следуют шутер (стрелялка, англ. shooter), ролевые игры и спортивные соревнования. Стратегии и головоломки, напротив, занимают нижние строчки.\n",
    "\n",
    "Однако, копий игр жанра \"экшн\" и больше, чем любых других игр: 1031 против 370 у ближайшего конкурента, ролевых игр. Расчет средней суммы продаж, а также продаж в пересчете на одну игру показали, что наиболее прибыльными являются игры жанра \"шутер\" или стрелялки - они в три раза прибыльнее, чем одна игра жанра экшн. Далее по прибыльности следуют игры жанра \"платформер\" (прыжки по платформам) и спортивные соревнования."
   ]
  },
  {
   "cell_type": "markdown",
   "metadata": {},
   "source": [
    "## Портрет пользователя каждого региона\n"
   ]
  },
  {
   "cell_type": "markdown",
   "metadata": {},
   "source": [
    "###  Пользователь региона Северная Америка (NA)"
   ]
  },
  {
   "cell_type": "code",
   "execution_count": 47,
   "metadata": {},
   "outputs": [
    {
     "data": {
      "text/plain": [
       "<matplotlib.axes._subplots.AxesSubplot at 0x7fb1ccece190>"
      ]
     },
     "execution_count": 47,
     "metadata": {},
     "output_type": "execute_result"
    },
    {
     "data": {
      "image/png": "[encoded data removed]",
      "text/plain": [
       "<Figure size 648x648 with 1 Axes>"
      ]
     },
     "metadata": {
      "needs_background": "light"
     },
     "output_type": "display_data"
    }
   ],
   "source": [
    "#Построим график с показателями сумм продаж для каждой платформы в Северной Америке \n",
    "\n",
    "data_actual.groupby('platform')['na_sales'].sum().sort_values(ascending=False).plot(kind='bar',\n",
    "    title='Платформы в Северной Америке', color=('red'), figsize=(9, 9))"
   ]
  },
  {
   "cell_type": "code",
   "execution_count": 48,
   "metadata": {},
   "outputs": [
    {
     "data": {
      "text/html": [
       "<div>\n",
       "<style scoped>\n",
       "    .dataframe tbody tr th:only-of-type {\n",
       "        vertical-align: middle;\n",
       "    }\n",
       "\n",
       "    .dataframe tbody tr th {\n",
       "        vertical-align: top;\n",
       "    }\n",
       "\n",
       "    .dataframe thead th {\n",
       "        text-align: right;\n",
       "    }\n",
       "</style>\n",
       "<table border=\"1\" class=\"dataframe\">\n",
       "  <thead>\n",
       "    <tr style=\"text-align: right;\">\n",
       "      <th></th>\n",
       "      <th>na_sales</th>\n",
       "    </tr>\n",
       "    <tr>\n",
       "      <th>platform</th>\n",
       "      <th></th>\n",
       "    </tr>\n",
       "  </thead>\n",
       "  <tbody>\n",
       "    <tr>\n",
       "      <td>3ds</td>\n",
       "      <td>55.31</td>\n",
       "    </tr>\n",
       "    <tr>\n",
       "      <td>xone</td>\n",
       "      <td>93.12</td>\n",
       "    </tr>\n",
       "    <tr>\n",
       "      <td>ps3</td>\n",
       "      <td>103.38</td>\n",
       "    </tr>\n",
       "    <tr>\n",
       "      <td>ps4</td>\n",
       "      <td>108.74</td>\n",
       "    </tr>\n",
       "    <tr>\n",
       "      <td>x360</td>\n",
       "      <td>140.05</td>\n",
       "    </tr>\n",
       "  </tbody>\n",
       "</table>\n",
       "</div>"
      ],
      "text/plain": [
       "          na_sales\n",
       "platform          \n",
       "3ds          55.31\n",
       "xone         93.12\n",
       "ps3         103.38\n",
       "ps4         108.74\n",
       "x360        140.05"
      ]
     },
     "metadata": {},
     "output_type": "display_data"
    }
   ],
   "source": [
    "# Самые популярные платформы (топ-5) в Северной Америке\n",
    "na_data = data_actual.groupby('platform').agg({'na_sales': 'sum'}).sort_values(by='na_sales').tail()\n",
    "display(na_data)"
   ]
  },
  {
   "cell_type": "code",
   "execution_count": 49,
   "metadata": {},
   "outputs": [
    {
     "data": {
      "text/html": [
       "<div>\n",
       "<style scoped>\n",
       "    .dataframe tbody tr th:only-of-type {\n",
       "        vertical-align: middle;\n",
       "    }\n",
       "\n",
       "    .dataframe tbody tr th {\n",
       "        vertical-align: top;\n",
       "    }\n",
       "\n",
       "    .dataframe thead th {\n",
       "        text-align: right;\n",
       "    }\n",
       "</style>\n",
       "<table border=\"1\" class=\"dataframe\">\n",
       "  <thead>\n",
       "    <tr style=\"text-align: right;\">\n",
       "      <th></th>\n",
       "      <th>na_sales</th>\n",
       "    </tr>\n",
       "    <tr>\n",
       "      <th>genre</th>\n",
       "      <th></th>\n",
       "    </tr>\n",
       "  </thead>\n",
       "  <tbody>\n",
       "    <tr>\n",
       "      <td>misc</td>\n",
       "      <td>38.19</td>\n",
       "    </tr>\n",
       "    <tr>\n",
       "      <td>role-playing</td>\n",
       "      <td>64.00</td>\n",
       "    </tr>\n",
       "    <tr>\n",
       "      <td>sports</td>\n",
       "      <td>81.53</td>\n",
       "    </tr>\n",
       "    <tr>\n",
       "      <td>shooter</td>\n",
       "      <td>144.77</td>\n",
       "    </tr>\n",
       "    <tr>\n",
       "      <td>action</td>\n",
       "      <td>177.84</td>\n",
       "    </tr>\n",
       "  </tbody>\n",
       "</table>\n",
       "</div>"
      ],
      "text/plain": [
       "              na_sales\n",
       "genre                 \n",
       "misc             38.19\n",
       "role-playing     64.00\n",
       "sports           81.53\n",
       "shooter         144.77\n",
       "action          177.84"
      ]
     },
     "metadata": {},
     "output_type": "display_data"
    }
   ],
   "source": [
    "# Самые популярные жанры (топ-5) в Северной Америке\n",
    "na_data_genre = data_actual.groupby('genre').agg({'na_sales': 'sum'}).sort_values(by='na_sales').tail()\n",
    "display(na_data_genre)"
   ]
  },
  {
   "cell_type": "code",
   "execution_count": 50,
   "metadata": {},
   "outputs": [
    {
     "data": {
      "text/html": [
       "<div>\n",
       "<style scoped>\n",
       "    .dataframe tbody tr th:only-of-type {\n",
       "        vertical-align: middle;\n",
       "    }\n",
       "\n",
       "    .dataframe tbody tr th {\n",
       "        vertical-align: top;\n",
       "    }\n",
       "\n",
       "    .dataframe thead th {\n",
       "        text-align: right;\n",
       "    }\n",
       "</style>\n",
       "<table border=\"1\" class=\"dataframe\">\n",
       "  <thead>\n",
       "    <tr style=\"text-align: right;\">\n",
       "      <th></th>\n",
       "      <th>na_sales</th>\n",
       "    </tr>\n",
       "    <tr>\n",
       "      <th>rating</th>\n",
       "      <th></th>\n",
       "    </tr>\n",
       "  </thead>\n",
       "  <tbody>\n",
       "    <tr>\n",
       "      <td>T</td>\n",
       "      <td>66.02</td>\n",
       "    </tr>\n",
       "    <tr>\n",
       "      <td>E10+</td>\n",
       "      <td>75.70</td>\n",
       "    </tr>\n",
       "    <tr>\n",
       "      <td>unknown</td>\n",
       "      <td>103.31</td>\n",
       "    </tr>\n",
       "    <tr>\n",
       "      <td>E</td>\n",
       "      <td>114.37</td>\n",
       "    </tr>\n",
       "    <tr>\n",
       "      <td>M</td>\n",
       "      <td>231.57</td>\n",
       "    </tr>\n",
       "  </tbody>\n",
       "</table>\n",
       "</div>"
      ],
      "text/plain": [
       "         na_sales\n",
       "rating           \n",
       "T           66.02\n",
       "E10+        75.70\n",
       "unknown    103.31\n",
       "E          114.37\n",
       "M          231.57"
      ]
     },
     "metadata": {},
     "output_type": "display_data"
    }
   ],
   "source": [
    "#проверим, как влияет рейтинг ESRB на продажи в Северной Америке\n",
    "data_rating = data_actual.groupby('rating').agg({'na_sales': 'sum'}).sort_values(by='na_sales')\n",
    "display(data_rating)\n"
   ]
  },
  {
   "cell_type": "code",
   "execution_count": 51,
   "metadata": {},
   "outputs": [
    {
     "data": {
      "text/plain": [
       "<matplotlib.axes._subplots.AxesSubplot at 0x7fb1cc5b2050>"
      ]
     },
     "execution_count": 51,
     "metadata": {},
     "output_type": "execute_result"
    },
    {
     "data": {
      "image/png": "[encoded data removed]",
      "text/plain": [
       "<Figure size 648x648 with 1 Axes>"
      ]
     },
     "metadata": {
      "needs_background": "light"
     },
     "output_type": "display_data"
    }
   ],
   "source": [
    "#Построим график с показателями сумм продаж для каждой категории\n",
    "data_actual.groupby('rating')['na_sales'].sum().sort_values(ascending=False).plot(kind='bar',\n",
    "    title='Зависимость продаж от рейтинга и возрастной категории игр', color=('red'), figsize=(9, 9))"
   ]
  },
  {
   "cell_type": "markdown",
   "metadata": {},
   "source": [
    "**Вывод**\n",
    "\n",
    "С большим отрывом от конкурентов в Северной Америке лидирует платформа x360 (140 против 108 млн). Также в этом регионе пользователи больше предпочитают жанры экшн, стрелялки и спортивные соревнования. \n",
    "\n",
    "Рейтинг от организации ESRB (англ. Entertainment Software Rating Board) влияет на объем продаж. Логично, что на первых строчках идут игры для взрослой категории («M» («Mature») — «От 17 лет») или «E» («Everyone») — «Для всех» - у них потенциально и больше игроков. Игры для детей («E10+» («Everyone 10 and older») — «Для всех старше 10 лет») и для подростков («T» («Teen») — «Подросткам 13—19 лет») замыкают рейтинг.\n",
    "\n"
   ]
  },
  {
   "cell_type": "markdown",
   "metadata": {},
   "source": [
    "###  Пользователь региона Европа (EU)"
   ]
  },
  {
   "cell_type": "code",
   "execution_count": 52,
   "metadata": {},
   "outputs": [
    {
     "data": {
      "text/plain": [
       "<matplotlib.axes._subplots.AxesSubplot at 0x7fb1ccf42550>"
      ]
     },
     "execution_count": 52,
     "metadata": {},
     "output_type": "execute_result"
    },
    {
     "data": {
      "image/png": "[encoded data removed]",
      "text/plain": [
       "<Figure size 648x648 with 1 Axes>"
      ]
     },
     "metadata": {
      "needs_background": "light"
     },
     "output_type": "display_data"
    }
   ],
   "source": [
    "#Построим график с показателями сумм продаж для каждой платформы в Европе\n",
    "\n",
    "data_actual.groupby('platform')['eu_sales'].sum().sort_values(ascending=False).plot(kind='bar',\n",
    "    title='Платформы в Европе', color=('green'), figsize=(9, 9))"
   ]
  },
  {
   "cell_type": "code",
   "execution_count": 53,
   "metadata": {},
   "outputs": [
    {
     "data": {
      "text/html": [
       "<div>\n",
       "<style scoped>\n",
       "    .dataframe tbody tr th:only-of-type {\n",
       "        vertical-align: middle;\n",
       "    }\n",
       "\n",
       "    .dataframe tbody tr th {\n",
       "        vertical-align: top;\n",
       "    }\n",
       "\n",
       "    .dataframe thead th {\n",
       "        text-align: right;\n",
       "    }\n",
       "</style>\n",
       "<table border=\"1\" class=\"dataframe\">\n",
       "  <thead>\n",
       "    <tr style=\"text-align: right;\">\n",
       "      <th></th>\n",
       "      <th>eu_sales</th>\n",
       "    </tr>\n",
       "    <tr>\n",
       "      <th>platform</th>\n",
       "      <th></th>\n",
       "    </tr>\n",
       "  </thead>\n",
       "  <tbody>\n",
       "    <tr>\n",
       "      <td>3ds</td>\n",
       "      <td>42.64</td>\n",
       "    </tr>\n",
       "    <tr>\n",
       "      <td>xone</td>\n",
       "      <td>51.59</td>\n",
       "    </tr>\n",
       "    <tr>\n",
       "      <td>x360</td>\n",
       "      <td>74.52</td>\n",
       "    </tr>\n",
       "    <tr>\n",
       "      <td>ps3</td>\n",
       "      <td>106.86</td>\n",
       "    </tr>\n",
       "    <tr>\n",
       "      <td>ps4</td>\n",
       "      <td>141.09</td>\n",
       "    </tr>\n",
       "  </tbody>\n",
       "</table>\n",
       "</div>"
      ],
      "text/plain": [
       "          eu_sales\n",
       "platform          \n",
       "3ds          42.64\n",
       "xone         51.59\n",
       "x360         74.52\n",
       "ps3         106.86\n",
       "ps4         141.09"
      ]
     },
     "metadata": {},
     "output_type": "display_data"
    }
   ],
   "source": [
    "# Самые популярные платформы (топ-5) в Европе\n",
    "eu_data = data_actual.groupby('platform').agg({'eu_sales': 'sum'}).sort_values(by='eu_sales').tail()\n",
    "display(eu_data)"
   ]
  },
  {
   "cell_type": "code",
   "execution_count": 54,
   "metadata": {},
   "outputs": [
    {
     "data": {
      "text/html": [
       "<div>\n",
       "<style scoped>\n",
       "    .dataframe tbody tr th:only-of-type {\n",
       "        vertical-align: middle;\n",
       "    }\n",
       "\n",
       "    .dataframe tbody tr th {\n",
       "        vertical-align: top;\n",
       "    }\n",
       "\n",
       "    .dataframe thead th {\n",
       "        text-align: right;\n",
       "    }\n",
       "</style>\n",
       "<table border=\"1\" class=\"dataframe\">\n",
       "  <thead>\n",
       "    <tr style=\"text-align: right;\">\n",
       "      <th></th>\n",
       "      <th>eu_sales</th>\n",
       "    </tr>\n",
       "    <tr>\n",
       "      <th>genre</th>\n",
       "      <th></th>\n",
       "    </tr>\n",
       "  </thead>\n",
       "  <tbody>\n",
       "    <tr>\n",
       "      <td>racing</td>\n",
       "      <td>27.29</td>\n",
       "    </tr>\n",
       "    <tr>\n",
       "      <td>role-playing</td>\n",
       "      <td>48.53</td>\n",
       "    </tr>\n",
       "    <tr>\n",
       "      <td>sports</td>\n",
       "      <td>69.09</td>\n",
       "    </tr>\n",
       "    <tr>\n",
       "      <td>shooter</td>\n",
       "      <td>113.47</td>\n",
       "    </tr>\n",
       "    <tr>\n",
       "      <td>action</td>\n",
       "      <td>159.34</td>\n",
       "    </tr>\n",
       "  </tbody>\n",
       "</table>\n",
       "</div>"
      ],
      "text/plain": [
       "              eu_sales\n",
       "genre                 \n",
       "racing           27.29\n",
       "role-playing     48.53\n",
       "sports           69.09\n",
       "shooter         113.47\n",
       "action          159.34"
      ]
     },
     "metadata": {},
     "output_type": "display_data"
    }
   ],
   "source": [
    "# Самые популярные жанры (топ-5) в Европе\n",
    "eu_data_genre = data_actual.groupby('genre').agg({'eu_sales': 'sum'}).sort_values(by='eu_sales').tail()\n",
    "display(eu_data_genre)"
   ]
  },
  {
   "cell_type": "code",
   "execution_count": 55,
   "metadata": {},
   "outputs": [
    {
     "data": {
      "text/html": [
       "<div>\n",
       "<style scoped>\n",
       "    .dataframe tbody tr th:only-of-type {\n",
       "        vertical-align: middle;\n",
       "    }\n",
       "\n",
       "    .dataframe tbody tr th {\n",
       "        vertical-align: top;\n",
       "    }\n",
       "\n",
       "    .dataframe thead th {\n",
       "        text-align: right;\n",
       "    }\n",
       "</style>\n",
       "<table border=\"1\" class=\"dataframe\">\n",
       "  <thead>\n",
       "    <tr style=\"text-align: right;\">\n",
       "      <th></th>\n",
       "      <th>eu_sales</th>\n",
       "    </tr>\n",
       "    <tr>\n",
       "      <th>rating</th>\n",
       "      <th></th>\n",
       "    </tr>\n",
       "  </thead>\n",
       "  <tbody>\n",
       "    <tr>\n",
       "      <td>T</td>\n",
       "      <td>52.96</td>\n",
       "    </tr>\n",
       "    <tr>\n",
       "      <td>E10+</td>\n",
       "      <td>55.37</td>\n",
       "    </tr>\n",
       "    <tr>\n",
       "      <td>unknown</td>\n",
       "      <td>91.50</td>\n",
       "    </tr>\n",
       "    <tr>\n",
       "      <td>E</td>\n",
       "      <td>113.03</td>\n",
       "    </tr>\n",
       "    <tr>\n",
       "      <td>M</td>\n",
       "      <td>193.96</td>\n",
       "    </tr>\n",
       "  </tbody>\n",
       "</table>\n",
       "</div>"
      ],
      "text/plain": [
       "         eu_sales\n",
       "rating           \n",
       "T           52.96\n",
       "E10+        55.37\n",
       "unknown     91.50\n",
       "E          113.03\n",
       "M          193.96"
      ]
     },
     "metadata": {},
     "output_type": "display_data"
    }
   ],
   "source": [
    "#посмотрим, как влияет рейтинг ESRB на продажи в Европе\n",
    "data_rating_eu = data_actual.groupby('rating').agg({'eu_sales': 'sum'}).sort_values(by='eu_sales')\n",
    "display(data_rating_eu)\n"
   ]
  },
  {
   "cell_type": "code",
   "execution_count": 56,
   "metadata": {},
   "outputs": [
    {
     "data": {
      "text/plain": [
       "<matplotlib.axes._subplots.AxesSubplot at 0x7fb1cab2ebd0>"
      ]
     },
     "execution_count": 56,
     "metadata": {},
     "output_type": "execute_result"
    },
    {
     "data": {
      "image/png": "[encoded data removed]",
      "text/plain": [
       "<Figure size 648x648 with 1 Axes>"
      ]
     },
     "metadata": {
      "needs_background": "light"
     },
     "output_type": "display_data"
    }
   ],
   "source": [
    "#Построим график с показателями сумм продаж для каждой категории\n",
    "data_actual.groupby('rating')['eu_sales'].sum().sort_values(ascending=False).plot(kind='bar',\n",
    "    title='Зависимость продаж от рейтинга и возрастной категории игр в Европе', color=('green'), figsize=(9, 9))"
   ]
  },
  {
   "cell_type": "markdown",
   "metadata": {},
   "source": [
    "**Вывод**\n",
    "\n",
    "В Европе, в отличие от Северной Америки, лидируют платформы ps4 и ps3, а североамериканский лидер  - платформа x360 - находится лишь на третьей позиции. Также в этом регионе, как и в Северной Америке, пользователи больше предпочитают жанры экшн, стрелялки и спортивные соревнования. \n",
    "\n",
    "Аналогично Северной Америке в Европе и распределение по рейтингу ESRB: на первых позициях по продажам идут игры для взрослой категории («M» («Mature») — «От 17 лет») или «E» («Everyone») — «Для всех»). Игры для детей («E10+» («Everyone 10 and older») — «Для всех старше 10 лет») и для подростков («T» («Teen») — «Подросткам 13—19 лет») замыкают рейтинг.\n"
   ]
  },
  {
   "cell_type": "markdown",
   "metadata": {},
   "source": [
    "###  Пользователь региона Япония (JP)"
   ]
  },
  {
   "cell_type": "code",
   "execution_count": 57,
   "metadata": {},
   "outputs": [
    {
     "data": {
      "text/plain": [
       "<matplotlib.axes._subplots.AxesSubplot at 0x7fb1cab6cd50>"
      ]
     },
     "execution_count": 57,
     "metadata": {},
     "output_type": "execute_result"
    },
    {
     "data": {
      "image/png": "[encoded data removed]",
      "text/plain": [
       "<Figure size 648x648 with 1 Axes>"
      ]
     },
     "metadata": {
      "needs_background": "light"
     },
     "output_type": "display_data"
    }
   ],
   "source": [
    "#Построим график с показателями сумм продаж для каждой платформы в Японии\n",
    "\n",
    "data_actual.groupby('platform')['jp_sales'].sum().sort_values(ascending=False).plot(kind='bar',\n",
    "    title='Платформы в Японии', color=('yellow'), figsize=(9, 9))"
   ]
  },
  {
   "cell_type": "code",
   "execution_count": 58,
   "metadata": {},
   "outputs": [
    {
     "data": {
      "text/html": [
       "<div>\n",
       "<style scoped>\n",
       "    .dataframe tbody tr th:only-of-type {\n",
       "        vertical-align: middle;\n",
       "    }\n",
       "\n",
       "    .dataframe tbody tr th {\n",
       "        vertical-align: top;\n",
       "    }\n",
       "\n",
       "    .dataframe thead th {\n",
       "        text-align: right;\n",
       "    }\n",
       "</style>\n",
       "<table border=\"1\" class=\"dataframe\">\n",
       "  <thead>\n",
       "    <tr style=\"text-align: right;\">\n",
       "      <th></th>\n",
       "      <th>jp_sales</th>\n",
       "    </tr>\n",
       "    <tr>\n",
       "      <th>platform</th>\n",
       "      <th></th>\n",
       "    </tr>\n",
       "  </thead>\n",
       "  <tbody>\n",
       "    <tr>\n",
       "      <td>wiiu</td>\n",
       "      <td>13.01</td>\n",
       "    </tr>\n",
       "    <tr>\n",
       "      <td>ps4</td>\n",
       "      <td>15.96</td>\n",
       "    </tr>\n",
       "    <tr>\n",
       "      <td>psv</td>\n",
       "      <td>21.04</td>\n",
       "    </tr>\n",
       "    <tr>\n",
       "      <td>ps3</td>\n",
       "      <td>35.29</td>\n",
       "    </tr>\n",
       "    <tr>\n",
       "      <td>3ds</td>\n",
       "      <td>87.79</td>\n",
       "    </tr>\n",
       "  </tbody>\n",
       "</table>\n",
       "</div>"
      ],
      "text/plain": [
       "          jp_sales\n",
       "platform          \n",
       "wiiu         13.01\n",
       "ps4          15.96\n",
       "psv          21.04\n",
       "ps3          35.29\n",
       "3ds          87.79"
      ]
     },
     "metadata": {},
     "output_type": "display_data"
    }
   ],
   "source": [
    "# Самые популярные платформы (топ-5) в Японии\n",
    "jp_data = data_actual.groupby('platform').agg({'jp_sales': 'sum'}).sort_values(by='jp_sales').tail()\n",
    "display(jp_data)"
   ]
  },
  {
   "cell_type": "code",
   "execution_count": 59,
   "metadata": {},
   "outputs": [
    {
     "data": {
      "text/html": [
       "<div>\n",
       "<style scoped>\n",
       "    .dataframe tbody tr th:only-of-type {\n",
       "        vertical-align: middle;\n",
       "    }\n",
       "\n",
       "    .dataframe tbody tr th {\n",
       "        vertical-align: top;\n",
       "    }\n",
       "\n",
       "    .dataframe thead th {\n",
       "        text-align: right;\n",
       "    }\n",
       "</style>\n",
       "<table border=\"1\" class=\"dataframe\">\n",
       "  <thead>\n",
       "    <tr style=\"text-align: right;\">\n",
       "      <th></th>\n",
       "      <th>jp_sales</th>\n",
       "    </tr>\n",
       "    <tr>\n",
       "      <th>genre</th>\n",
       "      <th></th>\n",
       "    </tr>\n",
       "  </thead>\n",
       "  <tbody>\n",
       "    <tr>\n",
       "      <td>fighting</td>\n",
       "      <td>9.44</td>\n",
       "    </tr>\n",
       "    <tr>\n",
       "      <td>simulation</td>\n",
       "      <td>10.41</td>\n",
       "    </tr>\n",
       "    <tr>\n",
       "      <td>misc</td>\n",
       "      <td>12.86</td>\n",
       "    </tr>\n",
       "    <tr>\n",
       "      <td>action</td>\n",
       "      <td>52.80</td>\n",
       "    </tr>\n",
       "    <tr>\n",
       "      <td>role-playing</td>\n",
       "      <td>65.44</td>\n",
       "    </tr>\n",
       "  </tbody>\n",
       "</table>\n",
       "</div>"
      ],
      "text/plain": [
       "              jp_sales\n",
       "genre                 \n",
       "fighting          9.44\n",
       "simulation       10.41\n",
       "misc             12.86\n",
       "action           52.80\n",
       "role-playing     65.44"
      ]
     },
     "metadata": {},
     "output_type": "display_data"
    }
   ],
   "source": [
    "# Самые популярные жанры (топ-5) в Японии\n",
    "jp_data_genre = data_actual.groupby('genre').agg({'jp_sales': 'sum'}).sort_values(by='jp_sales').tail()\n",
    "display(jp_data_genre)"
   ]
  },
  {
   "cell_type": "code",
   "execution_count": 60,
   "metadata": {},
   "outputs": [
    {
     "data": {
      "text/html": [
       "<div>\n",
       "<style scoped>\n",
       "    .dataframe tbody tr th:only-of-type {\n",
       "        vertical-align: middle;\n",
       "    }\n",
       "\n",
       "    .dataframe tbody tr th {\n",
       "        vertical-align: top;\n",
       "    }\n",
       "\n",
       "    .dataframe thead th {\n",
       "        text-align: right;\n",
       "    }\n",
       "</style>\n",
       "<table border=\"1\" class=\"dataframe\">\n",
       "  <thead>\n",
       "    <tr style=\"text-align: right;\">\n",
       "      <th></th>\n",
       "      <th>jp_sales</th>\n",
       "    </tr>\n",
       "    <tr>\n",
       "      <th>rating</th>\n",
       "      <th></th>\n",
       "    </tr>\n",
       "  </thead>\n",
       "  <tbody>\n",
       "    <tr>\n",
       "      <td>E10+</td>\n",
       "      <td>8.19</td>\n",
       "    </tr>\n",
       "    <tr>\n",
       "      <td>M</td>\n",
       "      <td>21.20</td>\n",
       "    </tr>\n",
       "    <tr>\n",
       "      <td>T</td>\n",
       "      <td>26.02</td>\n",
       "    </tr>\n",
       "    <tr>\n",
       "      <td>E</td>\n",
       "      <td>28.33</td>\n",
       "    </tr>\n",
       "    <tr>\n",
       "      <td>unknown</td>\n",
       "      <td>108.84</td>\n",
       "    </tr>\n",
       "  </tbody>\n",
       "</table>\n",
       "</div>"
      ],
      "text/plain": [
       "         jp_sales\n",
       "rating           \n",
       "E10+         8.19\n",
       "M           21.20\n",
       "T           26.02\n",
       "E           28.33\n",
       "unknown    108.84"
      ]
     },
     "metadata": {},
     "output_type": "display_data"
    }
   ],
   "source": [
    "#посмотрим, как влияет рейтинг ESRB на продажи в Японии\n",
    "data_rating_jp = data_actual.groupby('rating').agg({'jp_sales': 'sum'}).sort_values(by='jp_sales')\n",
    "display(data_rating_jp)"
   ]
  },
  {
   "cell_type": "code",
   "execution_count": 61,
   "metadata": {},
   "outputs": [
    {
     "data": {
      "text/plain": [
       "<matplotlib.axes._subplots.AxesSubplot at 0x7fb1ca807d10>"
      ]
     },
     "execution_count": 61,
     "metadata": {},
     "output_type": "execute_result"
    },
    {
     "data": {
      "image/png": "[encoded data removed]",
      "text/plain": [
       "<Figure size 648x648 with 1 Axes>"
      ]
     },
     "metadata": {
      "needs_background": "light"
     },
     "output_type": "display_data"
    }
   ],
   "source": [
    "#Построим график с показателями сумм продаж для каждой категории\n",
    "data_actual.groupby('rating')['jp_sales'].sum().sort_values(ascending=False).plot(kind='bar',\n",
    "    title='Зависимость продаж от рейтинга и возрастной категории игр в Японии', color=('yellow'), figsize=(9, 9))"
   ]
  },
  {
   "cell_type": "markdown",
   "metadata": {},
   "source": [
    "**Вывод**\n",
    "\n",
    "Показатели пользователей компьютерных игр в Японии сильно отличаются от Европы и Северной Америки. Так, здесь сменилась лидирующая тройка платформ (3ds, ps3, psv). Например, североамериканский лидер  - платформа x360 - занимает очень скромную 9 позицию. \n",
    "\n",
    "Также в этом регионе сменился и лидеры жанров компьютерных игр - ролевые игры японцы предпочитают больше, чем жанр экшн, а стрелялки и спортивные соревнования, популярные в западном мире, здесь даже не попали в топ-5.\n",
    "\n",
    "Сложно что-то сказать о ESRB, так как лидирующая категория неизвестна. Примечательно, что игры для подростков («T» («Teen») — «Подросткам 13—19 лет») - здесь обгоняют игры для взрослой категории («M» («Mature») — «От 17 лет») и для детей («E10+» («Everyone 10 and older») — «Для всех старше 10 лет»).\n",
    "\n",
    "При этом в Японии действуют свои системы возрастных классификаций для игр (Computer Entertainment Rating Organization (CERO) и Ethics Organization of Computer Software (EOCS). Поэтому в данном случае, ESRB нельзя считать показательным для этого региона."
   ]
  },
  {
   "cell_type": "markdown",
   "metadata": {},
   "source": [
    "## Проверка гипотез"
   ]
  },
  {
   "cell_type": "markdown",
   "metadata": {},
   "source": [
    "### Средние пользовательские рейтинги платформ Xbox One и PC\n",
    "\n",
    "**Нулевая гипотеза:** средние пользовательские рейтинги платформ Xbox One и PC одинаковые;\n",
    "\n",
    "**Альтернативная гипотеза:** средние пользовательские рейтинги платформ Xbox One и PC не одинаковые.\n",
    "\n",
    "***Примечание: H₀ всегда формулируется так, чтобы использовать знак равенства. Другими словами, чтобы все значения, полученные эмпирически, не были экстремальными, а лежали там, где ожидаем их найти. Например, если мы исследуем, не увеличилась ли величина, то нулевая гипотеза будет звучать: «нет, не увеличилась». Если выясняем, есть ли разница между совокупностями, то нулевая гипотеза будет такая: «нет, разницы нет, то есть исследуемые параметры равны».***"
   ]
  },
  {
   "cell_type": "code",
   "execution_count": 62,
   "metadata": {},
   "outputs": [
    {
     "data": {
      "text/html": [
       "<div>\n",
       "<style scoped>\n",
       "    .dataframe tbody tr th:only-of-type {\n",
       "        vertical-align: middle;\n",
       "    }\n",
       "\n",
       "    .dataframe tbody tr th {\n",
       "        vertical-align: top;\n",
       "    }\n",
       "\n",
       "    .dataframe thead th {\n",
       "        text-align: right;\n",
       "    }\n",
       "</style>\n",
       "<table border=\"1\" class=\"dataframe\">\n",
       "  <thead>\n",
       "    <tr style=\"text-align: right;\">\n",
       "      <th></th>\n",
       "      <th>name</th>\n",
       "      <th>platform</th>\n",
       "      <th>year_of_release</th>\n",
       "      <th>genre</th>\n",
       "      <th>na_sales</th>\n",
       "      <th>eu_sales</th>\n",
       "      <th>jp_sales</th>\n",
       "      <th>other_sales</th>\n",
       "      <th>critic_score</th>\n",
       "      <th>user_score</th>\n",
       "      <th>rating</th>\n",
       "      <th>year</th>\n",
       "      <th>union_sales</th>\n",
       "    </tr>\n",
       "  </thead>\n",
       "  <tbody>\n",
       "    <tr>\n",
       "      <td>0</td>\n",
       "      <td>call of duty: black ops 3</td>\n",
       "      <td>xone</td>\n",
       "      <td>2015-01-01</td>\n",
       "      <td>shooter</td>\n",
       "      <td>4.59</td>\n",
       "      <td>2.11</td>\n",
       "      <td>0.01</td>\n",
       "      <td>0.68</td>\n",
       "      <td>nan</td>\n",
       "      <td>nan</td>\n",
       "      <td>unknown</td>\n",
       "      <td>2,015.00</td>\n",
       "      <td>7.39</td>\n",
       "    </tr>\n",
       "    <tr>\n",
       "      <td>1</td>\n",
       "      <td>grand theft auto v</td>\n",
       "      <td>xone</td>\n",
       "      <td>2014-01-01</td>\n",
       "      <td>action</td>\n",
       "      <td>2.81</td>\n",
       "      <td>2.19</td>\n",
       "      <td>0.00</td>\n",
       "      <td>0.47</td>\n",
       "      <td>97.00</td>\n",
       "      <td>7.90</td>\n",
       "      <td>M</td>\n",
       "      <td>2,014.00</td>\n",
       "      <td>5.47</td>\n",
       "    </tr>\n",
       "    <tr>\n",
       "      <td>2</td>\n",
       "      <td>call of duty: advanced warfare</td>\n",
       "      <td>xone</td>\n",
       "      <td>2014-01-01</td>\n",
       "      <td>shooter</td>\n",
       "      <td>3.22</td>\n",
       "      <td>1.55</td>\n",
       "      <td>0.01</td>\n",
       "      <td>0.48</td>\n",
       "      <td>81.00</td>\n",
       "      <td>5.40</td>\n",
       "      <td>M</td>\n",
       "      <td>2,014.00</td>\n",
       "      <td>5.26</td>\n",
       "    </tr>\n",
       "    <tr>\n",
       "      <td>3</td>\n",
       "      <td>halo 5: guardians</td>\n",
       "      <td>xone</td>\n",
       "      <td>2015-01-01</td>\n",
       "      <td>shooter</td>\n",
       "      <td>2.78</td>\n",
       "      <td>1.27</td>\n",
       "      <td>0.03</td>\n",
       "      <td>0.41</td>\n",
       "      <td>84.00</td>\n",
       "      <td>6.40</td>\n",
       "      <td>T</td>\n",
       "      <td>2,015.00</td>\n",
       "      <td>4.49</td>\n",
       "    </tr>\n",
       "    <tr>\n",
       "      <td>4</td>\n",
       "      <td>fallout 4</td>\n",
       "      <td>xone</td>\n",
       "      <td>2015-01-01</td>\n",
       "      <td>role-playing</td>\n",
       "      <td>2.51</td>\n",
       "      <td>1.32</td>\n",
       "      <td>0.01</td>\n",
       "      <td>0.38</td>\n",
       "      <td>88.00</td>\n",
       "      <td>6.20</td>\n",
       "      <td>M</td>\n",
       "      <td>2,015.00</td>\n",
       "      <td>4.22</td>\n",
       "    </tr>\n",
       "  </tbody>\n",
       "</table>\n",
       "</div>"
      ],
      "text/plain": [
       "                             name platform year_of_release         genre  \\\n",
       "0       call of duty: black ops 3     xone      2015-01-01       shooter   \n",
       "1              grand theft auto v     xone      2014-01-01        action   \n",
       "2  call of duty: advanced warfare     xone      2014-01-01       shooter   \n",
       "3               halo 5: guardians     xone      2015-01-01       shooter   \n",
       "4                       fallout 4     xone      2015-01-01  role-playing   \n",
       "\n",
       "   na_sales  eu_sales  jp_sales  other_sales  critic_score  user_score  \\\n",
       "0      4.59      2.11      0.01         0.68           nan         nan   \n",
       "1      2.81      2.19      0.00         0.47         97.00        7.90   \n",
       "2      3.22      1.55      0.01         0.48         81.00        5.40   \n",
       "3      2.78      1.27      0.03         0.41         84.00        6.40   \n",
       "4      2.51      1.32      0.01         0.38         88.00        6.20   \n",
       "\n",
       "    rating     year  union_sales  \n",
       "0  unknown 2,015.00         7.39  \n",
       "1        M 2,014.00         5.47  \n",
       "2        M 2,014.00         5.26  \n",
       "3        T 2,015.00         4.49  \n",
       "4        M 2,015.00         4.22  "
      ]
     },
     "execution_count": 62,
     "metadata": {},
     "output_type": "execute_result"
    }
   ],
   "source": [
    "#создадим таблицу для платформы Xbox One\n",
    "\n",
    "xbox_one = data_actual[data_actual['platform'] == 'xone'].reset_index(drop=True)\n",
    "\n",
    "xbox_one.head()"
   ]
  },
  {
   "cell_type": "code",
   "execution_count": 63,
   "metadata": {},
   "outputs": [
    {
     "data": {
      "text/plain": [
       "0"
      ]
     },
     "execution_count": 63,
     "metadata": {},
     "output_type": "execute_result"
    }
   ],
   "source": [
    "#соберем значения пользовательского рейтинга для платформы Xbox One и избавимся от пропусков\n",
    "xbox_one_user_score = xbox_one['user_score'].dropna()\n",
    "xbox_one_user_score.isna().sum()"
   ]
  },
  {
   "cell_type": "code",
   "execution_count": 64,
   "metadata": {},
   "outputs": [
    {
     "data": {
      "text/html": [
       "<div>\n",
       "<style scoped>\n",
       "    .dataframe tbody tr th:only-of-type {\n",
       "        vertical-align: middle;\n",
       "    }\n",
       "\n",
       "    .dataframe tbody tr th {\n",
       "        vertical-align: top;\n",
       "    }\n",
       "\n",
       "    .dataframe thead th {\n",
       "        text-align: right;\n",
       "    }\n",
       "</style>\n",
       "<table border=\"1\" class=\"dataframe\">\n",
       "  <thead>\n",
       "    <tr style=\"text-align: right;\">\n",
       "      <th></th>\n",
       "      <th>name</th>\n",
       "      <th>platform</th>\n",
       "      <th>year_of_release</th>\n",
       "      <th>genre</th>\n",
       "      <th>na_sales</th>\n",
       "      <th>eu_sales</th>\n",
       "      <th>jp_sales</th>\n",
       "      <th>other_sales</th>\n",
       "      <th>critic_score</th>\n",
       "      <th>user_score</th>\n",
       "      <th>rating</th>\n",
       "      <th>year</th>\n",
       "      <th>union_sales</th>\n",
       "    </tr>\n",
       "  </thead>\n",
       "  <tbody>\n",
       "    <tr>\n",
       "      <td>0</td>\n",
       "      <td>diablo iii</td>\n",
       "      <td>pc</td>\n",
       "      <td>2012-01-01</td>\n",
       "      <td>role-playing</td>\n",
       "      <td>2.44</td>\n",
       "      <td>2.16</td>\n",
       "      <td>0.00</td>\n",
       "      <td>0.54</td>\n",
       "      <td>88.00</td>\n",
       "      <td>4.00</td>\n",
       "      <td>M</td>\n",
       "      <td>2,012.00</td>\n",
       "      <td>5.14</td>\n",
       "    </tr>\n",
       "    <tr>\n",
       "      <td>1</td>\n",
       "      <td>the sims 4</td>\n",
       "      <td>pc</td>\n",
       "      <td>2014-01-01</td>\n",
       "      <td>simulation</td>\n",
       "      <td>1.00</td>\n",
       "      <td>1.82</td>\n",
       "      <td>0.00</td>\n",
       "      <td>0.23</td>\n",
       "      <td>70.00</td>\n",
       "      <td>3.90</td>\n",
       "      <td>T</td>\n",
       "      <td>2,014.00</td>\n",
       "      <td>3.05</td>\n",
       "    </tr>\n",
       "    <tr>\n",
       "      <td>2</td>\n",
       "      <td>guild wars 2</td>\n",
       "      <td>pc</td>\n",
       "      <td>2012-01-01</td>\n",
       "      <td>action</td>\n",
       "      <td>0.96</td>\n",
       "      <td>1.07</td>\n",
       "      <td>0.00</td>\n",
       "      <td>0.27</td>\n",
       "      <td>90.00</td>\n",
       "      <td>7.90</td>\n",
       "      <td>T</td>\n",
       "      <td>2,012.00</td>\n",
       "      <td>2.30</td>\n",
       "    </tr>\n",
       "    <tr>\n",
       "      <td>3</td>\n",
       "      <td>world of warcraft: mists of pandaria</td>\n",
       "      <td>pc</td>\n",
       "      <td>2012-01-01</td>\n",
       "      <td>role-playing</td>\n",
       "      <td>0.84</td>\n",
       "      <td>0.76</td>\n",
       "      <td>0.00</td>\n",
       "      <td>0.22</td>\n",
       "      <td>82.00</td>\n",
       "      <td>4.80</td>\n",
       "      <td>T</td>\n",
       "      <td>2,012.00</td>\n",
       "      <td>1.82</td>\n",
       "    </tr>\n",
       "    <tr>\n",
       "      <td>4</td>\n",
       "      <td>starcraft ii: heart of the swarm</td>\n",
       "      <td>pc</td>\n",
       "      <td>2013-01-01</td>\n",
       "      <td>strategy</td>\n",
       "      <td>0.83</td>\n",
       "      <td>0.66</td>\n",
       "      <td>0.00</td>\n",
       "      <td>0.18</td>\n",
       "      <td>86.00</td>\n",
       "      <td>7.90</td>\n",
       "      <td>T</td>\n",
       "      <td>2,013.00</td>\n",
       "      <td>1.67</td>\n",
       "    </tr>\n",
       "  </tbody>\n",
       "</table>\n",
       "</div>"
      ],
      "text/plain": [
       "                                   name platform year_of_release  \\\n",
       "0                            diablo iii       pc      2012-01-01   \n",
       "1                            the sims 4       pc      2014-01-01   \n",
       "2                          guild wars 2       pc      2012-01-01   \n",
       "3  world of warcraft: mists of pandaria       pc      2012-01-01   \n",
       "4      starcraft ii: heart of the swarm       pc      2013-01-01   \n",
       "\n",
       "          genre  na_sales  eu_sales  jp_sales  other_sales  critic_score  \\\n",
       "0  role-playing      2.44      2.16      0.00         0.54         88.00   \n",
       "1    simulation      1.00      1.82      0.00         0.23         70.00   \n",
       "2        action      0.96      1.07      0.00         0.27         90.00   \n",
       "3  role-playing      0.84      0.76      0.00         0.22         82.00   \n",
       "4      strategy      0.83      0.66      0.00         0.18         86.00   \n",
       "\n",
       "   user_score rating     year  union_sales  \n",
       "0        4.00      M 2,012.00         5.14  \n",
       "1        3.90      T 2,014.00         3.05  \n",
       "2        7.90      T 2,012.00         2.30  \n",
       "3        4.80      T 2,012.00         1.82  \n",
       "4        7.90      T 2,013.00         1.67  "
      ]
     },
     "execution_count": 64,
     "metadata": {},
     "output_type": "execute_result"
    }
   ],
   "source": [
    "#создадим таблицу для платформы PC\n",
    "\n",
    "pc_platform = data_actual[data_actual['platform'] == 'pc'].reset_index(drop=True)\n",
    "\n",
    "pc_platform.head()"
   ]
  },
  {
   "cell_type": "code",
   "execution_count": 65,
   "metadata": {},
   "outputs": [
    {
     "data": {
      "text/plain": [
       "0"
      ]
     },
     "execution_count": 65,
     "metadata": {},
     "output_type": "execute_result"
    }
   ],
   "source": [
    "#соберем значения пользовательского рейтинга для платформы PC и избавимся от пропусков\n",
    "\n",
    "pc_platform_user_score = pc_platform['user_score'].dropna()\n",
    "pc_platform_user_score.isna().sum()"
   ]
  },
  {
   "cell_type": "code",
   "execution_count": 66,
   "metadata": {},
   "outputs": [
    {
     "name": "stdout",
     "output_type": "stream",
     "text": [
      "p-значение:  0.5535080500643661\n",
      "Не получилось отвергнуть нулевую гипотезу\n"
     ]
    }
   ],
   "source": [
    "alpha = 0.05\n",
    "results = st.ttest_ind(xbox_one_user_score, pc_platform_user_score)\n",
    "\n",
    "print('p-значение: ', results.pvalue)\n",
    "\n",
    "if results.pvalue < alpha:\n",
    "    print(\"Отвергаем нулевую гипотезу\")\n",
    "else:\n",
    "    print(\"Не получилось отвергнуть нулевую гипотезу\")"
   ]
  },
  {
   "cell_type": "code",
   "execution_count": 67,
   "metadata": {},
   "outputs": [
    {
     "name": "stdout",
     "output_type": "stream",
     "text": [
      "Средний рейтинг пользователей платформы Xbox One равен: 6.5\n",
      "Средний рейтинг пользователей платформы PC равен: 6.4\n"
     ]
    }
   ],
   "source": [
    "#проверим полученные данные, рассчитаем среднее пользовательского рейтинга для каждой платформы \n",
    "print('Средний рейтинг пользователей платформы Xbox One равен: {:.1f}'.format(xbox_one_user_score.mean()))\n",
    "print('Средний рейтинг пользователей платформы PC равен: {:.1f}'.format(pc_platform_user_score.mean()))"
   ]
  },
  {
   "cell_type": "code",
   "execution_count": 68,
   "metadata": {},
   "outputs": [
    {
     "name": "stdout",
     "output_type": "stream",
     "text": [
      "Медиана рейтинга пользователей платформы Xbox One равна: 6.8\n",
      "Медиана рейтинга пользователей платформы PC равна: 6.8\n"
     ]
    }
   ],
   "source": [
    "#проверим полученные данные, рассчитаем среднее пользовательского рейтинга для каждой платформы\n",
    "print('Медиана рейтинга пользователей платформы Xbox One равна: {:.1f}'.format(xbox_one_user_score.median()))\n",
    "print('Медиана рейтинга пользователей платформы PC равна: {:.1f}'.format(pc_platform_user_score.median()))"
   ]
  },
  {
   "cell_type": "markdown",
   "metadata": {},
   "source": [
    "**Вывод**\n",
    "\n",
    "Нам не удалось опровергнуть нулевую гипотезу - средние пользовательские рейтинги платформ Xbox One и PC одинаковые - то есть рейтинги и правда, одинаковые. Мы это также доказали в ходе проверки, вычислив по данным среднее и медиану."
   ]
  },
  {
   "cell_type": "markdown",
   "metadata": {},
   "source": [
    "### Средние пользовательские рейтинги жанров Action (англ. «действие», экшен-игры) и Sports (англ. «спортивные соревнования»)\n",
    "\n",
    "**Нулевая гипотеза:** средние пользовательские рейтинги жанров Action (англ. «действие», экшен-игры) и Sports (англ. «спортивные соревнования») одинаковые;\n",
    "\n",
    "**Альтернативная гипотеза:** средние пользовательские рейтинги жанров Action (англ. «действие», экшен-игры) и Sports (англ. «спортивные соревнования») разные."
   ]
  },
  {
   "cell_type": "code",
   "execution_count": 69,
   "metadata": {},
   "outputs": [
    {
     "data": {
      "text/html": [
       "<div>\n",
       "<style scoped>\n",
       "    .dataframe tbody tr th:only-of-type {\n",
       "        vertical-align: middle;\n",
       "    }\n",
       "\n",
       "    .dataframe tbody tr th {\n",
       "        vertical-align: top;\n",
       "    }\n",
       "\n",
       "    .dataframe thead th {\n",
       "        text-align: right;\n",
       "    }\n",
       "</style>\n",
       "<table border=\"1\" class=\"dataframe\">\n",
       "  <thead>\n",
       "    <tr style=\"text-align: right;\">\n",
       "      <th></th>\n",
       "      <th>name</th>\n",
       "      <th>platform</th>\n",
       "      <th>year_of_release</th>\n",
       "      <th>genre</th>\n",
       "      <th>na_sales</th>\n",
       "      <th>eu_sales</th>\n",
       "      <th>jp_sales</th>\n",
       "      <th>other_sales</th>\n",
       "      <th>critic_score</th>\n",
       "      <th>user_score</th>\n",
       "      <th>rating</th>\n",
       "      <th>year</th>\n",
       "      <th>union_sales</th>\n",
       "    </tr>\n",
       "  </thead>\n",
       "  <tbody>\n",
       "    <tr>\n",
       "      <td>0</td>\n",
       "      <td>grand theft auto v</td>\n",
       "      <td>ps3</td>\n",
       "      <td>2013-01-01</td>\n",
       "      <td>action</td>\n",
       "      <td>7.02</td>\n",
       "      <td>9.09</td>\n",
       "      <td>0.98</td>\n",
       "      <td>3.96</td>\n",
       "      <td>97.00</td>\n",
       "      <td>8.20</td>\n",
       "      <td>M</td>\n",
       "      <td>2,013.00</td>\n",
       "      <td>21.05</td>\n",
       "    </tr>\n",
       "    <tr>\n",
       "      <td>1</td>\n",
       "      <td>grand theft auto v</td>\n",
       "      <td>x360</td>\n",
       "      <td>2013-01-01</td>\n",
       "      <td>action</td>\n",
       "      <td>9.66</td>\n",
       "      <td>5.14</td>\n",
       "      <td>0.06</td>\n",
       "      <td>1.41</td>\n",
       "      <td>97.00</td>\n",
       "      <td>8.10</td>\n",
       "      <td>M</td>\n",
       "      <td>2,013.00</td>\n",
       "      <td>16.27</td>\n",
       "    </tr>\n",
       "    <tr>\n",
       "      <td>2</td>\n",
       "      <td>grand theft auto v</td>\n",
       "      <td>ps4</td>\n",
       "      <td>2014-01-01</td>\n",
       "      <td>action</td>\n",
       "      <td>3.96</td>\n",
       "      <td>6.31</td>\n",
       "      <td>0.38</td>\n",
       "      <td>1.97</td>\n",
       "      <td>97.00</td>\n",
       "      <td>8.30</td>\n",
       "      <td>M</td>\n",
       "      <td>2,014.00</td>\n",
       "      <td>12.62</td>\n",
       "    </tr>\n",
       "    <tr>\n",
       "      <td>3</td>\n",
       "      <td>fifa soccer 13</td>\n",
       "      <td>ps3</td>\n",
       "      <td>2012-01-01</td>\n",
       "      <td>action</td>\n",
       "      <td>1.06</td>\n",
       "      <td>5.01</td>\n",
       "      <td>0.13</td>\n",
       "      <td>1.97</td>\n",
       "      <td>88.00</td>\n",
       "      <td>6.60</td>\n",
       "      <td>E</td>\n",
       "      <td>2,012.00</td>\n",
       "      <td>8.17</td>\n",
       "    </tr>\n",
       "    <tr>\n",
       "      <td>4</td>\n",
       "      <td>assassin's creed iii</td>\n",
       "      <td>ps3</td>\n",
       "      <td>2012-01-01</td>\n",
       "      <td>action</td>\n",
       "      <td>2.64</td>\n",
       "      <td>2.52</td>\n",
       "      <td>0.16</td>\n",
       "      <td>1.12</td>\n",
       "      <td>85.00</td>\n",
       "      <td>6.90</td>\n",
       "      <td>M</td>\n",
       "      <td>2,012.00</td>\n",
       "      <td>6.44</td>\n",
       "    </tr>\n",
       "  </tbody>\n",
       "</table>\n",
       "</div>"
      ],
      "text/plain": [
       "                   name platform year_of_release   genre  na_sales  eu_sales  \\\n",
       "0    grand theft auto v      ps3      2013-01-01  action      7.02      9.09   \n",
       "1    grand theft auto v     x360      2013-01-01  action      9.66      5.14   \n",
       "2    grand theft auto v      ps4      2014-01-01  action      3.96      6.31   \n",
       "3        fifa soccer 13      ps3      2012-01-01  action      1.06      5.01   \n",
       "4  assassin's creed iii      ps3      2012-01-01  action      2.64      2.52   \n",
       "\n",
       "   jp_sales  other_sales  critic_score  user_score rating     year  \\\n",
       "0      0.98         3.96         97.00        8.20      M 2,013.00   \n",
       "1      0.06         1.41         97.00        8.10      M 2,013.00   \n",
       "2      0.38         1.97         97.00        8.30      M 2,014.00   \n",
       "3      0.13         1.97         88.00        6.60      E 2,012.00   \n",
       "4      0.16         1.12         85.00        6.90      M 2,012.00   \n",
       "\n",
       "   union_sales  \n",
       "0        21.05  \n",
       "1        16.27  \n",
       "2        12.62  \n",
       "3         8.17  \n",
       "4         6.44  "
      ]
     },
     "execution_count": 69,
     "metadata": {},
     "output_type": "execute_result"
    }
   ],
   "source": [
    "#создадим таблицу для жанра Action\n",
    "\n",
    "action_data = data_actual[data_actual['genre'] == 'action'].reset_index(drop=True)\n",
    "\n",
    "action_data.head()"
   ]
  },
  {
   "cell_type": "code",
   "execution_count": 70,
   "metadata": {},
   "outputs": [
    {
     "data": {
      "text/plain": [
       "0"
      ]
     },
     "execution_count": 70,
     "metadata": {},
     "output_type": "execute_result"
    }
   ],
   "source": [
    "#соберем значения пользовательского рейтинга для жанра Action и избавимся от пропусков\n",
    "action_data_user_score = action_data['user_score'].dropna()\n",
    "action_data_user_score.isna().sum()"
   ]
  },
  {
   "cell_type": "code",
   "execution_count": 71,
   "metadata": {},
   "outputs": [
    {
     "data": {
      "text/html": [
       "<div>\n",
       "<style scoped>\n",
       "    .dataframe tbody tr th:only-of-type {\n",
       "        vertical-align: middle;\n",
       "    }\n",
       "\n",
       "    .dataframe tbody tr th {\n",
       "        vertical-align: top;\n",
       "    }\n",
       "\n",
       "    .dataframe thead th {\n",
       "        text-align: right;\n",
       "    }\n",
       "</style>\n",
       "<table border=\"1\" class=\"dataframe\">\n",
       "  <thead>\n",
       "    <tr style=\"text-align: right;\">\n",
       "      <th></th>\n",
       "      <th>name</th>\n",
       "      <th>platform</th>\n",
       "      <th>year_of_release</th>\n",
       "      <th>genre</th>\n",
       "      <th>na_sales</th>\n",
       "      <th>eu_sales</th>\n",
       "      <th>jp_sales</th>\n",
       "      <th>other_sales</th>\n",
       "      <th>critic_score</th>\n",
       "      <th>user_score</th>\n",
       "      <th>rating</th>\n",
       "      <th>year</th>\n",
       "      <th>union_sales</th>\n",
       "    </tr>\n",
       "  </thead>\n",
       "  <tbody>\n",
       "    <tr>\n",
       "      <td>0</td>\n",
       "      <td>fifa 16</td>\n",
       "      <td>ps4</td>\n",
       "      <td>2015-01-01</td>\n",
       "      <td>sports</td>\n",
       "      <td>1.12</td>\n",
       "      <td>6.12</td>\n",
       "      <td>0.06</td>\n",
       "      <td>1.28</td>\n",
       "      <td>82.00</td>\n",
       "      <td>4.30</td>\n",
       "      <td>E</td>\n",
       "      <td>2,015.00</td>\n",
       "      <td>8.58</td>\n",
       "    </tr>\n",
       "    <tr>\n",
       "      <td>1</td>\n",
       "      <td>fifa 17</td>\n",
       "      <td>ps4</td>\n",
       "      <td>2016-01-01</td>\n",
       "      <td>sports</td>\n",
       "      <td>0.66</td>\n",
       "      <td>5.75</td>\n",
       "      <td>0.08</td>\n",
       "      <td>1.11</td>\n",
       "      <td>85.00</td>\n",
       "      <td>5.00</td>\n",
       "      <td>E</td>\n",
       "      <td>2,016.00</td>\n",
       "      <td>7.60</td>\n",
       "    </tr>\n",
       "    <tr>\n",
       "      <td>2</td>\n",
       "      <td>fifa 14</td>\n",
       "      <td>ps3</td>\n",
       "      <td>2013-01-01</td>\n",
       "      <td>sports</td>\n",
       "      <td>0.78</td>\n",
       "      <td>4.24</td>\n",
       "      <td>0.07</td>\n",
       "      <td>1.37</td>\n",
       "      <td>86.00</td>\n",
       "      <td>4.30</td>\n",
       "      <td>E</td>\n",
       "      <td>2,013.00</td>\n",
       "      <td>6.46</td>\n",
       "    </tr>\n",
       "    <tr>\n",
       "      <td>3</td>\n",
       "      <td>fifa 15</td>\n",
       "      <td>ps4</td>\n",
       "      <td>2014-01-01</td>\n",
       "      <td>sports</td>\n",
       "      <td>0.80</td>\n",
       "      <td>4.33</td>\n",
       "      <td>0.05</td>\n",
       "      <td>0.90</td>\n",
       "      <td>82.00</td>\n",
       "      <td>5.70</td>\n",
       "      <td>E</td>\n",
       "      <td>2,014.00</td>\n",
       "      <td>6.08</td>\n",
       "    </tr>\n",
       "    <tr>\n",
       "      <td>4</td>\n",
       "      <td>fifa 15</td>\n",
       "      <td>ps3</td>\n",
       "      <td>2014-01-01</td>\n",
       "      <td>sports</td>\n",
       "      <td>0.58</td>\n",
       "      <td>3.02</td>\n",
       "      <td>0.04</td>\n",
       "      <td>0.64</td>\n",
       "      <td>nan</td>\n",
       "      <td>4.50</td>\n",
       "      <td>E</td>\n",
       "      <td>2,014.00</td>\n",
       "      <td>4.28</td>\n",
       "    </tr>\n",
       "  </tbody>\n",
       "</table>\n",
       "</div>"
      ],
      "text/plain": [
       "      name platform year_of_release   genre  na_sales  eu_sales  jp_sales  \\\n",
       "0  fifa 16      ps4      2015-01-01  sports      1.12      6.12      0.06   \n",
       "1  fifa 17      ps4      2016-01-01  sports      0.66      5.75      0.08   \n",
       "2  fifa 14      ps3      2013-01-01  sports      0.78      4.24      0.07   \n",
       "3  fifa 15      ps4      2014-01-01  sports      0.80      4.33      0.05   \n",
       "4  fifa 15      ps3      2014-01-01  sports      0.58      3.02      0.04   \n",
       "\n",
       "   other_sales  critic_score  user_score rating     year  union_sales  \n",
       "0         1.28         82.00        4.30      E 2,015.00         8.58  \n",
       "1         1.11         85.00        5.00      E 2,016.00         7.60  \n",
       "2         1.37         86.00        4.30      E 2,013.00         6.46  \n",
       "3         0.90         82.00        5.70      E 2,014.00         6.08  \n",
       "4         0.64           nan        4.50      E 2,014.00         4.28  "
      ]
     },
     "execution_count": 71,
     "metadata": {},
     "output_type": "execute_result"
    }
   ],
   "source": [
    "#создадим таблицу для жанра Sports\n",
    "\n",
    "sports_data = data_actual[data_actual['genre'] == 'sports'].reset_index(drop=True)\n",
    "\n",
    "sports_data.head()"
   ]
  },
  {
   "cell_type": "code",
   "execution_count": 72,
   "metadata": {},
   "outputs": [
    {
     "data": {
      "text/plain": [
       "0"
      ]
     },
     "execution_count": 72,
     "metadata": {},
     "output_type": "execute_result"
    }
   ],
   "source": [
    "#соберем значения пользовательского рейтинга для жанра Sports и избавимся от пропусков\n",
    "sports_data_user_score = sports_data['user_score'].dropna()\n",
    "sports_data_user_score.isna().sum()"
   ]
  },
  {
   "cell_type": "code",
   "execution_count": 73,
   "metadata": {},
   "outputs": [
    {
     "name": "stdout",
     "output_type": "stream",
     "text": [
      "p-значение:  3.7163089460934874e-26\n",
      "Отвергаем нулевую гипотезу\n"
     ]
    }
   ],
   "source": [
    "alpha = 0.05\n",
    "results = st.ttest_ind(action_data_user_score, sports_data_user_score)\n",
    "\n",
    "print('p-значение: ', results.pvalue)\n",
    "\n",
    "if results.pvalue < alpha:\n",
    "    print(\"Отвергаем нулевую гипотезу\")\n",
    "else:\n",
    "    print(\"Не получилось отвергнуть нулевую гипотезу\")"
   ]
  },
  {
   "cell_type": "code",
   "execution_count": 74,
   "metadata": {},
   "outputs": [
    {
     "name": "stdout",
     "output_type": "stream",
     "text": [
      "Средний рейтинг пользователей для жанра action равен: 6.8\n",
      "Средний рейтинг пользователей для жанра sports равен: 5.5\n"
     ]
    }
   ],
   "source": [
    "#проверим полученные данные, расчитаем среднее оценок пользователей для каждого жанра компьютерной игры\n",
    "print('Средний рейтинг пользователей для жанра action равен: {:.1f}'.format(action_data_user_score.mean()))\n",
    "print('Средний рейтинг пользователей для жанра sports равен: {:.1f}'.format(sports_data_user_score.mean()))"
   ]
  },
  {
   "cell_type": "code",
   "execution_count": 75,
   "metadata": {},
   "outputs": [
    {
     "name": "stdout",
     "output_type": "stream",
     "text": [
      "Медиана рейтинга пользователей для жанра action равна: 7.1\n",
      "Медиана рейтинга пользователей для жанра sports равена: 5.7\n"
     ]
    }
   ],
   "source": [
    "#проверим полученные данные, расчитаем медиану оценок пользователей для каждого жанра компьютерной игры\n",
    "print('Медиана рейтинга пользователей для жанра action равна: {:.1f}'.format(action_data_user_score.median()))\n",
    "print('Медиана рейтинга пользователей для жанра sports равена: {:.1f}'.format(sports_data_user_score.median()))"
   ]
  },
  {
   "cell_type": "markdown",
   "metadata": {},
   "source": [
    "**Вывод**\n",
    "\n",
    "Мы опровергли нулевую гипотезу - средние пользовательские рейтинги жанров Action (англ. «действие», экшен-игры) и Sports (англ. «спортивные соревнования») одинаковые - то есть оне не одинаковые. Мы это также доказали в ходе проверки, вычислив по данным среднее и медиану - выше пользователи оценивают игры жанра Action."
   ]
  },
  {
   "cell_type": "markdown",
   "metadata": {},
   "source": [
    "## Общий вывод"
   ]
  },
  {
   "cell_type": "markdown",
   "metadata": {},
   "source": [
    "1. В мире по объемам продаж лидируют три платформы: ps4, xone и 3ds. Однако, нужно учитывать регион, в котором планируются продажи. Так, в Северной Америке лидирует платформа x360, в Европе - платформы ps4 и ps3, а в Японии - 3ds, ps3, psv. \n",
    "\n",
    "\n",
    "2. Самые неоднородные продажи можно наблюдать у платформ ps4 и x360. Также у этих платформ много выбросов или нетипичных продаж. Можно предположить, что выбросы - это какие-то популярные игры, игры - бестселлеры. Например, у платформы 3DS маленький ящик и много выбросов, то есть большАя часть объема продаж делается за счет этих выбросов. В то же время у XOne ситуация иная: большой бокс, длинный ус и мало выбросов. Это свидетельствует о том, что на XOne покупают самые разные игры, причем, в немалом количестве. У платформ ds и psp наибольшее единообразие продаж, а также почти отсутствуют вбросовы. Вероятно, и прогнозировать объем продаж по ним будет проще. \n",
    "\n",
    "\n",
    "3. Объем продаж зависит от жанра игры. Жанр, которые приносят наибольшую прибыль, - \"экшен\" (action в переводе с англ. — «действие»). Далее следуют шутер (стрелялка, англ. shooter), ролевые игры и спортивные соревнования. Стратегии и головоломки, напротив, занимают нижние строчки. Однако, копий игр жанра \"экшн\" и больше, чем любых других игр: 1031 против 370 у ближайшего конкурента, ролевых игр. Расчет средней суммы продаж, а также продаж в пересчете на одну игру показали, что наиболее прибыльными являются игры жанра \"шутер\" или стрелялки - они в три раза прибыльнее, чем одна игра жанра \"экшн\". Далее по прибыльности следуют игры жанра \"платформер\" (прыжки по платформам) и спортивные соревнования.\n",
    "\n",
    "\n",
    "4. При этом следует учитывать, что популярность жанров может различаться в разных регионах мира. Например, в Японии ролевые игры являются абсолютным лидером, а стрелялки и спортивные соревнования, популярные в западном мире, здесь даже не попали в топ-5. А также разные жанры (например, жанров Action и Sports) могут иметь разные оценки пользователей. \n",
    "\n",
    "\n",
    "5. Выяснилось, что зависимость продаж от оценки критиков, и зависимость продаж от оценки пользователей имеют положительную корреляцию. Эта зависимость сильнее в случае оценок критиков, их отзывы больше влияют на продажи, чем отзывы самих игроков. Однако, это влияние нельзя считать определяющим, так как зависимость достаточно слабая.\n",
    "\n",
    "\n",
    "6. Также следует учитывать рейтинг от организации ESRB (англ. Entertainment Software Rating Board), который влияет на объем продаж игр. На первых строчках в Северной Америке и Европе идут игры для взрослой категории («M» («Mature») — «От 17 лет») или «E» («Everyone») — «Для всех». Игры для детей («E10+» («Everyone 10 and older») — «Для всех старше 10 лет») и для подростков («T» («Teen») — «Подросткам 13—19 лет») им заметно уступают по продажам. Исключение здесь - Япония, где игры для подростков («T» («Teen») — «Подросткам 13—19 лет») обгоняют игры для взрослой категории («M» («Mature») — «От 17 лет») и для детей («E10+» («Everyone 10 and older») — «Для всех старше 10 лет»). Однако, стоить помнить, что в Японии существуют свои организации, которые присваивают возрастной рейтинг игр и при планировании рекламных кампаний и кампаний по продвижению следует ориентироваться на них (это Computer Entertainment Rating Organization (CERO) и Ethics Organization of Computer Software (EOCS).\n",
    "\n",
    "\n",
    "7. В ходе исследования мы установили, пик суммарных продаж приходится всех исследуемых платформ пришелся на 2001-2010 годы - тогда же, было и наибольшее число выпущенных компьютерных игр. В среднем жизненный цикл одной платформы составляет около 9 лет, что следует учитывать, например, при долгосрочном планировании продаж и рекламных кампаний. \n",
    "\n"
   ]
  }
 ],
 "metadata": {
  "ExecuteTimeLog": [
   {
    "duration": 1362,
    "start_time": "2021-12-27T12:28:02.985Z"
   },
   {
    "duration": 49,
    "start_time": "2021-12-27T12:28:21.942Z"
   },
   {
    "duration": 60,
    "start_time": "2021-12-27T12:28:33.703Z"
   },
   {
    "duration": 15,
    "start_time": "2021-12-27T12:29:24.751Z"
   },
   {
    "duration": 45,
    "start_time": "2021-12-27T12:29:40.727Z"
   },
   {
    "duration": 99,
    "start_time": "2021-12-27T12:55:01.186Z"
   },
   {
    "duration": 24,
    "start_time": "2021-12-27T12:55:11.760Z"
   },
   {
    "duration": 47,
    "start_time": "2021-12-27T12:58:11.765Z"
   },
   {
    "duration": 505,
    "start_time": "2021-12-27T12:59:38.006Z"
   },
   {
    "duration": 23,
    "start_time": "2021-12-27T12:59:53.832Z"
   },
   {
    "duration": 19,
    "start_time": "2021-12-27T13:04:36.294Z"
   },
   {
    "duration": 2194,
    "start_time": "2021-12-27T13:05:51.192Z"
   },
   {
    "duration": 1441,
    "start_time": "2021-12-27T13:06:03.775Z"
   },
   {
    "duration": 2255,
    "start_time": "2021-12-27T13:07:17.991Z"
   },
   {
    "duration": 1658,
    "start_time": "2021-12-27T13:07:24.584Z"
   },
   {
    "duration": 20,
    "start_time": "2021-12-27T13:07:31.131Z"
   },
   {
    "duration": 319,
    "start_time": "2021-12-27T13:08:28.095Z"
   },
   {
    "duration": 424,
    "start_time": "2021-12-27T13:08:40.692Z"
   },
   {
    "duration": 291,
    "start_time": "2021-12-27T13:09:03.508Z"
   },
   {
    "duration": 1879,
    "start_time": "2021-12-27T13:09:26.743Z"
   },
   {
    "duration": 69,
    "start_time": "2021-12-27T13:09:28.624Z"
   },
   {
    "duration": 15,
    "start_time": "2021-12-27T13:09:28.696Z"
   },
   {
    "duration": 64,
    "start_time": "2021-12-27T13:09:28.715Z"
   },
   {
    "duration": 21,
    "start_time": "2021-12-27T13:09:28.784Z"
   },
   {
    "duration": 67,
    "start_time": "2021-12-27T13:09:28.808Z"
   },
   {
    "duration": 572,
    "start_time": "2021-12-27T13:09:28.878Z"
   },
   {
    "duration": 23,
    "start_time": "2021-12-27T13:10:33.134Z"
   },
   {
    "duration": 1221,
    "start_time": "2021-12-27T13:11:43.974Z"
   },
   {
    "duration": 2251,
    "start_time": "2021-12-27T13:12:10.064Z"
   },
   {
    "duration": 20,
    "start_time": "2021-12-27T13:12:29.334Z"
   },
   {
    "duration": 13,
    "start_time": "2021-12-27T13:16:34.347Z"
   },
   {
    "duration": 32,
    "start_time": "2021-12-27T13:25:27.497Z"
   },
   {
    "duration": 8192,
    "start_time": "2021-12-27T13:27:41.455Z"
   },
   {
    "duration": 8,
    "start_time": "2021-12-27T13:27:57.065Z"
   },
   {
    "duration": 290,
    "start_time": "2021-12-27T13:30:49.253Z"
   },
   {
    "duration": 343,
    "start_time": "2021-12-27T13:32:16.398Z"
   },
   {
    "duration": 9,
    "start_time": "2021-12-27T13:32:27.948Z"
   },
   {
    "duration": 7,
    "start_time": "2021-12-27T13:33:51.124Z"
   },
   {
    "duration": 7,
    "start_time": "2021-12-27T13:34:56.703Z"
   },
   {
    "duration": 12,
    "start_time": "2021-12-27T13:36:07.253Z"
   },
   {
    "duration": 102,
    "start_time": "2021-12-27T13:36:34.309Z"
   },
   {
    "duration": 281,
    "start_time": "2021-12-27T13:36:57.026Z"
   },
   {
    "duration": 307,
    "start_time": "2021-12-27T13:37:05.095Z"
   },
   {
    "duration": 130,
    "start_time": "2021-12-27T13:37:43.786Z"
   },
   {
    "duration": 11,
    "start_time": "2021-12-27T13:37:48.305Z"
   },
   {
    "duration": 6,
    "start_time": "2021-12-27T13:45:24.127Z"
   },
   {
    "duration": 285,
    "start_time": "2021-12-27T13:46:40.369Z"
   },
   {
    "duration": 6,
    "start_time": "2021-12-27T13:46:50.738Z"
   },
   {
    "duration": 18,
    "start_time": "2021-12-27T13:47:14.165Z"
   },
   {
    "duration": 25,
    "start_time": "2021-12-27T13:57:08.048Z"
   },
   {
    "duration": 26,
    "start_time": "2021-12-27T14:01:49.288Z"
   },
   {
    "duration": 17,
    "start_time": "2021-12-27T14:05:03.223Z"
   },
   {
    "duration": 22,
    "start_time": "2021-12-27T14:05:19.866Z"
   },
   {
    "duration": 20,
    "start_time": "2021-12-27T14:06:51.875Z"
   },
   {
    "duration": 8,
    "start_time": "2021-12-27T14:07:51.848Z"
   },
   {
    "duration": 10,
    "start_time": "2021-12-27T14:09:20.444Z"
   },
   {
    "duration": 6,
    "start_time": "2021-12-27T14:11:25.108Z"
   },
   {
    "duration": 11,
    "start_time": "2021-12-27T14:11:45.324Z"
   },
   {
    "duration": 19,
    "start_time": "2021-12-27T14:12:06.659Z"
   },
   {
    "duration": 348,
    "start_time": "2021-12-27T14:28:19.108Z"
   },
   {
    "duration": 19,
    "start_time": "2021-12-27T14:28:54.811Z"
   },
   {
    "duration": 19,
    "start_time": "2021-12-27T14:29:27.743Z"
   },
   {
    "duration": 18,
    "start_time": "2021-12-27T14:29:40.702Z"
   },
   {
    "duration": 20,
    "start_time": "2021-12-27T14:32:09.433Z"
   },
   {
    "duration": 22,
    "start_time": "2021-12-27T14:36:03.946Z"
   },
   {
    "duration": 316,
    "start_time": "2021-12-27T14:36:46.730Z"
   },
   {
    "duration": 21,
    "start_time": "2021-12-27T14:37:11.017Z"
   },
   {
    "duration": 106,
    "start_time": "2021-12-27T14:39:47.744Z"
   },
   {
    "duration": 7,
    "start_time": "2021-12-27T14:39:54.791Z"
   },
   {
    "duration": 9,
    "start_time": "2021-12-27T14:43:19.700Z"
   },
   {
    "duration": 13,
    "start_time": "2021-12-27T14:43:24.914Z"
   },
   {
    "duration": 700,
    "start_time": "2021-12-27T14:51:15.149Z"
   },
   {
    "duration": 312,
    "start_time": "2021-12-27T14:52:01.564Z"
   },
   {
    "duration": 777,
    "start_time": "2021-12-27T14:52:19.838Z"
   },
   {
    "duration": 844,
    "start_time": "2021-12-27T14:53:11.154Z"
   },
   {
    "duration": 683,
    "start_time": "2021-12-27T14:53:32.006Z"
   },
   {
    "duration": 409,
    "start_time": "2021-12-27T14:55:32.109Z"
   },
   {
    "duration": 523,
    "start_time": "2021-12-27T14:57:37.689Z"
   },
   {
    "duration": 8,
    "start_time": "2021-12-27T15:01:56.088Z"
   },
   {
    "duration": 21,
    "start_time": "2021-12-27T15:02:39.741Z"
   },
   {
    "duration": 10,
    "start_time": "2021-12-27T15:04:09.410Z"
   },
   {
    "duration": 40,
    "start_time": "2021-12-27T15:04:28.081Z"
   },
   {
    "duration": 23,
    "start_time": "2021-12-27T15:05:28.796Z"
   },
   {
    "duration": 25,
    "start_time": "2021-12-27T15:05:49.762Z"
   },
   {
    "duration": 16,
    "start_time": "2021-12-27T15:07:29.027Z"
   },
   {
    "duration": 16,
    "start_time": "2021-12-27T15:07:53.594Z"
   },
   {
    "duration": 18,
    "start_time": "2021-12-27T15:07:58.894Z"
   },
   {
    "duration": 339,
    "start_time": "2021-12-27T15:10:46.044Z"
   },
   {
    "duration": 14,
    "start_time": "2021-12-27T15:10:58.252Z"
   },
   {
    "duration": 7,
    "start_time": "2021-12-27T15:14:34.463Z"
   },
   {
    "duration": 6,
    "start_time": "2021-12-27T15:14:57.241Z"
   },
   {
    "duration": 129,
    "start_time": "2021-12-27T15:23:05.068Z"
   },
   {
    "duration": 6,
    "start_time": "2021-12-27T15:23:47.144Z"
   },
   {
    "duration": 7,
    "start_time": "2021-12-27T15:24:03.831Z"
   },
   {
    "duration": 5,
    "start_time": "2021-12-27T15:24:16.608Z"
   },
   {
    "duration": 5,
    "start_time": "2021-12-27T15:24:34.989Z"
   },
   {
    "duration": 7,
    "start_time": "2021-12-27T15:24:39.847Z"
   },
   {
    "duration": 7,
    "start_time": "2021-12-27T15:24:48.333Z"
   },
   {
    "duration": 5,
    "start_time": "2021-12-27T15:25:17.547Z"
   },
   {
    "duration": 5,
    "start_time": "2021-12-27T15:25:28.773Z"
   },
   {
    "duration": 8,
    "start_time": "2021-12-27T15:25:36.664Z"
   },
   {
    "duration": 5,
    "start_time": "2021-12-27T15:25:45.501Z"
   },
   {
    "duration": 5,
    "start_time": "2021-12-27T15:25:52.582Z"
   },
   {
    "duration": 5,
    "start_time": "2021-12-27T15:25:55.833Z"
   },
   {
    "duration": 5,
    "start_time": "2021-12-27T15:25:59.149Z"
   },
   {
    "duration": 6,
    "start_time": "2021-12-27T15:26:09.032Z"
   },
   {
    "duration": 6,
    "start_time": "2021-12-27T15:26:14.976Z"
   },
   {
    "duration": 11,
    "start_time": "2021-12-27T15:27:26.776Z"
   },
   {
    "duration": 6,
    "start_time": "2021-12-27T15:27:32.084Z"
   },
   {
    "duration": 310,
    "start_time": "2021-12-28T09:27:56.285Z"
   },
   {
    "duration": 1042,
    "start_time": "2021-12-28T09:28:03.514Z"
   },
   {
    "duration": 47,
    "start_time": "2021-12-28T09:28:04.558Z"
   },
   {
    "duration": 10,
    "start_time": "2021-12-28T09:28:04.608Z"
   },
   {
    "duration": 27,
    "start_time": "2021-12-28T09:28:04.620Z"
   },
   {
    "duration": 11,
    "start_time": "2021-12-28T09:28:04.649Z"
   },
   {
    "duration": 25,
    "start_time": "2021-12-28T09:28:04.662Z"
   },
   {
    "duration": 41,
    "start_time": "2021-12-28T09:28:04.689Z"
   },
   {
    "duration": 8,
    "start_time": "2021-12-28T09:28:04.732Z"
   },
   {
    "duration": 20,
    "start_time": "2021-12-28T09:28:04.741Z"
   },
   {
    "duration": 4,
    "start_time": "2021-12-28T09:28:04.763Z"
   },
   {
    "duration": 19,
    "start_time": "2021-12-28T09:28:04.768Z"
   },
   {
    "duration": 21,
    "start_time": "2021-12-28T09:28:04.788Z"
   },
   {
    "duration": 17,
    "start_time": "2021-12-28T09:28:04.811Z"
   },
   {
    "duration": 13,
    "start_time": "2021-12-28T09:28:04.829Z"
   },
   {
    "duration": 12,
    "start_time": "2021-12-28T09:28:04.844Z"
   },
   {
    "duration": 19,
    "start_time": "2021-12-28T09:28:04.857Z"
   },
   {
    "duration": 28,
    "start_time": "2021-12-28T09:28:04.877Z"
   },
   {
    "duration": 14,
    "start_time": "2021-12-28T09:28:04.906Z"
   },
   {
    "duration": 11,
    "start_time": "2021-12-28T09:28:04.921Z"
   },
   {
    "duration": 9,
    "start_time": "2021-12-28T09:28:04.934Z"
   },
   {
    "duration": 16,
    "start_time": "2021-12-28T09:28:04.945Z"
   },
   {
    "duration": 12,
    "start_time": "2021-12-28T09:28:04.963Z"
   },
   {
    "duration": 8,
    "start_time": "2021-12-28T09:28:04.977Z"
   },
   {
    "duration": 4,
    "start_time": "2021-12-28T09:28:04.986Z"
   },
   {
    "duration": 15,
    "start_time": "2021-12-28T09:28:04.991Z"
   },
   {
    "duration": 23,
    "start_time": "2021-12-28T09:28:05.008Z"
   },
   {
    "duration": 285,
    "start_time": "2021-12-28T09:28:05.032Z"
   },
   {
    "duration": 14,
    "start_time": "2021-12-28T09:28:05.319Z"
   },
   {
    "duration": 9,
    "start_time": "2021-12-28T09:28:05.334Z"
   },
   {
    "duration": 15,
    "start_time": "2021-12-28T09:28:05.345Z"
   },
   {
    "duration": 2,
    "start_time": "2021-12-28T09:28:05.361Z"
   },
   {
    "duration": 7,
    "start_time": "2021-12-28T09:30:06.069Z"
   },
   {
    "duration": 8,
    "start_time": "2021-12-28T09:30:20.146Z"
   },
   {
    "duration": 96,
    "start_time": "2021-12-28T09:32:22.589Z"
   },
   {
    "duration": 99,
    "start_time": "2021-12-28T09:32:29.547Z"
   },
   {
    "duration": 5,
    "start_time": "2021-12-28T09:32:34.720Z"
   },
   {
    "duration": 360,
    "start_time": "2021-12-28T09:32:55.407Z"
   },
   {
    "duration": 403,
    "start_time": "2021-12-28T09:33:05.593Z"
   },
   {
    "duration": 8,
    "start_time": "2021-12-28T09:33:11.735Z"
   },
   {
    "duration": 13,
    "start_time": "2021-12-28T09:42:55.672Z"
   },
   {
    "duration": 11,
    "start_time": "2021-12-28T09:43:50.447Z"
   },
   {
    "duration": 300,
    "start_time": "2021-12-28T10:13:00.307Z"
   },
   {
    "duration": 391,
    "start_time": "2021-12-28T10:19:49.935Z"
   },
   {
    "duration": 7,
    "start_time": "2021-12-28T10:20:33.057Z"
   },
   {
    "duration": 277,
    "start_time": "2021-12-28T10:20:59.157Z"
   },
   {
    "duration": 8,
    "start_time": "2021-12-28T10:21:46.514Z"
   },
   {
    "duration": 4,
    "start_time": "2021-12-28T10:22:29.001Z"
   },
   {
    "duration": 267,
    "start_time": "2021-12-28T10:23:00.424Z"
   },
   {
    "duration": 335,
    "start_time": "2021-12-28T10:24:00.794Z"
   },
   {
    "duration": 284,
    "start_time": "2021-12-28T10:24:13.005Z"
   },
   {
    "duration": 270,
    "start_time": "2021-12-28T10:25:06.349Z"
   },
   {
    "duration": 280,
    "start_time": "2021-12-28T10:25:28.031Z"
   },
   {
    "duration": 284,
    "start_time": "2021-12-28T10:26:18.143Z"
   },
   {
    "duration": 1073,
    "start_time": "2021-12-28T10:26:58.269Z"
   },
   {
    "duration": 45,
    "start_time": "2021-12-28T10:26:59.344Z"
   },
   {
    "duration": 9,
    "start_time": "2021-12-28T10:26:59.391Z"
   },
   {
    "duration": 35,
    "start_time": "2021-12-28T10:26:59.402Z"
   },
   {
    "duration": 13,
    "start_time": "2021-12-28T10:26:59.439Z"
   },
   {
    "duration": 55,
    "start_time": "2021-12-28T10:26:59.454Z"
   },
   {
    "duration": 16,
    "start_time": "2021-12-28T10:26:59.510Z"
   },
   {
    "duration": 19,
    "start_time": "2021-12-28T10:26:59.528Z"
   },
   {
    "duration": 35,
    "start_time": "2021-12-28T10:26:59.550Z"
   },
   {
    "duration": 6,
    "start_time": "2021-12-28T10:26:59.587Z"
   },
   {
    "duration": 23,
    "start_time": "2021-12-28T10:26:59.594Z"
   },
   {
    "duration": 8,
    "start_time": "2021-12-28T10:26:59.618Z"
   },
   {
    "duration": 7,
    "start_time": "2021-12-28T10:26:59.627Z"
   },
   {
    "duration": 14,
    "start_time": "2021-12-28T10:26:59.636Z"
   },
   {
    "duration": 7,
    "start_time": "2021-12-28T10:26:59.651Z"
   },
   {
    "duration": 21,
    "start_time": "2021-12-28T10:26:59.660Z"
   },
   {
    "duration": 17,
    "start_time": "2021-12-28T10:26:59.683Z"
   },
   {
    "duration": 10,
    "start_time": "2021-12-28T10:26:59.702Z"
   },
   {
    "duration": 14,
    "start_time": "2021-12-28T10:26:59.713Z"
   },
   {
    "duration": 9,
    "start_time": "2021-12-28T10:26:59.728Z"
   },
   {
    "duration": 8,
    "start_time": "2021-12-28T10:26:59.738Z"
   },
   {
    "duration": 27,
    "start_time": "2021-12-28T10:26:59.748Z"
   },
   {
    "duration": 6,
    "start_time": "2021-12-28T10:26:59.777Z"
   },
   {
    "duration": 21,
    "start_time": "2021-12-28T10:26:59.785Z"
   },
   {
    "duration": 35,
    "start_time": "2021-12-28T10:26:59.807Z"
   },
   {
    "duration": 419,
    "start_time": "2021-12-28T10:26:59.844Z"
   },
   {
    "duration": 12,
    "start_time": "2021-12-28T10:27:00.267Z"
   },
   {
    "duration": 409,
    "start_time": "2021-12-28T10:27:00.281Z"
   },
   {
    "duration": 9,
    "start_time": "2021-12-28T10:27:00.692Z"
   },
   {
    "duration": 37,
    "start_time": "2021-12-28T10:27:00.703Z"
   },
   {
    "duration": 29,
    "start_time": "2021-12-28T10:27:00.742Z"
   },
   {
    "duration": 175,
    "start_time": "2021-12-28T10:27:00.773Z"
   },
   {
    "duration": 303,
    "start_time": "2021-12-28T10:29:33.354Z"
   },
   {
    "duration": 311,
    "start_time": "2021-12-28T10:31:20.168Z"
   },
   {
    "duration": 375,
    "start_time": "2021-12-28T10:31:44.118Z"
   },
   {
    "duration": 489,
    "start_time": "2021-12-28T10:32:43.659Z"
   },
   {
    "duration": 6,
    "start_time": "2021-12-28T10:35:53.756Z"
   },
   {
    "duration": 307,
    "start_time": "2021-12-28T10:35:59.806Z"
   },
   {
    "duration": 13,
    "start_time": "2021-12-28T10:43:08.183Z"
   },
   {
    "duration": 6,
    "start_time": "2021-12-28T10:43:33.686Z"
   },
   {
    "duration": 994,
    "start_time": "2021-12-28T10:51:49.506Z"
   },
   {
    "duration": 43,
    "start_time": "2021-12-28T10:51:50.502Z"
   },
   {
    "duration": 8,
    "start_time": "2021-12-28T10:51:50.548Z"
   },
   {
    "duration": 25,
    "start_time": "2021-12-28T10:51:50.558Z"
   },
   {
    "duration": 12,
    "start_time": "2021-12-28T10:51:50.585Z"
   },
   {
    "duration": 41,
    "start_time": "2021-12-28T10:51:50.598Z"
   },
   {
    "duration": 15,
    "start_time": "2021-12-28T10:51:50.641Z"
   },
   {
    "duration": 7,
    "start_time": "2021-12-28T10:51:50.659Z"
   },
   {
    "duration": 18,
    "start_time": "2021-12-28T10:51:50.668Z"
   },
   {
    "duration": 4,
    "start_time": "2021-12-28T10:51:50.688Z"
   },
   {
    "duration": 8,
    "start_time": "2021-12-28T10:51:50.693Z"
   },
   {
    "duration": 31,
    "start_time": "2021-12-28T10:51:50.702Z"
   },
   {
    "duration": 18,
    "start_time": "2021-12-28T10:51:50.734Z"
   },
   {
    "duration": 6,
    "start_time": "2021-12-28T10:51:50.753Z"
   },
   {
    "duration": 5,
    "start_time": "2021-12-28T10:51:50.761Z"
   },
   {
    "duration": 9,
    "start_time": "2021-12-28T10:51:50.767Z"
   },
   {
    "duration": 16,
    "start_time": "2021-12-28T10:51:50.777Z"
   },
   {
    "duration": 12,
    "start_time": "2021-12-28T10:51:50.794Z"
   },
   {
    "duration": 19,
    "start_time": "2021-12-28T10:51:50.808Z"
   },
   {
    "duration": 6,
    "start_time": "2021-12-28T10:51:50.829Z"
   },
   {
    "duration": 6797,
    "start_time": "2021-12-28T10:51:50.837Z"
   },
   {
    "duration": -55,
    "start_time": "2021-12-28T10:51:57.692Z"
   },
   {
    "duration": -55,
    "start_time": "2021-12-28T10:51:57.694Z"
   },
   {
    "duration": -57,
    "start_time": "2021-12-28T10:51:57.697Z"
   },
   {
    "duration": -66,
    "start_time": "2021-12-28T10:51:57.707Z"
   },
   {
    "duration": -68,
    "start_time": "2021-12-28T10:51:57.710Z"
   },
   {
    "duration": -69,
    "start_time": "2021-12-28T10:51:57.712Z"
   },
   {
    "duration": -77,
    "start_time": "2021-12-28T10:51:57.721Z"
   },
   {
    "duration": -79,
    "start_time": "2021-12-28T10:51:57.724Z"
   },
   {
    "duration": -80,
    "start_time": "2021-12-28T10:51:57.726Z"
   },
   {
    "duration": -82,
    "start_time": "2021-12-28T10:51:57.728Z"
   },
   {
    "duration": -85,
    "start_time": "2021-12-28T10:51:57.732Z"
   },
   {
    "duration": 12,
    "start_time": "2021-12-28T10:52:58.877Z"
   },
   {
    "duration": 12,
    "start_time": "2021-12-28T10:53:24.708Z"
   },
   {
    "duration": 5,
    "start_time": "2021-12-28T10:53:29.048Z"
   },
   {
    "duration": 7,
    "start_time": "2021-12-28T10:53:35.372Z"
   },
   {
    "duration": 13,
    "start_time": "2021-12-28T10:53:55.795Z"
   },
   {
    "duration": 5,
    "start_time": "2021-12-28T10:53:58.830Z"
   },
   {
    "duration": 7,
    "start_time": "2021-12-28T10:54:03.888Z"
   },
   {
    "duration": 293,
    "start_time": "2021-12-28T10:54:13.210Z"
   },
   {
    "duration": 10,
    "start_time": "2021-12-28T10:57:50.374Z"
   },
   {
    "duration": -100,
    "start_time": "2021-12-28T10:59:35.200Z"
   },
   {
    "duration": 279,
    "start_time": "2021-12-28T11:07:49.437Z"
   },
   {
    "duration": 311,
    "start_time": "2021-12-28T11:08:07.889Z"
   },
   {
    "duration": 12,
    "start_time": "2021-12-28T11:08:56.972Z"
   },
   {
    "duration": 6,
    "start_time": "2021-12-28T11:09:00.478Z"
   },
   {
    "duration": 277,
    "start_time": "2021-12-28T11:09:04.550Z"
   },
   {
    "duration": 173,
    "start_time": "2021-12-28T11:10:02.150Z"
   },
   {
    "duration": 999,
    "start_time": "2021-12-28T11:10:20.820Z"
   },
   {
    "duration": 45,
    "start_time": "2021-12-28T11:10:21.820Z"
   },
   {
    "duration": 9,
    "start_time": "2021-12-28T11:10:21.867Z"
   },
   {
    "duration": 26,
    "start_time": "2021-12-28T11:10:21.877Z"
   },
   {
    "duration": 26,
    "start_time": "2021-12-28T11:10:21.904Z"
   },
   {
    "duration": 27,
    "start_time": "2021-12-28T11:10:21.932Z"
   },
   {
    "duration": 17,
    "start_time": "2021-12-28T11:10:21.961Z"
   },
   {
    "duration": 10,
    "start_time": "2021-12-28T11:10:21.981Z"
   },
   {
    "duration": 37,
    "start_time": "2021-12-28T11:10:21.993Z"
   },
   {
    "duration": 21,
    "start_time": "2021-12-28T11:10:22.032Z"
   },
   {
    "duration": 4,
    "start_time": "2021-12-28T11:10:22.055Z"
   },
   {
    "duration": 10,
    "start_time": "2021-12-28T11:10:22.060Z"
   },
   {
    "duration": 7,
    "start_time": "2021-12-28T11:10:22.072Z"
   },
   {
    "duration": 6,
    "start_time": "2021-12-28T11:10:22.081Z"
   },
   {
    "duration": 6,
    "start_time": "2021-12-28T11:10:22.089Z"
   },
   {
    "duration": 31,
    "start_time": "2021-12-28T11:10:22.096Z"
   },
   {
    "duration": 9,
    "start_time": "2021-12-28T11:10:22.129Z"
   },
   {
    "duration": 16,
    "start_time": "2021-12-28T11:10:22.139Z"
   },
   {
    "duration": 12,
    "start_time": "2021-12-28T11:10:22.157Z"
   },
   {
    "duration": 5,
    "start_time": "2021-12-28T11:10:22.170Z"
   },
   {
    "duration": 211,
    "start_time": "2021-12-28T11:10:22.177Z"
   },
   {
    "duration": 14,
    "start_time": "2021-12-28T11:10:22.390Z"
   },
   {
    "duration": 21,
    "start_time": "2021-12-28T11:10:22.407Z"
   },
   {
    "duration": 8,
    "start_time": "2021-12-28T11:10:22.430Z"
   },
   {
    "duration": 9,
    "start_time": "2021-12-28T11:10:22.439Z"
   },
   {
    "duration": 326,
    "start_time": "2021-12-28T11:10:22.449Z"
   },
   {
    "duration": 14,
    "start_time": "2021-12-28T11:10:22.777Z"
   },
   {
    "duration": 348,
    "start_time": "2021-12-28T11:10:22.793Z"
   },
   {
    "duration": 9,
    "start_time": "2021-12-28T11:10:23.143Z"
   },
   {
    "duration": 6,
    "start_time": "2021-12-28T11:10:23.153Z"
   },
   {
    "duration": 17,
    "start_time": "2021-12-28T11:10:23.160Z"
   },
   {
    "duration": 2,
    "start_time": "2021-12-28T11:10:23.179Z"
   },
   {
    "duration": 582,
    "start_time": "2021-12-28T11:16:11.633Z"
   },
   {
    "duration": 253,
    "start_time": "2021-12-28T11:16:39.750Z"
   },
   {
    "duration": 192,
    "start_time": "2021-12-28T11:16:57.197Z"
   },
   {
    "duration": 225,
    "start_time": "2021-12-28T11:17:06.592Z"
   },
   {
    "duration": 230,
    "start_time": "2021-12-28T11:26:35.548Z"
   },
   {
    "duration": 210,
    "start_time": "2021-12-28T11:26:44.022Z"
   },
   {
    "duration": 16,
    "start_time": "2021-12-28T11:27:20.430Z"
   },
   {
    "duration": 10,
    "start_time": "2021-12-28T11:27:29.353Z"
   },
   {
    "duration": 9,
    "start_time": "2021-12-28T11:27:52.665Z"
   },
   {
    "duration": 542,
    "start_time": "2021-12-28T11:27:56.072Z"
   },
   {
    "duration": 12,
    "start_time": "2021-12-28T11:28:48.025Z"
   },
   {
    "duration": 14,
    "start_time": "2021-12-28T11:31:04.831Z"
   },
   {
    "duration": 8,
    "start_time": "2021-12-28T11:34:31.184Z"
   },
   {
    "duration": 289,
    "start_time": "2021-12-28T11:37:20.154Z"
   },
   {
    "duration": 4,
    "start_time": "2021-12-28T11:37:31.204Z"
   },
   {
    "duration": 4,
    "start_time": "2021-12-28T11:37:34.322Z"
   },
   {
    "duration": 6,
    "start_time": "2021-12-28T11:37:54.894Z"
   },
   {
    "duration": 15,
    "start_time": "2021-12-28T11:38:34.069Z"
   },
   {
    "duration": 13,
    "start_time": "2021-12-28T11:39:06.376Z"
   },
   {
    "duration": 28,
    "start_time": "2021-12-28T11:39:54.753Z"
   },
   {
    "duration": 7,
    "start_time": "2021-12-28T11:42:10.709Z"
   },
   {
    "duration": 289,
    "start_time": "2021-12-28T11:42:13.819Z"
   },
   {
    "duration": 414,
    "start_time": "2021-12-28T11:43:35.121Z"
   },
   {
    "duration": 97,
    "start_time": "2021-12-28T11:44:11.486Z"
   },
   {
    "duration": 429,
    "start_time": "2021-12-28T11:44:16.320Z"
   },
   {
    "duration": 287,
    "start_time": "2021-12-28T11:56:47.165Z"
   },
   {
    "duration": 288,
    "start_time": "2021-12-28T11:58:28.783Z"
   },
   {
    "duration": 286,
    "start_time": "2021-12-28T11:58:36.877Z"
   },
   {
    "duration": 369,
    "start_time": "2021-12-28T11:58:45.711Z"
   },
   {
    "duration": 7583,
    "start_time": "2021-12-28T12:07:21.625Z"
   },
   {
    "duration": 6836,
    "start_time": "2021-12-28T12:07:53.617Z"
   },
   {
    "duration": 9236,
    "start_time": "2021-12-28T12:08:49.780Z"
   },
   {
    "duration": 6980,
    "start_time": "2021-12-28T12:09:54.172Z"
   },
   {
    "duration": 11,
    "start_time": "2021-12-28T12:11:28.176Z"
   },
   {
    "duration": 13,
    "start_time": "2021-12-28T12:12:17.152Z"
   },
   {
    "duration": 281,
    "start_time": "2021-12-28T12:13:42.140Z"
   },
   {
    "duration": 173,
    "start_time": "2021-12-28T12:14:12.538Z"
   },
   {
    "duration": 283,
    "start_time": "2021-12-28T12:14:31.132Z"
   },
   {
    "duration": 271,
    "start_time": "2021-12-28T12:16:18.567Z"
   },
   {
    "duration": 5,
    "start_time": "2021-12-28T12:17:47.564Z"
   },
   {
    "duration": 1361,
    "start_time": "2021-12-28T12:20:42.758Z"
   },
   {
    "duration": 5,
    "start_time": "2021-12-28T12:23:08.320Z"
   },
   {
    "duration": 10,
    "start_time": "2021-12-28T12:23:11.395Z"
   },
   {
    "duration": 992,
    "start_time": "2021-12-28T12:23:25.508Z"
   },
   {
    "duration": 44,
    "start_time": "2021-12-28T12:23:26.502Z"
   },
   {
    "duration": 9,
    "start_time": "2021-12-28T12:23:26.548Z"
   },
   {
    "duration": 23,
    "start_time": "2021-12-28T12:23:26.558Z"
   },
   {
    "duration": 12,
    "start_time": "2021-12-28T12:23:26.583Z"
   },
   {
    "duration": 45,
    "start_time": "2021-12-28T12:23:26.597Z"
   },
   {
    "duration": 19,
    "start_time": "2021-12-28T12:23:26.644Z"
   },
   {
    "duration": 377,
    "start_time": "2021-12-28T12:23:26.664Z"
   },
   {
    "duration": -101,
    "start_time": "2021-12-28T12:23:27.146Z"
   },
   {
    "duration": -103,
    "start_time": "2021-12-28T12:23:27.149Z"
   },
   {
    "duration": -105,
    "start_time": "2021-12-28T12:23:27.152Z"
   },
   {
    "duration": -107,
    "start_time": "2021-12-28T12:23:27.155Z"
   },
   {
    "duration": -110,
    "start_time": "2021-12-28T12:23:27.158Z"
   },
   {
    "duration": -112,
    "start_time": "2021-12-28T12:23:27.161Z"
   },
   {
    "duration": -114,
    "start_time": "2021-12-28T12:23:27.164Z"
   },
   {
    "duration": -116,
    "start_time": "2021-12-28T12:23:27.167Z"
   },
   {
    "duration": -116,
    "start_time": "2021-12-28T12:23:27.169Z"
   },
   {
    "duration": -118,
    "start_time": "2021-12-28T12:23:27.172Z"
   },
   {
    "duration": -120,
    "start_time": "2021-12-28T12:23:27.175Z"
   },
   {
    "duration": -122,
    "start_time": "2021-12-28T12:23:27.178Z"
   },
   {
    "duration": -123,
    "start_time": "2021-12-28T12:23:27.180Z"
   },
   {
    "duration": -125,
    "start_time": "2021-12-28T12:23:27.183Z"
   },
   {
    "duration": -127,
    "start_time": "2021-12-28T12:23:27.186Z"
   },
   {
    "duration": -129,
    "start_time": "2021-12-28T12:23:27.189Z"
   },
   {
    "duration": -133,
    "start_time": "2021-12-28T12:23:27.194Z"
   },
   {
    "duration": -135,
    "start_time": "2021-12-28T12:23:27.197Z"
   },
   {
    "duration": -137,
    "start_time": "2021-12-28T12:23:27.200Z"
   },
   {
    "duration": -138,
    "start_time": "2021-12-28T12:23:27.202Z"
   },
   {
    "duration": -140,
    "start_time": "2021-12-28T12:23:27.205Z"
   },
   {
    "duration": -142,
    "start_time": "2021-12-28T12:23:27.208Z"
   },
   {
    "duration": -145,
    "start_time": "2021-12-28T12:23:27.211Z"
   },
   {
    "duration": -147,
    "start_time": "2021-12-28T12:23:27.214Z"
   },
   {
    "duration": -148,
    "start_time": "2021-12-28T12:23:27.216Z"
   },
   {
    "duration": -150,
    "start_time": "2021-12-28T12:23:27.219Z"
   },
   {
    "duration": -152,
    "start_time": "2021-12-28T12:23:27.222Z"
   },
   {
    "duration": -154,
    "start_time": "2021-12-28T12:23:27.225Z"
   },
   {
    "duration": -155,
    "start_time": "2021-12-28T12:23:27.227Z"
   },
   {
    "duration": -157,
    "start_time": "2021-12-28T12:23:27.230Z"
   },
   {
    "duration": -158,
    "start_time": "2021-12-28T12:23:27.232Z"
   },
   {
    "duration": 262,
    "start_time": "2021-12-28T12:25:12.203Z"
   },
   {
    "duration": 1027,
    "start_time": "2021-12-28T12:25:22.863Z"
   },
   {
    "duration": 46,
    "start_time": "2021-12-28T12:25:23.891Z"
   },
   {
    "duration": 11,
    "start_time": "2021-12-28T12:25:23.941Z"
   },
   {
    "duration": 30,
    "start_time": "2021-12-28T12:25:23.953Z"
   },
   {
    "duration": 15,
    "start_time": "2021-12-28T12:25:23.984Z"
   },
   {
    "duration": 44,
    "start_time": "2021-12-28T12:25:24.001Z"
   },
   {
    "duration": 16,
    "start_time": "2021-12-28T12:25:24.048Z"
   },
   {
    "duration": 448,
    "start_time": "2021-12-28T12:25:24.066Z"
   },
   {
    "duration": -34,
    "start_time": "2021-12-28T12:25:24.551Z"
   },
   {
    "duration": -35,
    "start_time": "2021-12-28T12:25:24.554Z"
   },
   {
    "duration": -36,
    "start_time": "2021-12-28T12:25:24.557Z"
   },
   {
    "duration": -38,
    "start_time": "2021-12-28T12:25:24.560Z"
   },
   {
    "duration": -39,
    "start_time": "2021-12-28T12:25:24.563Z"
   },
   {
    "duration": -42,
    "start_time": "2021-12-28T12:25:24.567Z"
   },
   {
    "duration": -44,
    "start_time": "2021-12-28T12:25:24.571Z"
   },
   {
    "duration": -46,
    "start_time": "2021-12-28T12:25:24.574Z"
   },
   {
    "duration": -55,
    "start_time": "2021-12-28T12:25:24.585Z"
   },
   {
    "duration": -57,
    "start_time": "2021-12-28T12:25:24.588Z"
   },
   {
    "duration": -58,
    "start_time": "2021-12-28T12:25:24.591Z"
   },
   {
    "duration": -60,
    "start_time": "2021-12-28T12:25:24.594Z"
   },
   {
    "duration": -61,
    "start_time": "2021-12-28T12:25:24.596Z"
   },
   {
    "duration": -62,
    "start_time": "2021-12-28T12:25:24.599Z"
   },
   {
    "duration": -65,
    "start_time": "2021-12-28T12:25:24.603Z"
   },
   {
    "duration": -65,
    "start_time": "2021-12-28T12:25:24.605Z"
   },
   {
    "duration": -67,
    "start_time": "2021-12-28T12:25:24.608Z"
   },
   {
    "duration": -68,
    "start_time": "2021-12-28T12:25:24.610Z"
   },
   {
    "duration": -70,
    "start_time": "2021-12-28T12:25:24.613Z"
   },
   {
    "duration": -70,
    "start_time": "2021-12-28T12:25:24.615Z"
   },
   {
    "duration": -72,
    "start_time": "2021-12-28T12:25:24.618Z"
   },
   {
    "duration": -74,
    "start_time": "2021-12-28T12:25:24.621Z"
   },
   {
    "duration": -76,
    "start_time": "2021-12-28T12:25:24.624Z"
   },
   {
    "duration": -78,
    "start_time": "2021-12-28T12:25:24.627Z"
   },
   {
    "duration": -80,
    "start_time": "2021-12-28T12:25:24.630Z"
   },
   {
    "duration": -82,
    "start_time": "2021-12-28T12:25:24.633Z"
   },
   {
    "duration": -83,
    "start_time": "2021-12-28T12:25:24.635Z"
   },
   {
    "duration": -86,
    "start_time": "2021-12-28T12:25:24.638Z"
   },
   {
    "duration": -88,
    "start_time": "2021-12-28T12:25:24.641Z"
   },
   {
    "duration": -89,
    "start_time": "2021-12-28T12:25:24.643Z"
   },
   {
    "duration": -91,
    "start_time": "2021-12-28T12:25:24.646Z"
   },
   {
    "duration": 1076,
    "start_time": "2021-12-28T12:26:07.331Z"
   },
   {
    "duration": 298,
    "start_time": "2021-12-28T12:29:16.630Z"
   },
   {
    "duration": 288,
    "start_time": "2021-12-28T12:29:46.362Z"
   },
   {
    "duration": 100,
    "start_time": "2021-12-28T12:30:39.975Z"
   },
   {
    "duration": 269,
    "start_time": "2021-12-28T12:30:48.759Z"
   },
   {
    "duration": 1002,
    "start_time": "2021-12-28T12:31:22.480Z"
   },
   {
    "duration": 45,
    "start_time": "2021-12-28T12:31:23.484Z"
   },
   {
    "duration": 9,
    "start_time": "2021-12-28T12:31:23.531Z"
   },
   {
    "duration": 25,
    "start_time": "2021-12-28T12:31:23.542Z"
   },
   {
    "duration": 14,
    "start_time": "2021-12-28T12:31:23.569Z"
   },
   {
    "duration": 46,
    "start_time": "2021-12-28T12:31:23.584Z"
   },
   {
    "duration": 16,
    "start_time": "2021-12-28T12:31:23.631Z"
   },
   {
    "duration": 9,
    "start_time": "2021-12-28T12:31:23.649Z"
   },
   {
    "duration": 10,
    "start_time": "2021-12-28T12:31:23.659Z"
   },
   {
    "duration": 58,
    "start_time": "2021-12-28T12:31:23.670Z"
   },
   {
    "duration": 5,
    "start_time": "2021-12-28T12:31:23.729Z"
   },
   {
    "duration": 8,
    "start_time": "2021-12-28T12:31:23.736Z"
   },
   {
    "duration": 7,
    "start_time": "2021-12-28T12:31:23.746Z"
   },
   {
    "duration": 7,
    "start_time": "2021-12-28T12:31:23.754Z"
   },
   {
    "duration": 6,
    "start_time": "2021-12-28T12:31:23.762Z"
   },
   {
    "duration": 5,
    "start_time": "2021-12-28T12:31:23.769Z"
   },
   {
    "duration": 12,
    "start_time": "2021-12-28T12:31:23.776Z"
   },
   {
    "duration": 49,
    "start_time": "2021-12-28T12:31:23.790Z"
   },
   {
    "duration": 10,
    "start_time": "2021-12-28T12:31:23.841Z"
   },
   {
    "duration": 10,
    "start_time": "2021-12-28T12:31:23.852Z"
   },
   {
    "duration": 246,
    "start_time": "2021-12-28T12:31:23.863Z"
   },
   {
    "duration": 23,
    "start_time": "2021-12-28T12:31:24.111Z"
   },
   {
    "duration": 7,
    "start_time": "2021-12-28T12:31:24.138Z"
   },
   {
    "duration": 446,
    "start_time": "2021-12-28T12:31:24.147Z"
   },
   {
    "duration": 319,
    "start_time": "2021-12-28T12:31:24.595Z"
   },
   {
    "duration": 19,
    "start_time": "2021-12-28T12:31:24.915Z"
   },
   {
    "duration": 4,
    "start_time": "2021-12-28T12:31:24.936Z"
   },
   {
    "duration": 15,
    "start_time": "2021-12-28T12:31:24.942Z"
   },
   {
    "duration": 6,
    "start_time": "2021-12-28T12:31:24.959Z"
   },
   {
    "duration": 23,
    "start_time": "2021-12-28T12:31:24.967Z"
   },
   {
    "duration": 5,
    "start_time": "2021-12-28T12:31:24.992Z"
   },
   {
    "duration": 308,
    "start_time": "2021-12-28T12:31:24.998Z"
   },
   {
    "duration": 286,
    "start_time": "2021-12-28T12:31:25.308Z"
   },
   {
    "duration": 13,
    "start_time": "2021-12-28T12:31:25.595Z"
   },
   {
    "duration": 309,
    "start_time": "2021-12-28T12:31:25.610Z"
   },
   {
    "duration": 4,
    "start_time": "2021-12-28T12:31:25.927Z"
   },
   {
    "duration": 347,
    "start_time": "2021-12-28T12:31:25.933Z"
   },
   {
    "duration": -88,
    "start_time": "2021-12-28T12:31:26.370Z"
   },
   {
    "duration": 981,
    "start_time": "2021-12-28T12:32:21.293Z"
   },
   {
    "duration": 6,
    "start_time": "2021-12-28T12:32:29.122Z"
   },
   {
    "duration": 268,
    "start_time": "2021-12-28T12:33:09.714Z"
   },
   {
    "duration": 278,
    "start_time": "2021-12-28T12:33:20.611Z"
   },
   {
    "duration": 1092,
    "start_time": "2021-12-28T12:39:52.060Z"
   },
   {
    "duration": 13,
    "start_time": "2021-12-28T12:40:10.274Z"
   },
   {
    "duration": 1197,
    "start_time": "2021-12-28T12:40:42.208Z"
   },
   {
    "duration": 54,
    "start_time": "2021-12-28T12:40:43.406Z"
   },
   {
    "duration": 9,
    "start_time": "2021-12-28T12:40:43.462Z"
   },
   {
    "duration": 27,
    "start_time": "2021-12-28T12:40:43.473Z"
   },
   {
    "duration": 31,
    "start_time": "2021-12-28T12:40:43.501Z"
   },
   {
    "duration": 28,
    "start_time": "2021-12-28T12:40:43.534Z"
   },
   {
    "duration": 17,
    "start_time": "2021-12-28T12:40:43.564Z"
   },
   {
    "duration": 10,
    "start_time": "2021-12-28T12:40:43.583Z"
   },
   {
    "duration": 34,
    "start_time": "2021-12-28T12:40:43.594Z"
   },
   {
    "duration": 23,
    "start_time": "2021-12-28T12:40:43.630Z"
   },
   {
    "duration": 5,
    "start_time": "2021-12-28T12:40:43.655Z"
   },
   {
    "duration": 24,
    "start_time": "2021-12-28T12:40:43.662Z"
   },
   {
    "duration": 25,
    "start_time": "2021-12-28T12:40:43.688Z"
   },
   {
    "duration": 42,
    "start_time": "2021-12-28T12:40:43.715Z"
   },
   {
    "duration": 18,
    "start_time": "2021-12-28T12:40:43.758Z"
   },
   {
    "duration": 9,
    "start_time": "2021-12-28T12:40:43.777Z"
   },
   {
    "duration": 27,
    "start_time": "2021-12-28T12:40:43.787Z"
   },
   {
    "duration": 11,
    "start_time": "2021-12-28T12:40:43.815Z"
   },
   {
    "duration": 26,
    "start_time": "2021-12-28T12:40:43.828Z"
   },
   {
    "duration": 36,
    "start_time": "2021-12-28T12:40:43.855Z"
   },
   {
    "duration": 6,
    "start_time": "2021-12-28T12:40:43.893Z"
   },
   {
    "duration": 266,
    "start_time": "2021-12-28T12:40:43.900Z"
   },
   {
    "duration": 16,
    "start_time": "2021-12-28T12:40:44.171Z"
   },
   {
    "duration": 7,
    "start_time": "2021-12-28T12:40:44.189Z"
   },
   {
    "duration": 373,
    "start_time": "2021-12-28T12:40:44.198Z"
   },
   {
    "duration": 264,
    "start_time": "2021-12-28T12:40:44.573Z"
   },
   {
    "duration": 10,
    "start_time": "2021-12-28T12:40:44.839Z"
   },
   {
    "duration": 6,
    "start_time": "2021-12-28T12:40:44.850Z"
   },
   {
    "duration": 14,
    "start_time": "2021-12-28T12:40:44.857Z"
   },
   {
    "duration": 7,
    "start_time": "2021-12-28T12:40:44.873Z"
   },
   {
    "duration": 51,
    "start_time": "2021-12-28T12:40:44.882Z"
   },
   {
    "duration": 6,
    "start_time": "2021-12-28T12:40:44.934Z"
   },
   {
    "duration": 289,
    "start_time": "2021-12-28T12:40:44.941Z"
   },
   {
    "duration": 285,
    "start_time": "2021-12-28T12:40:45.232Z"
   },
   {
    "duration": 13,
    "start_time": "2021-12-28T12:40:45.527Z"
   },
   {
    "duration": 295,
    "start_time": "2021-12-28T12:40:45.542Z"
   },
   {
    "duration": 5,
    "start_time": "2021-12-28T12:40:45.840Z"
   },
   {
    "duration": 271,
    "start_time": "2021-12-28T12:40:45.846Z"
   },
   {
    "duration": 11,
    "start_time": "2021-12-28T12:40:46.118Z"
   },
   {
    "duration": 281,
    "start_time": "2021-12-28T12:49:53.869Z"
   },
   {
    "duration": 5,
    "start_time": "2021-12-28T12:50:25.993Z"
   },
   {
    "duration": 4,
    "start_time": "2021-12-28T12:51:28.351Z"
   },
   {
    "duration": 370,
    "start_time": "2021-12-28T12:52:22.842Z"
   },
   {
    "duration": 285,
    "start_time": "2021-12-28T12:52:59.533Z"
   },
   {
    "duration": 5,
    "start_time": "2021-12-28T12:53:06.748Z"
   },
   {
    "duration": 4,
    "start_time": "2021-12-28T12:58:21.447Z"
   },
   {
    "duration": 5,
    "start_time": "2021-12-28T13:00:31.809Z"
   },
   {
    "duration": 8,
    "start_time": "2021-12-28T14:14:53.471Z"
   },
   {
    "duration": 9,
    "start_time": "2021-12-28T14:15:53.718Z"
   },
   {
    "duration": 8262,
    "start_time": "2021-12-28T14:19:48.076Z"
   },
   {
    "duration": 13541,
    "start_time": "2021-12-28T14:20:01.136Z"
   },
   {
    "duration": 318,
    "start_time": "2021-12-28T14:23:41.387Z"
   },
   {
    "duration": 387,
    "start_time": "2021-12-28T14:24:01.177Z"
   },
   {
    "duration": 361,
    "start_time": "2021-12-28T14:25:00.233Z"
   },
   {
    "duration": 225,
    "start_time": "2021-12-28T14:37:08.637Z"
   },
   {
    "duration": 6,
    "start_time": "2021-12-28T14:40:46.851Z"
   },
   {
    "duration": 8,
    "start_time": "2021-12-28T14:41:11.444Z"
   },
   {
    "duration": 8,
    "start_time": "2021-12-28T14:41:52.001Z"
   },
   {
    "duration": 215,
    "start_time": "2021-12-28T14:43:08.954Z"
   },
   {
    "duration": 9,
    "start_time": "2021-12-28T14:44:23.250Z"
   },
   {
    "duration": 222,
    "start_time": "2021-12-28T14:44:59.761Z"
   },
   {
    "duration": 9,
    "start_time": "2021-12-28T14:47:08.883Z"
   },
   {
    "duration": 8,
    "start_time": "2021-12-28T14:47:39.588Z"
   },
   {
    "duration": 9,
    "start_time": "2021-12-28T14:47:46.234Z"
   },
   {
    "duration": 277,
    "start_time": "2021-12-28T14:51:11.377Z"
   },
   {
    "duration": 9,
    "start_time": "2021-12-28T14:52:12.201Z"
   },
   {
    "duration": 12,
    "start_time": "2021-12-28T14:53:05.867Z"
   },
   {
    "duration": 271,
    "start_time": "2021-12-28T14:54:58.462Z"
   },
   {
    "duration": 8,
    "start_time": "2021-12-28T14:55:38.942Z"
   },
   {
    "duration": 193,
    "start_time": "2021-12-28T14:56:54.676Z"
   },
   {
    "duration": 586,
    "start_time": "2021-12-28T15:06:02.508Z"
   },
   {
    "duration": 225,
    "start_time": "2021-12-28T15:06:28.726Z"
   },
   {
    "duration": 265,
    "start_time": "2021-12-28T15:06:54.170Z"
   },
   {
    "duration": 233,
    "start_time": "2021-12-28T15:07:44.320Z"
   },
   {
    "duration": 9,
    "start_time": "2021-12-28T15:08:38.581Z"
   },
   {
    "duration": 8,
    "start_time": "2021-12-28T15:09:41.623Z"
   },
   {
    "duration": 9,
    "start_time": "2021-12-28T15:11:12.358Z"
   },
   {
    "duration": 202,
    "start_time": "2021-12-28T15:11:55.137Z"
   },
   {
    "duration": 208,
    "start_time": "2021-12-28T15:18:28.515Z"
   },
   {
    "duration": 10,
    "start_time": "2021-12-28T15:19:30.995Z"
   },
   {
    "duration": 11,
    "start_time": "2021-12-28T15:20:32.516Z"
   },
   {
    "duration": 9,
    "start_time": "2021-12-28T15:21:33.612Z"
   },
   {
    "duration": 191,
    "start_time": "2021-12-28T15:23:00.243Z"
   },
   {
    "duration": 13,
    "start_time": "2021-12-28T15:42:57.341Z"
   },
   {
    "duration": 10,
    "start_time": "2021-12-28T15:43:09.553Z"
   },
   {
    "duration": 9,
    "start_time": "2021-12-28T15:43:31.949Z"
   },
   {
    "duration": 5,
    "start_time": "2021-12-28T15:44:18.549Z"
   },
   {
    "duration": 13,
    "start_time": "2021-12-28T15:44:59.602Z"
   },
   {
    "duration": 13,
    "start_time": "2021-12-28T15:46:59.748Z"
   },
   {
    "duration": 317,
    "start_time": "2021-12-28T15:50:18.964Z"
   },
   {
    "duration": 293,
    "start_time": "2021-12-28T15:50:42.055Z"
   },
   {
    "duration": 3,
    "start_time": "2021-12-28T15:50:48.315Z"
   },
   {
    "duration": 3,
    "start_time": "2021-12-28T15:51:36.069Z"
   },
   {
    "duration": 4,
    "start_time": "2021-12-28T15:51:47.386Z"
   },
   {
    "duration": 5,
    "start_time": "2021-12-28T15:53:02.703Z"
   },
   {
    "duration": 4,
    "start_time": "2021-12-28T15:53:13.518Z"
   },
   {
    "duration": 5,
    "start_time": "2021-12-28T15:53:54.472Z"
   },
   {
    "duration": 10,
    "start_time": "2021-12-28T15:55:41.432Z"
   },
   {
    "duration": 6,
    "start_time": "2021-12-28T15:56:45.801Z"
   },
   {
    "duration": 6,
    "start_time": "2021-12-28T15:56:53.135Z"
   },
   {
    "duration": 14,
    "start_time": "2021-12-28T16:00:32.570Z"
   },
   {
    "duration": 6,
    "start_time": "2021-12-28T16:01:45.293Z"
   },
   {
    "duration": 19,
    "start_time": "2021-12-28T16:03:01.631Z"
   },
   {
    "duration": 6,
    "start_time": "2021-12-28T16:03:52.592Z"
   },
   {
    "duration": 6,
    "start_time": "2021-12-28T16:04:46.113Z"
   },
   {
    "duration": 5,
    "start_time": "2021-12-28T16:05:07.951Z"
   },
   {
    "duration": 5,
    "start_time": "2021-12-28T16:06:17.091Z"
   },
   {
    "duration": 3,
    "start_time": "2021-12-28T16:06:31.849Z"
   },
   {
    "duration": 4,
    "start_time": "2021-12-28T16:07:13.486Z"
   },
   {
    "duration": 1144,
    "start_time": "2021-12-28T16:08:30.461Z"
   },
   {
    "duration": 4,
    "start_time": "2021-12-28T16:08:44.801Z"
   },
   {
    "duration": 5,
    "start_time": "2021-12-28T16:09:25.568Z"
   },
   {
    "duration": 1092,
    "start_time": "2021-12-28T16:10:59.174Z"
   },
   {
    "duration": 47,
    "start_time": "2021-12-28T16:11:00.268Z"
   },
   {
    "duration": 10,
    "start_time": "2021-12-28T16:11:00.318Z"
   },
   {
    "duration": 34,
    "start_time": "2021-12-28T16:11:00.330Z"
   },
   {
    "duration": 13,
    "start_time": "2021-12-28T16:11:00.365Z"
   },
   {
    "duration": 48,
    "start_time": "2021-12-28T16:11:00.380Z"
   },
   {
    "duration": 23,
    "start_time": "2021-12-28T16:11:00.431Z"
   },
   {
    "duration": 10,
    "start_time": "2021-12-28T16:11:00.456Z"
   },
   {
    "duration": 14,
    "start_time": "2021-12-28T16:11:00.468Z"
   },
   {
    "duration": 24,
    "start_time": "2021-12-28T16:11:00.484Z"
   },
   {
    "duration": 19,
    "start_time": "2021-12-28T16:11:00.510Z"
   },
   {
    "duration": 19,
    "start_time": "2021-12-28T16:11:00.531Z"
   },
   {
    "duration": 16,
    "start_time": "2021-12-28T16:11:00.552Z"
   },
   {
    "duration": 10,
    "start_time": "2021-12-28T16:11:00.569Z"
   },
   {
    "duration": 14,
    "start_time": "2021-12-28T16:11:00.581Z"
   },
   {
    "duration": 4,
    "start_time": "2021-12-28T16:11:00.596Z"
   },
   {
    "duration": 6,
    "start_time": "2021-12-28T16:11:00.601Z"
   },
   {
    "duration": 10,
    "start_time": "2021-12-28T16:11:00.609Z"
   },
   {
    "duration": 26,
    "start_time": "2021-12-28T16:11:00.621Z"
   },
   {
    "duration": 12,
    "start_time": "2021-12-28T16:11:00.648Z"
   },
   {
    "duration": 4,
    "start_time": "2021-12-28T16:11:00.661Z"
   },
   {
    "duration": 242,
    "start_time": "2021-12-28T16:11:00.667Z"
   },
   {
    "duration": 24,
    "start_time": "2021-12-28T16:11:00.914Z"
   },
   {
    "duration": 6,
    "start_time": "2021-12-28T16:11:00.942Z"
   },
   {
    "duration": 341,
    "start_time": "2021-12-28T16:11:00.949Z"
   },
   {
    "duration": 290,
    "start_time": "2021-12-28T16:11:01.292Z"
   },
   {
    "duration": 9,
    "start_time": "2021-12-28T16:11:01.583Z"
   },
   {
    "duration": 8,
    "start_time": "2021-12-28T16:11:01.594Z"
   },
   {
    "duration": 31,
    "start_time": "2021-12-28T16:11:01.604Z"
   },
   {
    "duration": 9,
    "start_time": "2021-12-28T16:11:01.637Z"
   },
   {
    "duration": 25,
    "start_time": "2021-12-28T16:11:01.648Z"
   },
   {
    "duration": 7,
    "start_time": "2021-12-28T16:11:01.675Z"
   },
   {
    "duration": 334,
    "start_time": "2021-12-28T16:11:01.684Z"
   },
   {
    "duration": 317,
    "start_time": "2021-12-28T16:11:02.019Z"
   },
   {
    "duration": 14,
    "start_time": "2021-12-28T16:11:02.338Z"
   },
   {
    "duration": 301,
    "start_time": "2021-12-28T16:11:02.354Z"
   },
   {
    "duration": 4,
    "start_time": "2021-12-28T16:11:02.658Z"
   },
   {
    "duration": 294,
    "start_time": "2021-12-28T16:11:02.663Z"
   },
   {
    "duration": 4,
    "start_time": "2021-12-28T16:11:02.959Z"
   },
   {
    "duration": 298,
    "start_time": "2021-12-28T16:11:02.964Z"
   },
   {
    "duration": 4,
    "start_time": "2021-12-28T16:11:03.264Z"
   },
   {
    "duration": 374,
    "start_time": "2021-12-28T16:11:03.269Z"
   },
   {
    "duration": 4,
    "start_time": "2021-12-28T16:11:03.645Z"
   },
   {
    "duration": 13,
    "start_time": "2021-12-28T16:11:03.650Z"
   },
   {
    "duration": 20,
    "start_time": "2021-12-28T16:11:03.664Z"
   },
   {
    "duration": 260,
    "start_time": "2021-12-28T16:11:03.685Z"
   },
   {
    "duration": 261,
    "start_time": "2021-12-28T16:11:03.947Z"
   },
   {
    "duration": 19,
    "start_time": "2021-12-28T16:11:04.210Z"
   },
   {
    "duration": 28,
    "start_time": "2021-12-28T16:11:04.231Z"
   },
   {
    "duration": 9,
    "start_time": "2021-12-28T16:11:04.261Z"
   },
   {
    "duration": 220,
    "start_time": "2021-12-28T16:11:04.272Z"
   },
   {
    "duration": 255,
    "start_time": "2021-12-28T16:11:04.495Z"
   },
   {
    "duration": 10,
    "start_time": "2021-12-28T16:11:04.752Z"
   },
   {
    "duration": 9,
    "start_time": "2021-12-28T16:11:04.763Z"
   },
   {
    "duration": 7,
    "start_time": "2021-12-28T16:11:04.774Z"
   },
   {
    "duration": 244,
    "start_time": "2021-12-28T16:11:04.783Z"
   },
   {
    "duration": 233,
    "start_time": "2021-12-28T16:11:05.029Z"
   },
   {
    "duration": 10,
    "start_time": "2021-12-28T16:11:05.264Z"
   },
   {
    "duration": 10,
    "start_time": "2021-12-28T16:11:05.276Z"
   },
   {
    "duration": 10,
    "start_time": "2021-12-28T16:11:05.288Z"
   },
   {
    "duration": 238,
    "start_time": "2021-12-28T16:11:05.299Z"
   },
   {
    "duration": 18,
    "start_time": "2021-12-28T16:11:05.539Z"
   },
   {
    "duration": 9,
    "start_time": "2021-12-28T16:11:05.559Z"
   },
   {
    "duration": 13,
    "start_time": "2021-12-28T16:11:05.570Z"
   },
   {
    "duration": 5,
    "start_time": "2021-12-28T16:11:05.584Z"
   },
   {
    "duration": 6,
    "start_time": "2021-12-28T16:11:05.591Z"
   },
   {
    "duration": 4,
    "start_time": "2021-12-28T16:11:05.627Z"
   },
   {
    "duration": 15,
    "start_time": "2021-12-28T16:11:05.636Z"
   },
   {
    "duration": 3,
    "start_time": "2021-12-28T16:11:05.653Z"
   },
   {
    "duration": 16,
    "start_time": "2021-12-28T16:11:05.658Z"
   },
   {
    "duration": 6,
    "start_time": "2021-12-28T16:11:05.676Z"
   },
   {
    "duration": 15,
    "start_time": "2021-12-28T16:11:05.683Z"
   },
   {
    "duration": 4,
    "start_time": "2021-12-28T16:11:05.700Z"
   },
   {
    "duration": 6,
    "start_time": "2021-12-28T16:11:05.728Z"
   },
   {
    "duration": 20,
    "start_time": "2021-12-28T16:11:05.735Z"
   },
   {
    "duration": 9,
    "start_time": "2021-12-28T16:11:05.757Z"
   },
   {
    "duration": 3,
    "start_time": "2021-12-28T16:11:05.767Z"
   },
   {
    "duration": 1413,
    "start_time": "2021-12-29T07:11:35.230Z"
   },
   {
    "duration": 64,
    "start_time": "2021-12-29T07:11:36.646Z"
   },
   {
    "duration": 14,
    "start_time": "2021-12-29T07:11:36.714Z"
   },
   {
    "duration": 65,
    "start_time": "2021-12-29T07:11:36.732Z"
   },
   {
    "duration": 23,
    "start_time": "2021-12-29T07:11:36.799Z"
   },
   {
    "duration": 66,
    "start_time": "2021-12-29T07:11:36.824Z"
   },
   {
    "duration": 26,
    "start_time": "2021-12-29T07:11:36.893Z"
   },
   {
    "duration": 45,
    "start_time": "2021-12-29T07:11:36.923Z"
   },
   {
    "duration": 13,
    "start_time": "2021-12-29T07:11:36.971Z"
   },
   {
    "duration": 34,
    "start_time": "2021-12-29T07:11:36.986Z"
   },
   {
    "duration": 8,
    "start_time": "2021-12-29T07:11:37.022Z"
   },
   {
    "duration": 40,
    "start_time": "2021-12-29T07:11:37.033Z"
   },
   {
    "duration": 25,
    "start_time": "2021-12-29T07:11:37.075Z"
   },
   {
    "duration": 17,
    "start_time": "2021-12-29T07:11:37.103Z"
   },
   {
    "duration": 19,
    "start_time": "2021-12-29T07:11:37.122Z"
   },
   {
    "duration": 6,
    "start_time": "2021-12-29T07:11:37.168Z"
   },
   {
    "duration": 25,
    "start_time": "2021-12-29T07:11:37.176Z"
   },
   {
    "duration": 21,
    "start_time": "2021-12-29T07:11:37.203Z"
   },
   {
    "duration": 32,
    "start_time": "2021-12-29T07:11:37.227Z"
   },
   {
    "duration": 18,
    "start_time": "2021-12-29T07:11:37.262Z"
   },
   {
    "duration": 8,
    "start_time": "2021-12-29T07:11:37.283Z"
   },
   {
    "duration": 414,
    "start_time": "2021-12-29T07:11:37.293Z"
   },
   {
    "duration": 20,
    "start_time": "2021-12-29T07:11:37.713Z"
   },
   {
    "duration": 30,
    "start_time": "2021-12-29T07:11:37.737Z"
   },
   {
    "duration": 587,
    "start_time": "2021-12-29T07:11:37.769Z"
   },
   {
    "duration": 435,
    "start_time": "2021-12-29T07:11:38.359Z"
   },
   {
    "duration": 14,
    "start_time": "2021-12-29T07:11:38.797Z"
   },
   {
    "duration": 18,
    "start_time": "2021-12-29T07:11:38.814Z"
   },
   {
    "duration": 41,
    "start_time": "2021-12-29T07:11:38.835Z"
   },
   {
    "duration": 11,
    "start_time": "2021-12-29T07:11:38.878Z"
   },
   {
    "duration": 54,
    "start_time": "2021-12-29T07:11:38.891Z"
   },
   {
    "duration": 26,
    "start_time": "2021-12-29T07:11:38.947Z"
   },
   {
    "duration": 517,
    "start_time": "2021-12-29T07:11:38.975Z"
   },
   {
    "duration": 549,
    "start_time": "2021-12-29T07:11:39.494Z"
   },
   {
    "duration": 34,
    "start_time": "2021-12-29T07:11:40.045Z"
   },
   {
    "duration": 436,
    "start_time": "2021-12-29T07:11:40.082Z"
   },
   {
    "duration": 7,
    "start_time": "2021-12-29T07:11:40.521Z"
   },
   {
    "duration": 439,
    "start_time": "2021-12-29T07:11:40.530Z"
   },
   {
    "duration": 7,
    "start_time": "2021-12-29T07:11:40.972Z"
   },
   {
    "duration": 516,
    "start_time": "2021-12-29T07:11:40.982Z"
   },
   {
    "duration": 8,
    "start_time": "2021-12-29T07:11:41.502Z"
   },
   {
    "duration": 531,
    "start_time": "2021-12-29T07:11:41.513Z"
   },
   {
    "duration": 22,
    "start_time": "2021-12-29T07:11:42.048Z"
   },
   {
    "duration": 14,
    "start_time": "2021-12-29T07:11:42.073Z"
   },
   {
    "duration": 14,
    "start_time": "2021-12-29T07:11:42.091Z"
   },
   {
    "duration": 451,
    "start_time": "2021-12-29T07:11:42.108Z"
   },
   {
    "duration": 438,
    "start_time": "2021-12-29T07:11:42.562Z"
   },
   {
    "duration": 14,
    "start_time": "2021-12-29T07:11:43.003Z"
   },
   {
    "duration": 16,
    "start_time": "2021-12-29T07:11:43.019Z"
   },
   {
    "duration": 38,
    "start_time": "2021-12-29T07:11:43.037Z"
   },
   {
    "duration": 371,
    "start_time": "2021-12-29T07:11:43.078Z"
   },
   {
    "duration": 443,
    "start_time": "2021-12-29T07:11:43.453Z"
   },
   {
    "duration": 13,
    "start_time": "2021-12-29T07:11:43.900Z"
   },
   {
    "duration": 16,
    "start_time": "2021-12-29T07:11:43.916Z"
   },
   {
    "duration": 43,
    "start_time": "2021-12-29T07:11:43.934Z"
   },
   {
    "duration": 404,
    "start_time": "2021-12-29T07:11:43.980Z"
   },
   {
    "duration": 434,
    "start_time": "2021-12-29T07:11:44.387Z"
   },
   {
    "duration": 13,
    "start_time": "2021-12-29T07:11:44.824Z"
   },
   {
    "duration": 35,
    "start_time": "2021-12-29T07:11:44.839Z"
   },
   {
    "duration": 12,
    "start_time": "2021-12-29T07:11:44.877Z"
   },
   {
    "duration": 375,
    "start_time": "2021-12-29T07:11:44.892Z"
   },
   {
    "duration": 21,
    "start_time": "2021-12-29T07:11:45.270Z"
   },
   {
    "duration": 10,
    "start_time": "2021-12-29T07:11:45.293Z"
   },
   {
    "duration": 24,
    "start_time": "2021-12-29T07:11:45.305Z"
   },
   {
    "duration": 42,
    "start_time": "2021-12-29T07:11:45.332Z"
   },
   {
    "duration": 12,
    "start_time": "2021-12-29T07:11:45.377Z"
   },
   {
    "duration": 15,
    "start_time": "2021-12-29T07:11:45.392Z"
   },
   {
    "duration": 6,
    "start_time": "2021-12-29T07:11:45.416Z"
   },
   {
    "duration": 41,
    "start_time": "2021-12-29T07:11:45.426Z"
   },
   {
    "duration": 25,
    "start_time": "2021-12-29T07:11:45.469Z"
   },
   {
    "duration": 8,
    "start_time": "2021-12-29T07:11:45.496Z"
   },
   {
    "duration": 25,
    "start_time": "2021-12-29T07:11:45.506Z"
   },
   {
    "duration": 39,
    "start_time": "2021-12-29T07:11:45.534Z"
   },
   {
    "duration": 11,
    "start_time": "2021-12-29T07:11:45.576Z"
   },
   {
    "duration": 5,
    "start_time": "2021-12-29T07:11:45.590Z"
   },
   {
    "duration": 14,
    "start_time": "2021-12-29T07:11:45.598Z"
   },
   {
    "duration": 4,
    "start_time": "2021-12-29T07:11:45.614Z"
   },
   {
    "duration": 108,
    "start_time": "2021-12-29T07:26:20.350Z"
   },
   {
    "duration": 8371,
    "start_time": "2021-12-29T07:26:37.916Z"
   },
   {
    "duration": 26,
    "start_time": "2021-12-29T07:27:02.948Z"
   },
   {
    "duration": 25,
    "start_time": "2021-12-29T09:07:51.173Z"
   },
   {
    "duration": 22,
    "start_time": "2021-12-29T09:08:04.148Z"
   },
   {
    "duration": 567,
    "start_time": "2021-12-29T09:14:27.875Z"
   },
   {
    "duration": 100,
    "start_time": "2021-12-29T09:42:05.569Z"
   },
   {
    "duration": 28,
    "start_time": "2021-12-29T09:42:10.173Z"
   },
   {
    "duration": 22,
    "start_time": "2021-12-29T09:42:49.946Z"
   },
   {
    "duration": 138,
    "start_time": "2021-12-29T09:43:34.251Z"
   },
   {
    "duration": 17,
    "start_time": "2021-12-29T09:43:40.520Z"
   },
   {
    "duration": 11,
    "start_time": "2021-12-29T09:45:07.838Z"
   },
   {
    "duration": 577,
    "start_time": "2021-12-29T09:45:13.496Z"
   },
   {
    "duration": 1462,
    "start_time": "2021-12-29T09:45:54.775Z"
   },
   {
    "duration": 71,
    "start_time": "2021-12-29T09:45:56.240Z"
   },
   {
    "duration": 14,
    "start_time": "2021-12-29T09:45:56.314Z"
   },
   {
    "duration": 47,
    "start_time": "2021-12-29T09:45:56.331Z"
   },
   {
    "duration": 22,
    "start_time": "2021-12-29T09:45:56.381Z"
   },
   {
    "duration": 42,
    "start_time": "2021-12-29T09:45:56.406Z"
   },
   {
    "duration": 35,
    "start_time": "2021-12-29T09:45:56.450Z"
   },
   {
    "duration": 27,
    "start_time": "2021-12-29T09:45:56.488Z"
   },
   {
    "duration": 14,
    "start_time": "2021-12-29T09:45:56.518Z"
   },
   {
    "duration": 17,
    "start_time": "2021-12-29T09:45:56.535Z"
   },
   {
    "duration": 39,
    "start_time": "2021-12-29T09:45:56.554Z"
   },
   {
    "duration": 7,
    "start_time": "2021-12-29T09:45:56.596Z"
   },
   {
    "duration": 14,
    "start_time": "2021-12-29T09:45:56.605Z"
   },
   {
    "duration": 17,
    "start_time": "2021-12-29T09:45:56.622Z"
   },
   {
    "duration": 9,
    "start_time": "2021-12-29T09:45:56.642Z"
   },
   {
    "duration": 21,
    "start_time": "2021-12-29T09:45:56.653Z"
   },
   {
    "duration": 7,
    "start_time": "2021-12-29T09:45:56.676Z"
   },
   {
    "duration": 9,
    "start_time": "2021-12-29T09:45:56.685Z"
   },
   {
    "duration": 16,
    "start_time": "2021-12-29T09:45:56.696Z"
   },
   {
    "duration": 34,
    "start_time": "2021-12-29T09:45:56.714Z"
   },
   {
    "duration": 17,
    "start_time": "2021-12-29T09:45:56.751Z"
   },
   {
    "duration": 7,
    "start_time": "2021-12-29T09:45:56.771Z"
   },
   {
    "duration": 484,
    "start_time": "2021-12-29T09:45:56.784Z"
   },
   {
    "duration": 19,
    "start_time": "2021-12-29T09:45:57.272Z"
   },
   {
    "duration": 9,
    "start_time": "2021-12-29T09:45:57.294Z"
   },
   {
    "duration": 894,
    "start_time": "2021-12-29T09:45:57.305Z"
   },
   {
    "duration": 387,
    "start_time": "2021-12-29T09:45:58.202Z"
   },
   {
    "duration": 25,
    "start_time": "2021-12-29T09:45:58.592Z"
   },
   {
    "duration": 49,
    "start_time": "2021-12-29T09:45:58.619Z"
   },
   {
    "duration": 11,
    "start_time": "2021-12-29T09:45:58.671Z"
   },
   {
    "duration": 48,
    "start_time": "2021-12-29T09:45:58.684Z"
   },
   {
    "duration": 34,
    "start_time": "2021-12-29T09:45:58.734Z"
   },
   {
    "duration": 501,
    "start_time": "2021-12-29T09:45:58.770Z"
   },
   {
    "duration": 564,
    "start_time": "2021-12-29T09:45:59.273Z"
   },
   {
    "duration": 29,
    "start_time": "2021-12-29T09:45:59.840Z"
   },
   {
    "duration": 539,
    "start_time": "2021-12-29T09:45:59.872Z"
   },
   {
    "duration": 7,
    "start_time": "2021-12-29T09:46:00.414Z"
   },
   {
    "duration": 442,
    "start_time": "2021-12-29T09:46:00.424Z"
   },
   {
    "duration": 8,
    "start_time": "2021-12-29T09:46:00.869Z"
   },
   {
    "duration": 429,
    "start_time": "2021-12-29T09:46:00.880Z"
   },
   {
    "duration": 8,
    "start_time": "2021-12-29T09:46:01.312Z"
   },
   {
    "duration": 538,
    "start_time": "2021-12-29T09:46:01.323Z"
   },
   {
    "duration": 8,
    "start_time": "2021-12-29T09:46:01.867Z"
   },
   {
    "duration": 17,
    "start_time": "2021-12-29T09:46:01.877Z"
   },
   {
    "duration": 34,
    "start_time": "2021-12-29T09:46:01.896Z"
   },
   {
    "duration": 530,
    "start_time": "2021-12-29T09:46:01.933Z"
   },
   {
    "duration": 422,
    "start_time": "2021-12-29T09:46:02.468Z"
   },
   {
    "duration": 14,
    "start_time": "2021-12-29T09:46:02.893Z"
   },
   {
    "duration": 13,
    "start_time": "2021-12-29T09:46:02.909Z"
   },
   {
    "duration": 48,
    "start_time": "2021-12-29T09:46:02.925Z"
   },
   {
    "duration": 356,
    "start_time": "2021-12-29T09:46:02.976Z"
   },
   {
    "duration": 419,
    "start_time": "2021-12-29T09:46:03.336Z"
   },
   {
    "duration": 20,
    "start_time": "2021-12-29T09:46:03.758Z"
   },
   {
    "duration": 14,
    "start_time": "2021-12-29T09:46:03.780Z"
   },
   {
    "duration": 12,
    "start_time": "2021-12-29T09:46:03.796Z"
   },
   {
    "duration": 412,
    "start_time": "2021-12-29T09:46:03.810Z"
   },
   {
    "duration": 406,
    "start_time": "2021-12-29T09:46:04.224Z"
   },
   {
    "duration": 15,
    "start_time": "2021-12-29T09:46:04.633Z"
   },
   {
    "duration": 16,
    "start_time": "2021-12-29T09:46:04.668Z"
   },
   {
    "duration": 13,
    "start_time": "2021-12-29T09:46:04.687Z"
   },
   {
    "duration": 400,
    "start_time": "2021-12-29T09:46:04.703Z"
   },
   {
    "duration": 23,
    "start_time": "2021-12-29T09:46:05.106Z"
   },
   {
    "duration": 37,
    "start_time": "2021-12-29T09:46:05.131Z"
   },
   {
    "duration": 21,
    "start_time": "2021-12-29T09:46:05.172Z"
   },
   {
    "duration": 20,
    "start_time": "2021-12-29T09:46:05.196Z"
   },
   {
    "duration": 684,
    "start_time": "2021-12-29T09:46:05.220Z"
   },
   {
    "duration": -115,
    "start_time": "2021-12-29T09:46:06.023Z"
   },
   {
    "duration": -116,
    "start_time": "2021-12-29T09:46:06.026Z"
   },
   {
    "duration": -118,
    "start_time": "2021-12-29T09:46:06.030Z"
   },
   {
    "duration": -120,
    "start_time": "2021-12-29T09:46:06.034Z"
   },
   {
    "duration": -122,
    "start_time": "2021-12-29T09:46:06.038Z"
   },
   {
    "duration": -123,
    "start_time": "2021-12-29T09:46:06.042Z"
   },
   {
    "duration": -125,
    "start_time": "2021-12-29T09:46:06.046Z"
   },
   {
    "duration": -128,
    "start_time": "2021-12-29T09:46:06.051Z"
   },
   {
    "duration": -131,
    "start_time": "2021-12-29T09:46:06.055Z"
   },
   {
    "duration": -134,
    "start_time": "2021-12-29T09:46:06.060Z"
   },
   {
    "duration": -136,
    "start_time": "2021-12-29T09:46:06.064Z"
   },
   {
    "duration": 11,
    "start_time": "2021-12-29T09:48:05.452Z"
   },
   {
    "duration": 8,
    "start_time": "2021-12-29T09:48:32.480Z"
   },
   {
    "duration": 7,
    "start_time": "2021-12-29T09:48:36.103Z"
   },
   {
    "duration": 5,
    "start_time": "2021-12-29T09:48:58.436Z"
   },
   {
    "duration": 312,
    "start_time": "2021-12-29T09:50:49.795Z"
   },
   {
    "duration": 103,
    "start_time": "2021-12-29T09:51:02.633Z"
   },
   {
    "duration": 6,
    "start_time": "2021-12-29T09:51:12.533Z"
   },
   {
    "duration": 6,
    "start_time": "2021-12-29T09:51:55.235Z"
   },
   {
    "duration": 6,
    "start_time": "2021-12-29T09:52:29.338Z"
   },
   {
    "duration": 8,
    "start_time": "2021-12-29T10:04:43.883Z"
   },
   {
    "duration": 21,
    "start_time": "2021-12-29T10:06:43.985Z"
   },
   {
    "duration": 7,
    "start_time": "2021-12-29T10:07:17.785Z"
   },
   {
    "duration": 8,
    "start_time": "2021-12-29T10:07:54.571Z"
   },
   {
    "duration": 22,
    "start_time": "2021-12-29T10:08:05.618Z"
   },
   {
    "duration": 8,
    "start_time": "2021-12-29T10:08:34.112Z"
   },
   {
    "duration": 7,
    "start_time": "2021-12-29T10:08:54.454Z"
   },
   {
    "duration": 6,
    "start_time": "2021-12-29T10:10:54.868Z"
   },
   {
    "duration": 7,
    "start_time": "2021-12-29T10:12:11.702Z"
   },
   {
    "duration": 1430,
    "start_time": "2021-12-29T11:00:33.306Z"
   },
   {
    "duration": 65,
    "start_time": "2021-12-29T11:00:34.739Z"
   },
   {
    "duration": 15,
    "start_time": "2021-12-29T11:00:34.806Z"
   },
   {
    "duration": 66,
    "start_time": "2021-12-29T11:00:34.824Z"
   },
   {
    "duration": 23,
    "start_time": "2021-12-29T11:00:34.893Z"
   },
   {
    "duration": 65,
    "start_time": "2021-12-29T11:00:34.918Z"
   },
   {
    "duration": 27,
    "start_time": "2021-12-29T11:00:34.985Z"
   },
   {
    "duration": 57,
    "start_time": "2021-12-29T11:00:35.016Z"
   },
   {
    "duration": 15,
    "start_time": "2021-12-29T11:00:35.076Z"
   },
   {
    "duration": 13,
    "start_time": "2021-12-29T11:00:35.094Z"
   },
   {
    "duration": 63,
    "start_time": "2021-12-29T11:00:35.109Z"
   },
   {
    "duration": 7,
    "start_time": "2021-12-29T11:00:35.175Z"
   },
   {
    "duration": 9,
    "start_time": "2021-12-29T11:00:35.186Z"
   },
   {
    "duration": 13,
    "start_time": "2021-12-29T11:00:35.198Z"
   },
   {
    "duration": 53,
    "start_time": "2021-12-29T11:00:35.214Z"
   },
   {
    "duration": 20,
    "start_time": "2021-12-29T11:00:35.270Z"
   },
   {
    "duration": 7,
    "start_time": "2021-12-29T11:00:35.293Z"
   },
   {
    "duration": 8,
    "start_time": "2021-12-29T11:00:35.303Z"
   },
   {
    "duration": 56,
    "start_time": "2021-12-29T11:00:35.313Z"
   },
   {
    "duration": 30,
    "start_time": "2021-12-29T11:00:35.372Z"
   },
   {
    "duration": 19,
    "start_time": "2021-12-29T11:00:35.405Z"
   },
   {
    "duration": 7,
    "start_time": "2021-12-29T11:00:35.426Z"
   },
   {
    "duration": 398,
    "start_time": "2021-12-29T11:00:35.472Z"
   },
   {
    "duration": 18,
    "start_time": "2021-12-29T11:00:35.874Z"
   },
   {
    "duration": 8,
    "start_time": "2021-12-29T11:00:35.895Z"
   },
   {
    "duration": 590,
    "start_time": "2021-12-29T11:00:35.905Z"
   },
   {
    "duration": 396,
    "start_time": "2021-12-29T11:00:36.497Z"
   },
   {
    "duration": 26,
    "start_time": "2021-12-29T11:00:36.895Z"
   },
   {
    "duration": 49,
    "start_time": "2021-12-29T11:00:36.923Z"
   },
   {
    "duration": 11,
    "start_time": "2021-12-29T11:00:36.974Z"
   },
   {
    "duration": 49,
    "start_time": "2021-12-29T11:00:36.987Z"
   },
   {
    "duration": 34,
    "start_time": "2021-12-29T11:00:37.038Z"
   },
   {
    "duration": 505,
    "start_time": "2021-12-29T11:00:37.075Z"
   },
   {
    "duration": 530,
    "start_time": "2021-12-29T11:00:37.582Z"
   },
   {
    "duration": 20,
    "start_time": "2021-12-29T11:00:38.115Z"
   },
   {
    "duration": 484,
    "start_time": "2021-12-29T11:00:38.137Z"
   },
   {
    "duration": 8,
    "start_time": "2021-12-29T11:00:38.624Z"
   },
   {
    "duration": 432,
    "start_time": "2021-12-29T11:00:38.634Z"
   },
   {
    "duration": 7,
    "start_time": "2021-12-29T11:00:39.069Z"
   },
   {
    "duration": 423,
    "start_time": "2021-12-29T11:00:39.079Z"
   },
   {
    "duration": 9,
    "start_time": "2021-12-29T11:00:39.504Z"
   },
   {
    "duration": 527,
    "start_time": "2021-12-29T11:00:39.516Z"
   },
   {
    "duration": 22,
    "start_time": "2021-12-29T11:00:40.045Z"
   },
   {
    "duration": 8,
    "start_time": "2021-12-29T11:00:40.070Z"
   },
   {
    "duration": 18,
    "start_time": "2021-12-29T11:00:40.081Z"
   },
   {
    "duration": 452,
    "start_time": "2021-12-29T11:00:40.102Z"
   },
   {
    "duration": 420,
    "start_time": "2021-12-29T11:00:40.557Z"
   },
   {
    "duration": 13,
    "start_time": "2021-12-29T11:00:40.979Z"
   },
   {
    "duration": 13,
    "start_time": "2021-12-29T11:00:40.994Z"
   },
   {
    "duration": 12,
    "start_time": "2021-12-29T11:00:41.010Z"
   },
   {
    "duration": 425,
    "start_time": "2021-12-29T11:00:41.025Z"
   },
   {
    "duration": 418,
    "start_time": "2021-12-29T11:00:41.452Z"
   },
   {
    "duration": 13,
    "start_time": "2021-12-29T11:00:41.873Z"
   },
   {
    "duration": 21,
    "start_time": "2021-12-29T11:00:41.889Z"
   },
   {
    "duration": 12,
    "start_time": "2021-12-29T11:00:41.912Z"
   },
   {
    "duration": 409,
    "start_time": "2021-12-29T11:00:41.927Z"
   },
   {
    "duration": 417,
    "start_time": "2021-12-29T11:00:42.339Z"
   },
   {
    "duration": 19,
    "start_time": "2021-12-29T11:00:42.758Z"
   },
   {
    "duration": 14,
    "start_time": "2021-12-29T11:00:42.779Z"
   },
   {
    "duration": 12,
    "start_time": "2021-12-29T11:00:42.796Z"
   },
   {
    "duration": 387,
    "start_time": "2021-12-29T11:00:42.811Z"
   },
   {
    "duration": 21,
    "start_time": "2021-12-29T11:00:43.200Z"
   },
   {
    "duration": 8,
    "start_time": "2021-12-29T11:00:43.224Z"
   },
   {
    "duration": 48,
    "start_time": "2021-12-29T11:00:43.235Z"
   },
   {
    "duration": 7,
    "start_time": "2021-12-29T11:00:43.285Z"
   },
   {
    "duration": 33,
    "start_time": "2021-12-29T11:00:43.294Z"
   },
   {
    "duration": 7,
    "start_time": "2021-12-29T11:00:43.329Z"
   },
   {
    "duration": 6,
    "start_time": "2021-12-29T11:00:43.344Z"
   },
   {
    "duration": 24,
    "start_time": "2021-12-29T11:00:43.368Z"
   },
   {
    "duration": 11,
    "start_time": "2021-12-29T11:00:43.395Z"
   },
   {
    "duration": 22,
    "start_time": "2021-12-29T11:00:43.408Z"
   },
   {
    "duration": 40,
    "start_time": "2021-12-29T11:00:43.433Z"
   },
   {
    "duration": 10,
    "start_time": "2021-12-29T11:00:43.476Z"
   },
   {
    "duration": 7,
    "start_time": "2021-12-29T11:00:43.489Z"
   },
   {
    "duration": 9,
    "start_time": "2021-12-29T11:00:43.499Z"
   },
   {
    "duration": 1380,
    "start_time": "2021-12-30T09:06:06.924Z"
   },
   {
    "duration": 74,
    "start_time": "2021-12-30T09:06:08.307Z"
   },
   {
    "duration": 16,
    "start_time": "2021-12-30T09:06:08.384Z"
   },
   {
    "duration": 62,
    "start_time": "2021-12-30T09:06:08.403Z"
   },
   {
    "duration": 24,
    "start_time": "2021-12-30T09:06:08.467Z"
   },
   {
    "duration": 66,
    "start_time": "2021-12-30T09:06:08.494Z"
   },
   {
    "duration": 40,
    "start_time": "2021-12-30T09:06:08.564Z"
   },
   {
    "duration": 61,
    "start_time": "2021-12-30T09:06:08.607Z"
   },
   {
    "duration": 23,
    "start_time": "2021-12-30T09:06:08.674Z"
   },
   {
    "duration": 19,
    "start_time": "2021-12-30T09:06:08.702Z"
   },
   {
    "duration": 74,
    "start_time": "2021-12-30T09:06:08.725Z"
   },
   {
    "duration": 10,
    "start_time": "2021-12-30T09:06:08.802Z"
   },
   {
    "duration": 9,
    "start_time": "2021-12-30T09:06:08.815Z"
   },
   {
    "duration": 15,
    "start_time": "2021-12-30T09:06:08.861Z"
   },
   {
    "duration": 13,
    "start_time": "2021-12-30T09:06:08.879Z"
   },
   {
    "duration": 26,
    "start_time": "2021-12-30T09:06:08.895Z"
   },
   {
    "duration": 38,
    "start_time": "2021-12-30T09:06:08.924Z"
   },
   {
    "duration": 7,
    "start_time": "2021-12-30T09:06:08.964Z"
   },
   {
    "duration": 12,
    "start_time": "2021-12-30T09:06:08.973Z"
   },
   {
    "duration": 27,
    "start_time": "2021-12-30T09:06:08.987Z"
   },
   {
    "duration": 54,
    "start_time": "2021-12-30T09:06:09.017Z"
   },
   {
    "duration": 8,
    "start_time": "2021-12-30T09:06:09.073Z"
   },
   {
    "duration": 396,
    "start_time": "2021-12-30T09:06:09.084Z"
   },
   {
    "duration": 18,
    "start_time": "2021-12-30T09:06:09.483Z"
   },
   {
    "duration": 12,
    "start_time": "2021-12-30T09:06:09.504Z"
   },
   {
    "duration": 912,
    "start_time": "2021-12-30T09:06:09.519Z"
   },
   {
    "duration": 601,
    "start_time": "2021-12-30T09:06:10.445Z"
   },
   {
    "duration": 39,
    "start_time": "2021-12-30T09:06:11.060Z"
   },
   {
    "duration": 59,
    "start_time": "2021-12-30T09:06:11.102Z"
   },
   {
    "duration": 18,
    "start_time": "2021-12-30T09:06:11.165Z"
   },
   {
    "duration": 90,
    "start_time": "2021-12-30T09:06:11.187Z"
   },
   {
    "duration": 8,
    "start_time": "2021-12-30T09:06:11.279Z"
   },
   {
    "duration": 640,
    "start_time": "2021-12-30T09:06:11.289Z"
   },
   {
    "duration": 519,
    "start_time": "2021-12-30T09:06:11.932Z"
   },
   {
    "duration": 25,
    "start_time": "2021-12-30T09:06:12.453Z"
   },
   {
    "duration": 417,
    "start_time": "2021-12-30T09:06:12.481Z"
   },
   {
    "duration": 7,
    "start_time": "2021-12-30T09:06:12.901Z"
   },
   {
    "duration": 464,
    "start_time": "2021-12-30T09:06:12.911Z"
   },
   {
    "duration": 8,
    "start_time": "2021-12-30T09:06:13.377Z"
   },
   {
    "duration": 405,
    "start_time": "2021-12-30T09:06:13.387Z"
   },
   {
    "duration": 6,
    "start_time": "2021-12-30T09:06:13.795Z"
   },
   {
    "duration": 493,
    "start_time": "2021-12-30T09:06:13.804Z"
   },
   {
    "duration": 7,
    "start_time": "2021-12-30T09:06:14.300Z"
   },
   {
    "duration": 13,
    "start_time": "2021-12-30T09:06:14.310Z"
   },
   {
    "duration": 42,
    "start_time": "2021-12-30T09:06:14.325Z"
   },
   {
    "duration": 429,
    "start_time": "2021-12-30T09:06:14.369Z"
   },
   {
    "duration": 424,
    "start_time": "2021-12-30T09:06:14.801Z"
   },
   {
    "duration": 13,
    "start_time": "2021-12-30T09:06:15.228Z"
   },
   {
    "duration": 15,
    "start_time": "2021-12-30T09:06:15.260Z"
   },
   {
    "duration": 14,
    "start_time": "2021-12-30T09:06:15.278Z"
   },
   {
    "duration": 393,
    "start_time": "2021-12-30T09:06:15.295Z"
   },
   {
    "duration": 419,
    "start_time": "2021-12-30T09:06:15.690Z"
   },
   {
    "duration": 15,
    "start_time": "2021-12-30T09:06:16.111Z"
   },
   {
    "duration": 35,
    "start_time": "2021-12-30T09:06:16.129Z"
   },
   {
    "duration": 16,
    "start_time": "2021-12-30T09:06:16.166Z"
   },
   {
    "duration": 387,
    "start_time": "2021-12-30T09:06:16.184Z"
   },
   {
    "duration": 4,
    "start_time": "2021-12-30T09:06:17.904Z"
   },
   {
    "duration": 87,
    "start_time": "2021-12-30T09:06:17.915Z"
   },
   {
    "duration": 14,
    "start_time": "2021-12-30T09:06:18.005Z"
   },
   {
    "duration": 64,
    "start_time": "2021-12-30T09:06:18.021Z"
   },
   {
    "duration": 21,
    "start_time": "2021-12-30T09:06:18.088Z"
   },
   {
    "duration": 74,
    "start_time": "2021-12-30T09:06:18.112Z"
   },
   {
    "duration": 25,
    "start_time": "2021-12-30T09:06:18.188Z"
   },
   {
    "duration": 55,
    "start_time": "2021-12-30T09:06:18.216Z"
   },
   {
    "duration": 17,
    "start_time": "2021-12-30T09:06:18.274Z"
   },
   {
    "duration": 14,
    "start_time": "2021-12-30T09:06:18.294Z"
   },
   {
    "duration": 65,
    "start_time": "2021-12-30T09:06:18.311Z"
   },
   {
    "duration": 8,
    "start_time": "2021-12-30T09:06:18.378Z"
   },
   {
    "duration": 22,
    "start_time": "2021-12-30T09:06:18.388Z"
   },
   {
    "duration": 23,
    "start_time": "2021-12-30T09:06:18.413Z"
   },
   {
    "duration": 10,
    "start_time": "2021-12-30T09:06:18.461Z"
   },
   {
    "duration": 25,
    "start_time": "2021-12-30T09:06:18.474Z"
   },
   {
    "duration": 6,
    "start_time": "2021-12-30T09:06:18.502Z"
   },
   {
    "duration": 9,
    "start_time": "2021-12-30T09:06:18.511Z"
   },
   {
    "duration": 45,
    "start_time": "2021-12-30T09:06:18.522Z"
   },
   {
    "duration": 37,
    "start_time": "2021-12-30T09:06:18.570Z"
   },
   {
    "duration": 27,
    "start_time": "2021-12-30T09:06:18.611Z"
   },
   {
    "duration": 9,
    "start_time": "2021-12-30T09:06:18.659Z"
   },
   {
    "duration": 393,
    "start_time": "2021-12-30T09:06:18.670Z"
   },
   {
    "duration": 19,
    "start_time": "2021-12-30T09:06:19.065Z"
   },
   {
    "duration": 8,
    "start_time": "2021-12-30T09:06:19.087Z"
   },
   {
    "duration": 600,
    "start_time": "2021-12-30T09:06:19.097Z"
   },
   {
    "duration": 461,
    "start_time": "2021-12-30T09:06:19.700Z"
   },
   {
    "duration": 24,
    "start_time": "2021-12-30T09:06:20.164Z"
   },
   {
    "duration": 19,
    "start_time": "2021-12-30T09:06:20.191Z"
   },
   {
    "duration": 12,
    "start_time": "2021-12-30T09:06:20.212Z"
   },
   {
    "duration": 135,
    "start_time": "2021-12-30T09:06:20.260Z"
   },
   {
    "duration": 8,
    "start_time": "2021-12-30T09:06:20.397Z"
   },
   {
    "duration": 496,
    "start_time": "2021-12-30T09:06:20.408Z"
   },
   {
    "duration": 635,
    "start_time": "2021-12-30T09:06:20.907Z"
   },
   {
    "duration": 33,
    "start_time": "2021-12-30T09:06:21.544Z"
   },
   {
    "duration": 412,
    "start_time": "2021-12-30T09:06:21.580Z"
   },
   {
    "duration": 6,
    "start_time": "2021-12-30T09:06:21.994Z"
   },
   {
    "duration": 440,
    "start_time": "2021-12-30T09:06:22.003Z"
   },
   {
    "duration": 14,
    "start_time": "2021-12-30T09:06:22.445Z"
   },
   {
    "duration": 414,
    "start_time": "2021-12-30T09:06:22.461Z"
   },
   {
    "duration": 6,
    "start_time": "2021-12-30T09:06:22.878Z"
   },
   {
    "duration": 405,
    "start_time": "2021-12-30T09:06:22.886Z"
   },
   {
    "duration": 6,
    "start_time": "2021-12-30T09:06:23.294Z"
   },
   {
    "duration": 8,
    "start_time": "2021-12-30T09:06:23.303Z"
   },
   {
    "duration": 46,
    "start_time": "2021-12-30T09:06:23.313Z"
   },
   {
    "duration": 435,
    "start_time": "2021-12-30T09:06:23.361Z"
   },
   {
    "duration": 421,
    "start_time": "2021-12-30T09:06:23.798Z"
   },
   {
    "duration": 20,
    "start_time": "2021-12-30T09:06:24.222Z"
   },
   {
    "duration": 19,
    "start_time": "2021-12-30T09:06:24.261Z"
   },
   {
    "duration": 17,
    "start_time": "2021-12-30T09:06:24.283Z"
   },
   {
    "duration": 368,
    "start_time": "2021-12-30T09:06:24.304Z"
   },
   {
    "duration": 431,
    "start_time": "2021-12-30T09:06:24.675Z"
   },
   {
    "duration": 14,
    "start_time": "2021-12-30T09:06:25.109Z"
   },
   {
    "duration": 36,
    "start_time": "2021-12-30T09:06:25.126Z"
   },
   {
    "duration": 13,
    "start_time": "2021-12-30T09:06:25.164Z"
   },
   {
    "duration": 385,
    "start_time": "2021-12-30T09:06:25.180Z"
   },
   {
    "duration": 520,
    "start_time": "2021-12-30T09:06:25.568Z"
   },
   {
    "duration": 19,
    "start_time": "2021-12-30T09:06:26.091Z"
   },
   {
    "duration": 23,
    "start_time": "2021-12-30T09:06:26.114Z"
   },
   {
    "duration": 18,
    "start_time": "2021-12-30T09:06:26.161Z"
   },
   {
    "duration": 420,
    "start_time": "2021-12-30T09:06:26.182Z"
   },
   {
    "duration": 20,
    "start_time": "2021-12-30T09:06:26.605Z"
   },
   {
    "duration": 33,
    "start_time": "2021-12-30T09:06:26.628Z"
   },
   {
    "duration": 21,
    "start_time": "2021-12-30T09:06:26.664Z"
   },
   {
    "duration": 8,
    "start_time": "2021-12-30T09:06:26.687Z"
   },
   {
    "duration": 8,
    "start_time": "2021-12-30T09:06:26.698Z"
   },
   {
    "duration": 5,
    "start_time": "2021-12-30T09:06:26.708Z"
   },
   {
    "duration": 6,
    "start_time": "2021-12-30T09:06:26.759Z"
   },
   {
    "duration": 23,
    "start_time": "2021-12-30T09:06:26.767Z"
   },
   {
    "duration": 8,
    "start_time": "2021-12-30T09:06:26.792Z"
   },
   {
    "duration": 58,
    "start_time": "2021-12-30T09:06:26.803Z"
   },
   {
    "duration": 7,
    "start_time": "2021-12-30T09:06:26.864Z"
   },
   {
    "duration": 7,
    "start_time": "2021-12-30T09:06:26.881Z"
   },
   {
    "duration": 7,
    "start_time": "2021-12-30T09:06:26.891Z"
   },
   {
    "duration": 7,
    "start_time": "2021-12-30T09:06:26.901Z"
   },
   {
    "duration": 1029,
    "start_time": "2021-12-30T09:57:50.467Z"
   },
   {
    "duration": 47,
    "start_time": "2021-12-30T09:57:51.498Z"
   },
   {
    "duration": 9,
    "start_time": "2021-12-30T09:57:51.547Z"
   },
   {
    "duration": 24,
    "start_time": "2021-12-30T09:57:51.558Z"
   },
   {
    "duration": 13,
    "start_time": "2021-12-30T09:57:51.584Z"
   },
   {
    "duration": 47,
    "start_time": "2021-12-30T09:57:51.598Z"
   },
   {
    "duration": 16,
    "start_time": "2021-12-30T09:57:51.646Z"
   },
   {
    "duration": 16,
    "start_time": "2021-12-30T09:57:51.664Z"
   },
   {
    "duration": 9,
    "start_time": "2021-12-30T09:57:51.681Z"
   },
   {
    "duration": 8,
    "start_time": "2021-12-30T09:57:51.691Z"
   },
   {
    "duration": 20,
    "start_time": "2021-12-30T09:57:51.727Z"
   },
   {
    "duration": 4,
    "start_time": "2021-12-30T09:57:51.748Z"
   },
   {
    "duration": 7,
    "start_time": "2021-12-30T09:57:51.754Z"
   },
   {
    "duration": 8,
    "start_time": "2021-12-30T09:57:51.763Z"
   },
   {
    "duration": 6,
    "start_time": "2021-12-30T09:57:51.773Z"
   },
   {
    "duration": 12,
    "start_time": "2021-12-30T09:57:51.781Z"
   },
   {
    "duration": 4,
    "start_time": "2021-12-30T09:57:51.794Z"
   },
   {
    "duration": 30,
    "start_time": "2021-12-30T09:57:51.799Z"
   },
   {
    "duration": 9,
    "start_time": "2021-12-30T09:57:51.831Z"
   },
   {
    "duration": 16,
    "start_time": "2021-12-30T09:57:51.841Z"
   },
   {
    "duration": 11,
    "start_time": "2021-12-30T09:57:51.859Z"
   },
   {
    "duration": 5,
    "start_time": "2021-12-30T09:57:51.871Z"
   },
   {
    "duration": 234,
    "start_time": "2021-12-30T09:57:51.879Z"
   },
   {
    "duration": 17,
    "start_time": "2021-12-30T09:57:52.116Z"
   },
   {
    "duration": 6,
    "start_time": "2021-12-30T09:57:52.135Z"
   },
   {
    "duration": 331,
    "start_time": "2021-12-30T09:57:52.143Z"
   },
   {
    "duration": 268,
    "start_time": "2021-12-30T09:57:52.477Z"
   },
   {
    "duration": 17,
    "start_time": "2021-12-30T09:57:52.747Z"
   },
   {
    "duration": 11,
    "start_time": "2021-12-30T09:57:52.766Z"
   },
   {
    "duration": 6,
    "start_time": "2021-12-30T09:57:52.778Z"
   },
   {
    "duration": 49,
    "start_time": "2021-12-30T09:57:52.786Z"
   },
   {
    "duration": 6,
    "start_time": "2021-12-30T09:57:52.837Z"
   },
   {
    "duration": 288,
    "start_time": "2021-12-30T09:57:52.844Z"
   },
   {
    "duration": 293,
    "start_time": "2021-12-30T09:57:53.134Z"
   },
   {
    "duration": 13,
    "start_time": "2021-12-30T09:57:53.429Z"
   },
   {
    "duration": 284,
    "start_time": "2021-12-30T09:57:53.443Z"
   },
   {
    "duration": 4,
    "start_time": "2021-12-30T09:57:53.729Z"
   },
   {
    "duration": 275,
    "start_time": "2021-12-30T09:57:53.734Z"
   },
   {
    "duration": 4,
    "start_time": "2021-12-30T09:57:54.011Z"
   },
   {
    "duration": 299,
    "start_time": "2021-12-30T09:57:54.016Z"
   },
   {
    "duration": 11,
    "start_time": "2021-12-30T09:57:54.317Z"
   },
   {
    "duration": 387,
    "start_time": "2021-12-30T09:57:54.330Z"
   },
   {
    "duration": 5,
    "start_time": "2021-12-30T09:57:54.727Z"
   },
   {
    "duration": 5,
    "start_time": "2021-12-30T09:57:54.734Z"
   },
   {
    "duration": 16,
    "start_time": "2021-12-30T09:57:54.741Z"
   },
   {
    "duration": 257,
    "start_time": "2021-12-30T09:57:54.759Z"
   },
   {
    "duration": 243,
    "start_time": "2021-12-30T09:57:55.018Z"
   },
   {
    "duration": 12,
    "start_time": "2021-12-30T09:57:55.263Z"
   },
   {
    "duration": 9,
    "start_time": "2021-12-30T09:57:55.276Z"
   },
   {
    "duration": 8,
    "start_time": "2021-12-30T09:57:55.286Z"
   },
   {
    "duration": 262,
    "start_time": "2021-12-30T09:57:55.296Z"
   },
   {
    "duration": 241,
    "start_time": "2021-12-30T09:57:55.560Z"
   },
   {
    "duration": 8,
    "start_time": "2021-12-30T09:57:55.803Z"
   },
   {
    "duration": 19,
    "start_time": "2021-12-30T09:57:55.813Z"
   },
   {
    "duration": 7,
    "start_time": "2021-12-30T09:57:55.834Z"
   },
   {
    "duration": 218,
    "start_time": "2021-12-30T09:57:55.843Z"
   },
   {
    "duration": 224,
    "start_time": "2021-12-30T09:57:56.063Z"
   },
   {
    "duration": 9,
    "start_time": "2021-12-30T09:57:56.289Z"
   },
   {
    "duration": 10,
    "start_time": "2021-12-30T09:57:56.300Z"
   },
   {
    "duration": 16,
    "start_time": "2021-12-30T09:57:56.312Z"
   },
   {
    "duration": 212,
    "start_time": "2021-12-30T09:57:56.330Z"
   },
   {
    "duration": 13,
    "start_time": "2021-12-30T09:57:56.544Z"
   },
   {
    "duration": 8,
    "start_time": "2021-12-30T09:57:56.559Z"
   },
   {
    "duration": 15,
    "start_time": "2021-12-30T09:57:56.568Z"
   },
   {
    "duration": 9,
    "start_time": "2021-12-30T09:57:56.585Z"
   },
   {
    "duration": 6,
    "start_time": "2021-12-30T09:57:56.595Z"
   },
   {
    "duration": 25,
    "start_time": "2021-12-30T09:57:56.603Z"
   },
   {
    "duration": 4,
    "start_time": "2021-12-30T09:57:56.633Z"
   },
   {
    "duration": 18,
    "start_time": "2021-12-30T09:57:56.639Z"
   },
   {
    "duration": 5,
    "start_time": "2021-12-30T09:57:56.659Z"
   },
   {
    "duration": 18,
    "start_time": "2021-12-30T09:57:56.666Z"
   },
   {
    "duration": 6,
    "start_time": "2021-12-30T09:57:56.685Z"
   },
   {
    "duration": 37,
    "start_time": "2021-12-30T09:57:56.693Z"
   },
   {
    "duration": 10,
    "start_time": "2021-12-30T09:57:56.732Z"
   },
   {
    "duration": 6,
    "start_time": "2021-12-30T09:57:56.743Z"
   },
   {
    "duration": 228,
    "start_time": "2021-12-30T10:07:35.839Z"
   },
   {
    "duration": 228,
    "start_time": "2021-12-30T10:08:45.075Z"
   },
   {
    "duration": 99,
    "start_time": "2021-12-30T10:22:28.298Z"
   },
   {
    "duration": 12,
    "start_time": "2021-12-30T10:22:35.752Z"
   },
   {
    "duration": 11,
    "start_time": "2021-12-30T10:23:17.520Z"
   },
   {
    "duration": 10,
    "start_time": "2021-12-30T10:24:10.220Z"
   },
   {
    "duration": 13,
    "start_time": "2021-12-30T10:25:50.327Z"
   },
   {
    "duration": 13,
    "start_time": "2021-12-30T10:26:28.811Z"
   },
   {
    "duration": 13,
    "start_time": "2021-12-30T10:28:08.991Z"
   },
   {
    "duration": 100,
    "start_time": "2021-12-30T10:31:37.702Z"
   },
   {
    "duration": 102,
    "start_time": "2021-12-30T10:32:47.748Z"
   },
   {
    "duration": 108,
    "start_time": "2021-12-30T10:33:03.891Z"
   },
   {
    "duration": 102,
    "start_time": "2021-12-30T10:33:40.986Z"
   },
   {
    "duration": 420,
    "start_time": "2021-12-30T10:34:09.666Z"
   },
   {
    "duration": 374,
    "start_time": "2021-12-30T10:34:53.105Z"
   },
   {
    "duration": 538,
    "start_time": "2021-12-30T10:35:15.739Z"
   },
   {
    "duration": 302,
    "start_time": "2021-12-30T10:37:40.230Z"
   },
   {
    "duration": 8101,
    "start_time": "2021-12-30T10:38:50.494Z"
   },
   {
    "duration": 104,
    "start_time": "2021-12-30T11:05:11.089Z"
   },
   {
    "duration": 13,
    "start_time": "2021-12-30T11:39:16.122Z"
   }
  ],
  "kernelspec": {
   "display_name": "Python 3 (ipykernel)",
   "language": "python",
   "name": "python3"
  },
  "language_info": {
   "codemirror_mode": {
    "name": "ipython",
    "version": 3
   },
   "file_extension": ".py",
   "mimetype": "text/x-python",
   "name": "python",
   "nbconvert_exporter": "python",
   "pygments_lexer": "ipython3",
   "version": "3.9.7"
  },
  "toc": {
   "base_numbering": 1,
   "nav_menu": {},
   "number_sections": true,
   "sideBar": true,
   "skip_h1_title": true,
   "title_cell": "Table of Contents",
   "title_sidebar": "Contents",
   "toc_cell": false,
   "toc_position": {
    "height": "calc(100% - 180px)",
    "left": "10px",
    "top": "150px",
    "width": "292px"
   },
   "toc_section_display": true,
   "toc_window_display": true
  }
 },
 "nbformat": 4,
 "nbformat_minor": 2
}
