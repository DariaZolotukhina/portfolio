{
 "cells": [
  {
   "cell_type": "markdown",
   "metadata": {},
   "source": [
    "#  Проект: увеличение выручки интернет-магазина\n",
    "\n",
    "Для крупного интернет-магазина подготовлен список гипотез для увеличения выручки.\n",
    "Необходимо приоритизировать гипотезы, запустить A/B-тест и проанализировать результаты.\n"
   ]
  },
  {
   "cell_type": "markdown",
   "metadata": {},
   "source": [
    "## Приоритизация гипотез"
   ]
  },
  {
   "cell_type": "code",
   "execution_count": 1,
   "metadata": {},
   "outputs": [],
   "source": [
    "import pandas as pd\n",
    "from scipy import stats as st\n",
    "import scipy.stats as stats\n",
    "import numpy as np\n",
    "import math as mth\n",
    "import datetime as dt\n",
    "import matplotlib.pyplot as plt\n",
    "from pandas.plotting import register_matplotlib_converters\n",
    "import warnings\n",
    "\n",
    "data = pd.read_csv('/datasets/hypothesis.csv')"
   ]
  },
  {
   "cell_type": "code",
   "execution_count": 2,
   "metadata": {},
   "outputs": [
    {
     "data": {
      "text/html": [
       "<style  type=\"text/css\" >\n",
       "    #T_e9a80156_93bc_11ec_af15_02420a39743frow0_col1 {\n",
       "            background-color:  #b3b3ff;\n",
       "            color:  #000000;\n",
       "        }    #T_e9a80156_93bc_11ec_af15_02420a39743frow0_col2 {\n",
       "            background-color:  #0000ff;\n",
       "            color:  #f1f1f1;\n",
       "        }    #T_e9a80156_93bc_11ec_af15_02420a39743frow0_col3 {\n",
       "            background-color:  #1c1cff;\n",
       "            color:  #f1f1f1;\n",
       "        }    #T_e9a80156_93bc_11ec_af15_02420a39743frow0_col4 {\n",
       "            background-color:  #6666ff;\n",
       "            color:  #000000;\n",
       "        }    #T_e9a80156_93bc_11ec_af15_02420a39743frow1_col1 {\n",
       "            background-color:  #ccccff;\n",
       "            color:  #000000;\n",
       "        }    #T_e9a80156_93bc_11ec_af15_02420a39743frow1_col2 {\n",
       "            background-color:  #8080ff;\n",
       "            color:  #000000;\n",
       "        }    #T_e9a80156_93bc_11ec_af15_02420a39743frow1_col3 {\n",
       "            background-color:  #8f8fff;\n",
       "            color:  #000000;\n",
       "        }    #T_e9a80156_93bc_11ec_af15_02420a39743frow1_col4 {\n",
       "            background-color:  #0000ff;\n",
       "            color:  #f1f1f1;\n",
       "        }    #T_e9a80156_93bc_11ec_af15_02420a39743frow2_col1 {\n",
       "            background-color:  #3232ff;\n",
       "            color:  #f1f1f1;\n",
       "        }    #T_e9a80156_93bc_11ec_af15_02420a39743frow2_col2 {\n",
       "            background-color:  #b3b3ff;\n",
       "            color:  #000000;\n",
       "        }    #T_e9a80156_93bc_11ec_af15_02420a39743frow2_col3 {\n",
       "            background-color:  #3939ff;\n",
       "            color:  #f1f1f1;\n",
       "        }    #T_e9a80156_93bc_11ec_af15_02420a39743frow2_col4 {\n",
       "            background-color:  #b3b3ff;\n",
       "            color:  #000000;\n",
       "        }    #T_e9a80156_93bc_11ec_af15_02420a39743frow3_col1 {\n",
       "            background-color:  #3232ff;\n",
       "            color:  #f1f1f1;\n",
       "        }    #T_e9a80156_93bc_11ec_af15_02420a39743frow3_col2 {\n",
       "            background-color:  #b3b3ff;\n",
       "            color:  #000000;\n",
       "        }    #T_e9a80156_93bc_11ec_af15_02420a39743frow3_col3 {\n",
       "            background-color:  #acacff;\n",
       "            color:  #000000;\n",
       "        }    #T_e9a80156_93bc_11ec_af15_02420a39743frow3_col4 {\n",
       "            background-color:  #3232ff;\n",
       "            color:  #f1f1f1;\n",
       "        }    #T_e9a80156_93bc_11ec_af15_02420a39743frow4_col1 {\n",
       "            background-color:  #b3b3ff;\n",
       "            color:  #000000;\n",
       "        }    #T_e9a80156_93bc_11ec_af15_02420a39743frow4_col2 {\n",
       "            background-color:  #e5e5ff;\n",
       "            color:  #000000;\n",
       "        }    #T_e9a80156_93bc_11ec_af15_02420a39743frow4_col3 {\n",
       "            background-color:  #e5e5ff;\n",
       "            color:  #000000;\n",
       "        }    #T_e9a80156_93bc_11ec_af15_02420a39743frow4_col4 {\n",
       "            background-color:  #e5e5ff;\n",
       "            color:  #000000;\n",
       "        }    #T_e9a80156_93bc_11ec_af15_02420a39743frow5_col1 {\n",
       "            background-color:  #b3b3ff;\n",
       "            color:  #000000;\n",
       "        }    #T_e9a80156_93bc_11ec_af15_02420a39743frow5_col2 {\n",
       "            background-color:  #ccccff;\n",
       "            color:  #000000;\n",
       "        }    #T_e9a80156_93bc_11ec_af15_02420a39743frow5_col3 {\n",
       "            background-color:  #c9c9ff;\n",
       "            color:  #000000;\n",
       "        }    #T_e9a80156_93bc_11ec_af15_02420a39743frow5_col4 {\n",
       "            background-color:  #b3b3ff;\n",
       "            color:  #000000;\n",
       "        }    #T_e9a80156_93bc_11ec_af15_02420a39743frow6_col1 {\n",
       "            background-color:  #8080ff;\n",
       "            color:  #000000;\n",
       "        }    #T_e9a80156_93bc_11ec_af15_02420a39743frow6_col2 {\n",
       "            background-color:  #b3b3ff;\n",
       "            color:  #000000;\n",
       "        }    #T_e9a80156_93bc_11ec_af15_02420a39743frow6_col3 {\n",
       "            background-color:  #1c1cff;\n",
       "            color:  #f1f1f1;\n",
       "        }    #T_e9a80156_93bc_11ec_af15_02420a39743frow6_col4 {\n",
       "            background-color:  #b3b3ff;\n",
       "            color:  #000000;\n",
       "        }    #T_e9a80156_93bc_11ec_af15_02420a39743frow7_col1 {\n",
       "            background-color:  #0000ff;\n",
       "            color:  #f1f1f1;\n",
       "        }    #T_e9a80156_93bc_11ec_af15_02420a39743frow7_col2 {\n",
       "            background-color:  #4d4dff;\n",
       "            color:  #f1f1f1;\n",
       "        }    #T_e9a80156_93bc_11ec_af15_02420a39743frow7_col3 {\n",
       "            background-color:  #1c1cff;\n",
       "            color:  #f1f1f1;\n",
       "        }    #T_e9a80156_93bc_11ec_af15_02420a39743frow7_col4 {\n",
       "            background-color:  #8080ff;\n",
       "            color:  #000000;\n",
       "        }    #T_e9a80156_93bc_11ec_af15_02420a39743frow8_col1 {\n",
       "            background-color:  #e5e5ff;\n",
       "            color:  #000000;\n",
       "        }    #T_e9a80156_93bc_11ec_af15_02420a39743frow8_col2 {\n",
       "            background-color:  #1919ff;\n",
       "            color:  #f1f1f1;\n",
       "        }    #T_e9a80156_93bc_11ec_af15_02420a39743frow8_col3 {\n",
       "            background-color:  #0000ff;\n",
       "            color:  #f1f1f1;\n",
       "        }    #T_e9a80156_93bc_11ec_af15_02420a39743frow8_col4 {\n",
       "            background-color:  #8080ff;\n",
       "            color:  #000000;\n",
       "        }</style><table id=\"T_e9a80156_93bc_11ec_af15_02420a39743f\" ><thead>    <tr>        <th class=\"blank level0\" ></th>        <th class=\"col_heading level0 col0\" >Hypothesis</th>        <th class=\"col_heading level0 col1\" >Reach</th>        <th class=\"col_heading level0 col2\" >Impact</th>        <th class=\"col_heading level0 col3\" >Confidence</th>        <th class=\"col_heading level0 col4\" >Efforts</th>    </tr></thead><tbody>\n",
       "                <tr>\n",
       "                        <th id=\"T_e9a80156_93bc_11ec_af15_02420a39743flevel0_row0\" class=\"row_heading level0 row0\" >0</th>\n",
       "                        <td id=\"T_e9a80156_93bc_11ec_af15_02420a39743frow0_col0\" class=\"data row0 col0\" >Добавить два новых канала привлечения трафика, что позволит привлекать на 30% больше пользователей</td>\n",
       "                        <td id=\"T_e9a80156_93bc_11ec_af15_02420a39743frow0_col1\" class=\"data row0 col1\" >3</td>\n",
       "                        <td id=\"T_e9a80156_93bc_11ec_af15_02420a39743frow0_col2\" class=\"data row0 col2\" >10</td>\n",
       "                        <td id=\"T_e9a80156_93bc_11ec_af15_02420a39743frow0_col3\" class=\"data row0 col3\" >8</td>\n",
       "                        <td id=\"T_e9a80156_93bc_11ec_af15_02420a39743frow0_col4\" class=\"data row0 col4\" >6</td>\n",
       "            </tr>\n",
       "            <tr>\n",
       "                        <th id=\"T_e9a80156_93bc_11ec_af15_02420a39743flevel0_row1\" class=\"row_heading level0 row1\" >1</th>\n",
       "                        <td id=\"T_e9a80156_93bc_11ec_af15_02420a39743frow1_col0\" class=\"data row1 col0\" >Запустить собственную службу доставки, что сократит срок доставки заказов</td>\n",
       "                        <td id=\"T_e9a80156_93bc_11ec_af15_02420a39743frow1_col1\" class=\"data row1 col1\" >2</td>\n",
       "                        <td id=\"T_e9a80156_93bc_11ec_af15_02420a39743frow1_col2\" class=\"data row1 col2\" >5</td>\n",
       "                        <td id=\"T_e9a80156_93bc_11ec_af15_02420a39743frow1_col3\" class=\"data row1 col3\" >4</td>\n",
       "                        <td id=\"T_e9a80156_93bc_11ec_af15_02420a39743frow1_col4\" class=\"data row1 col4\" >10</td>\n",
       "            </tr>\n",
       "            <tr>\n",
       "                        <th id=\"T_e9a80156_93bc_11ec_af15_02420a39743flevel0_row2\" class=\"row_heading level0 row2\" >2</th>\n",
       "                        <td id=\"T_e9a80156_93bc_11ec_af15_02420a39743frow2_col0\" class=\"data row2 col0\" >Добавить блоки рекомендаций товаров на сайт интернет магазина, чтобы повысить конверсию и средний чек заказа</td>\n",
       "                        <td id=\"T_e9a80156_93bc_11ec_af15_02420a39743frow2_col1\" class=\"data row2 col1\" >8</td>\n",
       "                        <td id=\"T_e9a80156_93bc_11ec_af15_02420a39743frow2_col2\" class=\"data row2 col2\" >3</td>\n",
       "                        <td id=\"T_e9a80156_93bc_11ec_af15_02420a39743frow2_col3\" class=\"data row2 col3\" >7</td>\n",
       "                        <td id=\"T_e9a80156_93bc_11ec_af15_02420a39743frow2_col4\" class=\"data row2 col4\" >3</td>\n",
       "            </tr>\n",
       "            <tr>\n",
       "                        <th id=\"T_e9a80156_93bc_11ec_af15_02420a39743flevel0_row3\" class=\"row_heading level0 row3\" >3</th>\n",
       "                        <td id=\"T_e9a80156_93bc_11ec_af15_02420a39743frow3_col0\" class=\"data row3 col0\" >Изменить структура категорий, что увеличит конверсию, т.к. пользователи быстрее найдут нужный товар</td>\n",
       "                        <td id=\"T_e9a80156_93bc_11ec_af15_02420a39743frow3_col1\" class=\"data row3 col1\" >8</td>\n",
       "                        <td id=\"T_e9a80156_93bc_11ec_af15_02420a39743frow3_col2\" class=\"data row3 col2\" >3</td>\n",
       "                        <td id=\"T_e9a80156_93bc_11ec_af15_02420a39743frow3_col3\" class=\"data row3 col3\" >3</td>\n",
       "                        <td id=\"T_e9a80156_93bc_11ec_af15_02420a39743frow3_col4\" class=\"data row3 col4\" >8</td>\n",
       "            </tr>\n",
       "            <tr>\n",
       "                        <th id=\"T_e9a80156_93bc_11ec_af15_02420a39743flevel0_row4\" class=\"row_heading level0 row4\" >4</th>\n",
       "                        <td id=\"T_e9a80156_93bc_11ec_af15_02420a39743frow4_col0\" class=\"data row4 col0\" >Изменить цвет фона главной страницы, чтобы увеличить вовлеченность пользователей</td>\n",
       "                        <td id=\"T_e9a80156_93bc_11ec_af15_02420a39743frow4_col1\" class=\"data row4 col1\" >3</td>\n",
       "                        <td id=\"T_e9a80156_93bc_11ec_af15_02420a39743frow4_col2\" class=\"data row4 col2\" >1</td>\n",
       "                        <td id=\"T_e9a80156_93bc_11ec_af15_02420a39743frow4_col3\" class=\"data row4 col3\" >1</td>\n",
       "                        <td id=\"T_e9a80156_93bc_11ec_af15_02420a39743frow4_col4\" class=\"data row4 col4\" >1</td>\n",
       "            </tr>\n",
       "            <tr>\n",
       "                        <th id=\"T_e9a80156_93bc_11ec_af15_02420a39743flevel0_row5\" class=\"row_heading level0 row5\" >5</th>\n",
       "                        <td id=\"T_e9a80156_93bc_11ec_af15_02420a39743frow5_col0\" class=\"data row5 col0\" >Добавить страницу отзывов клиентов о магазине, что позволит увеличить количество заказов</td>\n",
       "                        <td id=\"T_e9a80156_93bc_11ec_af15_02420a39743frow5_col1\" class=\"data row5 col1\" >3</td>\n",
       "                        <td id=\"T_e9a80156_93bc_11ec_af15_02420a39743frow5_col2\" class=\"data row5 col2\" >2</td>\n",
       "                        <td id=\"T_e9a80156_93bc_11ec_af15_02420a39743frow5_col3\" class=\"data row5 col3\" >2</td>\n",
       "                        <td id=\"T_e9a80156_93bc_11ec_af15_02420a39743frow5_col4\" class=\"data row5 col4\" >3</td>\n",
       "            </tr>\n",
       "            <tr>\n",
       "                        <th id=\"T_e9a80156_93bc_11ec_af15_02420a39743flevel0_row6\" class=\"row_heading level0 row6\" >6</th>\n",
       "                        <td id=\"T_e9a80156_93bc_11ec_af15_02420a39743frow6_col0\" class=\"data row6 col0\" >Показать на главной странице баннеры с актуальными акциями и распродажами, чтобы увеличить конверсию</td>\n",
       "                        <td id=\"T_e9a80156_93bc_11ec_af15_02420a39743frow6_col1\" class=\"data row6 col1\" >5</td>\n",
       "                        <td id=\"T_e9a80156_93bc_11ec_af15_02420a39743frow6_col2\" class=\"data row6 col2\" >3</td>\n",
       "                        <td id=\"T_e9a80156_93bc_11ec_af15_02420a39743frow6_col3\" class=\"data row6 col3\" >8</td>\n",
       "                        <td id=\"T_e9a80156_93bc_11ec_af15_02420a39743frow6_col4\" class=\"data row6 col4\" >3</td>\n",
       "            </tr>\n",
       "            <tr>\n",
       "                        <th id=\"T_e9a80156_93bc_11ec_af15_02420a39743flevel0_row7\" class=\"row_heading level0 row7\" >7</th>\n",
       "                        <td id=\"T_e9a80156_93bc_11ec_af15_02420a39743frow7_col0\" class=\"data row7 col0\" >Добавить форму подписки на все основные страницы, чтобы собрать базу клиентов для email-рассылок</td>\n",
       "                        <td id=\"T_e9a80156_93bc_11ec_af15_02420a39743frow7_col1\" class=\"data row7 col1\" >10</td>\n",
       "                        <td id=\"T_e9a80156_93bc_11ec_af15_02420a39743frow7_col2\" class=\"data row7 col2\" >7</td>\n",
       "                        <td id=\"T_e9a80156_93bc_11ec_af15_02420a39743frow7_col3\" class=\"data row7 col3\" >8</td>\n",
       "                        <td id=\"T_e9a80156_93bc_11ec_af15_02420a39743frow7_col4\" class=\"data row7 col4\" >5</td>\n",
       "            </tr>\n",
       "            <tr>\n",
       "                        <th id=\"T_e9a80156_93bc_11ec_af15_02420a39743flevel0_row8\" class=\"row_heading level0 row8\" >8</th>\n",
       "                        <td id=\"T_e9a80156_93bc_11ec_af15_02420a39743frow8_col0\" class=\"data row8 col0\" >Запустить акцию, дающую скидку на товар в день рождения</td>\n",
       "                        <td id=\"T_e9a80156_93bc_11ec_af15_02420a39743frow8_col1\" class=\"data row8 col1\" >1</td>\n",
       "                        <td id=\"T_e9a80156_93bc_11ec_af15_02420a39743frow8_col2\" class=\"data row8 col2\" >9</td>\n",
       "                        <td id=\"T_e9a80156_93bc_11ec_af15_02420a39743frow8_col3\" class=\"data row8 col3\" >9</td>\n",
       "                        <td id=\"T_e9a80156_93bc_11ec_af15_02420a39743frow8_col4\" class=\"data row8 col4\" >5</td>\n",
       "            </tr>\n",
       "    </tbody></table>"
      ],
      "text/plain": [
       "<pandas.io.formats.style.Styler at 0x7f9cfd800410>"
      ]
     },
     "execution_count": 2,
     "metadata": {},
     "output_type": "execute_result"
    }
   ],
   "source": [
    "#data.head(10)\n",
    "#прочитаем файл с гипотезами и приоретизируем их параметры цветом\n",
    "import seaborn as sns\n",
    "cm = sns.light_palette(\"blue\", as_cmap=True)\n",
    "data.style.background_gradient(cmap=cm)"
   ]
  },
  {
   "cell_type": "markdown",
   "metadata": {},
   "source": [
    "В файле /datasets/hypothesis.csv содержится 9 гипотез по увеличению выручки интернет-магазина с указанными параметрами Reach, Impact, Confidence, Effort.\n",
    "\n",
    "Reach — скольких пользователей затронет изменение;\n",
    "\n",
    "Impact — насколько сильно изменение повлияет на пользователей, их опыт и удовлетворение от продукта;\n",
    "\n",
    "Confidence — насколько вы уверены, что это изменение повлияет на пользователей именно так;\n",
    "\n",
    "Efforts — сколько стоит протестировать эту гипотезу.\n",
    "\n",
    "Все параметры оценены по шкале от 1 до 10."
   ]
  },
  {
   "cell_type": "code",
   "execution_count": 3,
   "metadata": {},
   "outputs": [],
   "source": [
    "data.columns = data.columns.str.lower()"
   ]
  },
  {
   "cell_type": "code",
   "execution_count": 4,
   "metadata": {},
   "outputs": [
    {
     "data": {
      "text/html": [
       "<div>\n",
       "<style scoped>\n",
       "    .dataframe tbody tr th:only-of-type {\n",
       "        vertical-align: middle;\n",
       "    }\n",
       "\n",
       "    .dataframe tbody tr th {\n",
       "        vertical-align: top;\n",
       "    }\n",
       "\n",
       "    .dataframe thead th {\n",
       "        text-align: right;\n",
       "    }\n",
       "</style>\n",
       "<table border=\"1\" class=\"dataframe\">\n",
       "  <thead>\n",
       "    <tr style=\"text-align: right;\">\n",
       "      <th></th>\n",
       "      <th>hypothesis</th>\n",
       "      <th>ICE</th>\n",
       "    </tr>\n",
       "  </thead>\n",
       "  <tbody>\n",
       "    <tr>\n",
       "      <td>8</td>\n",
       "      <td>Запустить акцию, дающую скидку на товар в день...</td>\n",
       "      <td>16.200000</td>\n",
       "    </tr>\n",
       "    <tr>\n",
       "      <td>0</td>\n",
       "      <td>Добавить два новых канала привлечения трафика,...</td>\n",
       "      <td>13.333333</td>\n",
       "    </tr>\n",
       "    <tr>\n",
       "      <td>7</td>\n",
       "      <td>Добавить форму подписки на все основные страни...</td>\n",
       "      <td>11.200000</td>\n",
       "    </tr>\n",
       "    <tr>\n",
       "      <td>6</td>\n",
       "      <td>Показать на главной странице баннеры с актуаль...</td>\n",
       "      <td>8.000000</td>\n",
       "    </tr>\n",
       "    <tr>\n",
       "      <td>2</td>\n",
       "      <td>Добавить блоки рекомендаций товаров на сайт ин...</td>\n",
       "      <td>7.000000</td>\n",
       "    </tr>\n",
       "    <tr>\n",
       "      <td>1</td>\n",
       "      <td>Запустить собственную службу доставки, что сок...</td>\n",
       "      <td>2.000000</td>\n",
       "    </tr>\n",
       "    <tr>\n",
       "      <td>5</td>\n",
       "      <td>Добавить страницу отзывов клиентов о магазине,...</td>\n",
       "      <td>1.333333</td>\n",
       "    </tr>\n",
       "    <tr>\n",
       "      <td>3</td>\n",
       "      <td>Изменить структура категорий, что увеличит кон...</td>\n",
       "      <td>1.125000</td>\n",
       "    </tr>\n",
       "    <tr>\n",
       "      <td>4</td>\n",
       "      <td>Изменить цвет фона главной страницы, чтобы уве...</td>\n",
       "      <td>1.000000</td>\n",
       "    </tr>\n",
       "  </tbody>\n",
       "</table>\n",
       "</div>"
      ],
      "text/plain": [
       "                                          hypothesis        ICE\n",
       "8  Запустить акцию, дающую скидку на товар в день...  16.200000\n",
       "0  Добавить два новых канала привлечения трафика,...  13.333333\n",
       "7  Добавить форму подписки на все основные страни...  11.200000\n",
       "6  Показать на главной странице баннеры с актуаль...   8.000000\n",
       "2  Добавить блоки рекомендаций товаров на сайт ин...   7.000000\n",
       "1  Запустить собственную службу доставки, что сок...   2.000000\n",
       "5  Добавить страницу отзывов клиентов о магазине,...   1.333333\n",
       "3  Изменить структура категорий, что увеличит кон...   1.125000\n",
       "4  Изменить цвет фона главной страницы, чтобы уве...   1.000000"
      ]
     },
     "metadata": {},
     "output_type": "display_data"
    }
   ],
   "source": [
    "#Применим фреймворк ICE для приоритизации гипотез\n",
    "\n",
    "data['ICE'] = data['impact'] * data['confidence'] / data['efforts']\n",
    "display(data[['hypothesis', 'ICE']].sort_values(by='ICE', ascending=False))\n",
    "pd.set_option('display.float_format', '{:.2f}'.format)\n",
    "pd.set_option('display.max_colwidth', 200)"
   ]
  },
  {
   "cell_type": "code",
   "execution_count": 5,
   "metadata": {},
   "outputs": [
    {
     "data": {
      "text/html": [
       "<div>\n",
       "<style scoped>\n",
       "    .dataframe tbody tr th:only-of-type {\n",
       "        vertical-align: middle;\n",
       "    }\n",
       "\n",
       "    .dataframe tbody tr th {\n",
       "        vertical-align: top;\n",
       "    }\n",
       "\n",
       "    .dataframe thead th {\n",
       "        text-align: right;\n",
       "    }\n",
       "</style>\n",
       "<table border=\"1\" class=\"dataframe\">\n",
       "  <thead>\n",
       "    <tr style=\"text-align: right;\">\n",
       "      <th></th>\n",
       "      <th>hypothesis</th>\n",
       "      <th>RICE</th>\n",
       "    </tr>\n",
       "  </thead>\n",
       "  <tbody>\n",
       "    <tr>\n",
       "      <td>7</td>\n",
       "      <td>Добавить форму подписки на все основные страницы, чтобы собрать базу клиентов для email-рассылок</td>\n",
       "      <td>112.00</td>\n",
       "    </tr>\n",
       "    <tr>\n",
       "      <td>2</td>\n",
       "      <td>Добавить блоки рекомендаций товаров на сайт интернет магазина, чтобы повысить конверсию и средний чек заказа</td>\n",
       "      <td>56.00</td>\n",
       "    </tr>\n",
       "    <tr>\n",
       "      <td>0</td>\n",
       "      <td>Добавить два новых канала привлечения трафика, что позволит привлекать на 30% больше пользователей</td>\n",
       "      <td>40.00</td>\n",
       "    </tr>\n",
       "    <tr>\n",
       "      <td>6</td>\n",
       "      <td>Показать на главной странице баннеры с актуальными акциями и распродажами, чтобы увеличить конверсию</td>\n",
       "      <td>40.00</td>\n",
       "    </tr>\n",
       "    <tr>\n",
       "      <td>8</td>\n",
       "      <td>Запустить акцию, дающую скидку на товар в день рождения</td>\n",
       "      <td>16.20</td>\n",
       "    </tr>\n",
       "    <tr>\n",
       "      <td>3</td>\n",
       "      <td>Изменить структура категорий, что увеличит конверсию, т.к. пользователи быстрее найдут нужный товар</td>\n",
       "      <td>9.00</td>\n",
       "    </tr>\n",
       "    <tr>\n",
       "      <td>1</td>\n",
       "      <td>Запустить собственную службу доставки, что сократит срок доставки заказов</td>\n",
       "      <td>4.00</td>\n",
       "    </tr>\n",
       "    <tr>\n",
       "      <td>5</td>\n",
       "      <td>Добавить страницу отзывов клиентов о магазине, что позволит увеличить количество заказов</td>\n",
       "      <td>4.00</td>\n",
       "    </tr>\n",
       "    <tr>\n",
       "      <td>4</td>\n",
       "      <td>Изменить цвет фона главной страницы, чтобы увеличить вовлеченность пользователей</td>\n",
       "      <td>3.00</td>\n",
       "    </tr>\n",
       "  </tbody>\n",
       "</table>\n",
       "</div>"
      ],
      "text/plain": [
       "                                                                                                     hypothesis  \\\n",
       "7              Добавить форму подписки на все основные страницы, чтобы собрать базу клиентов для email-рассылок   \n",
       "2  Добавить блоки рекомендаций товаров на сайт интернет магазина, чтобы повысить конверсию и средний чек заказа   \n",
       "0            Добавить два новых канала привлечения трафика, что позволит привлекать на 30% больше пользователей   \n",
       "6          Показать на главной странице баннеры с актуальными акциями и распродажами, чтобы увеличить конверсию   \n",
       "8                                                       Запустить акцию, дающую скидку на товар в день рождения   \n",
       "3           Изменить структура категорий, что увеличит конверсию, т.к. пользователи быстрее найдут нужный товар   \n",
       "1                                     Запустить собственную службу доставки, что сократит срок доставки заказов   \n",
       "5                      Добавить страницу отзывов клиентов о магазине, что позволит увеличить количество заказов   \n",
       "4                              Изменить цвет фона главной страницы, чтобы увеличить вовлеченность пользователей   \n",
       "\n",
       "    RICE  \n",
       "7 112.00  \n",
       "2  56.00  \n",
       "0  40.00  \n",
       "6  40.00  \n",
       "8  16.20  \n",
       "3   9.00  \n",
       "1   4.00  \n",
       "5   4.00  \n",
       "4   3.00  "
      ]
     },
     "metadata": {},
     "output_type": "display_data"
    }
   ],
   "source": [
    "#Применим фреймворк RICE для приоритизации гипотез\n",
    "data['RICE'] = data['reach'] * data['impact'] * data['confidence'] / data['efforts']\n",
    "display(data[['hypothesis', 'RICE']].sort_values(by='RICE', ascending=False))\n",
    "pd.set_option('display.max_colwidth', 200)"
   ]
  },
  {
   "cell_type": "code",
   "execution_count": 6,
   "metadata": {},
   "outputs": [
    {
     "data": {
      "text/html": [
       "<style  type=\"text/css\" >\n",
       "    #T_e9bb459a_93bc_11ec_af15_02420a39743frow0_col1 {\n",
       "            background-color:  #4c4cff;\n",
       "            color:  #f1f1f1;\n",
       "        }    #T_e9bb459a_93bc_11ec_af15_02420a39743frow0_col2 {\n",
       "            background-color:  #0000ff;\n",
       "            color:  #f1f1f1;\n",
       "        }    #T_e9bb459a_93bc_11ec_af15_02420a39743frow1_col1 {\n",
       "            background-color:  #8b8bff;\n",
       "            color:  #000000;\n",
       "        }    #T_e9bb459a_93bc_11ec_af15_02420a39743frow1_col2 {\n",
       "            background-color:  #7676ff;\n",
       "            color:  #000000;\n",
       "        }    #T_e9bb459a_93bc_11ec_af15_02420a39743frow2_col1 {\n",
       "            background-color:  #2b2bff;\n",
       "            color:  #f1f1f1;\n",
       "        }    #T_e9bb459a_93bc_11ec_af15_02420a39743frow2_col2 {\n",
       "            background-color:  #9898ff;\n",
       "            color:  #000000;\n",
       "        }    #T_e9bb459a_93bc_11ec_af15_02420a39743frow3_col1 {\n",
       "            background-color:  #7c7cff;\n",
       "            color:  #000000;\n",
       "        }    #T_e9bb459a_93bc_11ec_af15_02420a39743frow3_col2 {\n",
       "            background-color:  #9898ff;\n",
       "            color:  #000000;\n",
       "        }    #T_e9bb459a_93bc_11ec_af15_02420a39743frow4_col1 {\n",
       "            background-color:  #0000ff;\n",
       "            color:  #f1f1f1;\n",
       "        }    #T_e9bb459a_93bc_11ec_af15_02420a39743frow4_col2 {\n",
       "            background-color:  #cacaff;\n",
       "            color:  #000000;\n",
       "        }    #T_e9bb459a_93bc_11ec_af15_02420a39743frow5_col1 {\n",
       "            background-color:  #e4e4ff;\n",
       "            color:  #000000;\n",
       "        }    #T_e9bb459a_93bc_11ec_af15_02420a39743frow5_col2 {\n",
       "            background-color:  #d9d9ff;\n",
       "            color:  #000000;\n",
       "        }    #T_e9bb459a_93bc_11ec_af15_02420a39743frow6_col1 {\n",
       "            background-color:  #d7d7ff;\n",
       "            color:  #000000;\n",
       "        }    #T_e9bb459a_93bc_11ec_af15_02420a39743frow6_col2 {\n",
       "            background-color:  #e4e4ff;\n",
       "            color:  #000000;\n",
       "        }    #T_e9bb459a_93bc_11ec_af15_02420a39743frow7_col1 {\n",
       "            background-color:  #e1e1ff;\n",
       "            color:  #000000;\n",
       "        }    #T_e9bb459a_93bc_11ec_af15_02420a39743frow7_col2 {\n",
       "            background-color:  #e4e4ff;\n",
       "            color:  #000000;\n",
       "        }    #T_e9bb459a_93bc_11ec_af15_02420a39743frow8_col1 {\n",
       "            background-color:  #e5e5ff;\n",
       "            color:  #000000;\n",
       "        }    #T_e9bb459a_93bc_11ec_af15_02420a39743frow8_col2 {\n",
       "            background-color:  #e5e5ff;\n",
       "            color:  #000000;\n",
       "        }</style><table id=\"T_e9bb459a_93bc_11ec_af15_02420a39743f\" ><thead>    <tr>        <th class=\"blank level0\" ></th>        <th class=\"col_heading level0 col0\" >hypothesis</th>        <th class=\"col_heading level0 col1\" >ICE</th>        <th class=\"col_heading level0 col2\" >RICE</th>    </tr></thead><tbody>\n",
       "                <tr>\n",
       "                        <th id=\"T_e9bb459a_93bc_11ec_af15_02420a39743flevel0_row0\" class=\"row_heading level0 row0\" >7</th>\n",
       "                        <td id=\"T_e9bb459a_93bc_11ec_af15_02420a39743frow0_col0\" class=\"data row0 col0\" >Добавить форму подписки на все основные страницы, чтобы собрать базу клиентов для email-рассылок</td>\n",
       "                        <td id=\"T_e9bb459a_93bc_11ec_af15_02420a39743frow0_col1\" class=\"data row0 col1\" >11.2</td>\n",
       "                        <td id=\"T_e9bb459a_93bc_11ec_af15_02420a39743frow0_col2\" class=\"data row0 col2\" >112</td>\n",
       "            </tr>\n",
       "            <tr>\n",
       "                        <th id=\"T_e9bb459a_93bc_11ec_af15_02420a39743flevel0_row1\" class=\"row_heading level0 row1\" >2</th>\n",
       "                        <td id=\"T_e9bb459a_93bc_11ec_af15_02420a39743frow1_col0\" class=\"data row1 col0\" >Добавить блоки рекомендаций товаров на сайт интернет магазина, чтобы повысить конверсию и средний чек заказа</td>\n",
       "                        <td id=\"T_e9bb459a_93bc_11ec_af15_02420a39743frow1_col1\" class=\"data row1 col1\" >7</td>\n",
       "                        <td id=\"T_e9bb459a_93bc_11ec_af15_02420a39743frow1_col2\" class=\"data row1 col2\" >56</td>\n",
       "            </tr>\n",
       "            <tr>\n",
       "                        <th id=\"T_e9bb459a_93bc_11ec_af15_02420a39743flevel0_row2\" class=\"row_heading level0 row2\" >0</th>\n",
       "                        <td id=\"T_e9bb459a_93bc_11ec_af15_02420a39743frow2_col0\" class=\"data row2 col0\" >Добавить два новых канала привлечения трафика, что позволит привлекать на 30% больше пользователей</td>\n",
       "                        <td id=\"T_e9bb459a_93bc_11ec_af15_02420a39743frow2_col1\" class=\"data row2 col1\" >13.3333</td>\n",
       "                        <td id=\"T_e9bb459a_93bc_11ec_af15_02420a39743frow2_col2\" class=\"data row2 col2\" >40</td>\n",
       "            </tr>\n",
       "            <tr>\n",
       "                        <th id=\"T_e9bb459a_93bc_11ec_af15_02420a39743flevel0_row3\" class=\"row_heading level0 row3\" >6</th>\n",
       "                        <td id=\"T_e9bb459a_93bc_11ec_af15_02420a39743frow3_col0\" class=\"data row3 col0\" >Показать на главной странице баннеры с актуальными акциями и распродажами, чтобы увеличить конверсию</td>\n",
       "                        <td id=\"T_e9bb459a_93bc_11ec_af15_02420a39743frow3_col1\" class=\"data row3 col1\" >8</td>\n",
       "                        <td id=\"T_e9bb459a_93bc_11ec_af15_02420a39743frow3_col2\" class=\"data row3 col2\" >40</td>\n",
       "            </tr>\n",
       "            <tr>\n",
       "                        <th id=\"T_e9bb459a_93bc_11ec_af15_02420a39743flevel0_row4\" class=\"row_heading level0 row4\" >8</th>\n",
       "                        <td id=\"T_e9bb459a_93bc_11ec_af15_02420a39743frow4_col0\" class=\"data row4 col0\" >Запустить акцию, дающую скидку на товар в день рождения</td>\n",
       "                        <td id=\"T_e9bb459a_93bc_11ec_af15_02420a39743frow4_col1\" class=\"data row4 col1\" >16.2</td>\n",
       "                        <td id=\"T_e9bb459a_93bc_11ec_af15_02420a39743frow4_col2\" class=\"data row4 col2\" >16.2</td>\n",
       "            </tr>\n",
       "            <tr>\n",
       "                        <th id=\"T_e9bb459a_93bc_11ec_af15_02420a39743flevel0_row5\" class=\"row_heading level0 row5\" >3</th>\n",
       "                        <td id=\"T_e9bb459a_93bc_11ec_af15_02420a39743frow5_col0\" class=\"data row5 col0\" >Изменить структура категорий, что увеличит конверсию, т.к. пользователи быстрее найдут нужный товар</td>\n",
       "                        <td id=\"T_e9bb459a_93bc_11ec_af15_02420a39743frow5_col1\" class=\"data row5 col1\" >1.125</td>\n",
       "                        <td id=\"T_e9bb459a_93bc_11ec_af15_02420a39743frow5_col2\" class=\"data row5 col2\" >9</td>\n",
       "            </tr>\n",
       "            <tr>\n",
       "                        <th id=\"T_e9bb459a_93bc_11ec_af15_02420a39743flevel0_row6\" class=\"row_heading level0 row6\" >1</th>\n",
       "                        <td id=\"T_e9bb459a_93bc_11ec_af15_02420a39743frow6_col0\" class=\"data row6 col0\" >Запустить собственную службу доставки, что сократит срок доставки заказов</td>\n",
       "                        <td id=\"T_e9bb459a_93bc_11ec_af15_02420a39743frow6_col1\" class=\"data row6 col1\" >2</td>\n",
       "                        <td id=\"T_e9bb459a_93bc_11ec_af15_02420a39743frow6_col2\" class=\"data row6 col2\" >4</td>\n",
       "            </tr>\n",
       "            <tr>\n",
       "                        <th id=\"T_e9bb459a_93bc_11ec_af15_02420a39743flevel0_row7\" class=\"row_heading level0 row7\" >5</th>\n",
       "                        <td id=\"T_e9bb459a_93bc_11ec_af15_02420a39743frow7_col0\" class=\"data row7 col0\" >Добавить страницу отзывов клиентов о магазине, что позволит увеличить количество заказов</td>\n",
       "                        <td id=\"T_e9bb459a_93bc_11ec_af15_02420a39743frow7_col1\" class=\"data row7 col1\" >1.33333</td>\n",
       "                        <td id=\"T_e9bb459a_93bc_11ec_af15_02420a39743frow7_col2\" class=\"data row7 col2\" >4</td>\n",
       "            </tr>\n",
       "            <tr>\n",
       "                        <th id=\"T_e9bb459a_93bc_11ec_af15_02420a39743flevel0_row8\" class=\"row_heading level0 row8\" >4</th>\n",
       "                        <td id=\"T_e9bb459a_93bc_11ec_af15_02420a39743frow8_col0\" class=\"data row8 col0\" >Изменить цвет фона главной страницы, чтобы увеличить вовлеченность пользователей</td>\n",
       "                        <td id=\"T_e9bb459a_93bc_11ec_af15_02420a39743frow8_col1\" class=\"data row8 col1\" >1</td>\n",
       "                        <td id=\"T_e9bb459a_93bc_11ec_af15_02420a39743frow8_col2\" class=\"data row8 col2\" >3</td>\n",
       "            </tr>\n",
       "    </tbody></table>"
      ],
      "text/plain": [
       "<pandas.io.formats.style.Styler at 0x7f9cfb942e90>"
      ]
     },
     "execution_count": 6,
     "metadata": {},
     "output_type": "execute_result"
    }
   ],
   "source": [
    "#посмотрим на изменения, собрав все данные в одной таблице\n",
    "data_hypothesis = data[['hypothesis', 'ICE', 'RICE']].sort_values(by='RICE', ascending=False)\n",
    "\n",
    "data_hypothesis.style.background_gradient(cmap=cm)\n"
   ]
  },
  {
   "cell_type": "code",
   "execution_count": 7,
   "metadata": {},
   "outputs": [
    {
     "data": {
      "image/png": "[encoded data removed]",
      "text/plain": [
       "<Figure size 432x288 with 1 Axes>"
      ]
     },
     "metadata": {
      "needs_background": "light"
     },
     "output_type": "display_data"
    }
   ],
   "source": [
    "#построим графики приоретизации гипотез для ICE и RICE\n",
    "x = np.arange(9)\n",
    "data_hypothesis.plot(kind='bar')\n",
    "plt.title('Сравнение ICE и RICE по гипотезам')\n",
    "plt.xlabel('Номер гипотезы')\n",
    "plt.ylabel('Величена показателя')\n",
    "plt.show()"
   ]
  },
  {
   "cell_type": "markdown",
   "metadata": {},
   "source": [
    "**Вывод**\n",
    "\n",
    "\n",
    "Использовав ICE, мы получили, что 8, 0 и 7 - наиболее приоритетные для проведения тестирования гипотезы.\n",
    "Однако, применив, RICE, ситуация поменялась - лидерами стали 7, 2 и 0 гипотезы. Это произошло, так как в RICE учитывается также охват пользоватлей, то есть сколько человек почувствуют на себе изменения. Оказалось, что у нас две гипотезы - 0 и 7 - наиболее важные по двум способом приоретизации гипотез для проведения тестирования."
   ]
  },
  {
   "cell_type": "markdown",
   "metadata": {},
   "source": [
    "## Анализ A/B-теста\n"
   ]
  },
  {
   "cell_type": "code",
   "execution_count": 8,
   "metadata": {},
   "outputs": [
    {
     "data": {
      "text/html": [
       "<div>\n",
       "<style scoped>\n",
       "    .dataframe tbody tr th:only-of-type {\n",
       "        vertical-align: middle;\n",
       "    }\n",
       "\n",
       "    .dataframe tbody tr th {\n",
       "        vertical-align: top;\n",
       "    }\n",
       "\n",
       "    .dataframe thead th {\n",
       "        text-align: right;\n",
       "    }\n",
       "</style>\n",
       "<table border=\"1\" class=\"dataframe\">\n",
       "  <thead>\n",
       "    <tr style=\"text-align: right;\">\n",
       "      <th></th>\n",
       "      <th>transactionId</th>\n",
       "      <th>visitorId</th>\n",
       "      <th>date</th>\n",
       "      <th>revenue</th>\n",
       "      <th>group</th>\n",
       "    </tr>\n",
       "  </thead>\n",
       "  <tbody>\n",
       "    <tr>\n",
       "      <td>0</td>\n",
       "      <td>3667963787</td>\n",
       "      <td>3312258926</td>\n",
       "      <td>2019-08-15</td>\n",
       "      <td>1650</td>\n",
       "      <td>B</td>\n",
       "    </tr>\n",
       "    <tr>\n",
       "      <td>1</td>\n",
       "      <td>2804400009</td>\n",
       "      <td>3642806036</td>\n",
       "      <td>2019-08-15</td>\n",
       "      <td>730</td>\n",
       "      <td>B</td>\n",
       "    </tr>\n",
       "    <tr>\n",
       "      <td>2</td>\n",
       "      <td>2961555356</td>\n",
       "      <td>4069496402</td>\n",
       "      <td>2019-08-15</td>\n",
       "      <td>400</td>\n",
       "      <td>A</td>\n",
       "    </tr>\n",
       "    <tr>\n",
       "      <td>3</td>\n",
       "      <td>3797467345</td>\n",
       "      <td>1196621759</td>\n",
       "      <td>2019-08-15</td>\n",
       "      <td>9759</td>\n",
       "      <td>B</td>\n",
       "    </tr>\n",
       "    <tr>\n",
       "      <td>4</td>\n",
       "      <td>2282983706</td>\n",
       "      <td>2322279887</td>\n",
       "      <td>2019-08-15</td>\n",
       "      <td>2308</td>\n",
       "      <td>B</td>\n",
       "    </tr>\n",
       "  </tbody>\n",
       "</table>\n",
       "</div>"
      ],
      "text/plain": [
       "   transactionId   visitorId        date  revenue group\n",
       "0     3667963787  3312258926  2019-08-15     1650     B\n",
       "1     2804400009  3642806036  2019-08-15      730     B\n",
       "2     2961555356  4069496402  2019-08-15      400     A\n",
       "3     3797467345  1196621759  2019-08-15     9759     B\n",
       "4     2282983706  2322279887  2019-08-15     2308     B"
      ]
     },
     "execution_count": 8,
     "metadata": {},
     "output_type": "execute_result"
    }
   ],
   "source": [
    "# познакомимся с таблицей orders\n",
    "orders = pd.read_csv('/datasets/orders.csv')\n",
    "orders.head()"
   ]
  },
  {
   "cell_type": "code",
   "execution_count": 9,
   "metadata": {},
   "outputs": [
    {
     "name": "stdout",
     "output_type": "stream",
     "text": [
      "<class 'pandas.core.frame.DataFrame'>\n",
      "RangeIndex: 1197 entries, 0 to 1196\n",
      "Data columns (total 5 columns):\n",
      "transactionId    1197 non-null int64\n",
      "visitorId        1197 non-null int64\n",
      "date             1197 non-null object\n",
      "revenue          1197 non-null int64\n",
      "group            1197 non-null object\n",
      "dtypes: int64(3), object(2)\n",
      "memory usage: 46.9+ KB\n"
     ]
    }
   ],
   "source": [
    "orders.info()"
   ]
  },
  {
   "cell_type": "code",
   "execution_count": 10,
   "metadata": {},
   "outputs": [
    {
     "data": {
      "text/plain": [
       "0"
      ]
     },
     "execution_count": 10,
     "metadata": {},
     "output_type": "execute_result"
    }
   ],
   "source": [
    "#проверим на дубликаты\n",
    "orders.duplicated().sum() "
   ]
  },
  {
   "cell_type": "markdown",
   "metadata": {},
   "source": [
    "**Вывод**\n",
    "\n",
    "Таблица **orders** c результатами A/B-теста содержит запись о 1197 событиях, и содержит информацию в пяти столбцах:\n",
    "\n",
    "transactionId — идентификатор заказа;\n",
    "\n",
    "visitorId — идентификатор пользователя, совершившего заказ;\n",
    "\n",
    "date — дата, когда был совершён заказ;\n",
    "\n",
    "revenue — выручка заказа;\n",
    "\n",
    "group — группа A/B-теста, в которую попал заказ.\n",
    "\n",
    "Пропусков, а также дубликатов в данных нет. \n",
    "\n",
    "Тип данных столбцов- object и int64, стоблец с данными о дате заказа потребует изменения типа."
   ]
  },
  {
   "cell_type": "code",
   "execution_count": 11,
   "metadata": {},
   "outputs": [
    {
     "data": {
      "text/html": [
       "<div>\n",
       "<style scoped>\n",
       "    .dataframe tbody tr th:only-of-type {\n",
       "        vertical-align: middle;\n",
       "    }\n",
       "\n",
       "    .dataframe tbody tr th {\n",
       "        vertical-align: top;\n",
       "    }\n",
       "\n",
       "    .dataframe thead th {\n",
       "        text-align: right;\n",
       "    }\n",
       "</style>\n",
       "<table border=\"1\" class=\"dataframe\">\n",
       "  <thead>\n",
       "    <tr style=\"text-align: right;\">\n",
       "      <th></th>\n",
       "      <th>date</th>\n",
       "      <th>group</th>\n",
       "      <th>visitors</th>\n",
       "    </tr>\n",
       "  </thead>\n",
       "  <tbody>\n",
       "    <tr>\n",
       "      <td>0</td>\n",
       "      <td>2019-08-01</td>\n",
       "      <td>A</td>\n",
       "      <td>719</td>\n",
       "    </tr>\n",
       "    <tr>\n",
       "      <td>1</td>\n",
       "      <td>2019-08-02</td>\n",
       "      <td>A</td>\n",
       "      <td>619</td>\n",
       "    </tr>\n",
       "    <tr>\n",
       "      <td>2</td>\n",
       "      <td>2019-08-03</td>\n",
       "      <td>A</td>\n",
       "      <td>507</td>\n",
       "    </tr>\n",
       "    <tr>\n",
       "      <td>3</td>\n",
       "      <td>2019-08-04</td>\n",
       "      <td>A</td>\n",
       "      <td>717</td>\n",
       "    </tr>\n",
       "    <tr>\n",
       "      <td>4</td>\n",
       "      <td>2019-08-05</td>\n",
       "      <td>A</td>\n",
       "      <td>756</td>\n",
       "    </tr>\n",
       "  </tbody>\n",
       "</table>\n",
       "</div>"
      ],
      "text/plain": [
       "         date group  visitors\n",
       "0  2019-08-01     A       719\n",
       "1  2019-08-02     A       619\n",
       "2  2019-08-03     A       507\n",
       "3  2019-08-04     A       717\n",
       "4  2019-08-05     A       756"
      ]
     },
     "execution_count": 11,
     "metadata": {},
     "output_type": "execute_result"
    }
   ],
   "source": [
    "# познакомимся с таблицей visitors\n",
    "visitors = pd.read_csv('/datasets/visitors.csv')\n",
    "visitors.head()"
   ]
  },
  {
   "cell_type": "code",
   "execution_count": 12,
   "metadata": {},
   "outputs": [
    {
     "name": "stdout",
     "output_type": "stream",
     "text": [
      "<class 'pandas.core.frame.DataFrame'>\n",
      "RangeIndex: 62 entries, 0 to 61\n",
      "Data columns (total 3 columns):\n",
      "date        62 non-null object\n",
      "group       62 non-null object\n",
      "visitors    62 non-null int64\n",
      "dtypes: int64(1), object(2)\n",
      "memory usage: 1.6+ KB\n"
     ]
    }
   ],
   "source": [
    "visitors.info()"
   ]
  },
  {
   "cell_type": "code",
   "execution_count": 13,
   "metadata": {},
   "outputs": [
    {
     "data": {
      "text/plain": [
       "0"
      ]
     },
     "execution_count": 13,
     "metadata": {},
     "output_type": "execute_result"
    }
   ],
   "source": [
    "#проверим на дубликаты\n",
    "visitors.duplicated().sum() "
   ]
  },
  {
   "cell_type": "markdown",
   "metadata": {},
   "source": [
    "**Вывод**\n",
    "\n",
    "Таблица **visitors** c результатами A/B-теста содержит запись о 62 событиях, и содержит информацию в трех столбцах:\n",
    "\n",
    "date — дата;\n",
    "\n",
    "group — группа A/B-теста;\n",
    "\n",
    "visitors — количество пользователей в указанную дату в указанной группе A/B-теста\n",
    "\n",
    "\n",
    "Пропусков, а также дубликатов в данных нет.\n",
    "\n",
    "Тип данных столбцов- object и int64, стоблец с данными о дате потребует изменения типа."
   ]
  },
  {
   "cell_type": "code",
   "execution_count": 14,
   "metadata": {},
   "outputs": [],
   "source": [
    "# преобразование данных о времени\n",
    "visitors['date'] = pd.to_datetime(visitors['date'])\n",
    "\n",
    "orders['date'] = pd.to_datetime(orders['date'])"
   ]
  },
  {
   "cell_type": "code",
   "execution_count": 15,
   "metadata": {},
   "outputs": [
    {
     "name": "stdout",
     "output_type": "stream",
     "text": [
      "2019-08-01 00:00:00\n",
      "2019-08-31 00:00:00\n"
     ]
    }
   ],
   "source": [
    "#посмотрим на временной интервал таблицы orders\n",
    "min_orders_date = orders['date'].min()\n",
    "max_orders_date = orders['date'].max() \n",
    "\n",
    "print(min_orders_date)\n",
    "print(max_orders_date)"
   ]
  },
  {
   "cell_type": "code",
   "execution_count": 16,
   "metadata": {},
   "outputs": [
    {
     "name": "stdout",
     "output_type": "stream",
     "text": [
      "50\n",
      "1294500\n"
     ]
    }
   ],
   "source": [
    "#посмотрим, нет ли аномальий в значениях выручки таблицы orders\n",
    "min_orders_revenue = orders['revenue'].min()\n",
    "max_orders_revenue = orders['revenue'].max() \n",
    "\n",
    "print(min_orders_revenue)\n",
    "print(max_orders_revenue)"
   ]
  },
  {
   "cell_type": "markdown",
   "metadata": {},
   "source": [
    "**Вывод**\n",
    "\n",
    "Показатели выручки имеют большой разброс: от 50 до почти 1,3 млн. Есть большая вероятность, что в данных есть аномальные значения, которые могут искажать общую картину теста."
   ]
  },
  {
   "cell_type": "code",
   "execution_count": 17,
   "metadata": {},
   "outputs": [
    {
     "name": "stdout",
     "output_type": "stream",
     "text": [
      "2019-08-01 00:00:00\n",
      "2019-08-31 00:00:00\n"
     ]
    }
   ],
   "source": [
    "#посмотрим на временной интервал таблицы visitors\n",
    "min_visitors_date = visitors['date'].min()\n",
    "max_visitors_date = visitors['date'].max() \n",
    "\n",
    "print(min_visitors_date)\n",
    "print(max_visitors_date)"
   ]
  },
  {
   "cell_type": "code",
   "execution_count": 18,
   "metadata": {},
   "outputs": [
    {
     "data": {
      "text/html": [
       "<div>\n",
       "<style scoped>\n",
       "    .dataframe tbody tr th:only-of-type {\n",
       "        vertical-align: middle;\n",
       "    }\n",
       "\n",
       "    .dataframe tbody tr th {\n",
       "        vertical-align: top;\n",
       "    }\n",
       "\n",
       "    .dataframe thead th {\n",
       "        text-align: right;\n",
       "    }\n",
       "</style>\n",
       "<table border=\"1\" class=\"dataframe\">\n",
       "  <thead>\n",
       "    <tr style=\"text-align: right;\">\n",
       "      <th></th>\n",
       "      <th>transactionId</th>\n",
       "      <th>visitorId</th>\n",
       "      <th>date</th>\n",
       "      <th>revenue</th>\n",
       "      <th>group</th>\n",
       "    </tr>\n",
       "  </thead>\n",
       "  <tbody>\n",
       "    <tr>\n",
       "      <td>0</td>\n",
       "      <td>2961555356</td>\n",
       "      <td>4069496402</td>\n",
       "      <td>2019-08-15</td>\n",
       "      <td>400</td>\n",
       "      <td>A</td>\n",
       "    </tr>\n",
       "    <tr>\n",
       "      <td>1</td>\n",
       "      <td>2626614568</td>\n",
       "      <td>78758296</td>\n",
       "      <td>2019-08-15</td>\n",
       "      <td>1044</td>\n",
       "      <td>A</td>\n",
       "    </tr>\n",
       "    <tr>\n",
       "      <td>2</td>\n",
       "      <td>1576988021</td>\n",
       "      <td>295230930</td>\n",
       "      <td>2019-08-15</td>\n",
       "      <td>13710</td>\n",
       "      <td>A</td>\n",
       "    </tr>\n",
       "    <tr>\n",
       "      <td>3</td>\n",
       "      <td>3649131742</td>\n",
       "      <td>879864040</td>\n",
       "      <td>2019-08-15</td>\n",
       "      <td>4008</td>\n",
       "      <td>A</td>\n",
       "    </tr>\n",
       "    <tr>\n",
       "      <td>4</td>\n",
       "      <td>2809384911</td>\n",
       "      <td>3213223594</td>\n",
       "      <td>2019-08-15</td>\n",
       "      <td>7370</td>\n",
       "      <td>A</td>\n",
       "    </tr>\n",
       "    <tr>\n",
       "      <td>...</td>\n",
       "      <td>...</td>\n",
       "      <td>...</td>\n",
       "      <td>...</td>\n",
       "      <td>...</td>\n",
       "      <td>...</td>\n",
       "    </tr>\n",
       "    <tr>\n",
       "      <td>552</td>\n",
       "      <td>2274188238</td>\n",
       "      <td>132143192</td>\n",
       "      <td>2019-08-14</td>\n",
       "      <td>750</td>\n",
       "      <td>A</td>\n",
       "    </tr>\n",
       "    <tr>\n",
       "      <td>553</td>\n",
       "      <td>1692103379</td>\n",
       "      <td>1022829655</td>\n",
       "      <td>2019-08-14</td>\n",
       "      <td>112</td>\n",
       "      <td>A</td>\n",
       "    </tr>\n",
       "    <tr>\n",
       "      <td>554</td>\n",
       "      <td>2203539145</td>\n",
       "      <td>370388673</td>\n",
       "      <td>2019-08-14</td>\n",
       "      <td>3190</td>\n",
       "      <td>A</td>\n",
       "    </tr>\n",
       "    <tr>\n",
       "      <td>555</td>\n",
       "      <td>1807773912</td>\n",
       "      <td>573423106</td>\n",
       "      <td>2019-08-14</td>\n",
       "      <td>10550</td>\n",
       "      <td>A</td>\n",
       "    </tr>\n",
       "    <tr>\n",
       "      <td>556</td>\n",
       "      <td>1947021204</td>\n",
       "      <td>1614305549</td>\n",
       "      <td>2019-08-14</td>\n",
       "      <td>100</td>\n",
       "      <td>A</td>\n",
       "    </tr>\n",
       "  </tbody>\n",
       "</table>\n",
       "<p>557 rows × 5 columns</p>\n",
       "</div>"
      ],
      "text/plain": [
       "     transactionId   visitorId       date  revenue group\n",
       "0       2961555356  4069496402 2019-08-15      400     A\n",
       "1       2626614568    78758296 2019-08-15     1044     A\n",
       "2       1576988021   295230930 2019-08-15    13710     A\n",
       "3       3649131742   879864040 2019-08-15     4008     A\n",
       "4       2809384911  3213223594 2019-08-15     7370     A\n",
       "..             ...         ...        ...      ...   ...\n",
       "552     2274188238   132143192 2019-08-14      750     A\n",
       "553     1692103379  1022829655 2019-08-14      112     A\n",
       "554     2203539145   370388673 2019-08-14     3190     A\n",
       "555     1807773912   573423106 2019-08-14    10550     A\n",
       "556     1947021204  1614305549 2019-08-14      100     A\n",
       "\n",
       "[557 rows x 5 columns]"
      ]
     },
     "execution_count": 18,
     "metadata": {},
     "output_type": "execute_result"
    }
   ],
   "source": [
    "#отфильтруем таблицу orders по столбцу А\n",
    "orders_a = orders[orders['group'] == 'A'].reset_index(drop=True)\n",
    "orders_a"
   ]
  },
  {
   "cell_type": "code",
   "execution_count": 19,
   "metadata": {},
   "outputs": [
    {
     "data": {
      "text/html": [
       "<div>\n",
       "<style scoped>\n",
       "    .dataframe tbody tr th:only-of-type {\n",
       "        vertical-align: middle;\n",
       "    }\n",
       "\n",
       "    .dataframe tbody tr th {\n",
       "        vertical-align: top;\n",
       "    }\n",
       "\n",
       "    .dataframe thead th {\n",
       "        text-align: right;\n",
       "    }\n",
       "</style>\n",
       "<table border=\"1\" class=\"dataframe\">\n",
       "  <thead>\n",
       "    <tr style=\"text-align: right;\">\n",
       "      <th></th>\n",
       "      <th>transactionId</th>\n",
       "      <th>visitorId</th>\n",
       "      <th>date</th>\n",
       "      <th>revenue</th>\n",
       "      <th>group</th>\n",
       "    </tr>\n",
       "  </thead>\n",
       "  <tbody>\n",
       "    <tr>\n",
       "      <td>0</td>\n",
       "      <td>3667963787</td>\n",
       "      <td>3312258926</td>\n",
       "      <td>2019-08-15</td>\n",
       "      <td>1650</td>\n",
       "      <td>B</td>\n",
       "    </tr>\n",
       "    <tr>\n",
       "      <td>1</td>\n",
       "      <td>2804400009</td>\n",
       "      <td>3642806036</td>\n",
       "      <td>2019-08-15</td>\n",
       "      <td>730</td>\n",
       "      <td>B</td>\n",
       "    </tr>\n",
       "    <tr>\n",
       "      <td>2</td>\n",
       "      <td>3797467345</td>\n",
       "      <td>1196621759</td>\n",
       "      <td>2019-08-15</td>\n",
       "      <td>9759</td>\n",
       "      <td>B</td>\n",
       "    </tr>\n",
       "    <tr>\n",
       "      <td>3</td>\n",
       "      <td>2282983706</td>\n",
       "      <td>2322279887</td>\n",
       "      <td>2019-08-15</td>\n",
       "      <td>2308</td>\n",
       "      <td>B</td>\n",
       "    </tr>\n",
       "    <tr>\n",
       "      <td>4</td>\n",
       "      <td>182168103</td>\n",
       "      <td>935554773</td>\n",
       "      <td>2019-08-15</td>\n",
       "      <td>2210</td>\n",
       "      <td>B</td>\n",
       "    </tr>\n",
       "    <tr>\n",
       "      <td>...</td>\n",
       "      <td>...</td>\n",
       "      <td>...</td>\n",
       "      <td>...</td>\n",
       "      <td>...</td>\n",
       "      <td>...</td>\n",
       "    </tr>\n",
       "    <tr>\n",
       "      <td>635</td>\n",
       "      <td>4082620617</td>\n",
       "      <td>393266494</td>\n",
       "      <td>2019-08-14</td>\n",
       "      <td>31550</td>\n",
       "      <td>B</td>\n",
       "    </tr>\n",
       "    <tr>\n",
       "      <td>636</td>\n",
       "      <td>38478481</td>\n",
       "      <td>1197745035</td>\n",
       "      <td>2019-08-14</td>\n",
       "      <td>8600</td>\n",
       "      <td>B</td>\n",
       "    </tr>\n",
       "    <tr>\n",
       "      <td>637</td>\n",
       "      <td>3592955527</td>\n",
       "      <td>608641596</td>\n",
       "      <td>2019-08-14</td>\n",
       "      <td>16490</td>\n",
       "      <td>B</td>\n",
       "    </tr>\n",
       "    <tr>\n",
       "      <td>638</td>\n",
       "      <td>2662137336</td>\n",
       "      <td>3733762160</td>\n",
       "      <td>2019-08-14</td>\n",
       "      <td>6490</td>\n",
       "      <td>B</td>\n",
       "    </tr>\n",
       "    <tr>\n",
       "      <td>639</td>\n",
       "      <td>3936777065</td>\n",
       "      <td>2108080724</td>\n",
       "      <td>2019-08-15</td>\n",
       "      <td>202740</td>\n",
       "      <td>B</td>\n",
       "    </tr>\n",
       "  </tbody>\n",
       "</table>\n",
       "<p>640 rows × 5 columns</p>\n",
       "</div>"
      ],
      "text/plain": [
       "     transactionId   visitorId       date  revenue group\n",
       "0       3667963787  3312258926 2019-08-15     1650     B\n",
       "1       2804400009  3642806036 2019-08-15      730     B\n",
       "2       3797467345  1196621759 2019-08-15     9759     B\n",
       "3       2282983706  2322279887 2019-08-15     2308     B\n",
       "4        182168103   935554773 2019-08-15     2210     B\n",
       "..             ...         ...        ...      ...   ...\n",
       "635     4082620617   393266494 2019-08-14    31550     B\n",
       "636       38478481  1197745035 2019-08-14     8600     B\n",
       "637     3592955527   608641596 2019-08-14    16490     B\n",
       "638     2662137336  3733762160 2019-08-14     6490     B\n",
       "639     3936777065  2108080724 2019-08-15   202740     B\n",
       "\n",
       "[640 rows x 5 columns]"
      ]
     },
     "execution_count": 19,
     "metadata": {},
     "output_type": "execute_result"
    }
   ],
   "source": [
    "#отфильтруем таблицу по столбцу В\n",
    "orders_b = orders[orders['group'] == 'B'].reset_index(drop=True)\n",
    "orders_b"
   ]
  },
  {
   "cell_type": "code",
   "execution_count": 20,
   "metadata": {},
   "outputs": [
    {
     "name": "stdout",
     "output_type": "stream",
     "text": [
      "     transactionId   visitorId       date  revenue group\n",
      "0       2961555356  4069496402 2019-08-15      400     A\n",
      "9       2223239646   199603092 2019-08-15     3488     A\n",
      "10      2220299125  3803269165 2019-08-15      700     A\n",
      "11       486237576  2378935119 2019-08-15     1650     A\n",
      "13      2594268419   237748145 2019-08-15     1090     A\n",
      "..             ...         ...        ...      ...   ...\n",
      "542     3757656646  4186807279 2019-08-14     4990     A\n",
      "545     3612788481  2712142231 2019-08-14     2490     A\n",
      "547     4052155355  2949041841 2019-08-14      190     A\n",
      "550     1458356232   963407295 2019-08-14     4940     A\n",
      "556     1947021204  1614305549 2019-08-14      100     A\n",
      "\n",
      "[89 rows x 5 columns]\n"
     ]
    }
   ],
   "source": [
    "# надем пользователей, которые есть в обеих группах\n",
    "not_id = orders_a[orders_a['visitorId'].isin(orders_b['visitorId'])]\n",
    "print(not_id)"
   ]
  },
  {
   "cell_type": "code",
   "execution_count": 21,
   "metadata": {},
   "outputs": [
    {
     "data": {
      "text/html": [
       "<div>\n",
       "<style scoped>\n",
       "    .dataframe tbody tr th:only-of-type {\n",
       "        vertical-align: middle;\n",
       "    }\n",
       "\n",
       "    .dataframe tbody tr th {\n",
       "        vertical-align: top;\n",
       "    }\n",
       "\n",
       "    .dataframe thead th {\n",
       "        text-align: right;\n",
       "    }\n",
       "</style>\n",
       "<table border=\"1\" class=\"dataframe\">\n",
       "  <thead>\n",
       "    <tr style=\"text-align: right;\">\n",
       "      <th></th>\n",
       "      <th>transactionId</th>\n",
       "      <th>visitorId</th>\n",
       "      <th>date</th>\n",
       "      <th>revenue</th>\n",
       "      <th>group</th>\n",
       "    </tr>\n",
       "  </thead>\n",
       "  <tbody>\n",
       "    <tr>\n",
       "      <td>0</td>\n",
       "      <td>3667963787</td>\n",
       "      <td>3312258926</td>\n",
       "      <td>2019-08-15</td>\n",
       "      <td>1650</td>\n",
       "      <td>B</td>\n",
       "    </tr>\n",
       "    <tr>\n",
       "      <td>1</td>\n",
       "      <td>2804400009</td>\n",
       "      <td>3642806036</td>\n",
       "      <td>2019-08-15</td>\n",
       "      <td>730</td>\n",
       "      <td>B</td>\n",
       "    </tr>\n",
       "    <tr>\n",
       "      <td>3</td>\n",
       "      <td>3797467345</td>\n",
       "      <td>1196621759</td>\n",
       "      <td>2019-08-15</td>\n",
       "      <td>9759</td>\n",
       "      <td>B</td>\n",
       "    </tr>\n",
       "    <tr>\n",
       "      <td>4</td>\n",
       "      <td>2282983706</td>\n",
       "      <td>2322279887</td>\n",
       "      <td>2019-08-15</td>\n",
       "      <td>2308</td>\n",
       "      <td>B</td>\n",
       "    </tr>\n",
       "    <tr>\n",
       "      <td>5</td>\n",
       "      <td>182168103</td>\n",
       "      <td>935554773</td>\n",
       "      <td>2019-08-15</td>\n",
       "      <td>2210</td>\n",
       "      <td>B</td>\n",
       "    </tr>\n",
       "    <tr>\n",
       "      <td>...</td>\n",
       "      <td>...</td>\n",
       "      <td>...</td>\n",
       "      <td>...</td>\n",
       "      <td>...</td>\n",
       "      <td>...</td>\n",
       "    </tr>\n",
       "    <tr>\n",
       "      <td>1191</td>\n",
       "      <td>3592955527</td>\n",
       "      <td>608641596</td>\n",
       "      <td>2019-08-14</td>\n",
       "      <td>16490</td>\n",
       "      <td>B</td>\n",
       "    </tr>\n",
       "    <tr>\n",
       "      <td>1192</td>\n",
       "      <td>2662137336</td>\n",
       "      <td>3733762160</td>\n",
       "      <td>2019-08-14</td>\n",
       "      <td>6490</td>\n",
       "      <td>B</td>\n",
       "    </tr>\n",
       "    <tr>\n",
       "      <td>1193</td>\n",
       "      <td>2203539145</td>\n",
       "      <td>370388673</td>\n",
       "      <td>2019-08-14</td>\n",
       "      <td>3190</td>\n",
       "      <td>A</td>\n",
       "    </tr>\n",
       "    <tr>\n",
       "      <td>1194</td>\n",
       "      <td>1807773912</td>\n",
       "      <td>573423106</td>\n",
       "      <td>2019-08-14</td>\n",
       "      <td>10550</td>\n",
       "      <td>A</td>\n",
       "    </tr>\n",
       "    <tr>\n",
       "      <td>1196</td>\n",
       "      <td>3936777065</td>\n",
       "      <td>2108080724</td>\n",
       "      <td>2019-08-15</td>\n",
       "      <td>202740</td>\n",
       "      <td>B</td>\n",
       "    </tr>\n",
       "  </tbody>\n",
       "</table>\n",
       "<p>1016 rows × 5 columns</p>\n",
       "</div>"
      ],
      "text/plain": [
       "      transactionId   visitorId       date  revenue group\n",
       "0        3667963787  3312258926 2019-08-15     1650     B\n",
       "1        2804400009  3642806036 2019-08-15      730     B\n",
       "3        3797467345  1196621759 2019-08-15     9759     B\n",
       "4        2282983706  2322279887 2019-08-15     2308     B\n",
       "5         182168103   935554773 2019-08-15     2210     B\n",
       "...             ...         ...        ...      ...   ...\n",
       "1191     3592955527   608641596 2019-08-14    16490     B\n",
       "1192     2662137336  3733762160 2019-08-14     6490     B\n",
       "1193     2203539145   370388673 2019-08-14     3190     A\n",
       "1194     1807773912   573423106 2019-08-14    10550     A\n",
       "1196     3936777065  2108080724 2019-08-15   202740     B\n",
       "\n",
       "[1016 rows x 5 columns]"
      ]
     },
     "execution_count": 21,
     "metadata": {},
     "output_type": "execute_result"
    }
   ],
   "source": [
    "#удалим пользователей, которые есть в обеих группах\n",
    "orders = orders[~orders['visitorId'].isin(not_id['visitorId'])]\n",
    "orders"
   ]
  },
  {
   "cell_type": "markdown",
   "metadata": {},
   "source": [
    "**Вывод**\n",
    "\n",
    "\n",
    "После удаления id, которые есть в обеих группах, таблица orders сократилась на 89 строк - и теперь составляет 1016 строк и 5 столбцов.\n",
    "\n",
    "\n",
    "А/В тест проводлся в течение одного месяца - августа 2019 года. Так как мы рассматриваем интернет-магази, то, предположительно, этого времени достаточно для сбора необходимых для анализа данных."
   ]
  },
  {
   "cell_type": "markdown",
   "metadata": {},
   "source": [
    "###  Кумулятивная выручка по группам"
   ]
  },
  {
   "cell_type": "code",
   "execution_count": 22,
   "metadata": {},
   "outputs": [],
   "source": [
    "#подготовим данные для анализа кумулятивной выручки по группам\n",
    "\n",
    "datesGroups = orders[['date', 'group']].drop_duplicates()\n",
    "\n",
    "ordersAggregated = datesGroups.apply(\n",
    "    lambda x: orders[\n",
    "        np.logical_and(\n",
    "            orders['date'] <= x['date'], orders['group'] == x['group']\n",
    "        )\n",
    "    ].agg(\n",
    "        {\n",
    "            'date': 'max',\n",
    "            'group': 'max',\n",
    "            'transactionId': 'nunique',\n",
    "            'visitorId': 'nunique',\n",
    "            'revenue': 'sum',\n",
    "        }\n",
    "    ),\n",
    "    axis=1,\n",
    ").sort_values(by=['date', 'group'])\n",
    "\n",
    "visitorsAggregated = datesGroups.apply(\n",
    "    lambda x: visitors[\n",
    "        np.logical_and(\n",
    "            visitors['date'] <= x['date'], visitors['group'] == x['group']\n",
    "        )\n",
    "    ].agg({'date': 'max', 'group': 'max', 'visitors': 'sum'}),\n",
    "    axis=1,\n",
    ").sort_values(by=['date', 'group'])\n",
    "\n",
    "cumulativeData = ordersAggregated.merge(\n",
    "    visitorsAggregated, left_on=['date', 'group'], right_on=['date', 'group']\n",
    ")\n",
    "cumulativeData.columns = [\n",
    "    'date',\n",
    "    'group',\n",
    "    'orders',\n",
    "    'buyers',\n",
    "    'revenue',\n",
    "    'visitors',\n",
    "]\n",
    "\n",
    "# датафрейм с кумулятивным количеством заказов и кумулятивной выручкой по дням в группе А\n",
    "cumulativeRevenueA = cumulativeData[cumulativeData['group']=='A'][['date','revenue', 'orders']]\n",
    "\n",
    "# датафрейм с кумулятивным количеством заказов и кумулятивной выручкой по дням в группе B\n",
    "cumulativeRevenueB = cumulativeData[cumulativeData['group']=='B'][['date','revenue', 'orders']]\n",
    "\n"
   ]
  },
  {
   "cell_type": "code",
   "execution_count": 23,
   "metadata": {},
   "outputs": [
    {
     "data": {
      "image/png": "[encoded data removed]",
      "text/plain": [
       "<Figure size 432x288 with 1 Axes>"
      ]
     },
     "metadata": {
      "needs_background": "light"
     },
     "output_type": "display_data"
    }
   ],
   "source": [
    "# Строим график выручки группы А\n",
    "plt.plot(cumulativeRevenueA['date'], cumulativeRevenueA['revenue'], label='A')\n",
    "\n",
    "# Строим график выручки группы B\n",
    "plt.plot(cumulativeRevenueB['date'], cumulativeRevenueB['revenue'], label='B')\n",
    "\n",
    "plt.legend()\n",
    "plt.title('Кумулятивная выручка групп А и В')\n",
    "plt.xlabel('Дата')\n",
    "plt.ylabel('Выручка')\n",
    "plt.xticks(rotation=45)\n",
    "plt.show()"
   ]
  },
  {
   "cell_type": "markdown",
   "metadata": {},
   "source": [
    "**Вывод**\n",
    "График кумулятивной выручки группы В растет, однако, в середине теста происходит стремительный рост, почти на порядок. Можно предположить, что пользователи стали совершать более дороги покупки. График группы А увеличивается постепенно, без аномальных значений.  "
   ]
  },
  {
   "cell_type": "markdown",
   "metadata": {},
   "source": [
    "### Кумулятивный средний чек"
   ]
  },
  {
   "cell_type": "code",
   "execution_count": 24,
   "metadata": {},
   "outputs": [
    {
     "data": {
      "image/png": "[encoded data removed]",
      "text/plain": [
       "<Figure size 432x288 with 1 Axes>"
      ]
     },
     "metadata": {
      "needs_background": "light"
     },
     "output_type": "display_data"
    }
   ],
   "source": [
    "#Постройте график кумулятивного среднего чека по группам\n",
    "plt.plot(cumulativeRevenueA['date'], cumulativeRevenueA['revenue']/cumulativeRevenueA['orders'], label='A')\n",
    "plt.plot(cumulativeRevenueB['date'], cumulativeRevenueB['revenue']/cumulativeRevenueB['orders'], label='B')\n",
    "plt.legend() \n",
    "plt.title('Кумулятивный средний чек групп А и В')\n",
    "plt.xlabel('Дата')\n",
    "plt.ylabel('Сумма среднего чека')\n",
    "plt.xticks(rotation=45)\n",
    "plt.show()"
   ]
  },
  {
   "cell_type": "markdown",
   "metadata": {},
   "source": [
    "**Вывод**\n",
    "\n",
    "График кумулятивного среднего чека подтвердил наши предыдущие выводы - в середине теста у пользователей группы В резко выросли траты на покупки.\n",
    "\n",
    "График группы А имеет выраженный провал в начале теста, затем также идет рост, а затем средний показатель чека стабилизируется.\n",
    " "
   ]
  },
  {
   "cell_type": "markdown",
   "metadata": {},
   "source": [
    "### График относительного изменения кумулятивного среднего чека группы B к группе A"
   ]
  },
  {
   "cell_type": "code",
   "execution_count": 25,
   "metadata": {},
   "outputs": [],
   "source": [
    "# собираем данные в одном датафрейме\n",
    "mergedCumulativeRevenue = cumulativeRevenueA.merge(cumulativeRevenueB, left_on='date', right_on='date', how='left', suffixes=['A', 'B'])"
   ]
  },
  {
   "cell_type": "code",
   "execution_count": 26,
   "metadata": {},
   "outputs": [
    {
     "data": {
      "image/png": "[encoded data removed]",
      "text/plain": [
       "<Figure size 432x288 with 1 Axes>"
      ]
     },
     "metadata": {
      "needs_background": "light"
     },
     "output_type": "display_data"
    }
   ],
   "source": [
    "# cтроим отношение средних чеков\n",
    "plt.plot(mergedCumulativeRevenue['date'], (mergedCumulativeRevenue['revenueB']/mergedCumulativeRevenue['ordersB'])/(mergedCumulativeRevenue['revenueA']/mergedCumulativeRevenue['ordersA'])-1)\n",
    "\n",
    "# добавляем ось X\n",
    "plt.axhline(y=0, color='black', linestyle='--') \n",
    "plt.title('Изменения кумулятивного среднего чека группы B к группе A')\n",
    "plt.xlabel('Дата')\n",
    "plt.ylabel('Отношение среднего чека группы B к группе A')\n",
    "plt.xticks(rotation=90)\n",
    "plt.show()"
   ]
  },
  {
   "cell_type": "markdown",
   "metadata": {},
   "source": [
    "**Вывод**\n",
    "\n",
    "Результаты теста значительно менялись несколько раз, видимо, именно тогда были совершенены аномальные заказы."
   ]
  },
  {
   "cell_type": "markdown",
   "metadata": {},
   "source": [
    "### График кумулятивной конверсии по группам"
   ]
  },
  {
   "cell_type": "code",
   "execution_count": 27,
   "metadata": {},
   "outputs": [],
   "source": [
    "# считаем кумулятивную конверсию\n",
    "cumulativeData['conversion'] = cumulativeData['orders']/cumulativeData['visitors']\n",
    "\n",
    "# отделяем данные по группе A\n",
    "cumulativeDataA = cumulativeData[cumulativeData['group']=='A']\n",
    "\n",
    "# отделяем данные по группе B\n",
    "cumulativeDataB = cumulativeData[cumulativeData['group']=='B']"
   ]
  },
  {
   "cell_type": "code",
   "execution_count": 28,
   "metadata": {},
   "outputs": [
    {
     "data": {
      "image/png": "[encoded data removed]",
      "text/plain": [
       "<Figure size 432x288 with 1 Axes>"
      ]
     },
     "metadata": {
      "needs_background": "light"
     },
     "output_type": "display_data"
    }
   ],
   "source": [
    "# строим графики\n",
    "plt.plot(cumulativeDataA['date'], cumulativeDataA['conversion'], label='A')\n",
    "plt.plot(cumulativeDataB['date'], cumulativeDataB['conversion'], label='B')\n",
    "plt.legend()\n",
    "# задаем масштаб осей\n",
    "plt.axis(['2019-08-01', '2019-08-31', 0, 0.05]) \n",
    "plt.title('График кумулятивной конверсии групп А и В')\n",
    "plt.xlabel('Дата')\n",
    "plt.ylabel('Показатель конверсии')\n",
    "plt.xticks(rotation=90)\n",
    "plt.show()"
   ]
  },
  {
   "cell_type": "markdown",
   "metadata": {},
   "source": [
    "**Вывод**\n",
    "\n",
    "Группа А имеет показатель по конверсии ниже, чем группа В практически на протяжении всего теста."
   ]
  },
  {
   "cell_type": "markdown",
   "metadata": {},
   "source": [
    "### График относительного изменения кумулятивной конверсии группы B к группе A"
   ]
  },
  {
   "cell_type": "code",
   "execution_count": 29,
   "metadata": {},
   "outputs": [],
   "source": [
    "# собираем данные в одном датафрейме\n",
    "mergedCumulativeConversions = cumulativeDataA[['date','conversion']].merge(cumulativeDataB[['date','conversion']], left_on='date', right_on='date', how='left', suffixes=['A', 'B'])"
   ]
  },
  {
   "cell_type": "code",
   "execution_count": 30,
   "metadata": {},
   "outputs": [
    {
     "data": {
      "image/png": "[encoded data removed]",
      "text/plain": [
       "<Figure size 432x288 with 1 Axes>"
      ]
     },
     "metadata": {
      "needs_background": "light"
     },
     "output_type": "display_data"
    }
   ],
   "source": [
    "# Постройте график относительного различия кумулятивной конверсии группы B к группе A.\n",
    "plt.plot(mergedCumulativeConversions['date'], mergedCumulativeConversions['conversionB']/mergedCumulativeConversions['conversionA']-1, label=\"Относительный прирост конверсии группы B относительно группы A\")\n",
    "plt.legend()\n",
    "\n",
    "plt.axhline(y=0, color='black', linestyle='--')\n",
    "plt.axhline(y= 0.2, color='grey', linestyle='--')\n",
    "#Задайте масштаб осей\n",
    "plt.axis([\"2019-08-01\", '2019-08-31', -0.5, 0.5]) \n",
    "plt.title('График относительного изменения кумулятивной конверсии группы B к группе A')\n",
    "plt.xlabel('Дата')\n",
    "plt.ylabel('Показатель конверсии')\n",
    "plt.xticks(rotation=45)\n",
    "plt.show()"
   ]
  },
  {
   "cell_type": "markdown",
   "metadata": {},
   "source": [
    "**Вывод**\n",
    "\n",
    "Хотя конверсия группы В выше, чем у группы А, но прирост заметен только в первой половине теста, а далее он снижается."
   ]
  },
  {
   "cell_type": "markdown",
   "metadata": {},
   "source": [
    "### График количества заказов по пользователям. "
   ]
  },
  {
   "cell_type": "code",
   "execution_count": 31,
   "metadata": {},
   "outputs": [
    {
     "name": "stdout",
     "output_type": "stream",
     "text": [
      "      visitorId  transactionId\n",
      "908  3967698036              3\n",
      "55    249864742              3\n",
      "478  2108163459              3\n",
      "687  2988190573              3\n",
      "890  3908431265              3\n",
      "138   611059232              3\n",
      "632  2742574263              3\n",
      "157   678354126              2\n",
      "323  1404560065              2\n",
      "452  1985475298              2\n"
     ]
    }
   ],
   "source": [
    "#найдем число заказов по пользователям\n",
    "ordersByUsers = (\n",
    "    orders.groupby('visitorId', as_index=False)\n",
    "    .agg({'transactionId': pd.Series.nunique})\n",
    ")\n",
    "\n",
    "ordersByUsers.columns = ['visitorId', 'transactionId']\n",
    "\n",
    "print(ordersByUsers.sort_values(by='transactionId', ascending=False).head(10)) "
   ]
  },
  {
   "cell_type": "code",
   "execution_count": 32,
   "metadata": {},
   "outputs": [
    {
     "data": {
      "image/png": "[encoded data removed]",
      "text/plain": [
       "<Figure size 432x288 with 1 Axes>"
      ]
     },
     "metadata": {
      "needs_background": "light"
     },
     "output_type": "display_data"
    }
   ],
   "source": [
    "#Построем  график количества заказов по пользователям. \n",
    "plt.hist(ordersByUsers['transactionId']) \n",
    "plt.title('График количества заказов по пользователям')\n",
    "plt.xlabel('Число заказов')\n",
    "plt.ylabel('Число пользователей')\n",
    "plt.show()"
   ]
  },
  {
   "cell_type": "code",
   "execution_count": 33,
   "metadata": {},
   "outputs": [
    {
     "data": {
      "image/png": "[encoded data removed]",
      "text/plain": [
       "<Figure size 432x288 with 1 Axes>"
      ]
     },
     "metadata": {
      "needs_background": "light"
     },
     "output_type": "display_data"
    }
   ],
   "source": [
    "# построим другой тип графика \n",
    "\n",
    "x_values = pd.Series(range(0, len(ordersByUsers)))\n",
    "plt.scatter(x_values, ordersByUsers['transactionId']) \n",
    "plt.title('График количества заказов по пользователям')\n",
    "plt.xlabel('Число пользователей')\n",
    "plt.ylabel('Число заказов')\n",
    "plt.show()"
   ]
  },
  {
   "cell_type": "markdown",
   "metadata": {},
   "source": [
    "### 95-й и 99-й перцентили количества заказов на пользователя"
   ]
  },
  {
   "cell_type": "code",
   "execution_count": 34,
   "metadata": {},
   "outputs": [
    {
     "name": "stdout",
     "output_type": "stream",
     "text": [
      "[1. 1. 2.]\n"
     ]
    }
   ],
   "source": [
    "# Посчитайте 95-й и 99-й перцентили количества заказов на пользователя\n",
    "print(np.percentile(ordersByUsers['transactionId'], [90, 95, 99])) "
   ]
  },
  {
   "cell_type": "markdown",
   "metadata": {},
   "source": [
    "### График стоимостей заказов"
   ]
  },
  {
   "cell_type": "code",
   "execution_count": 35,
   "metadata": {},
   "outputs": [
    {
     "data": {
      "image/png": "[encoded data removed]",
      "text/plain": [
       "<Figure size 432x288 with 1 Axes>"
      ]
     },
     "metadata": {
      "needs_background": "light"
     },
     "output_type": "display_data"
    }
   ],
   "source": [
    "#Построим гистограмму распределения выручек\n",
    "plt.hist(orders['revenue']) \n",
    "plt.title('Распределение выручки')\n",
    "plt.xlabel('Сумма заказа')\n",
    "plt.ylabel('Число заказов')\n",
    "plt.show()"
   ]
  },
  {
   "cell_type": "code",
   "execution_count": 36,
   "metadata": {},
   "outputs": [
    {
     "data": {
      "image/png": "[encoded data removed]",
      "text/plain": [
       "<Figure size 432x288 with 1 Axes>"
      ]
     },
     "metadata": {
      "needs_background": "light"
     },
     "output_type": "display_data"
    }
   ],
   "source": [
    "#Построим точечный график стоимостей заказов\n",
    "x_values = pd.Series(range(0, len(orders['revenue'])))\n",
    "plt.scatter(x_values, orders['revenue']) \n",
    "plt.title('Распределение выручки')\n",
    "plt.xlabel('Число заказа')\n",
    "plt.ylabel('Сумма заказов')\n",
    "plt.show()"
   ]
  },
  {
   "cell_type": "markdown",
   "metadata": {},
   "source": [
    "**Вывод**\n",
    "\n",
    "Почти все заказы на сумму до 50 тыс, максимум - до 100 тыс. Однако, найдены и несколько аномальных значений. Также мы помним, что минимальная сумма заказа составляет 50, а максимальная - почти 1,3 млн."
   ]
  },
  {
   "cell_type": "markdown",
   "metadata": {},
   "source": [
    "### 95-й и 99-й перцентили стоимости заказов"
   ]
  },
  {
   "cell_type": "code",
   "execution_count": 37,
   "metadata": {},
   "outputs": [
    {
     "name": "stdout",
     "output_type": "stream",
     "text": [
      "[17990. 26785. 53904.]\n"
     ]
    }
   ],
   "source": [
    "print(np.percentile(orders['revenue'], [90, 95, 99])) "
   ]
  },
  {
   "cell_type": "markdown",
   "metadata": {},
   "source": [
    "### Статистическая значимость различий в конверсии между группами по «сырым» данным"
   ]
  },
  {
   "cell_type": "code",
   "execution_count": 38,
   "metadata": {},
   "outputs": [
    {
     "data": {
      "text/html": [
       "<div>\n",
       "<style scoped>\n",
       "    .dataframe tbody tr th:only-of-type {\n",
       "        vertical-align: middle;\n",
       "    }\n",
       "\n",
       "    .dataframe tbody tr th {\n",
       "        vertical-align: top;\n",
       "    }\n",
       "\n",
       "    .dataframe thead th {\n",
       "        text-align: right;\n",
       "    }\n",
       "</style>\n",
       "<table border=\"1\" class=\"dataframe\">\n",
       "  <thead>\n",
       "    <tr style=\"text-align: right;\">\n",
       "      <th></th>\n",
       "      <th>date</th>\n",
       "      <th>ordersPerDateA</th>\n",
       "      <th>revenuePerDateA</th>\n",
       "      <th>ordersPerDateB</th>\n",
       "      <th>revenuePerDateB</th>\n",
       "      <th>ordersCummulativeA</th>\n",
       "      <th>revenueCummulativeA</th>\n",
       "      <th>ordersCummulativeB</th>\n",
       "      <th>revenueCummulativeB</th>\n",
       "      <th>visitorsPerDateA</th>\n",
       "      <th>visitorsPerDateB</th>\n",
       "      <th>visitorsCummulativeA</th>\n",
       "      <th>visitorsCummulativeB</th>\n",
       "    </tr>\n",
       "  </thead>\n",
       "  <tbody>\n",
       "    <tr>\n",
       "      <td>0</td>\n",
       "      <td>2019-08-01</td>\n",
       "      <td>23</td>\n",
       "      <td>142779</td>\n",
       "      <td>17</td>\n",
       "      <td>59758</td>\n",
       "      <td>23</td>\n",
       "      <td>142779</td>\n",
       "      <td>17</td>\n",
       "      <td>59758</td>\n",
       "      <td>719</td>\n",
       "      <td>713</td>\n",
       "      <td>719</td>\n",
       "      <td>713</td>\n",
       "    </tr>\n",
       "    <tr>\n",
       "      <td>1</td>\n",
       "      <td>2019-08-02</td>\n",
       "      <td>19</td>\n",
       "      <td>91602</td>\n",
       "      <td>23</td>\n",
       "      <td>162043</td>\n",
       "      <td>42</td>\n",
       "      <td>234381</td>\n",
       "      <td>40</td>\n",
       "      <td>221801</td>\n",
       "      <td>619</td>\n",
       "      <td>581</td>\n",
       "      <td>1338</td>\n",
       "      <td>1294</td>\n",
       "    </tr>\n",
       "    <tr>\n",
       "      <td>2</td>\n",
       "      <td>2019-08-03</td>\n",
       "      <td>24</td>\n",
       "      <td>112473</td>\n",
       "      <td>14</td>\n",
       "      <td>67049</td>\n",
       "      <td>66</td>\n",
       "      <td>346854</td>\n",
       "      <td>54</td>\n",
       "      <td>288850</td>\n",
       "      <td>507</td>\n",
       "      <td>509</td>\n",
       "      <td>1845</td>\n",
       "      <td>1803</td>\n",
       "    </tr>\n",
       "    <tr>\n",
       "      <td>3</td>\n",
       "      <td>2019-08-04</td>\n",
       "      <td>11</td>\n",
       "      <td>41176</td>\n",
       "      <td>14</td>\n",
       "      <td>96890</td>\n",
       "      <td>77</td>\n",
       "      <td>388030</td>\n",
       "      <td>68</td>\n",
       "      <td>385740</td>\n",
       "      <td>717</td>\n",
       "      <td>770</td>\n",
       "      <td>2562</td>\n",
       "      <td>2573</td>\n",
       "    </tr>\n",
       "    <tr>\n",
       "      <td>4</td>\n",
       "      <td>2019-08-05</td>\n",
       "      <td>22</td>\n",
       "      <td>86383</td>\n",
       "      <td>21</td>\n",
       "      <td>89908</td>\n",
       "      <td>99</td>\n",
       "      <td>474413</td>\n",
       "      <td>89</td>\n",
       "      <td>475648</td>\n",
       "      <td>756</td>\n",
       "      <td>707</td>\n",
       "      <td>3318</td>\n",
       "      <td>3280</td>\n",
       "    </tr>\n",
       "  </tbody>\n",
       "</table>\n",
       "</div>"
      ],
      "text/plain": [
       "        date  ordersPerDateA  revenuePerDateA  ordersPerDateB  \\\n",
       "0 2019-08-01              23           142779              17   \n",
       "1 2019-08-02              19            91602              23   \n",
       "2 2019-08-03              24           112473              14   \n",
       "3 2019-08-04              11            41176              14   \n",
       "4 2019-08-05              22            86383              21   \n",
       "\n",
       "   revenuePerDateB  ordersCummulativeA  revenueCummulativeA  \\\n",
       "0            59758                  23               142779   \n",
       "1           162043                  42               234381   \n",
       "2            67049                  66               346854   \n",
       "3            96890                  77               388030   \n",
       "4            89908                  99               474413   \n",
       "\n",
       "   ordersCummulativeB  revenueCummulativeB  visitorsPerDateA  \\\n",
       "0                  17                59758               719   \n",
       "1                  40               221801               619   \n",
       "2                  54               288850               507   \n",
       "3                  68               385740               717   \n",
       "4                  89               475648               756   \n",
       "\n",
       "   visitorsPerDateB  visitorsCummulativeA  visitorsCummulativeB  \n",
       "0               713                   719                   713  \n",
       "1               581                  1338                  1294  \n",
       "2               509                  1845                  1803  \n",
       "3               770                  2562                  2573  \n",
       "4               707                  3318                  3280  "
      ]
     },
     "metadata": {},
     "output_type": "display_data"
    }
   ],
   "source": [
    "#Посчитаем статистическую значимость различий в конверсии и среднем чеке между группами по «сырым» данным — без удаления аномальных пользователей.\n",
    "#Начнём с подготовки данных.\n",
    "visitorsADaily = visitors[visitors['group'] == 'A'][['date', 'visitors']]\n",
    "visitorsADaily.columns = ['date', 'visitorsPerDateA']\n",
    "\n",
    "visitorsACummulative = visitorsADaily.apply(\n",
    "    lambda x: visitorsADaily[visitorsADaily['date'] <= x['date']].agg(\n",
    "        {'date': 'max', 'visitorsPerDateA': 'sum'}\n",
    "    ),\n",
    "    axis=1,\n",
    ")\n",
    "visitorsACummulative.columns = ['date', 'visitorsCummulativeA']\n",
    "\n",
    "visitorsBDaily = visitors[visitors['group'] == 'B'][['date', 'visitors']]\n",
    "visitorsBDaily.columns = ['date', 'visitorsPerDateB']\n",
    "\n",
    "visitorsBCummulative = visitorsBDaily.apply(\n",
    "    lambda x: visitorsBDaily[visitorsBDaily['date'] <= x['date']].agg(\n",
    "        {'date': 'max', 'visitorsPerDateB': 'sum'}\n",
    "    ),\n",
    "    axis=1,\n",
    ")\n",
    "visitorsBCummulative.columns = ['date', 'visitorsCummulativeB']\n",
    "\n",
    "ordersADaily = (\n",
    "    orders[orders['group'] == 'A'][['date', 'transactionId', 'visitorId', 'revenue']]\n",
    "    .groupby('date', as_index=False)\n",
    "    .agg({'transactionId': pd.Series.nunique, 'revenue': 'sum'})\n",
    ")\n",
    "ordersADaily.columns = ['date', 'ordersPerDateA', 'revenuePerDateA']\n",
    "\n",
    "ordersACummulative = ordersADaily.apply(\n",
    "    lambda x: ordersADaily[ordersADaily['date'] <= x['date']].agg(\n",
    "        {'date': 'max', 'ordersPerDateA': 'sum', 'revenuePerDateA': 'sum'}\n",
    "    ),\n",
    "    axis=1,\n",
    ").sort_values(by=['date'])\n",
    "ordersACummulative.columns = [\n",
    "    'date',\n",
    "    'ordersCummulativeA',\n",
    "    'revenueCummulativeA',\n",
    "]\n",
    "\n",
    "ordersBDaily = (\n",
    "    orders[orders['group'] == 'B'][['date', 'transactionId', 'visitorId', 'revenue']]\n",
    "    .groupby('date', as_index=False)\n",
    "    .agg({'transactionId': pd.Series.nunique, 'revenue': 'sum'})\n",
    ")\n",
    "ordersBDaily.columns = ['date', 'ordersPerDateB', 'revenuePerDateB']\n",
    "\n",
    "ordersBCummulative = ordersBDaily.apply(\n",
    "    lambda x: ordersBDaily[ordersBDaily['date'] <= x['date']].agg(\n",
    "        {'date': 'max', 'ordersPerDateB': 'sum', 'revenuePerDateB': 'sum'}\n",
    "    ),\n",
    "    axis=1,\n",
    ").sort_values(by=['date'])\n",
    "ordersBCummulative.columns = [\n",
    "    'date',\n",
    "    'ordersCummulativeB',\n",
    "    'revenueCummulativeB',\n",
    "]\n",
    "\n",
    "data_raw = (\n",
    "    ordersADaily.merge(\n",
    "        ordersBDaily, left_on='date', right_on='date', how='left'\n",
    "    )\n",
    "    .merge(ordersACummulative, left_on='date', right_on='date', how='left')\n",
    "    .merge(ordersBCummulative, left_on='date', right_on='date', how='left')\n",
    "    .merge(visitorsADaily, left_on='date', right_on='date', how='left')\n",
    "    .merge(visitorsBDaily, left_on='date', right_on='date', how='left')\n",
    "    .merge(visitorsACummulative, left_on='date', right_on='date', how='left')\n",
    "    .merge(visitorsBCummulative, left_on='date', right_on='date', how='left')\n",
    ")\n",
    "\n",
    "display(data_raw.head(5)) "
   ]
  },
  {
   "cell_type": "markdown",
   "metadata": {},
   "source": [
    "Мы получили таблицу **data_raw** с \"сырыми\" данными, которая содержит следующие столбцы:\n",
    "\n",
    "\n",
    "date — дата;\n",
    "\n",
    "ordersPerDateA — количество заказов в выбранную дату в группе A;\n",
    "\n",
    "revenuePerDateA — суммарная выручка в выбранную дату в группе A;\n",
    "\n",
    "ordersPerDateB — количество заказов в выбранную дату в группе B;\n",
    "\n",
    "revenuePerDateB — суммарная выручка в выбранную дату в группе B;\n",
    "\n",
    "ordersCummulativeA — суммарное число заказов до выбранной даты включительно в группе A;\n",
    "\n",
    "revenueCummulativeA — суммарная выручка до выбранной даты включительно в группе A;\n",
    "\n",
    "ordersCummulativeB — суммарное количество заказов до выбранной даты включительно в группе B;\n",
    "\n",
    "revenueCummulativeB — суммарная выручка до выбранной даты включительно в группе B;\n",
    "\n",
    "visitorsPerDateA — количество пользователей в выбранную дату в группе A;\n",
    "\n",
    "visitorsPerDateB — количество пользователей в выбранную дату в группе B;\n",
    "\n",
    "visitorsCummulativeA — количество пользователей до выбранной даты включительно в группе A;\n",
    "\n",
    "visitorsCummulativeB — количество пользователей до выбранной даты включительно в группе B.\n"
   ]
  },
  {
   "cell_type": "code",
   "execution_count": 39,
   "metadata": {},
   "outputs": [],
   "source": [
    "#Создадим переменные ordersByUsersA и ordersByUsersB со столбцами ['visitorId', 'transactionId']. \n",
    "#В них для пользователей, которые заказывали хотя бы 1 раз, укажем число совершённых заказов.\n",
    "ordersByUsersA = (\n",
    "    orders[orders['group'] == 'A']\n",
    "    .groupby('visitorId', as_index=False)\n",
    "    .agg({'transactionId': pd.Series.nunique})\n",
    ")\n",
    "ordersByUsersA.columns = ['visitorId', 'transactionId']\n",
    "\n",
    "ordersByUsersB = (\n",
    "    orders[orders['group'] == 'B']\n",
    "    .groupby('visitorId', as_index=False)\n",
    "    .agg({'transactionId': pd.Series.nunique})\n",
    ")\n",
    "ordersByUsersB.columns = ['visitorId', 'transactionId'] "
   ]
  },
  {
   "cell_type": "code",
   "execution_count": 40,
   "metadata": {},
   "outputs": [],
   "source": [
    "#Объявим переменные sampleA и sampleB, в которых пользователям из разных групп будет соответствовать количество заказов. \n",
    "sampleA = pd.concat(\n",
    "    [\n",
    "        ordersByUsersA['transactionId'],\n",
    "        pd.Series(\n",
    "            0,\n",
    "            index=np.arange(\n",
    "                data_raw['visitorsPerDateA'].sum() - len(ordersByUsersA['transactionId'])\n",
    "            ),\n",
    "            name='transactionId',\n",
    "        ),\n",
    "    ],\n",
    "    axis=0,\n",
    ")\n",
    "\n",
    "sampleB = pd.concat(\n",
    "    [\n",
    "        ordersByUsersB['transactionId'],\n",
    "        pd.Series(\n",
    "            0,\n",
    "            index=np.arange(\n",
    "                data_raw['visitorsPerDateB'].sum() - len(ordersByUsersB['transactionId'])\n",
    "            ),\n",
    "            name='transactionId',\n",
    "        ),\n",
    "    ],\n",
    "    axis=0,\n",
    ")\n"
   ]
  },
  {
   "cell_type": "code",
   "execution_count": 41,
   "metadata": {},
   "outputs": [
    {
     "name": "stdout",
     "output_type": "stream",
     "text": [
      "p-значение:  0.0\n",
      "Отвергаем нулевую гипотезу: распределение не нормально\n"
     ]
    },
    {
     "name": "stderr",
     "output_type": "stream",
     "text": [
      "/opt/conda/lib/python3.7/site-packages/scipy/stats/morestats.py:1676: UserWarning: p-value may not be accurate for N > 5000.\n",
      "  warnings.warn(\"p-value may not be accurate for N > 5000.\")\n"
     ]
    }
   ],
   "source": [
    "#проверим выборки на нормальность распределения, с этой задачей справится тест Шапиро\n",
    "alpha = 0.05  # критический уровень статистической значимости\n",
    "\n",
    "results = st.shapiro(sampleA)\n",
    "p_value = results[\n",
    "    1\n",
    "]  # второе значение в массиве результатов (с индексом 1) - p-value\n",
    "\n",
    "print('p-значение: ', p_value)\n",
    "\n",
    "if p_value < alpha:\n",
    "    print('Отвергаем нулевую гипотезу: распределение не нормально')\n",
    "else:\n",
    "    print('Не получилось отвергнуть нулевую гипотезу, всё нормально') "
   ]
  },
  {
   "cell_type": "code",
   "execution_count": 42,
   "metadata": {},
   "outputs": [
    {
     "name": "stdout",
     "output_type": "stream",
     "text": [
      "p-значение:  0.0\n",
      "Отвергаем нулевую гипотезу: распределение не нормально\n"
     ]
    }
   ],
   "source": [
    "#проверим вторую выборку на нормальность распределения,\n",
    "alpha = 0.05  # критический уровень статистической значимости\n",
    "\n",
    "results = st.shapiro(sampleB)\n",
    "p_value = results[\n",
    "    1\n",
    "]  # второе значение в массиве результатов (с индексом 1) - p-value\n",
    "\n",
    "print('p-значение: ', p_value)\n",
    "\n",
    "if p_value < alpha:\n",
    "    print('Отвергаем нулевую гипотезу: распределение не нормально')\n",
    "else:\n",
    "    print('Не получилось отвергнуть нулевую гипотезу, всё нормально') "
   ]
  },
  {
   "cell_type": "markdown",
   "metadata": {},
   "source": [
    "**Вывод**\n",
    "\n",
    "В нашем случа в данных есть большие (по сравнению с нормальным распределением) выбросы, поэтому алгебраические метрики работают плохо.\n",
    "Для проведения A/B-тестировани выберем метод, основанный на структурном подходе, или непараметрический - st.mannwhitneyu() (от англ. «U-критерий Манна-Уитни»)."
   ]
  },
  {
   "cell_type": "markdown",
   "metadata": {},
   "source": [
    "**Формулируем гипотезы для проведения теста Манна-Уитни**\n",
    "\n",
    "Нулевая гипотеза: в конверсии между группами А и В по \"сырым\" данным нет статистически значимых различий;\n",
    "\n",
    "Альтернативная гипотеза: в конверсии между группами А и В по \"сырым\" данным есть статистически значимые различия.\n",
    "\n",
    "p-value (значение вероятности) зададим в 0.05 или 5%.\n",
    "\n",
    "***Примечание: H₀ всегда формулируется так, чтобы использовать знак равенства. Другими словами, чтобы все значения, полученные эмпирически, не были экстремальными, а лежали там, где ожидаем их найти. Например, если мы исследуем, не увеличилась ли величина, то нулевая гипотеза будет звучать: «нет, не увеличилась». Если выясняем, есть ли разница между совокупностями, то нулевая гипотеза будет такая: «нет, разницы нет, то есть исследуемые параметры равны».***"
   ]
  },
  {
   "cell_type": "code",
   "execution_count": 43,
   "metadata": {},
   "outputs": [
    {
     "name": "stdout",
     "output_type": "stream",
     "text": [
      "Значение p-value: 0.01102\n"
     ]
    }
   ],
   "source": [
    "#Посчитаем статистическую значимость различия в конверсии между группами\n",
    "# p-value для сравнения конверсии между группами\n",
    "print('Значение p-value:', \"{0:.5f}\".format(stats.mannwhitneyu(sampleA, sampleB, True, 'two-sided')[1]))"
   ]
  },
  {
   "cell_type": "code",
   "execution_count": 44,
   "metadata": {},
   "outputs": [
    {
     "name": "stdout",
     "output_type": "stream",
     "text": [
      "Относительное изменение конверсии группы B к группе А: 0.160\n"
     ]
    }
   ],
   "source": [
    "#относительное различие в конверсии между группами\n",
    "print('Относительное изменение конверсии группы B к группе А:', \"{0:.3f}\".format(sampleB.mean() / sampleA.mean() - 1))"
   ]
  },
  {
   "cell_type": "markdown",
   "metadata": {},
   "source": [
    " ### Статистическая значимость различий в среднем чеке заказа между группами по «сырым» данным"
   ]
  },
  {
   "cell_type": "markdown",
   "metadata": {},
   "source": [
    "**Формулируем гипотезы для проведения теста Манна-Уитни**\n",
    "\n",
    "Нулевая гипотеза: в среднем чеке между группами А и В по \"сырым\" данным нет статистически значимых различий;\n",
    "\n",
    "Альтернативная гипотеза: в среднем чеке между группами А и В по \"сырым\" данным есть статистически значимые различия.\n",
    "\n",
    "p-value (значение вероятности) зададим в 0.05 или 5%."
   ]
  },
  {
   "cell_type": "code",
   "execution_count": 45,
   "metadata": {},
   "outputs": [
    {
     "name": "stdout",
     "output_type": "stream",
     "text": [
      "Значение p-value: 0.829\n"
     ]
    }
   ],
   "source": [
    "#p-value для сравнения средних чеков между группами\n",
    "print('Значение p-value:','{0:.3f}'.format(stats.mannwhitneyu(orders[orders['group']=='A']['revenue'], orders[orders['group']=='B']['revenue'], True, 'two-sided')[1]))"
   ]
  },
  {
   "cell_type": "code",
   "execution_count": 46,
   "metadata": {},
   "outputs": [
    {
     "name": "stdout",
     "output_type": "stream",
     "text": [
      "Относительное изменение среднего чека группы B к группе А: 0.287\n"
     ]
    }
   ],
   "source": [
    "#относительный прирост среднего чека группы B\n",
    "print('Относительное изменение среднего чека группы B к группе А:','{0:.3f}'.format(orders[orders['group']=='B']['revenue'].mean()/orders[orders['group']=='A']['revenue'].mean()-1)) "
   ]
  },
  {
   "cell_type": "markdown",
   "metadata": {},
   "source": [
    "### Статистическая значимость различий в конверсии между группами по «очищенным» данным"
   ]
  },
  {
   "cell_type": "code",
   "execution_count": 47,
   "metadata": {},
   "outputs": [
    {
     "data": {
      "text/plain": [
       "568     113298937\n",
       "1099    148427295\n",
       "461     154576532\n",
       "928     204675465\n",
       "684     358944393\n",
       "Name: visitorId, dtype: int64"
      ]
     },
     "execution_count": 47,
     "metadata": {},
     "output_type": "execute_result"
    }
   ],
   "source": [
    "# Сделаем срез и уберем данные по аномальным пользователям\n",
    "#ранее мы посчитали, что такими можно считать пользователей, сделавших более 2 заказов, на сумму свыше 26 тыс.\n",
    "usersWithManyOrders = pd.concat(\n",
    "    [\n",
    "        ordersByUsersA[ordersByUsersA['transactionId'] > 3]['visitorId'],\n",
    "        ordersByUsersB[ordersByUsersB['transactionId'] > 3]['visitorId'],\n",
    "    ],\n",
    "    axis=0,\n",
    ")\n",
    "usersWithExpensiveOrders = orders[orders['revenue'] > 26000]['visitorId']\n",
    "ab_normal_users = (\n",
    "    pd.concat([usersWithManyOrders, usersWithExpensiveOrders], axis=0)\n",
    "    .drop_duplicates()\n",
    "    .sort_values()\n",
    ")\n",
    "ab_normal_users.head(5)"
   ]
  },
  {
   "cell_type": "code",
   "execution_count": 48,
   "metadata": {},
   "outputs": [],
   "source": [
    "# создадим переменные sampleAFiltered и sampleBFiltered,\n",
    "# в которых сохраните очищенные данные о заказах — не включая аномальных пользователей.\n",
    "sampleAFiltered = pd.concat(\n",
    "    [\n",
    "        ordersByUsersA[\n",
    "            np.logical_not(ordersByUsersA['visitorId'].isin(ab_normal_users))\n",
    "        ]['transactionId'],\n",
    "        pd.Series(\n",
    "            0,\n",
    "            index=np.arange(\n",
    "                data_raw['visitorsPerDateA'].sum() - len(ordersByUsersA['transactionId'])\n",
    "            ),\n",
    "            name='transactionId',\n",
    "        ),\n",
    "    ],\n",
    "    axis=0,\n",
    ")\n",
    "\n",
    "sampleBFiltered = pd.concat(\n",
    "    [\n",
    "        ordersByUsersB[\n",
    "            np.logical_not(ordersByUsersB['visitorId'].isin(ab_normal_users))\n",
    "        ]['transactionId'],\n",
    "        pd.Series(\n",
    "            0,\n",
    "            index=np.arange(\n",
    "                data_raw['visitorsPerDateB'].sum() - len(ordersByUsersB['transactionId'])\n",
    "            ),\n",
    "            name='transactionId',\n",
    "        ),\n",
    "    ],\n",
    "    axis=0,\n",
    ") "
   ]
  },
  {
   "cell_type": "code",
   "execution_count": 49,
   "metadata": {},
   "outputs": [
    {
     "name": "stdout",
     "output_type": "stream",
     "text": [
      "p-значение:  0.0\n",
      "Отвергаем нулевую гипотезу: распределение не нормально\n"
     ]
    }
   ],
   "source": [
    "#проверим выборки на нормальность распределения, с этой задачей справится тест Шапиро\n",
    "alpha = 0.05  # критический уровень статистической значимости\n",
    "\n",
    "results = st.shapiro(sampleAFiltered)\n",
    "p_value = results[\n",
    "    1\n",
    "]  # второе значение в массиве результатов (с индексом 1) - p-value\n",
    "\n",
    "print('p-значение: ', p_value)\n",
    "\n",
    "if p_value < alpha:\n",
    "    print('Отвергаем нулевую гипотезу: распределение не нормально')\n",
    "else:\n",
    "    print('Не получилось отвергнуть нулевую гипотезу, всё нормально') "
   ]
  },
  {
   "cell_type": "code",
   "execution_count": 50,
   "metadata": {},
   "outputs": [
    {
     "name": "stdout",
     "output_type": "stream",
     "text": [
      "p-значение:  0.0\n",
      "Отвергаем нулевую гипотезу: распределение не нормально\n"
     ]
    }
   ],
   "source": [
    "#проверим вторую выборку на нормальность распределения,\n",
    "alpha = 0.05  # критический уровень статистической значимости\n",
    "\n",
    "results = st.shapiro(sampleBFiltered)\n",
    "p_value = results[\n",
    "    1\n",
    "]  # второе значение в массиве результатов (с индексом 1) - p-value\n",
    "\n",
    "print('p-значение: ', p_value)\n",
    "\n",
    "if p_value < alpha:\n",
    "    print('Отвергаем нулевую гипотезу: распределение не нормально')\n",
    "else:\n",
    "    print('Не получилось отвергнуть нулевую гипотезу, всё нормально') "
   ]
  },
  {
   "cell_type": "markdown",
   "metadata": {},
   "source": [
    "**Вывод**\n",
    "\n",
    "В нашем случа в данных есть большие (по сравнению с нормальным распределением) выбросы, поэтому алгебраические метрики работают плохо.\n",
    "Для проведения A/B-тестировани выберем метод, основанный на структурном подходе, или непараметрический - st.mannwhitneyu() (от англ. «U-критерий Манна-Уитни»)."
   ]
  },
  {
   "cell_type": "markdown",
   "metadata": {},
   "source": [
    "**Формулируем гипотезы для теста Манна-Уитни**\n",
    "\n",
    "Нулевая гипотеза: в конверсии между группами А и В по очищенным данным нет статистически значимых различий;\n",
    "\n",
    "Альтернативная гипотеза: в конверсии между группами А и В по очищенным данным есть статистически значимые различия.\n",
    "\n",
    "p-value (значение вероятности) зададим в 0.05 или 5%.\n"
   ]
  },
  {
   "cell_type": "code",
   "execution_count": 51,
   "metadata": {},
   "outputs": [
    {
     "name": "stdout",
     "output_type": "stream",
     "text": [
      "Значение p-value: 0.01814\n"
     ]
    }
   ],
   "source": [
    "# p-value для сравнения конверсии между очищенными группами\n",
    "print('Значение p-value:', '{0:.5f}'.format(stats.mannwhitneyu(sampleAFiltered, sampleBFiltered, True, 'two-sided')[1]))"
   ]
  },
  {
   "cell_type": "code",
   "execution_count": 52,
   "metadata": {},
   "outputs": [
    {
     "name": "stdout",
     "output_type": "stream",
     "text": [
      "Относительное изменение конверсии группы B к группе А: 0.154\n"
     ]
    }
   ],
   "source": [
    "#  относительный прирост конверсии очищенной группы B\n",
    "print('Относительное изменение конверсии группы B к группе А:', '{0:.3f}'.format(sampleBFiltered.mean()/sampleAFiltered.mean()-1)) "
   ]
  },
  {
   "cell_type": "markdown",
   "metadata": {},
   "source": [
    "### Статистическая значимость различий в среднем чеке заказа между группами по «очищенным» данным"
   ]
  },
  {
   "cell_type": "markdown",
   "metadata": {},
   "source": [
    "**Формулируем гипотезы**\n",
    "\n",
    "Нулевая гипотеза: в среднем чеке между группами А и В по очищенным данным нет статистически значимых различий;\n",
    "\n",
    "Альтернативная гипотеза: в среднем чеке между группами А и В по очищенным данным есть статистически значимые различия.\n",
    "\n",
    "p-value (значение вероятности) зададим в 0.05 или 5%."
   ]
  },
  {
   "cell_type": "code",
   "execution_count": 53,
   "metadata": {},
   "outputs": [
    {
     "name": "stdout",
     "output_type": "stream",
     "text": [
      "Значение p-value: 0.708\n"
     ]
    }
   ],
   "source": [
    "# p-value для сравнения средних чеков между очищенными группами\n",
    "print('Значение p-value:',\n",
    "    '{0:.3f}'.format(\n",
    "        stats.mannwhitneyu(\n",
    "            orders[\n",
    "                np.logical_and(\n",
    "                    orders['group'] == 'A',\n",
    "                    np.logical_not(orders['visitorId'].isin(ab_normal_users)),\n",
    "                )\n",
    "            ]['revenue'],\n",
    "            orders[\n",
    "                np.logical_and(\n",
    "                    orders['group'] == 'B',\n",
    "                    np.logical_not(orders['visitorId'].isin(ab_normal_users)),\n",
    "                )\n",
    "            ]['revenue'],  True, 'two-sided'\n",
    "        )[1]\n",
    "    )\n",
    ")"
   ]
  },
  {
   "cell_type": "code",
   "execution_count": 54,
   "metadata": {},
   "outputs": [
    {
     "name": "stdout",
     "output_type": "stream",
     "text": [
      "Относительное изменение среднео чека группы B к группе А: -0.060\n"
     ]
    }
   ],
   "source": [
    "# относительный прирост среднего чека очищенной группы B\n",
    "print('Относительное изменение среднео чека группы B к группе А:',\n",
    "    \"{0:.3f}\".format(\n",
    "        orders[\n",
    "            np.logical_and(\n",
    "                orders['group'] == 'B',\n",
    "                np.logical_not(orders['visitorId'].isin(ab_normal_users)),\n",
    "            )\n",
    "        ]['revenue'].mean()\n",
    "        / orders[\n",
    "            np.logical_and(\n",
    "                orders['group'] == 'A',\n",
    "                np.logical_not(orders['visitorId'].isin(ab_normal_users)),\n",
    "            )\n",
    "        ]['revenue'].mean()\n",
    "        - 1\n",
    "    )\n",
    ") "
   ]
  },
  {
   "cell_type": "markdown",
   "metadata": {},
   "source": [
    "## Выводы по результатам теста"
   ]
  },
  {
   "cell_type": "markdown",
   "metadata": {},
   "source": [
    "1. Есть статистически значимое различие по конверсии между группами и по «сырым», и по данным после фильтрации аномалий - группа В лучше конвертируется примерно на 16%;\n",
    "\n",
    "2. Нет статистически значимого различия по среднему чеку между группами - если убрать аномальные данные, то эти показатели примерно равны в обеих группах;\n",
    "\n",
    "3. График различия конверсии между группами сообщает, что результаты группы B лучше группы A, однако есть тенденция к снижению этого показателя;\n",
    "\n",
    "4. График различия среднего чека говорит о том, что результаты группы B были не стабильны в течение всего периода проведения теста - в группе В он-то был на 15% хуже, чем у группы А, то сразу на 50% лучше. \n",
    "\n",
    "5. Исходя из обнаруженных фактов, можно сделать вывод, что показатель конверсии лучше у группы В. Однако, эта группа более рискованная, если нужно сделать прогноз по показателю среднего чека - на данные оказывают большое влияние аномальные показателии и разброс сумм заказа, который варьируется от 50 до 1,3 млн. Вероятно, тест нужно останосить и скорректировать исходные сегменты. "
   ]
  },
  {
   "cell_type": "code",
   "execution_count": null,
   "metadata": {},
   "outputs": [],
   "source": []
  }
 ],
 "metadata": {
  "ExecuteTimeLog": [
   {
    "duration": 527,
    "start_time": "2022-02-18T10:40:41.120Z"
   },
   {
    "duration": 14,
    "start_time": "2022-02-18T10:40:51.774Z"
   },
   {
    "duration": 9,
    "start_time": "2022-02-18T10:40:59.985Z"
   },
   {
    "duration": 3,
    "start_time": "2022-02-18T10:52:00.619Z"
   },
   {
    "duration": 11,
    "start_time": "2022-02-18T10:52:04.617Z"
   },
   {
    "duration": 11,
    "start_time": "2022-02-18T10:53:07.015Z"
   },
   {
    "duration": 9,
    "start_time": "2022-02-18T10:56:41.275Z"
   },
   {
    "duration": 11,
    "start_time": "2022-02-18T10:56:49.740Z"
   },
   {
    "duration": 321,
    "start_time": "2022-02-18T11:07:17.593Z"
   },
   {
    "duration": 12,
    "start_time": "2022-02-18T11:08:29.180Z"
   },
   {
    "duration": 31,
    "start_time": "2022-02-18T11:26:14.985Z"
   },
   {
    "duration": 7,
    "start_time": "2022-02-18T11:26:38.509Z"
   },
   {
    "duration": 7,
    "start_time": "2022-02-18T11:28:44.377Z"
   },
   {
    "duration": 21,
    "start_time": "2022-02-18T11:32:40.324Z"
   },
   {
    "duration": 7,
    "start_time": "2022-02-18T11:33:00.797Z"
   },
   {
    "duration": 6,
    "start_time": "2022-02-18T11:33:22.228Z"
   },
   {
    "duration": 221,
    "start_time": "2022-02-18T11:37:34.531Z"
   },
   {
    "duration": 3881,
    "start_time": "2022-02-18T11:37:56.906Z"
   },
   {
    "duration": 6,
    "start_time": "2022-02-18T11:38:14.433Z"
   },
   {
    "duration": 3543,
    "start_time": "2022-02-18T11:42:25.984Z"
   },
   {
    "duration": 531,
    "start_time": "2022-02-18T11:44:58.605Z"
   },
   {
    "duration": 162,
    "start_time": "2022-02-18T11:45:40.231Z"
   },
   {
    "duration": 525,
    "start_time": "2022-02-18T11:45:48.410Z"
   },
   {
    "duration": 534,
    "start_time": "2022-02-18T11:46:44.549Z"
   },
   {
    "duration": 687,
    "start_time": "2022-02-18T11:49:08.634Z"
   },
   {
    "duration": 547,
    "start_time": "2022-02-18T11:49:28.281Z"
   },
   {
    "duration": 199,
    "start_time": "2022-02-18T11:53:24.762Z"
   },
   {
    "duration": 7,
    "start_time": "2022-02-18T11:56:30.987Z"
   },
   {
    "duration": 291,
    "start_time": "2022-02-18T11:56:48.297Z"
   },
   {
    "duration": 340,
    "start_time": "2022-02-18T11:57:06.338Z"
   },
   {
    "duration": 7,
    "start_time": "2022-02-18T11:59:53.879Z"
   },
   {
    "duration": 225,
    "start_time": "2022-02-18T12:00:15.192Z"
   },
   {
    "duration": 302,
    "start_time": "2022-02-18T12:00:32.256Z"
   },
   {
    "duration": 310,
    "start_time": "2022-02-18T12:03:48.992Z"
   },
   {
    "duration": 333,
    "start_time": "2022-02-18T12:03:54.832Z"
   },
   {
    "duration": 220,
    "start_time": "2022-02-18T12:04:00.446Z"
   },
   {
    "duration": 187,
    "start_time": "2022-02-18T12:05:55.655Z"
   },
   {
    "duration": 10,
    "start_time": "2022-02-18T12:08:21.339Z"
   },
   {
    "duration": 301,
    "start_time": "2022-02-18T12:09:56.467Z"
   },
   {
    "duration": 308,
    "start_time": "2022-02-18T12:10:38.029Z"
   },
   {
    "duration": 308,
    "start_time": "2022-02-18T12:12:07.535Z"
   },
   {
    "duration": 276,
    "start_time": "2022-02-18T12:12:13.492Z"
   },
   {
    "duration": 4,
    "start_time": "2022-02-18T12:15:47.972Z"
   },
   {
    "duration": 4,
    "start_time": "2022-02-18T12:16:54.524Z"
   },
   {
    "duration": 195,
    "start_time": "2022-02-18T12:17:17.364Z"
   },
   {
    "duration": 272,
    "start_time": "2022-02-18T12:17:26.399Z"
   },
   {
    "duration": 291,
    "start_time": "2022-02-18T12:17:34.904Z"
   },
   {
    "duration": 280,
    "start_time": "2022-02-18T12:17:48.738Z"
   },
   {
    "duration": 1073,
    "start_time": "2022-02-18T13:44:43.365Z"
   },
   {
    "duration": 11,
    "start_time": "2022-02-18T13:44:44.440Z"
   },
   {
    "duration": 6,
    "start_time": "2022-02-18T13:44:44.453Z"
   },
   {
    "duration": 16,
    "start_time": "2022-02-18T13:44:44.461Z"
   },
   {
    "duration": 11,
    "start_time": "2022-02-18T13:44:44.479Z"
   },
   {
    "duration": 32,
    "start_time": "2022-02-18T13:44:44.492Z"
   },
   {
    "duration": 6,
    "start_time": "2022-02-18T13:44:44.525Z"
   },
   {
    "duration": 13,
    "start_time": "2022-02-18T13:44:44.534Z"
   },
   {
    "duration": 18,
    "start_time": "2022-02-18T13:44:44.549Z"
   },
   {
    "duration": 8,
    "start_time": "2022-02-18T13:44:44.568Z"
   },
   {
    "duration": 9,
    "start_time": "2022-02-18T13:44:44.578Z"
   },
   {
    "duration": 11,
    "start_time": "2022-02-18T13:44:44.588Z"
   },
   {
    "duration": 11,
    "start_time": "2022-02-18T13:44:44.601Z"
   },
   {
    "duration": 8,
    "start_time": "2022-02-18T13:44:44.614Z"
   },
   {
    "duration": 565,
    "start_time": "2022-02-18T13:44:44.623Z"
   },
   {
    "duration": 215,
    "start_time": "2022-02-18T13:44:45.189Z"
   },
   {
    "duration": 7,
    "start_time": "2022-02-18T13:44:45.406Z"
   },
   {
    "duration": 288,
    "start_time": "2022-02-18T13:44:45.414Z"
   },
   {
    "duration": 7,
    "start_time": "2022-02-18T13:44:45.704Z"
   },
   {
    "duration": 203,
    "start_time": "2022-02-18T13:44:45.713Z"
   },
   {
    "duration": 8,
    "start_time": "2022-02-18T13:44:45.917Z"
   },
   {
    "duration": 327,
    "start_time": "2022-02-18T13:44:45.927Z"
   },
   {
    "duration": 2,
    "start_time": "2022-02-18T13:44:46.261Z"
   },
   {
    "duration": 223,
    "start_time": "2022-02-18T13:47:37.728Z"
   },
   {
    "duration": 1071,
    "start_time": "2022-02-18T13:48:47.467Z"
   },
   {
    "duration": 11,
    "start_time": "2022-02-18T13:48:48.540Z"
   },
   {
    "duration": 5,
    "start_time": "2022-02-18T13:48:48.555Z"
   },
   {
    "duration": 15,
    "start_time": "2022-02-18T13:48:48.561Z"
   },
   {
    "duration": 10,
    "start_time": "2022-02-18T13:48:48.578Z"
   },
   {
    "duration": 32,
    "start_time": "2022-02-18T13:48:48.590Z"
   },
   {
    "duration": 6,
    "start_time": "2022-02-18T13:48:48.624Z"
   },
   {
    "duration": 9,
    "start_time": "2022-02-18T13:48:48.632Z"
   },
   {
    "duration": 20,
    "start_time": "2022-02-18T13:48:48.643Z"
   },
   {
    "duration": 8,
    "start_time": "2022-02-18T13:48:48.665Z"
   },
   {
    "duration": 8,
    "start_time": "2022-02-18T13:48:48.674Z"
   },
   {
    "duration": 10,
    "start_time": "2022-02-18T13:48:48.684Z"
   },
   {
    "duration": 8,
    "start_time": "2022-02-18T13:48:48.696Z"
   },
   {
    "duration": 8,
    "start_time": "2022-02-18T13:48:48.706Z"
   },
   {
    "duration": 546,
    "start_time": "2022-02-18T13:48:48.715Z"
   },
   {
    "duration": 202,
    "start_time": "2022-02-18T13:48:49.263Z"
   },
   {
    "duration": 6,
    "start_time": "2022-02-18T13:48:49.466Z"
   },
   {
    "duration": 306,
    "start_time": "2022-02-18T13:48:49.474Z"
   },
   {
    "duration": 6,
    "start_time": "2022-02-18T13:48:49.782Z"
   },
   {
    "duration": 199,
    "start_time": "2022-02-18T13:48:49.790Z"
   },
   {
    "duration": 7,
    "start_time": "2022-02-18T13:48:49.991Z"
   },
   {
    "duration": 301,
    "start_time": "2022-02-18T13:48:50.001Z"
   },
   {
    "duration": 213,
    "start_time": "2022-02-18T13:48:50.304Z"
   },
   {
    "duration": -18,
    "start_time": "2022-02-18T13:48:50.538Z"
   },
   {
    "duration": 118,
    "start_time": "2022-02-18T13:49:26.845Z"
   },
   {
    "duration": 3709,
    "start_time": "2022-02-18T13:50:15.878Z"
   },
   {
    "duration": 181,
    "start_time": "2022-02-18T13:50:39.054Z"
   },
   {
    "duration": 165,
    "start_time": "2022-02-18T13:51:45.993Z"
   },
   {
    "duration": 321,
    "start_time": "2022-02-18T13:52:36.438Z"
   },
   {
    "duration": 257,
    "start_time": "2022-02-18T13:52:46.453Z"
   },
   {
    "duration": 3763,
    "start_time": "2022-02-18T13:55:56.934Z"
   },
   {
    "duration": 313,
    "start_time": "2022-02-18T13:56:14.441Z"
   },
   {
    "duration": 294,
    "start_time": "2022-02-18T13:56:41.044Z"
   },
   {
    "duration": 4,
    "start_time": "2022-02-18T14:01:04.601Z"
   },
   {
    "duration": 170,
    "start_time": "2022-02-18T14:05:41.530Z"
   },
   {
    "duration": 320,
    "start_time": "2022-02-18T14:25:20.271Z"
   },
   {
    "duration": 5,
    "start_time": "2022-02-18T14:29:26.826Z"
   },
   {
    "duration": 1035,
    "start_time": "2022-02-19T09:06:39.623Z"
   },
   {
    "duration": 11,
    "start_time": "2022-02-19T09:06:40.659Z"
   },
   {
    "duration": 3,
    "start_time": "2022-02-19T09:06:40.672Z"
   },
   {
    "duration": 11,
    "start_time": "2022-02-19T09:06:40.677Z"
   },
   {
    "duration": 10,
    "start_time": "2022-02-19T09:06:40.690Z"
   },
   {
    "duration": 66,
    "start_time": "2022-02-19T09:06:40.701Z"
   },
   {
    "duration": 6,
    "start_time": "2022-02-19T09:06:40.768Z"
   },
   {
    "duration": 8,
    "start_time": "2022-02-19T09:06:40.776Z"
   },
   {
    "duration": 14,
    "start_time": "2022-02-19T09:06:40.786Z"
   },
   {
    "duration": 6,
    "start_time": "2022-02-19T09:06:40.802Z"
   },
   {
    "duration": 7,
    "start_time": "2022-02-19T09:06:40.810Z"
   },
   {
    "duration": 6,
    "start_time": "2022-02-19T09:06:40.819Z"
   },
   {
    "duration": 6,
    "start_time": "2022-02-19T09:06:40.827Z"
   },
   {
    "duration": 6,
    "start_time": "2022-02-19T09:06:40.834Z"
   },
   {
    "duration": 534,
    "start_time": "2022-02-19T09:06:40.841Z"
   },
   {
    "duration": 201,
    "start_time": "2022-02-19T09:06:41.376Z"
   },
   {
    "duration": 5,
    "start_time": "2022-02-19T09:06:41.579Z"
   },
   {
    "duration": 339,
    "start_time": "2022-02-19T09:06:41.586Z"
   },
   {
    "duration": 5,
    "start_time": "2022-02-19T09:06:41.927Z"
   },
   {
    "duration": 196,
    "start_time": "2022-02-19T09:06:41.934Z"
   },
   {
    "duration": 7,
    "start_time": "2022-02-19T09:06:42.132Z"
   },
   {
    "duration": 294,
    "start_time": "2022-02-19T09:06:42.140Z"
   },
   {
    "duration": 116,
    "start_time": "2022-02-19T09:06:42.437Z"
   },
   {
    "duration": 172,
    "start_time": "2022-02-19T09:06:42.556Z"
   },
   {
    "duration": 280,
    "start_time": "2022-02-19T09:06:42.730Z"
   },
   {
    "duration": 9,
    "start_time": "2022-02-19T09:06:43.012Z"
   },
   {
    "duration": 202,
    "start_time": "2022-02-19T09:06:43.023Z"
   },
   {
    "duration": 343,
    "start_time": "2022-02-19T09:06:43.227Z"
   },
   {
    "duration": 3,
    "start_time": "2022-02-19T09:06:43.572Z"
   },
   {
    "duration": 252,
    "start_time": "2022-02-19T09:23:16.057Z"
   },
   {
    "duration": 247,
    "start_time": "2022-02-19T09:25:01.042Z"
   },
   {
    "duration": 312,
    "start_time": "2022-02-19T09:28:46.879Z"
   },
   {
    "duration": 111,
    "start_time": "2022-02-19T09:30:04.397Z"
   },
   {
    "duration": 7504,
    "start_time": "2022-02-19T09:31:22.768Z"
   },
   {
    "duration": 5893,
    "start_time": "2022-02-19T09:35:23.126Z"
   },
   {
    "duration": 5968,
    "start_time": "2022-02-19T09:35:54.501Z"
   },
   {
    "duration": 109,
    "start_time": "2022-02-19T09:36:51.149Z"
   },
   {
    "duration": 6241,
    "start_time": "2022-02-19T09:37:03.067Z"
   },
   {
    "duration": 5,
    "start_time": "2022-02-19T09:37:36.217Z"
   },
   {
    "duration": 8,
    "start_time": "2022-02-19T09:42:10.351Z"
   },
   {
    "duration": 240,
    "start_time": "2022-02-19T09:44:05.857Z"
   },
   {
    "duration": 12,
    "start_time": "2022-02-19T09:45:05.349Z"
   },
   {
    "duration": 8,
    "start_time": "2022-02-19T09:45:13.536Z"
   },
   {
    "duration": 8,
    "start_time": "2022-02-19T10:01:28.082Z"
   },
   {
    "duration": 8,
    "start_time": "2022-02-19T10:01:58.724Z"
   },
   {
    "duration": 9,
    "start_time": "2022-02-19T10:13:07.727Z"
   },
   {
    "duration": 12,
    "start_time": "2022-02-19T10:14:13.085Z"
   },
   {
    "duration": 255,
    "start_time": "2022-02-19T10:17:18.470Z"
   },
   {
    "duration": 9,
    "start_time": "2022-02-19T10:17:26.351Z"
   },
   {
    "duration": 8,
    "start_time": "2022-02-19T10:17:58.195Z"
   },
   {
    "duration": 4,
    "start_time": "2022-02-19T10:18:26.289Z"
   },
   {
    "duration": 9,
    "start_time": "2022-02-19T10:22:28.487Z"
   },
   {
    "duration": 8,
    "start_time": "2022-02-19T10:23:18.070Z"
   },
   {
    "duration": 323,
    "start_time": "2022-02-19T10:58:43.552Z"
   },
   {
    "duration": 206,
    "start_time": "2022-02-19T10:58:46.947Z"
   },
   {
    "duration": 190,
    "start_time": "2022-02-19T11:02:12.498Z"
   },
   {
    "duration": 201,
    "start_time": "2022-02-19T11:02:26.364Z"
   },
   {
    "duration": 213,
    "start_time": "2022-02-19T11:03:16.678Z"
   },
   {
    "duration": 212,
    "start_time": "2022-02-19T11:03:59.877Z"
   },
   {
    "duration": 208,
    "start_time": "2022-02-19T11:04:09.714Z"
   },
   {
    "duration": 391,
    "start_time": "2022-02-19T11:04:40.648Z"
   },
   {
    "duration": 206,
    "start_time": "2022-02-19T11:04:58.341Z"
   },
   {
    "duration": 224,
    "start_time": "2022-02-19T11:05:14.602Z"
   },
   {
    "duration": 281,
    "start_time": "2022-02-19T11:05:23.630Z"
   },
   {
    "duration": 211,
    "start_time": "2022-02-19T11:06:00.893Z"
   },
   {
    "duration": 216,
    "start_time": "2022-02-19T11:07:17.556Z"
   },
   {
    "duration": 332,
    "start_time": "2022-02-19T11:08:40.110Z"
   },
   {
    "duration": 200,
    "start_time": "2022-02-19T11:10:05.489Z"
   },
   {
    "duration": 332,
    "start_time": "2022-02-19T11:11:25.830Z"
   },
   {
    "duration": 186,
    "start_time": "2022-02-19T11:12:59.119Z"
   },
   {
    "duration": 274,
    "start_time": "2022-02-19T11:13:54.952Z"
   },
   {
    "duration": 321,
    "start_time": "2022-02-19T11:14:24.609Z"
   },
   {
    "duration": 194,
    "start_time": "2022-02-19T11:17:29.384Z"
   },
   {
    "duration": 302,
    "start_time": "2022-02-19T11:18:19.886Z"
   },
   {
    "duration": 4,
    "start_time": "2022-02-19T11:20:59.644Z"
   },
   {
    "duration": 1253,
    "start_time": "2022-02-19T19:27:22.805Z"
   },
   {
    "duration": 11,
    "start_time": "2022-02-19T19:27:24.060Z"
   },
   {
    "duration": 3,
    "start_time": "2022-02-19T19:27:24.073Z"
   },
   {
    "duration": 12,
    "start_time": "2022-02-19T19:27:24.078Z"
   },
   {
    "duration": 11,
    "start_time": "2022-02-19T19:27:24.092Z"
   },
   {
    "duration": 34,
    "start_time": "2022-02-19T19:27:24.104Z"
   },
   {
    "duration": 7,
    "start_time": "2022-02-19T19:27:24.140Z"
   },
   {
    "duration": 7,
    "start_time": "2022-02-19T19:27:24.150Z"
   },
   {
    "duration": 15,
    "start_time": "2022-02-19T19:27:24.160Z"
   },
   {
    "duration": 7,
    "start_time": "2022-02-19T19:27:24.177Z"
   },
   {
    "duration": 7,
    "start_time": "2022-02-19T19:27:24.186Z"
   },
   {
    "duration": 7,
    "start_time": "2022-02-19T19:27:24.232Z"
   },
   {
    "duration": 7,
    "start_time": "2022-02-19T19:27:24.241Z"
   },
   {
    "duration": 6,
    "start_time": "2022-02-19T19:27:24.250Z"
   },
   {
    "duration": 6,
    "start_time": "2022-02-19T19:27:24.258Z"
   },
   {
    "duration": 457,
    "start_time": "2022-02-19T19:27:24.266Z"
   },
   {
    "duration": 270,
    "start_time": "2022-02-19T19:27:24.725Z"
   },
   {
    "duration": 262,
    "start_time": "2022-02-19T19:27:24.997Z"
   },
   {
    "duration": 6,
    "start_time": "2022-02-19T19:27:25.261Z"
   },
   {
    "duration": 345,
    "start_time": "2022-02-19T19:27:25.269Z"
   },
   {
    "duration": 6,
    "start_time": "2022-02-19T19:27:25.616Z"
   },
   {
    "duration": 209,
    "start_time": "2022-02-19T19:27:25.630Z"
   },
   {
    "duration": 8,
    "start_time": "2022-02-19T19:27:25.842Z"
   },
   {
    "duration": 361,
    "start_time": "2022-02-19T19:27:25.852Z"
   },
   {
    "duration": 150,
    "start_time": "2022-02-19T19:27:26.215Z"
   },
   {
    "duration": 171,
    "start_time": "2022-02-19T19:27:26.368Z"
   },
   {
    "duration": 283,
    "start_time": "2022-02-19T19:27:26.541Z"
   },
   {
    "duration": 4,
    "start_time": "2022-02-19T19:27:26.829Z"
   },
   {
    "duration": 185,
    "start_time": "2022-02-19T19:27:26.835Z"
   },
   {
    "duration": 341,
    "start_time": "2022-02-19T19:27:27.022Z"
   },
   {
    "duration": 4,
    "start_time": "2022-02-19T19:27:27.365Z"
   },
   {
    "duration": 290,
    "start_time": "2022-02-19T19:27:27.371Z"
   },
   {
    "duration": 139,
    "start_time": "2022-02-19T19:27:27.663Z"
   },
   {
    "duration": 6,
    "start_time": "2022-02-19T19:27:27.803Z"
   },
   {
    "duration": 20,
    "start_time": "2022-02-19T19:27:27.811Z"
   },
   {
    "duration": 8,
    "start_time": "2022-02-19T19:27:27.833Z"
   },
   {
    "duration": 9,
    "start_time": "2022-02-19T19:27:27.843Z"
   },
   {
    "duration": 16,
    "start_time": "2022-02-19T19:27:27.854Z"
   },
   {
    "duration": 268,
    "start_time": "2022-02-19T19:27:27.872Z"
   },
   {
    "duration": -235,
    "start_time": "2022-02-19T19:27:28.377Z"
   },
   {
    "duration": -238,
    "start_time": "2022-02-19T19:27:28.381Z"
   },
   {
    "duration": -241,
    "start_time": "2022-02-19T19:27:28.386Z"
   },
   {
    "duration": -251,
    "start_time": "2022-02-19T19:27:28.397Z"
   },
   {
    "duration": 191,
    "start_time": "2022-02-19T19:27:37.680Z"
   },
   {
    "duration": 197,
    "start_time": "2022-02-19T19:27:38.382Z"
   },
   {
    "duration": 219,
    "start_time": "2022-02-19T19:27:40.383Z"
   },
   {
    "duration": 188,
    "start_time": "2022-02-19T19:27:42.691Z"
   },
   {
    "duration": 1239,
    "start_time": "2022-02-20T08:04:52.389Z"
   },
   {
    "duration": 11,
    "start_time": "2022-02-20T08:04:53.630Z"
   },
   {
    "duration": 7,
    "start_time": "2022-02-20T08:04:53.644Z"
   },
   {
    "duration": 20,
    "start_time": "2022-02-20T08:04:53.653Z"
   },
   {
    "duration": 12,
    "start_time": "2022-02-20T08:04:53.675Z"
   },
   {
    "duration": 38,
    "start_time": "2022-02-20T08:04:53.689Z"
   },
   {
    "duration": 7,
    "start_time": "2022-02-20T08:04:53.729Z"
   },
   {
    "duration": 11,
    "start_time": "2022-02-20T08:04:53.739Z"
   },
   {
    "duration": 22,
    "start_time": "2022-02-20T08:04:53.752Z"
   },
   {
    "duration": 18,
    "start_time": "2022-02-20T08:04:53.777Z"
   },
   {
    "duration": 12,
    "start_time": "2022-02-20T08:04:53.797Z"
   },
   {
    "duration": 11,
    "start_time": "2022-02-20T08:04:53.811Z"
   },
   {
    "duration": 10,
    "start_time": "2022-02-20T08:04:53.824Z"
   },
   {
    "duration": 9,
    "start_time": "2022-02-20T08:04:53.836Z"
   },
   {
    "duration": 14,
    "start_time": "2022-02-20T08:04:53.847Z"
   },
   {
    "duration": 400,
    "start_time": "2022-02-20T08:04:53.863Z"
   },
   {
    "duration": 246,
    "start_time": "2022-02-20T08:04:54.265Z"
   },
   {
    "duration": 231,
    "start_time": "2022-02-20T08:04:54.513Z"
   },
   {
    "duration": 7,
    "start_time": "2022-02-20T08:04:54.746Z"
   },
   {
    "duration": 357,
    "start_time": "2022-02-20T08:04:54.755Z"
   },
   {
    "duration": 8,
    "start_time": "2022-02-20T08:04:55.119Z"
   },
   {
    "duration": 262,
    "start_time": "2022-02-20T08:04:55.129Z"
   },
   {
    "duration": 8,
    "start_time": "2022-02-20T08:04:55.396Z"
   },
   {
    "duration": 357,
    "start_time": "2022-02-20T08:04:55.406Z"
   },
   {
    "duration": 164,
    "start_time": "2022-02-20T08:04:55.765Z"
   },
   {
    "duration": 197,
    "start_time": "2022-02-20T08:04:55.932Z"
   },
   {
    "duration": 308,
    "start_time": "2022-02-20T08:04:56.131Z"
   },
   {
    "duration": 5,
    "start_time": "2022-02-20T08:04:56.442Z"
   },
   {
    "duration": 204,
    "start_time": "2022-02-20T08:04:56.449Z"
   },
   {
    "duration": 391,
    "start_time": "2022-02-20T08:04:56.655Z"
   },
   {
    "duration": 5,
    "start_time": "2022-02-20T08:04:57.048Z"
   },
   {
    "duration": 323,
    "start_time": "2022-02-20T08:04:57.055Z"
   },
   {
    "duration": 120,
    "start_time": "2022-02-20T08:04:57.380Z"
   },
   {
    "duration": 7,
    "start_time": "2022-02-20T08:04:57.502Z"
   },
   {
    "duration": 18,
    "start_time": "2022-02-20T08:04:57.510Z"
   },
   {
    "duration": 7,
    "start_time": "2022-02-20T08:04:57.530Z"
   },
   {
    "duration": 10,
    "start_time": "2022-02-20T08:04:57.539Z"
   },
   {
    "duration": 15,
    "start_time": "2022-02-20T08:04:57.551Z"
   },
   {
    "duration": 769,
    "start_time": "2022-02-20T08:04:57.568Z"
   },
   {
    "duration": -89,
    "start_time": "2022-02-20T08:04:58.428Z"
   },
   {
    "duration": -93,
    "start_time": "2022-02-20T08:04:58.433Z"
   },
   {
    "duration": -102,
    "start_time": "2022-02-20T08:04:58.443Z"
   },
   {
    "duration": -106,
    "start_time": "2022-02-20T08:04:58.448Z"
   },
   {
    "duration": 1032,
    "start_time": "2022-02-20T08:05:28.265Z"
   },
   {
    "duration": 12,
    "start_time": "2022-02-20T08:05:29.299Z"
   },
   {
    "duration": 7,
    "start_time": "2022-02-20T08:05:29.313Z"
   },
   {
    "duration": 17,
    "start_time": "2022-02-20T08:05:29.322Z"
   },
   {
    "duration": 10,
    "start_time": "2022-02-20T08:05:29.341Z"
   },
   {
    "duration": 24,
    "start_time": "2022-02-20T08:05:29.353Z"
   },
   {
    "duration": 6,
    "start_time": "2022-02-20T08:05:29.379Z"
   },
   {
    "duration": 6,
    "start_time": "2022-02-20T08:05:29.387Z"
   },
   {
    "duration": 29,
    "start_time": "2022-02-20T08:05:29.395Z"
   },
   {
    "duration": 10,
    "start_time": "2022-02-20T08:05:29.426Z"
   },
   {
    "duration": 7,
    "start_time": "2022-02-20T08:05:29.438Z"
   },
   {
    "duration": 9,
    "start_time": "2022-02-20T08:05:29.446Z"
   },
   {
    "duration": 6,
    "start_time": "2022-02-20T08:05:29.456Z"
   },
   {
    "duration": 5,
    "start_time": "2022-02-20T08:05:29.464Z"
   },
   {
    "duration": 6,
    "start_time": "2022-02-20T08:05:29.470Z"
   },
   {
    "duration": 383,
    "start_time": "2022-02-20T08:05:29.477Z"
   },
   {
    "duration": 258,
    "start_time": "2022-02-20T08:05:29.862Z"
   },
   {
    "duration": 293,
    "start_time": "2022-02-20T08:05:30.122Z"
   },
   {
    "duration": 6,
    "start_time": "2022-02-20T08:05:30.418Z"
   },
   {
    "duration": 334,
    "start_time": "2022-02-20T08:05:30.426Z"
   },
   {
    "duration": 7,
    "start_time": "2022-02-20T08:05:30.763Z"
   },
   {
    "duration": 209,
    "start_time": "2022-02-20T08:05:30.773Z"
   },
   {
    "duration": 10,
    "start_time": "2022-02-20T08:05:30.985Z"
   },
   {
    "duration": 372,
    "start_time": "2022-02-20T08:05:30.998Z"
   },
   {
    "duration": 117,
    "start_time": "2022-02-20T08:05:31.372Z"
   },
   {
    "duration": 184,
    "start_time": "2022-02-20T08:05:31.491Z"
   },
   {
    "duration": 308,
    "start_time": "2022-02-20T08:05:31.676Z"
   },
   {
    "duration": 4,
    "start_time": "2022-02-20T08:05:31.986Z"
   },
   {
    "duration": 198,
    "start_time": "2022-02-20T08:05:31.991Z"
   },
   {
    "duration": 389,
    "start_time": "2022-02-20T08:05:32.190Z"
   },
   {
    "duration": 4,
    "start_time": "2022-02-20T08:05:32.581Z"
   },
   {
    "duration": 293,
    "start_time": "2022-02-20T08:05:32.587Z"
   },
   {
    "duration": 123,
    "start_time": "2022-02-20T08:05:32.882Z"
   },
   {
    "duration": 11,
    "start_time": "2022-02-20T08:05:33.007Z"
   },
   {
    "duration": 7,
    "start_time": "2022-02-20T08:05:33.020Z"
   },
   {
    "duration": 7,
    "start_time": "2022-02-20T08:05:33.029Z"
   },
   {
    "duration": 9,
    "start_time": "2022-02-20T08:05:33.038Z"
   },
   {
    "duration": 12,
    "start_time": "2022-02-20T08:05:33.049Z"
   },
   {
    "duration": 306,
    "start_time": "2022-02-20T08:05:33.063Z"
   },
   {
    "duration": -68,
    "start_time": "2022-02-20T08:05:33.439Z"
   },
   {
    "duration": -71,
    "start_time": "2022-02-20T08:05:33.443Z"
   },
   {
    "duration": -74,
    "start_time": "2022-02-20T08:05:33.448Z"
   },
   {
    "duration": -76,
    "start_time": "2022-02-20T08:05:33.451Z"
   },
   {
    "duration": 9,
    "start_time": "2022-02-20T08:07:47.292Z"
   },
   {
    "duration": 7,
    "start_time": "2022-02-20T08:07:54.560Z"
   },
   {
    "duration": 4,
    "start_time": "2022-02-20T08:07:57.563Z"
   },
   {
    "duration": 11,
    "start_time": "2022-02-20T08:10:00.748Z"
   },
   {
    "duration": 11,
    "start_time": "2022-02-20T08:10:03.396Z"
   },
   {
    "duration": 12,
    "start_time": "2022-02-20T08:57:14.967Z"
   },
   {
    "duration": 14,
    "start_time": "2022-02-20T08:58:46.977Z"
   },
   {
    "duration": 12,
    "start_time": "2022-02-20T08:58:54.957Z"
   },
   {
    "duration": 10,
    "start_time": "2022-02-20T08:59:07.811Z"
   },
   {
    "duration": 11,
    "start_time": "2022-02-20T08:59:47.250Z"
   },
   {
    "duration": 10,
    "start_time": "2022-02-20T08:59:49.573Z"
   },
   {
    "duration": 228,
    "start_time": "2022-02-20T09:01:18.100Z"
   },
   {
    "duration": 218,
    "start_time": "2022-02-20T09:03:48.665Z"
   },
   {
    "duration": 10,
    "start_time": "2022-02-20T09:04:37.347Z"
   },
   {
    "duration": 11,
    "start_time": "2022-02-20T09:04:43.245Z"
   },
   {
    "duration": 13,
    "start_time": "2022-02-20T09:04:49.824Z"
   },
   {
    "duration": 12,
    "start_time": "2022-02-20T09:05:00.246Z"
   },
   {
    "duration": 17,
    "start_time": "2022-02-20T09:05:38.536Z"
   },
   {
    "duration": 152,
    "start_time": "2022-02-20T09:10:07.950Z"
   },
   {
    "duration": 281,
    "start_time": "2022-02-20T09:10:14.636Z"
   },
   {
    "duration": 217,
    "start_time": "2022-02-20T09:10:37.601Z"
   },
   {
    "duration": 10,
    "start_time": "2022-02-20T09:10:48.666Z"
   },
   {
    "duration": 97,
    "start_time": "2022-02-20T09:26:41.067Z"
   },
   {
    "duration": 3,
    "start_time": "2022-02-20T09:26:57.803Z"
   },
   {
    "duration": 3,
    "start_time": "2022-02-20T09:27:01.635Z"
   },
   {
    "duration": 10,
    "start_time": "2022-02-20T09:27:12.255Z"
   },
   {
    "duration": 219,
    "start_time": "2022-02-20T09:31:31.094Z"
   },
   {
    "duration": 69,
    "start_time": "2022-02-20T09:32:51.959Z"
   },
   {
    "duration": 277,
    "start_time": "2022-02-20T09:33:00.457Z"
   },
   {
    "duration": 771,
    "start_time": "2022-02-20T09:33:21.348Z"
   },
   {
    "duration": 4,
    "start_time": "2022-02-20T09:33:37.252Z"
   },
   {
    "duration": 543,
    "start_time": "2022-02-20T09:33:40.022Z"
   },
   {
    "duration": 12,
    "start_time": "2022-02-20T09:33:55.637Z"
   },
   {
    "duration": 9,
    "start_time": "2022-02-20T09:34:01.945Z"
   },
   {
    "duration": 67,
    "start_time": "2022-02-20T09:35:23.930Z"
   },
   {
    "duration": 232,
    "start_time": "2022-02-20T09:35:31.030Z"
   },
   {
    "duration": 225,
    "start_time": "2022-02-20T09:35:44.254Z"
   },
   {
    "duration": 208,
    "start_time": "2022-02-20T09:36:38.978Z"
   },
   {
    "duration": 12,
    "start_time": "2022-02-20T09:36:48.236Z"
   },
   {
    "duration": 225,
    "start_time": "2022-02-20T09:36:51.109Z"
   },
   {
    "duration": 8,
    "start_time": "2022-02-20T09:37:01.123Z"
   },
   {
    "duration": 8,
    "start_time": "2022-02-20T09:37:06.898Z"
   },
   {
    "duration": 76,
    "start_time": "2022-02-20T09:39:12.559Z"
   },
   {
    "duration": 214,
    "start_time": "2022-02-20T09:39:52.893Z"
   },
   {
    "duration": 701,
    "start_time": "2022-02-20T09:40:15.231Z"
   },
   {
    "duration": 1164,
    "start_time": "2022-02-20T10:04:49.361Z"
   },
   {
    "duration": 43,
    "start_time": "2022-02-20T10:05:10.213Z"
   },
   {
    "duration": 31,
    "start_time": "2022-02-20T10:05:23.920Z"
   },
   {
    "duration": 9,
    "start_time": "2022-02-20T10:38:16.178Z"
   },
   {
    "duration": 1220,
    "start_time": "2022-02-20T10:38:39.159Z"
   },
   {
    "duration": 486,
    "start_time": "2022-02-20T10:38:40.381Z"
   },
   {
    "duration": 3,
    "start_time": "2022-02-20T10:38:40.870Z"
   },
   {
    "duration": 24,
    "start_time": "2022-02-20T10:38:40.875Z"
   },
   {
    "duration": 29,
    "start_time": "2022-02-20T10:38:40.901Z"
   },
   {
    "duration": 11,
    "start_time": "2022-02-20T10:38:40.932Z"
   },
   {
    "duration": 27,
    "start_time": "2022-02-20T10:38:40.945Z"
   },
   {
    "duration": 6,
    "start_time": "2022-02-20T10:38:40.974Z"
   },
   {
    "duration": 8,
    "start_time": "2022-02-20T10:38:40.983Z"
   },
   {
    "duration": 32,
    "start_time": "2022-02-20T10:38:40.993Z"
   },
   {
    "duration": 5,
    "start_time": "2022-02-20T10:38:41.028Z"
   },
   {
    "duration": 9,
    "start_time": "2022-02-20T10:38:41.035Z"
   },
   {
    "duration": 10,
    "start_time": "2022-02-20T10:38:41.046Z"
   },
   {
    "duration": 8,
    "start_time": "2022-02-20T10:38:41.058Z"
   },
   {
    "duration": 6,
    "start_time": "2022-02-20T10:38:41.068Z"
   },
   {
    "duration": 7,
    "start_time": "2022-02-20T10:38:41.076Z"
   },
   {
    "duration": 413,
    "start_time": "2022-02-20T10:38:41.085Z"
   },
   {
    "duration": 227,
    "start_time": "2022-02-20T10:38:41.499Z"
   },
   {
    "duration": 213,
    "start_time": "2022-02-20T10:38:41.727Z"
   },
   {
    "duration": 6,
    "start_time": "2022-02-20T10:38:41.942Z"
   },
   {
    "duration": 413,
    "start_time": "2022-02-20T10:38:41.950Z"
   },
   {
    "duration": 8,
    "start_time": "2022-02-20T10:38:42.365Z"
   },
   {
    "duration": 311,
    "start_time": "2022-02-20T10:38:42.375Z"
   },
   {
    "duration": 8,
    "start_time": "2022-02-20T10:38:42.688Z"
   },
   {
    "duration": 370,
    "start_time": "2022-02-20T10:38:42.698Z"
   },
   {
    "duration": 125,
    "start_time": "2022-02-20T10:38:43.070Z"
   },
   {
    "duration": 182,
    "start_time": "2022-02-20T10:38:43.199Z"
   },
   {
    "duration": 312,
    "start_time": "2022-02-20T10:38:43.383Z"
   },
   {
    "duration": 3,
    "start_time": "2022-02-20T10:38:43.697Z"
   },
   {
    "duration": 194,
    "start_time": "2022-02-20T10:38:43.702Z"
   },
   {
    "duration": 352,
    "start_time": "2022-02-20T10:38:43.897Z"
   },
   {
    "duration": 5,
    "start_time": "2022-02-20T10:38:44.251Z"
   },
   {
    "duration": 394,
    "start_time": "2022-02-20T10:38:44.258Z"
   },
   {
    "duration": 148,
    "start_time": "2022-02-20T10:38:44.654Z"
   },
   {
    "duration": 6,
    "start_time": "2022-02-20T10:38:44.804Z"
   },
   {
    "duration": 8,
    "start_time": "2022-02-20T10:38:44.818Z"
   },
   {
    "duration": 6,
    "start_time": "2022-02-20T10:38:44.828Z"
   },
   {
    "duration": 7,
    "start_time": "2022-02-20T10:38:44.836Z"
   },
   {
    "duration": 11,
    "start_time": "2022-02-20T10:38:44.844Z"
   },
   {
    "duration": 14,
    "start_time": "2022-02-20T10:38:44.856Z"
   },
   {
    "duration": 9,
    "start_time": "2022-02-20T10:38:44.872Z"
   },
   {
    "duration": 4,
    "start_time": "2022-02-20T10:38:44.882Z"
   },
   {
    "duration": 9,
    "start_time": "2022-02-20T10:38:44.919Z"
   },
   {
    "duration": 9,
    "start_time": "2022-02-20T10:38:44.930Z"
   },
   {
    "duration": 11,
    "start_time": "2022-02-20T10:40:22.801Z"
   },
   {
    "duration": 11,
    "start_time": "2022-02-20T10:40:34.112Z"
   },
   {
    "duration": 9,
    "start_time": "2022-02-20T10:40:49.583Z"
   },
   {
    "duration": 9,
    "start_time": "2022-02-20T10:41:41.054Z"
   },
   {
    "duration": 8,
    "start_time": "2022-02-20T10:42:34.006Z"
   },
   {
    "duration": 9,
    "start_time": "2022-02-20T10:46:38.523Z"
   },
   {
    "duration": 302,
    "start_time": "2022-02-20T10:51:08.581Z"
   },
   {
    "duration": 177,
    "start_time": "2022-02-20T10:51:44.551Z"
   },
   {
    "duration": 177,
    "start_time": "2022-02-20T10:52:15.761Z"
   },
   {
    "duration": 255,
    "start_time": "2022-02-20T10:59:08.056Z"
   },
   {
    "duration": 476,
    "start_time": "2022-02-20T11:30:19.498Z"
   },
   {
    "duration": 1377,
    "start_time": "2022-02-20T11:30:32.681Z"
   },
   {
    "duration": 568,
    "start_time": "2022-02-20T11:30:34.060Z"
   },
   {
    "duration": 4,
    "start_time": "2022-02-20T11:30:34.631Z"
   },
   {
    "duration": 30,
    "start_time": "2022-02-20T11:30:34.637Z"
   },
   {
    "duration": 12,
    "start_time": "2022-02-20T11:30:34.668Z"
   },
   {
    "duration": 18,
    "start_time": "2022-02-20T11:30:34.682Z"
   },
   {
    "duration": 769,
    "start_time": "2022-02-20T11:30:34.703Z"
   },
   {
    "duration": -82,
    "start_time": "2022-02-20T11:30:35.559Z"
   },
   {
    "duration": -85,
    "start_time": "2022-02-20T11:30:35.564Z"
   },
   {
    "duration": -88,
    "start_time": "2022-02-20T11:30:35.569Z"
   },
   {
    "duration": -91,
    "start_time": "2022-02-20T11:30:35.573Z"
   },
   {
    "duration": -100,
    "start_time": "2022-02-20T11:30:35.584Z"
   },
   {
    "duration": -103,
    "start_time": "2022-02-20T11:30:35.588Z"
   },
   {
    "duration": -106,
    "start_time": "2022-02-20T11:30:35.593Z"
   },
   {
    "duration": -110,
    "start_time": "2022-02-20T11:30:35.598Z"
   },
   {
    "duration": -113,
    "start_time": "2022-02-20T11:30:35.603Z"
   },
   {
    "duration": -90,
    "start_time": "2022-02-20T11:30:35.607Z"
   },
   {
    "duration": -93,
    "start_time": "2022-02-20T11:30:35.612Z"
   },
   {
    "duration": -96,
    "start_time": "2022-02-20T11:30:35.616Z"
   },
   {
    "duration": -99,
    "start_time": "2022-02-20T11:30:35.621Z"
   },
   {
    "duration": -102,
    "start_time": "2022-02-20T11:30:35.625Z"
   },
   {
    "duration": -106,
    "start_time": "2022-02-20T11:30:35.630Z"
   },
   {
    "duration": -110,
    "start_time": "2022-02-20T11:30:35.635Z"
   },
   {
    "duration": -114,
    "start_time": "2022-02-20T11:30:35.640Z"
   },
   {
    "duration": -117,
    "start_time": "2022-02-20T11:30:35.644Z"
   },
   {
    "duration": -121,
    "start_time": "2022-02-20T11:30:35.649Z"
   },
   {
    "duration": -123,
    "start_time": "2022-02-20T11:30:35.653Z"
   },
   {
    "duration": -127,
    "start_time": "2022-02-20T11:30:35.658Z"
   },
   {
    "duration": -130,
    "start_time": "2022-02-20T11:30:35.662Z"
   },
   {
    "duration": -134,
    "start_time": "2022-02-20T11:30:35.667Z"
   },
   {
    "duration": -137,
    "start_time": "2022-02-20T11:30:35.671Z"
   },
   {
    "duration": -140,
    "start_time": "2022-02-20T11:30:35.675Z"
   },
   {
    "duration": -143,
    "start_time": "2022-02-20T11:30:35.679Z"
   },
   {
    "duration": -154,
    "start_time": "2022-02-20T11:30:35.691Z"
   },
   {
    "duration": -157,
    "start_time": "2022-02-20T11:30:35.696Z"
   },
   {
    "duration": -159,
    "start_time": "2022-02-20T11:30:35.700Z"
   },
   {
    "duration": -161,
    "start_time": "2022-02-20T11:30:35.704Z"
   },
   {
    "duration": -165,
    "start_time": "2022-02-20T11:30:35.709Z"
   },
   {
    "duration": -167,
    "start_time": "2022-02-20T11:30:35.713Z"
   },
   {
    "duration": -169,
    "start_time": "2022-02-20T11:30:35.717Z"
   },
   {
    "duration": -172,
    "start_time": "2022-02-20T11:30:35.721Z"
   },
   {
    "duration": -174,
    "start_time": "2022-02-20T11:30:35.725Z"
   },
   {
    "duration": -177,
    "start_time": "2022-02-20T11:30:35.729Z"
   },
   {
    "duration": -181,
    "start_time": "2022-02-20T11:30:35.734Z"
   },
   {
    "duration": -182,
    "start_time": "2022-02-20T11:30:35.737Z"
   },
   {
    "duration": 538,
    "start_time": "2022-02-20T11:30:49.815Z"
   },
   {
    "duration": 6083,
    "start_time": "2022-02-20T11:31:53.896Z"
   },
   {
    "duration": 6552,
    "start_time": "2022-02-20T11:32:27.356Z"
   },
   {
    "duration": 5727,
    "start_time": "2022-02-20T11:32:43.679Z"
   },
   {
    "duration": 64,
    "start_time": "2022-02-20T11:33:59.655Z"
   },
   {
    "duration": 61,
    "start_time": "2022-02-20T11:34:24.903Z"
   },
   {
    "duration": 75,
    "start_time": "2022-02-20T11:44:50.215Z"
   },
   {
    "duration": 196,
    "start_time": "2022-02-20T11:52:43.562Z"
   },
   {
    "duration": 348,
    "start_time": "2022-02-20T11:53:20.152Z"
   },
   {
    "duration": 194,
    "start_time": "2022-02-20T11:53:41.060Z"
   },
   {
    "duration": 390,
    "start_time": "2022-02-20T11:58:31.911Z"
   },
   {
    "duration": 281,
    "start_time": "2022-02-20T11:59:54.065Z"
   },
   {
    "duration": 10,
    "start_time": "2022-02-20T12:09:27.447Z"
   },
   {
    "duration": 1539,
    "start_time": "2022-02-21T09:33:51.135Z"
   },
   {
    "duration": 559,
    "start_time": "2022-02-21T09:33:52.676Z"
   },
   {
    "duration": 4,
    "start_time": "2022-02-21T09:33:53.237Z"
   },
   {
    "duration": 39,
    "start_time": "2022-02-21T09:33:53.243Z"
   },
   {
    "duration": 20,
    "start_time": "2022-02-21T09:33:53.285Z"
   },
   {
    "duration": 32,
    "start_time": "2022-02-21T09:33:53.307Z"
   },
   {
    "duration": 686,
    "start_time": "2022-02-21T09:33:53.341Z"
   },
   {
    "duration": -46,
    "start_time": "2022-02-21T09:33:54.076Z"
   },
   {
    "duration": -51,
    "start_time": "2022-02-21T09:33:54.083Z"
   },
   {
    "duration": -67,
    "start_time": "2022-02-21T09:33:54.099Z"
   },
   {
    "duration": -71,
    "start_time": "2022-02-21T09:33:54.104Z"
   },
   {
    "duration": -77,
    "start_time": "2022-02-21T09:33:54.111Z"
   },
   {
    "duration": -92,
    "start_time": "2022-02-21T09:33:54.127Z"
   },
   {
    "duration": -102,
    "start_time": "2022-02-21T09:33:54.138Z"
   },
   {
    "duration": -108,
    "start_time": "2022-02-21T09:33:54.145Z"
   },
   {
    "duration": -117,
    "start_time": "2022-02-21T09:33:54.155Z"
   },
   {
    "duration": -123,
    "start_time": "2022-02-21T09:33:54.162Z"
   },
   {
    "duration": -135,
    "start_time": "2022-02-21T09:33:54.175Z"
   },
   {
    "duration": -139,
    "start_time": "2022-02-21T09:33:54.180Z"
   },
   {
    "duration": -143,
    "start_time": "2022-02-21T09:33:54.185Z"
   },
   {
    "duration": -156,
    "start_time": "2022-02-21T09:33:54.199Z"
   },
   {
    "duration": -159,
    "start_time": "2022-02-21T09:33:54.203Z"
   },
   {
    "duration": -164,
    "start_time": "2022-02-21T09:33:54.209Z"
   },
   {
    "duration": -174,
    "start_time": "2022-02-21T09:33:54.220Z"
   },
   {
    "duration": -181,
    "start_time": "2022-02-21T09:33:54.227Z"
   },
   {
    "duration": -191,
    "start_time": "2022-02-21T09:33:54.238Z"
   },
   {
    "duration": -196,
    "start_time": "2022-02-21T09:33:54.244Z"
   },
   {
    "duration": -206,
    "start_time": "2022-02-21T09:33:54.256Z"
   },
   {
    "duration": -211,
    "start_time": "2022-02-21T09:33:54.262Z"
   },
   {
    "duration": -224,
    "start_time": "2022-02-21T09:33:54.276Z"
   },
   {
    "duration": -230,
    "start_time": "2022-02-21T09:33:54.283Z"
   },
   {
    "duration": -233,
    "start_time": "2022-02-21T09:33:54.287Z"
   },
   {
    "duration": -239,
    "start_time": "2022-02-21T09:33:54.294Z"
   },
   {
    "duration": -249,
    "start_time": "2022-02-21T09:33:54.305Z"
   },
   {
    "duration": -259,
    "start_time": "2022-02-21T09:33:54.317Z"
   },
   {
    "duration": -263,
    "start_time": "2022-02-21T09:33:54.322Z"
   },
   {
    "duration": -267,
    "start_time": "2022-02-21T09:33:54.327Z"
   },
   {
    "duration": -277,
    "start_time": "2022-02-21T09:33:54.338Z"
   },
   {
    "duration": -289,
    "start_time": "2022-02-21T09:33:54.351Z"
   },
   {
    "duration": -292,
    "start_time": "2022-02-21T09:33:54.355Z"
   },
   {
    "duration": -297,
    "start_time": "2022-02-21T09:33:54.361Z"
   },
   {
    "duration": -300,
    "start_time": "2022-02-21T09:33:54.365Z"
   },
   {
    "duration": -302,
    "start_time": "2022-02-21T09:33:54.370Z"
   },
   {
    "duration": -305,
    "start_time": "2022-02-21T09:33:54.374Z"
   },
   {
    "duration": -309,
    "start_time": "2022-02-21T09:33:54.379Z"
   },
   {
    "duration": 12,
    "start_time": "2022-02-21T09:34:39.663Z"
   },
   {
    "duration": 640,
    "start_time": "2022-02-21T09:41:53.273Z"
   },
   {
    "duration": 27,
    "start_time": "2022-02-21T09:42:16.701Z"
   },
   {
    "duration": 810,
    "start_time": "2022-02-21T09:42:22.081Z"
   },
   {
    "duration": 871,
    "start_time": "2022-02-21T09:43:05.033Z"
   },
   {
    "duration": 15,
    "start_time": "2022-02-21T09:43:41.693Z"
   },
   {
    "duration": 955,
    "start_time": "2022-02-21T09:44:09.373Z"
   },
   {
    "duration": 1513,
    "start_time": "2022-02-21T09:44:30.367Z"
   },
   {
    "duration": 16,
    "start_time": "2022-02-21T09:45:02.363Z"
   },
   {
    "duration": 10,
    "start_time": "2022-02-21T09:45:14.282Z"
   },
   {
    "duration": 22,
    "start_time": "2022-02-21T09:46:09.448Z"
   },
   {
    "duration": 20,
    "start_time": "2022-02-21T09:46:56.733Z"
   },
   {
    "duration": 22,
    "start_time": "2022-02-21T09:47:01.657Z"
   },
   {
    "duration": 7,
    "start_time": "2022-02-21T09:47:16.654Z"
   },
   {
    "duration": 7,
    "start_time": "2022-02-21T09:47:25.332Z"
   },
   {
    "duration": 20,
    "start_time": "2022-02-21T09:47:31.099Z"
   },
   {
    "duration": 411,
    "start_time": "2022-02-21T09:59:36.462Z"
   },
   {
    "duration": 821,
    "start_time": "2022-02-21T10:05:36.941Z"
   },
   {
    "duration": 20,
    "start_time": "2022-02-21T10:06:13.608Z"
   },
   {
    "duration": 537,
    "start_time": "2022-02-21T10:06:18.405Z"
   },
   {
    "duration": 662,
    "start_time": "2022-02-21T10:06:57.511Z"
   },
   {
    "duration": 735,
    "start_time": "2022-02-21T10:07:31.920Z"
   },
   {
    "duration": 459,
    "start_time": "2022-02-21T10:08:42.675Z"
   },
   {
    "duration": 889,
    "start_time": "2022-02-21T10:09:01.545Z"
   },
   {
    "duration": 439,
    "start_time": "2022-02-21T10:09:30.790Z"
   },
   {
    "duration": 621,
    "start_time": "2022-02-21T10:09:49.220Z"
   },
   {
    "duration": 226,
    "start_time": "2022-02-21T10:13:55.939Z"
   },
   {
    "duration": 20,
    "start_time": "2022-02-21T10:14:38.486Z"
   },
   {
    "duration": 213,
    "start_time": "2022-02-21T10:14:42.487Z"
   },
   {
    "duration": 20,
    "start_time": "2022-02-21T10:14:55.834Z"
   },
   {
    "duration": 230,
    "start_time": "2022-02-21T10:14:59.281Z"
   },
   {
    "duration": 245,
    "start_time": "2022-02-21T10:16:25.225Z"
   },
   {
    "duration": 584,
    "start_time": "2022-02-21T10:17:14.403Z"
   },
   {
    "duration": 765,
    "start_time": "2022-02-21T10:23:25.998Z"
   },
   {
    "duration": 277,
    "start_time": "2022-02-21T10:24:00.527Z"
   },
   {
    "duration": 317,
    "start_time": "2022-02-21T10:25:03.757Z"
   },
   {
    "duration": 1217,
    "start_time": "2022-02-21T10:25:28.972Z"
   },
   {
    "duration": 537,
    "start_time": "2022-02-21T10:25:30.190Z"
   },
   {
    "duration": 4,
    "start_time": "2022-02-21T10:25:30.729Z"
   },
   {
    "duration": 25,
    "start_time": "2022-02-21T10:25:30.735Z"
   },
   {
    "duration": 18,
    "start_time": "2022-02-21T10:25:30.762Z"
   },
   {
    "duration": 28,
    "start_time": "2022-02-21T10:25:30.782Z"
   },
   {
    "duration": 281,
    "start_time": "2022-02-21T10:25:30.812Z"
   },
   {
    "duration": 77,
    "start_time": "2022-02-21T10:25:31.097Z"
   },
   {
    "duration": 7,
    "start_time": "2022-02-21T10:25:31.177Z"
   },
   {
    "duration": 13,
    "start_time": "2022-02-21T10:25:31.186Z"
   },
   {
    "duration": 22,
    "start_time": "2022-02-21T10:25:31.201Z"
   },
   {
    "duration": 15,
    "start_time": "2022-02-21T10:25:31.225Z"
   },
   {
    "duration": 13,
    "start_time": "2022-02-21T10:25:31.242Z"
   },
   {
    "duration": 24,
    "start_time": "2022-02-21T10:25:31.256Z"
   },
   {
    "duration": 10,
    "start_time": "2022-02-21T10:25:31.282Z"
   },
   {
    "duration": 9,
    "start_time": "2022-02-21T10:25:31.293Z"
   },
   {
    "duration": 11,
    "start_time": "2022-02-21T10:25:31.304Z"
   },
   {
    "duration": 358,
    "start_time": "2022-02-21T10:25:31.316Z"
   },
   {
    "duration": 261,
    "start_time": "2022-02-21T10:25:31.676Z"
   },
   {
    "duration": 270,
    "start_time": "2022-02-21T10:25:31.939Z"
   },
   {
    "duration": 7,
    "start_time": "2022-02-21T10:25:32.211Z"
   },
   {
    "duration": 462,
    "start_time": "2022-02-21T10:25:32.220Z"
   },
   {
    "duration": 7,
    "start_time": "2022-02-21T10:25:32.685Z"
   },
   {
    "duration": 266,
    "start_time": "2022-02-21T10:25:32.694Z"
   },
   {
    "duration": 11,
    "start_time": "2022-02-21T10:25:32.962Z"
   },
   {
    "duration": 365,
    "start_time": "2022-02-21T10:25:32.975Z"
   },
   {
    "duration": 131,
    "start_time": "2022-02-21T10:25:33.342Z"
   },
   {
    "duration": 231,
    "start_time": "2022-02-21T10:25:33.475Z"
   },
   {
    "duration": 345,
    "start_time": "2022-02-21T10:25:33.708Z"
   },
   {
    "duration": 5,
    "start_time": "2022-02-21T10:25:34.054Z"
   },
   {
    "duration": 260,
    "start_time": "2022-02-21T10:25:34.070Z"
   },
   {
    "duration": 353,
    "start_time": "2022-02-21T10:25:34.332Z"
   },
   {
    "duration": 4,
    "start_time": "2022-02-21T10:25:34.687Z"
   },
   {
    "duration": 324,
    "start_time": "2022-02-21T10:25:34.693Z"
   },
   {
    "duration": 167,
    "start_time": "2022-02-21T10:25:35.019Z"
   },
   {
    "duration": 7,
    "start_time": "2022-02-21T10:25:35.188Z"
   },
   {
    "duration": 17,
    "start_time": "2022-02-21T10:25:35.196Z"
   },
   {
    "duration": 12,
    "start_time": "2022-02-21T10:25:35.214Z"
   },
   {
    "duration": 26,
    "start_time": "2022-02-21T10:25:35.228Z"
   },
   {
    "duration": 23,
    "start_time": "2022-02-21T10:25:35.255Z"
   },
   {
    "duration": 27,
    "start_time": "2022-02-21T10:25:35.280Z"
   },
   {
    "duration": 9,
    "start_time": "2022-02-21T10:25:35.309Z"
   },
   {
    "duration": 7,
    "start_time": "2022-02-21T10:25:35.320Z"
   },
   {
    "duration": 14,
    "start_time": "2022-02-21T10:25:35.329Z"
   },
   {
    "duration": 9,
    "start_time": "2022-02-21T10:25:35.345Z"
   },
   {
    "duration": 74,
    "start_time": "2022-02-21T10:30:22.624Z"
   },
   {
    "duration": 359,
    "start_time": "2022-02-21T10:30:44.147Z"
   },
   {
    "duration": 267,
    "start_time": "2022-02-21T10:31:25.705Z"
   },
   {
    "duration": 6,
    "start_time": "2022-02-21T10:38:56.406Z"
   },
   {
    "duration": 16,
    "start_time": "2022-02-21T10:39:09.704Z"
   },
   {
    "duration": 270,
    "start_time": "2022-02-21T10:50:17.266Z"
   },
   {
    "duration": 242,
    "start_time": "2022-02-21T10:50:40.159Z"
   },
   {
    "duration": 332,
    "start_time": "2022-02-21T10:51:07.504Z"
   },
   {
    "duration": 233,
    "start_time": "2022-02-21T10:51:21.657Z"
   },
   {
    "duration": 444,
    "start_time": "2022-02-21T10:51:32.193Z"
   },
   {
    "duration": 224,
    "start_time": "2022-02-21T11:13:56.055Z"
   },
   {
    "duration": 301,
    "start_time": "2022-02-21T11:14:04.279Z"
   },
   {
    "duration": 7,
    "start_time": "2022-02-21T11:14:06.678Z"
   },
   {
    "duration": 263,
    "start_time": "2022-02-21T11:14:11.421Z"
   },
   {
    "duration": 14,
    "start_time": "2022-02-21T11:14:28.551Z"
   },
   {
    "duration": 6,
    "start_time": "2022-02-21T11:15:51.305Z"
   },
   {
    "duration": 7,
    "start_time": "2022-02-21T11:20:48.275Z"
   },
   {
    "duration": 4,
    "start_time": "2022-02-21T11:20:51.552Z"
   },
   {
    "duration": 15,
    "start_time": "2022-02-21T11:36:05.243Z"
   },
   {
    "duration": 14,
    "start_time": "2022-02-21T11:36:30.358Z"
   },
   {
    "duration": 1957,
    "start_time": "2022-02-21T11:40:21.559Z"
   },
   {
    "duration": 74,
    "start_time": "2022-02-21T11:44:39.231Z"
   },
   {
    "duration": 236,
    "start_time": "2022-02-21T11:44:46.878Z"
   },
   {
    "duration": 84,
    "start_time": "2022-02-21T11:45:26.751Z"
   },
   {
    "duration": 251,
    "start_time": "2022-02-21T11:45:58.384Z"
   },
   {
    "duration": 6,
    "start_time": "2022-02-21T11:46:55.908Z"
   },
   {
    "duration": 11,
    "start_time": "2022-02-21T11:47:43.144Z"
   },
   {
    "duration": 11,
    "start_time": "2022-02-21T11:49:01.606Z"
   },
   {
    "duration": 17,
    "start_time": "2022-02-21T11:50:21.791Z"
   },
   {
    "duration": 1187,
    "start_time": "2022-02-21T11:54:27.528Z"
   },
   {
    "duration": 426,
    "start_time": "2022-02-21T11:54:28.717Z"
   },
   {
    "duration": 4,
    "start_time": "2022-02-21T11:54:29.146Z"
   },
   {
    "duration": 30,
    "start_time": "2022-02-21T11:54:29.153Z"
   },
   {
    "duration": 12,
    "start_time": "2022-02-21T11:54:29.185Z"
   },
   {
    "duration": 26,
    "start_time": "2022-02-21T11:54:29.198Z"
   },
   {
    "duration": 282,
    "start_time": "2022-02-21T11:54:29.226Z"
   },
   {
    "duration": 68,
    "start_time": "2022-02-21T11:54:29.512Z"
   },
   {
    "duration": 16,
    "start_time": "2022-02-21T11:54:29.583Z"
   },
   {
    "duration": 12,
    "start_time": "2022-02-21T11:54:29.601Z"
   },
   {
    "duration": 30,
    "start_time": "2022-02-21T11:54:29.615Z"
   },
   {
    "duration": 18,
    "start_time": "2022-02-21T11:54:29.648Z"
   },
   {
    "duration": 28,
    "start_time": "2022-02-21T11:54:29.668Z"
   },
   {
    "duration": 22,
    "start_time": "2022-02-21T11:54:29.698Z"
   },
   {
    "duration": 19,
    "start_time": "2022-02-21T11:54:29.722Z"
   },
   {
    "duration": 18,
    "start_time": "2022-02-21T11:54:29.742Z"
   },
   {
    "duration": 13,
    "start_time": "2022-02-21T11:54:29.762Z"
   },
   {
    "duration": 21,
    "start_time": "2022-02-21T11:54:29.777Z"
   },
   {
    "duration": 16,
    "start_time": "2022-02-21T11:54:29.800Z"
   },
   {
    "duration": 9,
    "start_time": "2022-02-21T11:54:29.818Z"
   },
   {
    "duration": 40,
    "start_time": "2022-02-21T11:54:29.829Z"
   },
   {
    "duration": 415,
    "start_time": "2022-02-21T11:54:29.871Z"
   },
   {
    "duration": 273,
    "start_time": "2022-02-21T11:54:30.290Z"
   },
   {
    "duration": 270,
    "start_time": "2022-02-21T11:54:30.568Z"
   },
   {
    "duration": 8,
    "start_time": "2022-02-21T11:54:30.840Z"
   },
   {
    "duration": 519,
    "start_time": "2022-02-21T11:54:30.850Z"
   },
   {
    "duration": 7,
    "start_time": "2022-02-21T11:54:31.371Z"
   },
   {
    "duration": 270,
    "start_time": "2022-02-21T11:54:31.380Z"
   },
   {
    "duration": 17,
    "start_time": "2022-02-21T11:54:31.652Z"
   },
   {
    "duration": 398,
    "start_time": "2022-02-21T11:54:31.671Z"
   },
   {
    "duration": 135,
    "start_time": "2022-02-21T11:54:32.071Z"
   },
   {
    "duration": 243,
    "start_time": "2022-02-21T11:54:32.208Z"
   },
   {
    "duration": 409,
    "start_time": "2022-02-21T11:54:32.453Z"
   },
   {
    "duration": 7,
    "start_time": "2022-02-21T11:54:32.864Z"
   },
   {
    "duration": 252,
    "start_time": "2022-02-21T11:54:32.874Z"
   },
   {
    "duration": 332,
    "start_time": "2022-02-21T11:54:33.128Z"
   },
   {
    "duration": 9,
    "start_time": "2022-02-21T11:54:33.462Z"
   },
   {
    "duration": 320,
    "start_time": "2022-02-21T11:54:33.473Z"
   },
   {
    "duration": 135,
    "start_time": "2022-02-21T11:54:33.796Z"
   },
   {
    "duration": 9,
    "start_time": "2022-02-21T11:54:33.933Z"
   },
   {
    "duration": 24,
    "start_time": "2022-02-21T11:54:33.944Z"
   },
   {
    "duration": 7,
    "start_time": "2022-02-21T11:54:33.971Z"
   },
   {
    "duration": 24,
    "start_time": "2022-02-21T11:54:33.981Z"
   },
   {
    "duration": 14,
    "start_time": "2022-02-21T11:54:34.008Z"
   },
   {
    "duration": 22,
    "start_time": "2022-02-21T11:54:34.025Z"
   },
   {
    "duration": 9,
    "start_time": "2022-02-21T11:54:34.049Z"
   },
   {
    "duration": 11,
    "start_time": "2022-02-21T11:54:34.070Z"
   },
   {
    "duration": 13,
    "start_time": "2022-02-21T11:54:34.083Z"
   },
   {
    "duration": 10,
    "start_time": "2022-02-21T11:54:34.097Z"
   },
   {
    "duration": 10,
    "start_time": "2022-02-21T11:54:34.109Z"
   },
   {
    "duration": 17,
    "start_time": "2022-02-21T11:54:34.121Z"
   },
   {
    "duration": 33,
    "start_time": "2022-02-21T11:54:34.140Z"
   },
   {
    "duration": 13,
    "start_time": "2022-02-21T12:00:54.010Z"
   },
   {
    "duration": 11,
    "start_time": "2022-02-21T12:01:08.785Z"
   },
   {
    "duration": 11,
    "start_time": "2022-02-21T12:01:35.285Z"
   },
   {
    "duration": 6142,
    "start_time": "2022-02-21T12:06:18.221Z"
   },
   {
    "duration": 9,
    "start_time": "2022-02-21T12:23:30.025Z"
   },
   {
    "duration": 4,
    "start_time": "2022-02-21T12:23:46.526Z"
   },
   {
    "duration": 9,
    "start_time": "2022-02-21T12:27:20.669Z"
   },
   {
    "duration": 7,
    "start_time": "2022-02-21T12:27:39.896Z"
   },
   {
    "duration": 5,
    "start_time": "2022-02-21T12:29:34.328Z"
   },
   {
    "duration": 5,
    "start_time": "2022-02-21T12:32:07.900Z"
   },
   {
    "duration": 6,
    "start_time": "2022-02-21T12:33:04.857Z"
   },
   {
    "duration": 6,
    "start_time": "2022-02-21T12:33:21.009Z"
   },
   {
    "duration": 5,
    "start_time": "2022-02-21T12:33:34.553Z"
   },
   {
    "duration": 7,
    "start_time": "2022-02-21T12:35:40.768Z"
   },
   {
    "duration": 5,
    "start_time": "2022-02-21T12:36:14.447Z"
   },
   {
    "duration": 12,
    "start_time": "2022-02-21T12:40:07.804Z"
   },
   {
    "duration": 11,
    "start_time": "2022-02-21T12:40:41.529Z"
   },
   {
    "duration": 1203,
    "start_time": "2022-02-21T13:53:27.861Z"
   },
   {
    "duration": 427,
    "start_time": "2022-02-21T13:53:29.066Z"
   },
   {
    "duration": 4,
    "start_time": "2022-02-21T13:53:29.496Z"
   },
   {
    "duration": 22,
    "start_time": "2022-02-21T13:53:29.502Z"
   },
   {
    "duration": 12,
    "start_time": "2022-02-21T13:53:29.526Z"
   },
   {
    "duration": 41,
    "start_time": "2022-02-21T13:53:29.541Z"
   },
   {
    "duration": 271,
    "start_time": "2022-02-21T13:53:29.584Z"
   },
   {
    "duration": 58,
    "start_time": "2022-02-21T13:53:29.859Z"
   },
   {
    "duration": 7,
    "start_time": "2022-02-21T13:53:29.919Z"
   },
   {
    "duration": 15,
    "start_time": "2022-02-21T13:53:29.928Z"
   },
   {
    "duration": 21,
    "start_time": "2022-02-21T13:53:29.945Z"
   },
   {
    "duration": 15,
    "start_time": "2022-02-21T13:53:29.968Z"
   },
   {
    "duration": 23,
    "start_time": "2022-02-21T13:53:29.986Z"
   },
   {
    "duration": 43,
    "start_time": "2022-02-21T13:53:30.011Z"
   },
   {
    "duration": 13,
    "start_time": "2022-02-21T13:53:30.056Z"
   },
   {
    "duration": 17,
    "start_time": "2022-02-21T13:53:30.071Z"
   },
   {
    "duration": 28,
    "start_time": "2022-02-21T13:53:30.090Z"
   },
   {
    "duration": 32,
    "start_time": "2022-02-21T13:53:30.120Z"
   },
   {
    "duration": 16,
    "start_time": "2022-02-21T13:53:30.154Z"
   },
   {
    "duration": 16,
    "start_time": "2022-02-21T13:53:30.172Z"
   },
   {
    "duration": 28,
    "start_time": "2022-02-21T13:53:30.190Z"
   },
   {
    "duration": 410,
    "start_time": "2022-02-21T13:53:30.221Z"
   },
   {
    "duration": 266,
    "start_time": "2022-02-21T13:53:30.634Z"
   },
   {
    "duration": 272,
    "start_time": "2022-02-21T13:53:30.903Z"
   },
   {
    "duration": 8,
    "start_time": "2022-02-21T13:53:31.177Z"
   },
   {
    "duration": 475,
    "start_time": "2022-02-21T13:53:31.187Z"
   },
   {
    "duration": 7,
    "start_time": "2022-02-21T13:53:31.670Z"
   },
   {
    "duration": 244,
    "start_time": "2022-02-21T13:53:31.679Z"
   },
   {
    "duration": 9,
    "start_time": "2022-02-21T13:53:31.926Z"
   },
   {
    "duration": 390,
    "start_time": "2022-02-21T13:53:31.936Z"
   },
   {
    "duration": 116,
    "start_time": "2022-02-21T13:53:32.328Z"
   },
   {
    "duration": 242,
    "start_time": "2022-02-21T13:53:32.446Z"
   },
   {
    "duration": 369,
    "start_time": "2022-02-21T13:53:32.690Z"
   },
   {
    "duration": 5,
    "start_time": "2022-02-21T13:53:33.069Z"
   },
   {
    "duration": 228,
    "start_time": "2022-02-21T13:53:33.076Z"
   },
   {
    "duration": 331,
    "start_time": "2022-02-21T13:53:33.306Z"
   },
   {
    "duration": 4,
    "start_time": "2022-02-21T13:53:33.639Z"
   },
   {
    "duration": 309,
    "start_time": "2022-02-21T13:53:33.645Z"
   },
   {
    "duration": 121,
    "start_time": "2022-02-21T13:53:33.957Z"
   },
   {
    "duration": 7,
    "start_time": "2022-02-21T13:53:34.080Z"
   },
   {
    "duration": 34,
    "start_time": "2022-02-21T13:53:34.089Z"
   },
   {
    "duration": 9,
    "start_time": "2022-02-21T13:53:34.124Z"
   },
   {
    "duration": 19,
    "start_time": "2022-02-21T13:53:34.135Z"
   },
   {
    "duration": 7,
    "start_time": "2022-02-21T13:53:34.156Z"
   },
   {
    "duration": 12,
    "start_time": "2022-02-21T13:53:34.165Z"
   },
   {
    "duration": 17,
    "start_time": "2022-02-21T13:53:34.179Z"
   },
   {
    "duration": 19,
    "start_time": "2022-02-21T13:53:34.198Z"
   },
   {
    "duration": 20,
    "start_time": "2022-02-21T13:53:34.219Z"
   },
   {
    "duration": 8,
    "start_time": "2022-02-21T13:53:34.241Z"
   },
   {
    "duration": 15,
    "start_time": "2022-02-21T13:53:34.250Z"
   },
   {
    "duration": 12,
    "start_time": "2022-02-21T13:53:34.267Z"
   },
   {
    "duration": 4,
    "start_time": "2022-02-21T13:53:34.281Z"
   },
   {
    "duration": 14,
    "start_time": "2022-02-21T13:53:34.287Z"
   },
   {
    "duration": 12,
    "start_time": "2022-02-21T13:53:34.303Z"
   },
   {
    "duration": 12,
    "start_time": "2022-02-21T13:54:22.170Z"
   },
   {
    "duration": 12,
    "start_time": "2022-02-21T13:54:33.926Z"
   },
   {
    "duration": 21,
    "start_time": "2022-02-21T13:54:58.885Z"
   },
   {
    "duration": 243,
    "start_time": "2022-02-21T13:55:55.897Z"
   },
   {
    "duration": 14,
    "start_time": "2022-02-21T14:07:15.107Z"
   },
   {
    "duration": 1243,
    "start_time": "2022-02-21T14:07:40.546Z"
   },
   {
    "duration": 427,
    "start_time": "2022-02-21T14:07:41.791Z"
   },
   {
    "duration": 4,
    "start_time": "2022-02-21T14:07:42.220Z"
   },
   {
    "duration": 44,
    "start_time": "2022-02-21T14:07:42.226Z"
   },
   {
    "duration": 20,
    "start_time": "2022-02-21T14:07:42.272Z"
   },
   {
    "duration": 43,
    "start_time": "2022-02-21T14:07:42.294Z"
   },
   {
    "duration": 281,
    "start_time": "2022-02-21T14:07:42.338Z"
   },
   {
    "duration": 56,
    "start_time": "2022-02-21T14:07:42.622Z"
   },
   {
    "duration": 14,
    "start_time": "2022-02-21T14:07:42.682Z"
   },
   {
    "duration": 26,
    "start_time": "2022-02-21T14:07:42.698Z"
   },
   {
    "duration": 45,
    "start_time": "2022-02-21T14:07:42.726Z"
   },
   {
    "duration": 35,
    "start_time": "2022-02-21T14:07:42.773Z"
   },
   {
    "duration": 39,
    "start_time": "2022-02-21T14:07:42.810Z"
   },
   {
    "duration": 37,
    "start_time": "2022-02-21T14:07:42.851Z"
   },
   {
    "duration": 14,
    "start_time": "2022-02-21T14:07:42.890Z"
   },
   {
    "duration": 53,
    "start_time": "2022-02-21T14:07:42.905Z"
   },
   {
    "duration": 35,
    "start_time": "2022-02-21T14:07:42.960Z"
   },
   {
    "duration": 31,
    "start_time": "2022-02-21T14:07:42.997Z"
   },
   {
    "duration": 18,
    "start_time": "2022-02-21T14:07:43.030Z"
   },
   {
    "duration": 40,
    "start_time": "2022-02-21T14:07:43.050Z"
   },
   {
    "duration": 42,
    "start_time": "2022-02-21T14:07:43.092Z"
   },
   {
    "duration": 402,
    "start_time": "2022-02-21T14:07:43.136Z"
   },
   {
    "duration": 264,
    "start_time": "2022-02-21T14:07:43.542Z"
   },
   {
    "duration": 280,
    "start_time": "2022-02-21T14:07:43.809Z"
   },
   {
    "duration": 7,
    "start_time": "2022-02-21T14:07:44.091Z"
   },
   {
    "duration": 503,
    "start_time": "2022-02-21T14:07:44.100Z"
   },
   {
    "duration": 7,
    "start_time": "2022-02-21T14:07:44.605Z"
   },
   {
    "duration": 255,
    "start_time": "2022-02-21T14:07:44.614Z"
   },
   {
    "duration": 8,
    "start_time": "2022-02-21T14:07:44.871Z"
   },
   {
    "duration": 369,
    "start_time": "2022-02-21T14:07:44.881Z"
   },
   {
    "duration": 130,
    "start_time": "2022-02-21T14:07:45.252Z"
   },
   {
    "duration": 246,
    "start_time": "2022-02-21T14:07:45.383Z"
   },
   {
    "duration": 340,
    "start_time": "2022-02-21T14:07:45.631Z"
   },
   {
    "duration": 5,
    "start_time": "2022-02-21T14:07:45.973Z"
   },
   {
    "duration": 241,
    "start_time": "2022-02-21T14:07:45.980Z"
   },
   {
    "duration": 332,
    "start_time": "2022-02-21T14:07:46.223Z"
   },
   {
    "duration": 13,
    "start_time": "2022-02-21T14:07:46.557Z"
   },
   {
    "duration": 320,
    "start_time": "2022-02-21T14:07:46.572Z"
   },
   {
    "duration": 124,
    "start_time": "2022-02-21T14:07:46.894Z"
   },
   {
    "duration": 7,
    "start_time": "2022-02-21T14:07:47.020Z"
   },
   {
    "duration": 27,
    "start_time": "2022-02-21T14:07:47.029Z"
   },
   {
    "duration": 27,
    "start_time": "2022-02-21T14:07:47.057Z"
   },
   {
    "duration": 18,
    "start_time": "2022-02-21T14:07:47.086Z"
   },
   {
    "duration": 5,
    "start_time": "2022-02-21T14:07:47.106Z"
   },
   {
    "duration": 24,
    "start_time": "2022-02-21T14:07:47.113Z"
   },
   {
    "duration": 22,
    "start_time": "2022-02-21T14:07:47.139Z"
   },
   {
    "duration": 22,
    "start_time": "2022-02-21T14:07:47.164Z"
   },
   {
    "duration": 29,
    "start_time": "2022-02-21T14:07:47.188Z"
   },
   {
    "duration": 12,
    "start_time": "2022-02-21T14:07:47.218Z"
   },
   {
    "duration": 19,
    "start_time": "2022-02-21T14:07:47.232Z"
   },
   {
    "duration": 28,
    "start_time": "2022-02-21T14:07:47.253Z"
   },
   {
    "duration": 18,
    "start_time": "2022-02-21T14:07:47.283Z"
   },
   {
    "duration": 13,
    "start_time": "2022-02-21T14:07:47.303Z"
   },
   {
    "duration": 31,
    "start_time": "2022-02-21T14:07:47.318Z"
   },
   {
    "duration": 11,
    "start_time": "2022-02-21T14:09:58.437Z"
   },
   {
    "duration": 14,
    "start_time": "2022-02-21T14:12:33.138Z"
   },
   {
    "duration": 1154,
    "start_time": "2022-02-21T14:12:39.242Z"
   },
   {
    "duration": 420,
    "start_time": "2022-02-21T14:12:40.398Z"
   },
   {
    "duration": 4,
    "start_time": "2022-02-21T14:12:40.821Z"
   },
   {
    "duration": 22,
    "start_time": "2022-02-21T14:12:40.827Z"
   },
   {
    "duration": 26,
    "start_time": "2022-02-21T14:12:40.851Z"
   },
   {
    "duration": 22,
    "start_time": "2022-02-21T14:12:40.880Z"
   },
   {
    "duration": 274,
    "start_time": "2022-02-21T14:12:40.904Z"
   },
   {
    "duration": 50,
    "start_time": "2022-02-21T14:12:41.182Z"
   },
   {
    "duration": 8,
    "start_time": "2022-02-21T14:12:41.235Z"
   },
   {
    "duration": 10,
    "start_time": "2022-02-21T14:12:41.245Z"
   },
   {
    "duration": 27,
    "start_time": "2022-02-21T14:12:41.257Z"
   },
   {
    "duration": 9,
    "start_time": "2022-02-21T14:12:41.286Z"
   },
   {
    "duration": 13,
    "start_time": "2022-02-21T14:12:41.297Z"
   },
   {
    "duration": 14,
    "start_time": "2022-02-21T14:12:41.312Z"
   },
   {
    "duration": 7,
    "start_time": "2022-02-21T14:12:41.328Z"
   },
   {
    "duration": 16,
    "start_time": "2022-02-21T14:12:41.337Z"
   },
   {
    "duration": 11,
    "start_time": "2022-02-21T14:12:41.355Z"
   },
   {
    "duration": 19,
    "start_time": "2022-02-21T14:12:41.368Z"
   },
   {
    "duration": 40,
    "start_time": "2022-02-21T14:12:41.389Z"
   },
   {
    "duration": 11,
    "start_time": "2022-02-21T14:12:41.431Z"
   },
   {
    "duration": 24,
    "start_time": "2022-02-21T14:12:41.445Z"
   },
   {
    "duration": 398,
    "start_time": "2022-02-21T14:12:41.471Z"
   },
   {
    "duration": 254,
    "start_time": "2022-02-21T14:12:41.873Z"
   },
   {
    "duration": 268,
    "start_time": "2022-02-21T14:12:42.130Z"
   },
   {
    "duration": 6,
    "start_time": "2022-02-21T14:12:42.401Z"
   },
   {
    "duration": 457,
    "start_time": "2022-02-21T14:12:42.409Z"
   },
   {
    "duration": 7,
    "start_time": "2022-02-21T14:12:42.869Z"
   },
   {
    "duration": 252,
    "start_time": "2022-02-21T14:12:42.878Z"
   },
   {
    "duration": 9,
    "start_time": "2022-02-21T14:12:43.132Z"
   },
   {
    "duration": 390,
    "start_time": "2022-02-21T14:12:43.143Z"
   },
   {
    "duration": 136,
    "start_time": "2022-02-21T14:12:43.535Z"
   },
   {
    "duration": 236,
    "start_time": "2022-02-21T14:12:43.673Z"
   },
   {
    "duration": 342,
    "start_time": "2022-02-21T14:12:43.910Z"
   },
   {
    "duration": 5,
    "start_time": "2022-02-21T14:12:44.254Z"
   },
   {
    "duration": 229,
    "start_time": "2022-02-21T14:12:44.270Z"
   },
   {
    "duration": 317,
    "start_time": "2022-02-21T14:12:44.501Z"
   },
   {
    "duration": 4,
    "start_time": "2022-02-21T14:12:44.820Z"
   },
   {
    "duration": 321,
    "start_time": "2022-02-21T14:12:44.827Z"
   },
   {
    "duration": 128,
    "start_time": "2022-02-21T14:12:45.150Z"
   },
   {
    "duration": 6,
    "start_time": "2022-02-21T14:12:45.281Z"
   },
   {
    "duration": 11,
    "start_time": "2022-02-21T14:12:45.289Z"
   },
   {
    "duration": 12,
    "start_time": "2022-02-21T14:12:45.302Z"
   },
   {
    "duration": 26,
    "start_time": "2022-02-21T14:12:45.316Z"
   },
   {
    "duration": 11,
    "start_time": "2022-02-21T14:12:45.344Z"
   },
   {
    "duration": 19,
    "start_time": "2022-02-21T14:12:45.357Z"
   },
   {
    "duration": 16,
    "start_time": "2022-02-21T14:12:45.377Z"
   },
   {
    "duration": 33,
    "start_time": "2022-02-21T14:12:45.395Z"
   },
   {
    "duration": 22,
    "start_time": "2022-02-21T14:12:45.430Z"
   },
   {
    "duration": 17,
    "start_time": "2022-02-21T14:12:45.454Z"
   },
   {
    "duration": 22,
    "start_time": "2022-02-21T14:12:45.473Z"
   },
   {
    "duration": 19,
    "start_time": "2022-02-21T14:12:45.497Z"
   },
   {
    "duration": 14,
    "start_time": "2022-02-21T14:12:45.518Z"
   },
   {
    "duration": 15,
    "start_time": "2022-02-21T14:12:45.534Z"
   },
   {
    "duration": 17,
    "start_time": "2022-02-21T14:12:45.551Z"
   },
   {
    "duration": 13,
    "start_time": "2022-02-21T14:13:53.777Z"
   },
   {
    "duration": 1158,
    "start_time": "2022-02-21T14:13:58.564Z"
   },
   {
    "duration": 440,
    "start_time": "2022-02-21T14:13:59.724Z"
   },
   {
    "duration": 3,
    "start_time": "2022-02-21T14:14:00.170Z"
   },
   {
    "duration": 23,
    "start_time": "2022-02-21T14:14:00.175Z"
   },
   {
    "duration": 12,
    "start_time": "2022-02-21T14:14:00.200Z"
   },
   {
    "duration": 62,
    "start_time": "2022-02-21T14:14:00.214Z"
   },
   {
    "duration": 267,
    "start_time": "2022-02-21T14:14:00.279Z"
   },
   {
    "duration": 47,
    "start_time": "2022-02-21T14:14:00.549Z"
   },
   {
    "duration": 7,
    "start_time": "2022-02-21T14:14:00.598Z"
   },
   {
    "duration": 42,
    "start_time": "2022-02-21T14:14:00.607Z"
   },
   {
    "duration": 22,
    "start_time": "2022-02-21T14:14:00.651Z"
   },
   {
    "duration": 35,
    "start_time": "2022-02-21T14:14:00.674Z"
   },
   {
    "duration": 18,
    "start_time": "2022-02-21T14:14:00.711Z"
   },
   {
    "duration": 11,
    "start_time": "2022-02-21T14:14:00.731Z"
   },
   {
    "duration": 10,
    "start_time": "2022-02-21T14:14:00.744Z"
   },
   {
    "duration": 10,
    "start_time": "2022-02-21T14:14:00.756Z"
   },
   {
    "duration": 18,
    "start_time": "2022-02-21T14:14:00.767Z"
   },
   {
    "duration": 23,
    "start_time": "2022-02-21T14:14:00.787Z"
   },
   {
    "duration": 37,
    "start_time": "2022-02-21T14:14:00.812Z"
   },
   {
    "duration": 18,
    "start_time": "2022-02-21T14:14:00.851Z"
   },
   {
    "duration": 31,
    "start_time": "2022-02-21T14:14:00.871Z"
   },
   {
    "duration": 414,
    "start_time": "2022-02-21T14:14:00.907Z"
   },
   {
    "duration": 276,
    "start_time": "2022-02-21T14:14:01.323Z"
   },
   {
    "duration": 286,
    "start_time": "2022-02-21T14:14:01.601Z"
   },
   {
    "duration": 8,
    "start_time": "2022-02-21T14:14:01.890Z"
   },
   {
    "duration": 501,
    "start_time": "2022-02-21T14:14:01.901Z"
   },
   {
    "duration": 8,
    "start_time": "2022-02-21T14:14:02.404Z"
   },
   {
    "duration": 257,
    "start_time": "2022-02-21T14:14:02.414Z"
   },
   {
    "duration": 9,
    "start_time": "2022-02-21T14:14:02.674Z"
   },
   {
    "duration": 387,
    "start_time": "2022-02-21T14:14:02.685Z"
   },
   {
    "duration": 166,
    "start_time": "2022-02-21T14:14:03.074Z"
   },
   {
    "duration": 245,
    "start_time": "2022-02-21T14:14:03.241Z"
   },
   {
    "duration": 356,
    "start_time": "2022-02-21T14:14:03.488Z"
   },
   {
    "duration": 6,
    "start_time": "2022-02-21T14:14:03.846Z"
   },
   {
    "duration": 251,
    "start_time": "2022-02-21T14:14:03.854Z"
   },
   {
    "duration": 319,
    "start_time": "2022-02-21T14:14:04.107Z"
   },
   {
    "duration": 5,
    "start_time": "2022-02-21T14:14:04.428Z"
   },
   {
    "duration": 321,
    "start_time": "2022-02-21T14:14:04.434Z"
   },
   {
    "duration": 139,
    "start_time": "2022-02-21T14:14:04.757Z"
   },
   {
    "duration": 6,
    "start_time": "2022-02-21T14:14:04.898Z"
   },
   {
    "duration": 9,
    "start_time": "2022-02-21T14:14:04.906Z"
   },
   {
    "duration": 11,
    "start_time": "2022-02-21T14:14:04.917Z"
   },
   {
    "duration": 15,
    "start_time": "2022-02-21T14:14:04.930Z"
   },
   {
    "duration": 26,
    "start_time": "2022-02-21T14:14:04.946Z"
   },
   {
    "duration": 12,
    "start_time": "2022-02-21T14:14:04.974Z"
   },
   {
    "duration": 16,
    "start_time": "2022-02-21T14:14:04.987Z"
   },
   {
    "duration": 18,
    "start_time": "2022-02-21T14:14:05.005Z"
   },
   {
    "duration": 13,
    "start_time": "2022-02-21T14:14:05.025Z"
   },
   {
    "duration": 29,
    "start_time": "2022-02-21T14:14:05.040Z"
   },
   {
    "duration": 7,
    "start_time": "2022-02-21T14:14:05.071Z"
   },
   {
    "duration": 43,
    "start_time": "2022-02-21T14:14:05.080Z"
   },
   {
    "duration": 47,
    "start_time": "2022-02-21T14:14:05.125Z"
   },
   {
    "duration": 31,
    "start_time": "2022-02-21T14:14:05.175Z"
   },
   {
    "duration": 30,
    "start_time": "2022-02-21T14:14:05.208Z"
   },
   {
    "duration": 7,
    "start_time": "2022-02-21T14:17:06.883Z"
   },
   {
    "duration": 8,
    "start_time": "2022-02-21T14:18:14.311Z"
   },
   {
    "duration": 7,
    "start_time": "2022-02-21T14:18:45.908Z"
   },
   {
    "duration": 11,
    "start_time": "2022-02-21T14:19:16.902Z"
   },
   {
    "duration": 1176,
    "start_time": "2022-02-21T14:19:43.201Z"
   },
   {
    "duration": 429,
    "start_time": "2022-02-21T14:19:44.379Z"
   },
   {
    "duration": 4,
    "start_time": "2022-02-21T14:19:44.812Z"
   },
   {
    "duration": 19,
    "start_time": "2022-02-21T14:19:44.818Z"
   },
   {
    "duration": 11,
    "start_time": "2022-02-21T14:19:44.839Z"
   },
   {
    "duration": 34,
    "start_time": "2022-02-21T14:19:44.852Z"
   },
   {
    "duration": 271,
    "start_time": "2022-02-21T14:19:44.889Z"
   },
   {
    "duration": 54,
    "start_time": "2022-02-21T14:19:45.162Z"
   },
   {
    "duration": 8,
    "start_time": "2022-02-21T14:19:45.217Z"
   },
   {
    "duration": 12,
    "start_time": "2022-02-21T14:19:45.227Z"
   },
   {
    "duration": 20,
    "start_time": "2022-02-21T14:19:45.241Z"
   },
   {
    "duration": 9,
    "start_time": "2022-02-21T14:19:45.263Z"
   },
   {
    "duration": 10,
    "start_time": "2022-02-21T14:19:45.274Z"
   },
   {
    "duration": 10,
    "start_time": "2022-02-21T14:19:45.286Z"
   },
   {
    "duration": 7,
    "start_time": "2022-02-21T14:19:45.298Z"
   },
   {
    "duration": 5,
    "start_time": "2022-02-21T14:19:45.307Z"
   },
   {
    "duration": 9,
    "start_time": "2022-02-21T14:19:45.314Z"
   },
   {
    "duration": 20,
    "start_time": "2022-02-21T14:19:45.325Z"
   },
   {
    "duration": 34,
    "start_time": "2022-02-21T14:19:45.347Z"
   },
   {
    "duration": 10,
    "start_time": "2022-02-21T14:19:45.383Z"
   },
   {
    "duration": 20,
    "start_time": "2022-02-21T14:19:45.394Z"
   },
   {
    "duration": 395,
    "start_time": "2022-02-21T14:19:45.418Z"
   },
   {
    "duration": 257,
    "start_time": "2022-02-21T14:19:45.816Z"
   },
   {
    "duration": 270,
    "start_time": "2022-02-21T14:19:46.075Z"
   },
   {
    "duration": 6,
    "start_time": "2022-02-21T14:19:46.347Z"
   },
   {
    "duration": 504,
    "start_time": "2022-02-21T14:19:46.355Z"
   },
   {
    "duration": 12,
    "start_time": "2022-02-21T14:19:46.861Z"
   },
   {
    "duration": 249,
    "start_time": "2022-02-21T14:19:46.875Z"
   },
   {
    "duration": 8,
    "start_time": "2022-02-21T14:19:47.126Z"
   },
   {
    "duration": 392,
    "start_time": "2022-02-21T14:19:47.135Z"
   },
   {
    "duration": 112,
    "start_time": "2022-02-21T14:19:47.529Z"
   },
   {
    "duration": 260,
    "start_time": "2022-02-21T14:19:47.643Z"
   },
   {
    "duration": 333,
    "start_time": "2022-02-21T14:19:47.905Z"
   },
   {
    "duration": 5,
    "start_time": "2022-02-21T14:19:48.240Z"
   },
   {
    "duration": 243,
    "start_time": "2022-02-21T14:19:48.247Z"
   },
   {
    "duration": 336,
    "start_time": "2022-02-21T14:19:48.491Z"
   },
   {
    "duration": 5,
    "start_time": "2022-02-21T14:19:48.829Z"
   },
   {
    "duration": 317,
    "start_time": "2022-02-21T14:19:48.835Z"
   },
   {
    "duration": 143,
    "start_time": "2022-02-21T14:19:49.154Z"
   },
   {
    "duration": 7,
    "start_time": "2022-02-21T14:19:49.299Z"
   },
   {
    "duration": 11,
    "start_time": "2022-02-21T14:19:49.308Z"
   },
   {
    "duration": 7,
    "start_time": "2022-02-21T14:19:49.321Z"
   },
   {
    "duration": 15,
    "start_time": "2022-02-21T14:19:49.330Z"
   },
   {
    "duration": 25,
    "start_time": "2022-02-21T14:19:49.347Z"
   },
   {
    "duration": 8,
    "start_time": "2022-02-21T14:19:49.374Z"
   },
   {
    "duration": 10,
    "start_time": "2022-02-21T14:19:49.384Z"
   },
   {
    "duration": 13,
    "start_time": "2022-02-21T14:19:49.396Z"
   },
   {
    "duration": 13,
    "start_time": "2022-02-21T14:19:49.410Z"
   },
   {
    "duration": 5,
    "start_time": "2022-02-21T14:19:49.425Z"
   },
   {
    "duration": 38,
    "start_time": "2022-02-21T14:19:49.432Z"
   },
   {
    "duration": 7,
    "start_time": "2022-02-21T14:19:49.472Z"
   },
   {
    "duration": 4,
    "start_time": "2022-02-21T14:19:49.481Z"
   },
   {
    "duration": 10,
    "start_time": "2022-02-21T14:19:49.487Z"
   },
   {
    "duration": 9,
    "start_time": "2022-02-21T14:19:49.499Z"
   },
   {
    "duration": 11,
    "start_time": "2022-02-21T14:22:25.267Z"
   },
   {
    "duration": 1021,
    "start_time": "2022-02-21T19:36:23.013Z"
   },
   {
    "duration": 1294,
    "start_time": "2022-02-21T19:36:24.036Z"
   },
   {
    "duration": 4,
    "start_time": "2022-02-21T19:36:25.332Z"
   },
   {
    "duration": 30,
    "start_time": "2022-02-21T19:36:25.338Z"
   },
   {
    "duration": 10,
    "start_time": "2022-02-21T19:36:25.370Z"
   },
   {
    "duration": 18,
    "start_time": "2022-02-21T19:36:25.383Z"
   },
   {
    "duration": 256,
    "start_time": "2022-02-21T19:36:25.403Z"
   },
   {
    "duration": 48,
    "start_time": "2022-02-21T19:36:25.662Z"
   },
   {
    "duration": 7,
    "start_time": "2022-02-21T19:36:25.712Z"
   },
   {
    "duration": 10,
    "start_time": "2022-02-21T19:36:25.721Z"
   },
   {
    "duration": 16,
    "start_time": "2022-02-21T19:36:25.732Z"
   },
   {
    "duration": 6,
    "start_time": "2022-02-21T19:36:25.750Z"
   },
   {
    "duration": 7,
    "start_time": "2022-02-21T19:36:25.757Z"
   },
   {
    "duration": 8,
    "start_time": "2022-02-21T19:36:25.766Z"
   },
   {
    "duration": 8,
    "start_time": "2022-02-21T19:36:25.776Z"
   },
   {
    "duration": 7,
    "start_time": "2022-02-21T19:36:25.786Z"
   },
   {
    "duration": 12,
    "start_time": "2022-02-21T19:36:25.795Z"
   },
   {
    "duration": 17,
    "start_time": "2022-02-21T19:36:25.808Z"
   },
   {
    "duration": 15,
    "start_time": "2022-02-21T19:36:25.827Z"
   },
   {
    "duration": 9,
    "start_time": "2022-02-21T19:36:25.860Z"
   },
   {
    "duration": 17,
    "start_time": "2022-02-21T19:36:25.870Z"
   },
   {
    "duration": 362,
    "start_time": "2022-02-21T19:36:25.889Z"
   },
   {
    "duration": 223,
    "start_time": "2022-02-21T19:36:26.258Z"
   },
   {
    "duration": 226,
    "start_time": "2022-02-21T19:36:26.484Z"
   },
   {
    "duration": 6,
    "start_time": "2022-02-21T19:36:26.712Z"
   },
   {
    "duration": 407,
    "start_time": "2022-02-21T19:36:26.720Z"
   },
   {
    "duration": 6,
    "start_time": "2022-02-21T19:36:27.129Z"
   },
   {
    "duration": 216,
    "start_time": "2022-02-21T19:36:27.137Z"
   },
   {
    "duration": 8,
    "start_time": "2022-02-21T19:36:27.358Z"
   },
   {
    "duration": 351,
    "start_time": "2022-02-21T19:36:27.368Z"
   },
   {
    "duration": 102,
    "start_time": "2022-02-21T19:36:27.721Z"
   },
   {
    "duration": 204,
    "start_time": "2022-02-21T19:36:27.825Z"
   },
   {
    "duration": 343,
    "start_time": "2022-02-21T19:36:28.031Z"
   },
   {
    "duration": 4,
    "start_time": "2022-02-21T19:36:28.375Z"
   },
   {
    "duration": 201,
    "start_time": "2022-02-21T19:36:28.381Z"
   },
   {
    "duration": 298,
    "start_time": "2022-02-21T19:36:28.584Z"
   },
   {
    "duration": 5,
    "start_time": "2022-02-21T19:36:28.883Z"
   },
   {
    "duration": 285,
    "start_time": "2022-02-21T19:36:28.890Z"
   },
   {
    "duration": 121,
    "start_time": "2022-02-21T19:36:29.177Z"
   },
   {
    "duration": 6,
    "start_time": "2022-02-21T19:36:29.300Z"
   },
   {
    "duration": 14,
    "start_time": "2022-02-21T19:36:29.308Z"
   },
   {
    "duration": 6,
    "start_time": "2022-02-21T19:36:29.323Z"
   },
   {
    "duration": 32,
    "start_time": "2022-02-21T19:36:29.331Z"
   },
   {
    "duration": 4,
    "start_time": "2022-02-21T19:36:29.365Z"
   },
   {
    "duration": 8,
    "start_time": "2022-02-21T19:36:29.371Z"
   },
   {
    "duration": 6,
    "start_time": "2022-02-21T19:36:29.381Z"
   },
   {
    "duration": 11,
    "start_time": "2022-02-21T19:36:29.389Z"
   },
   {
    "duration": 8,
    "start_time": "2022-02-21T19:36:29.402Z"
   },
   {
    "duration": 5,
    "start_time": "2022-02-21T19:36:29.411Z"
   },
   {
    "duration": 43,
    "start_time": "2022-02-21T19:36:29.417Z"
   },
   {
    "duration": 7,
    "start_time": "2022-02-21T19:36:29.462Z"
   },
   {
    "duration": 4,
    "start_time": "2022-02-21T19:36:29.471Z"
   },
   {
    "duration": 8,
    "start_time": "2022-02-21T19:36:29.477Z"
   },
   {
    "duration": 10,
    "start_time": "2022-02-21T19:36:29.487Z"
   },
   {
    "duration": 1438,
    "start_time": "2022-02-22T08:53:30.245Z"
   },
   {
    "duration": 814,
    "start_time": "2022-02-22T08:53:31.685Z"
   },
   {
    "duration": 5,
    "start_time": "2022-02-22T08:53:32.503Z"
   },
   {
    "duration": 52,
    "start_time": "2022-02-22T08:53:32.512Z"
   },
   {
    "duration": 16,
    "start_time": "2022-02-22T08:53:32.567Z"
   },
   {
    "duration": 35,
    "start_time": "2022-02-22T08:53:32.586Z"
   },
   {
    "duration": 391,
    "start_time": "2022-02-22T08:53:32.624Z"
   },
   {
    "duration": 37,
    "start_time": "2022-02-22T08:53:33.020Z"
   },
   {
    "duration": 13,
    "start_time": "2022-02-22T08:53:33.062Z"
   },
   {
    "duration": 13,
    "start_time": "2022-02-22T08:53:33.077Z"
   },
   {
    "duration": 24,
    "start_time": "2022-02-22T08:53:33.092Z"
   },
   {
    "duration": 36,
    "start_time": "2022-02-22T08:53:33.118Z"
   },
   {
    "duration": 9,
    "start_time": "2022-02-22T08:53:33.157Z"
   },
   {
    "duration": 9,
    "start_time": "2022-02-22T08:53:33.169Z"
   },
   {
    "duration": 8,
    "start_time": "2022-02-22T08:53:33.180Z"
   },
   {
    "duration": 6,
    "start_time": "2022-02-22T08:53:33.191Z"
   },
   {
    "duration": 6,
    "start_time": "2022-02-22T08:53:33.249Z"
   },
   {
    "duration": 23,
    "start_time": "2022-02-22T08:53:33.258Z"
   },
   {
    "duration": 21,
    "start_time": "2022-02-22T08:53:33.283Z"
   },
   {
    "duration": 13,
    "start_time": "2022-02-22T08:53:33.348Z"
   },
   {
    "duration": 20,
    "start_time": "2022-02-22T08:53:33.364Z"
   },
   {
    "duration": 620,
    "start_time": "2022-02-22T08:53:33.386Z"
   },
   {
    "duration": 373,
    "start_time": "2022-02-22T08:53:34.011Z"
   },
   {
    "duration": 374,
    "start_time": "2022-02-22T08:53:34.387Z"
   },
   {
    "duration": 9,
    "start_time": "2022-02-22T08:53:34.763Z"
   },
   {
    "duration": 587,
    "start_time": "2022-02-22T08:53:34.776Z"
   },
   {
    "duration": 8,
    "start_time": "2022-02-22T08:53:35.366Z"
   },
   {
    "duration": 374,
    "start_time": "2022-02-22T08:53:35.377Z"
   },
   {
    "duration": 12,
    "start_time": "2022-02-22T08:53:35.753Z"
   },
   {
    "duration": 440,
    "start_time": "2022-02-22T08:53:35.768Z"
   },
   {
    "duration": 208,
    "start_time": "2022-02-22T08:53:36.211Z"
   },
   {
    "duration": 327,
    "start_time": "2022-02-22T08:53:36.422Z"
   },
   {
    "duration": 597,
    "start_time": "2022-02-22T08:53:36.752Z"
   },
   {
    "duration": 8,
    "start_time": "2022-02-22T08:53:37.352Z"
   },
   {
    "duration": 489,
    "start_time": "2022-02-22T08:53:37.364Z"
   },
   {
    "duration": 531,
    "start_time": "2022-02-22T08:53:37.855Z"
   },
   {
    "duration": 7,
    "start_time": "2022-02-22T08:53:38.389Z"
   },
   {
    "duration": 500,
    "start_time": "2022-02-22T08:53:38.399Z"
   },
   {
    "duration": 223,
    "start_time": "2022-02-22T08:53:38.902Z"
   },
   {
    "duration": 20,
    "start_time": "2022-02-22T08:53:39.128Z"
   },
   {
    "duration": 16,
    "start_time": "2022-02-22T08:53:39.151Z"
   },
   {
    "duration": 9,
    "start_time": "2022-02-22T08:53:39.170Z"
   },
   {
    "duration": 15,
    "start_time": "2022-02-22T08:53:39.182Z"
   },
   {
    "duration": 4,
    "start_time": "2022-02-22T08:53:39.200Z"
   },
   {
    "duration": 46,
    "start_time": "2022-02-22T08:53:39.207Z"
   },
   {
    "duration": 12,
    "start_time": "2022-02-22T08:53:39.256Z"
   },
   {
    "duration": 26,
    "start_time": "2022-02-22T08:53:39.271Z"
   },
   {
    "duration": 21,
    "start_time": "2022-02-22T08:53:39.299Z"
   },
   {
    "duration": 25,
    "start_time": "2022-02-22T08:53:39.323Z"
   },
   {
    "duration": 8,
    "start_time": "2022-02-22T08:53:39.351Z"
   },
   {
    "duration": 16,
    "start_time": "2022-02-22T08:53:39.361Z"
   },
   {
    "duration": 5,
    "start_time": "2022-02-22T08:53:39.379Z"
   },
   {
    "duration": 13,
    "start_time": "2022-02-22T08:53:39.386Z"
   },
   {
    "duration": 54,
    "start_time": "2022-02-22T08:53:39.402Z"
   }
  ],
  "kernelspec": {
   "display_name": "Python 3 (ipykernel)",
   "language": "python",
   "name": "python3"
  },
  "language_info": {
   "codemirror_mode": {
    "name": "ipython",
    "version": 3
   },
   "file_extension": ".py",
   "mimetype": "text/x-python",
   "name": "python",
   "nbconvert_exporter": "python",
   "pygments_lexer": "ipython3",
   "version": "3.9.7"
  },
  "toc": {
   "base_numbering": 1,
   "nav_menu": {},
   "number_sections": true,
   "sideBar": true,
   "skip_h1_title": true,
   "title_cell": "Table of Contents",
   "title_sidebar": "Contents",
   "toc_cell": false,
   "toc_position": {},
   "toc_section_display": true,
   "toc_window_display": false
  }
 },
 "nbformat": 4,
 "nbformat_minor": 2
}
